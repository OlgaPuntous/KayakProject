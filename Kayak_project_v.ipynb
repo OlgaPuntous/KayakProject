{
 "cells": [
  {
   "cell_type": "code",
   "execution_count": 4,
   "metadata": {},
   "outputs": [
    {
     "name": "stdout",
     "output_type": "stream",
     "text": [
      "Requirement already satisfied: plotly_express==0.4.0 in /opt/conda/lib/python3.8/site-packages (0.4.0)\n",
      "Requirement already satisfied: statsmodels>=0.9.0 in /opt/conda/lib/python3.8/site-packages (from plotly_express==0.4.0) (0.12.0)\n",
      "Requirement already satisfied: pandas>=0.20.0 in /opt/conda/lib/python3.8/site-packages (from plotly_express==0.4.0) (1.1.3)\n",
      "Requirement already satisfied: patsy>=0.5 in /opt/conda/lib/python3.8/site-packages (from plotly_express==0.4.0) (0.5.1)\n",
      "Requirement already satisfied: plotly>=4.0.0 in /opt/conda/lib/python3.8/site-packages (from plotly_express==0.4.0) (4.14.3)\n",
      "Requirement already satisfied: numpy>=1.11 in /opt/conda/lib/python3.8/site-packages (from plotly_express==0.4.0) (1.19.2)\n",
      "Requirement already satisfied: scipy>=0.18 in /opt/conda/lib/python3.8/site-packages (from plotly_express==0.4.0) (1.5.2)\n",
      "Requirement already satisfied: python-dateutil>=2.7.3 in /opt/conda/lib/python3.8/site-packages (from pandas>=0.20.0->plotly_express==0.4.0) (2.8.1)\n",
      "Requirement already satisfied: pytz>=2017.2 in /opt/conda/lib/python3.8/site-packages (from pandas>=0.20.0->plotly_express==0.4.0) (2020.1)\n",
      "Requirement already satisfied: six in /opt/conda/lib/python3.8/site-packages (from patsy>=0.5->plotly_express==0.4.0) (1.15.0)\n",
      "Requirement already satisfied: retrying>=1.3.3 in /opt/conda/lib/python3.8/site-packages (from plotly>=4.0.0->plotly_express==0.4.0) (1.3.3)\n",
      "Note: you may need to restart the kernel to use updated packages.\n"
     ]
    }
   ],
   "source": [
    "pip install plotly_express==0.4.0\n"
   ]
  },
  {
   "cell_type": "code",
   "execution_count": 4,
   "metadata": {},
   "outputs": [
    {
     "name": "stdout",
     "output_type": "stream",
     "text": [
      "Collecting Scrapy\n",
      "  Using cached Scrapy-2.4.1-py2.py3-none-any.whl (239 kB)\n",
      "Collecting w3lib>=1.17.0\n",
      "  Using cached w3lib-1.22.0-py2.py3-none-any.whl (20 kB)\n",
      "Processing /home/jovyan/.cache/pip/wheels/f2/36/1b/99fe6d339e1559e421556c69ad7bc8c869145e86a756c403f4/Twisted-20.3.0-cp38-cp38-linux_x86_64.whl\n",
      "Collecting parsel>=1.5.0\n",
      "  Using cached parsel-1.6.0-py2.py3-none-any.whl (13 kB)\n",
      "Processing /home/jovyan/.cache/pip/wheels/91/64/36/bd0d11306cb22a78c7f53d603c7eb74ebb6c211703bc40b686/Protego-0.1.16-py3-none-any.whl\n",
      "Collecting itemadapter>=0.1.0\n",
      "  Using cached itemadapter-0.2.0-py3-none-any.whl (9.3 kB)\n",
      "Collecting zope.interface>=4.1.3\n",
      "  Using cached zope.interface-5.2.0-cp38-cp38-manylinux2010_x86_64.whl (244 kB)\n",
      "Collecting cssselect>=0.9.1\n",
      "  Using cached cssselect-1.1.0-py2.py3-none-any.whl (16 kB)\n",
      "Collecting lxml>=3.5.0; platform_python_implementation == \"CPython\"\n",
      "  Using cached lxml-4.6.2-cp38-cp38-manylinux1_x86_64.whl (5.4 MB)\n",
      "Collecting service-identity>=16.0.0\n",
      "  Using cached service_identity-18.1.0-py2.py3-none-any.whl (11 kB)\n",
      "Collecting itemloaders>=1.0.1\n",
      "  Using cached itemloaders-1.0.4-py3-none-any.whl (11 kB)\n",
      "Requirement already satisfied: pyOpenSSL>=16.2.0 in /opt/conda/lib/python3.8/site-packages (from Scrapy) (19.1.0)\n",
      "Collecting queuelib>=1.4.2\n",
      "  Using cached queuelib-1.5.0-py2.py3-none-any.whl (13 kB)\n",
      "Processing /home/jovyan/.cache/pip/wheels/d1/d7/61/11b5b370ee487d38b5408ecb7e0257db9107fa622412cbe2ff/PyDispatcher-2.0.5-py3-none-any.whl\n",
      "Requirement already satisfied: cryptography>=2.0 in /opt/conda/lib/python3.8/site-packages (from Scrapy) (3.1.1)\n",
      "Requirement already satisfied: six>=1.4.1 in /opt/conda/lib/python3.8/site-packages (from w3lib>=1.17.0->Scrapy) (1.15.0)\n",
      "Collecting constantly>=15.1\n",
      "  Using cached constantly-15.1.0-py2.py3-none-any.whl (7.9 kB)\n",
      "Collecting PyHamcrest!=1.10.0,>=1.9.0\n",
      "  Using cached PyHamcrest-2.0.2-py3-none-any.whl (52 kB)\n",
      "Requirement already satisfied: attrs>=19.2.0 in /opt/conda/lib/python3.8/site-packages (from Twisted>=17.9.0->Scrapy) (20.2.0)\n",
      "Collecting incremental>=16.10.1\n",
      "  Using cached incremental-17.5.0-py2.py3-none-any.whl (16 kB)\n",
      "Collecting hyperlink>=17.1.1\n",
      "  Using cached hyperlink-21.0.0-py2.py3-none-any.whl (74 kB)\n",
      "Collecting Automat>=0.3.0\n",
      "  Using cached Automat-20.2.0-py2.py3-none-any.whl (31 kB)\n",
      "Requirement already satisfied: setuptools in /opt/conda/lib/python3.8/site-packages (from zope.interface>=4.1.3->Scrapy) (49.6.0.post20201009)\n",
      "Collecting pyasn1\n",
      "  Using cached pyasn1-0.4.8-py2.py3-none-any.whl (77 kB)\n",
      "Collecting pyasn1-modules\n",
      "  Using cached pyasn1_modules-0.2.8-py2.py3-none-any.whl (155 kB)\n",
      "Collecting jmespath>=0.9.5\n",
      "  Using cached jmespath-0.10.0-py2.py3-none-any.whl (24 kB)\n",
      "Requirement already satisfied: cffi!=1.11.3,>=1.8 in /opt/conda/lib/python3.8/site-packages (from cryptography>=2.0->Scrapy) (1.14.3)\n",
      "Requirement already satisfied: idna>=2.5 in /opt/conda/lib/python3.8/site-packages (from hyperlink>=17.1.1->Twisted>=17.9.0->Scrapy) (2.10)\n",
      "Requirement already satisfied: pycparser in /opt/conda/lib/python3.8/site-packages (from cffi!=1.11.3,>=1.8->cryptography>=2.0->Scrapy) (2.20)\n",
      "Installing collected packages: w3lib, zope.interface, constantly, PyHamcrest, incremental, hyperlink, Automat, Twisted, cssselect, lxml, parsel, protego, itemadapter, pyasn1, pyasn1-modules, service-identity, jmespath, itemloaders, queuelib, PyDispatcher, Scrapy\n",
      "Successfully installed Automat-20.2.0 PyDispatcher-2.0.5 PyHamcrest-2.0.2 Scrapy-2.4.1 Twisted-20.3.0 constantly-15.1.0 cssselect-1.1.0 hyperlink-21.0.0 incremental-17.5.0 itemadapter-0.2.0 itemloaders-1.0.4 jmespath-0.10.0 lxml-4.6.2 parsel-1.6.0 protego-0.1.16 pyasn1-0.4.8 pyasn1-modules-0.2.8 queuelib-1.5.0 service-identity-18.1.0 w3lib-1.22.0 zope.interface-5.2.0\n",
      "Note: you may need to restart the kernel to use updated packages.\n"
     ]
    }
   ],
   "source": [
    "pip install Scrapy"
   ]
  },
  {
   "cell_type": "code",
   "execution_count": 6,
   "metadata": {},
   "outputs": [
    {
     "name": "stdout",
     "output_type": "stream",
     "text": [
      "Collecting Boto3\n",
      "  Downloading boto3-1.16.59-py2.py3-none-any.whl (130 kB)\n",
      "\u001b[K     |████████████████████████████████| 130 kB 7.1 MB/s eta 0:00:01\n",
      "\u001b[?25hCollecting s3transfer<0.4.0,>=0.3.0\n",
      "  Using cached s3transfer-0.3.4-py2.py3-none-any.whl (69 kB)\n",
      "Collecting botocore<1.20.0,>=1.19.59\n",
      "  Downloading botocore-1.19.59-py2.py3-none-any.whl (7.2 MB)\n",
      "\u001b[K     |████████████████████████████████| 7.2 MB 18.7 MB/s eta 0:00:01\n",
      "\u001b[?25hRequirement already satisfied: jmespath<1.0.0,>=0.7.1 in /opt/conda/lib/python3.8/site-packages (from Boto3) (0.10.0)\n",
      "Requirement already satisfied: urllib3<1.27,>=1.25.4; python_version != \"3.4\" in /opt/conda/lib/python3.8/site-packages (from botocore<1.20.0,>=1.19.59->Boto3) (1.25.10)\n",
      "Requirement already satisfied: python-dateutil<3.0.0,>=2.1 in /opt/conda/lib/python3.8/site-packages (from botocore<1.20.0,>=1.19.59->Boto3) (2.8.1)\n",
      "Requirement already satisfied: six>=1.5 in /opt/conda/lib/python3.8/site-packages (from python-dateutil<3.0.0,>=2.1->botocore<1.20.0,>=1.19.59->Boto3) (1.15.0)\n",
      "Installing collected packages: botocore, s3transfer, Boto3\n",
      "Successfully installed Boto3-1.16.59 botocore-1.19.59 s3transfer-0.3.4\n",
      "Note: you may need to restart the kernel to use updated packages.\n"
     ]
    }
   ],
   "source": [
    "pip install Boto3"
   ]
  },
  {
   "cell_type": "code",
   "execution_count": 1,
   "metadata": {},
   "outputs": [
    {
     "name": "stdout",
     "output_type": "stream",
     "text": [
      "Collecting plotly==4.9.0\n",
      "  Using cached plotly-4.9.0-py2.py3-none-any.whl (12.9 MB)\n",
      "Processing /home/jovyan/.cache/pip/wheels/c4/a7/48/0a434133f6d56e878ca511c0e6c38326907c0792f67b476e56/retrying-1.3.3-py3-none-any.whl\n",
      "Requirement already satisfied: six in /opt/conda/lib/python3.8/site-packages (from plotly==4.9.0) (1.15.0)\n",
      "Installing collected packages: retrying, plotly\n",
      "Successfully installed plotly-4.9.0 retrying-1.3.3\n",
      "Requirement already satisfied: jupyterlab in /opt/conda/lib/python3.8/site-packages (2.2.8)\n",
      "Requirement already satisfied: ipywidgets>=7.5 in /opt/conda/lib/python3.8/site-packages (7.5.1)\n",
      "Requirement already satisfied: notebook>=4.3.1 in /opt/conda/lib/python3.8/site-packages (from jupyterlab) (6.1.4)\n",
      "Requirement already satisfied: tornado!=6.0.0,!=6.0.1,!=6.0.2 in /opt/conda/lib/python3.8/site-packages (from jupyterlab) (6.0.4)\n",
      "Requirement already satisfied: jupyterlab_server<2.0,>=1.1.5 in /opt/conda/lib/python3.8/site-packages (from jupyterlab) (1.2.0)\n",
      "Requirement already satisfied: jinja2>=2.10 in /opt/conda/lib/python3.8/site-packages (from jupyterlab) (2.11.2)\n",
      "Requirement already satisfied: ipython>=4.0.0; python_version >= \"3.3\" in /opt/conda/lib/python3.8/site-packages (from ipywidgets>=7.5) (7.18.1)\n",
      "Requirement already satisfied: nbformat>=4.2.0 in /opt/conda/lib/python3.8/site-packages (from ipywidgets>=7.5) (5.0.7)\n",
      "Requirement already satisfied: traitlets>=4.3.1 in /opt/conda/lib/python3.8/site-packages (from ipywidgets>=7.5) (5.0.4)\n",
      "Requirement already satisfied: widgetsnbextension~=3.5.0 in /opt/conda/lib/python3.8/site-packages (from ipywidgets>=7.5) (3.5.1)\n",
      "Requirement already satisfied: ipykernel>=4.5.1 in /opt/conda/lib/python3.8/site-packages (from ipywidgets>=7.5) (5.3.4)\n",
      "Requirement already satisfied: ipython-genutils in /opt/conda/lib/python3.8/site-packages (from notebook>=4.3.1->jupyterlab) (0.2.0)\n",
      "Requirement already satisfied: prometheus-client in /opt/conda/lib/python3.8/site-packages (from notebook>=4.3.1->jupyterlab) (0.8.0)\n",
      "Requirement already satisfied: argon2-cffi in /opt/conda/lib/python3.8/site-packages (from notebook>=4.3.1->jupyterlab) (20.1.0)\n",
      "Requirement already satisfied: nbconvert in /opt/conda/lib/python3.8/site-packages (from notebook>=4.3.1->jupyterlab) (6.0.7)\n",
      "Requirement already satisfied: jupyter-client>=5.3.4 in /opt/conda/lib/python3.8/site-packages (from notebook>=4.3.1->jupyterlab) (6.1.7)\n",
      "Requirement already satisfied: terminado>=0.8.3 in /opt/conda/lib/python3.8/site-packages (from notebook>=4.3.1->jupyterlab) (0.9.1)\n",
      "Requirement already satisfied: jupyter-core>=4.6.1 in /opt/conda/lib/python3.8/site-packages (from notebook>=4.3.1->jupyterlab) (4.6.3)\n",
      "Requirement already satisfied: Send2Trash in /opt/conda/lib/python3.8/site-packages (from notebook>=4.3.1->jupyterlab) (1.5.0)\n",
      "Requirement already satisfied: pyzmq>=17 in /opt/conda/lib/python3.8/site-packages (from notebook>=4.3.1->jupyterlab) (19.0.2)\n",
      "Requirement already satisfied: requests in /opt/conda/lib/python3.8/site-packages (from jupyterlab_server<2.0,>=1.1.5->jupyterlab) (2.24.0)\n",
      "Requirement already satisfied: json5 in /opt/conda/lib/python3.8/site-packages (from jupyterlab_server<2.0,>=1.1.5->jupyterlab) (0.9.5)\n",
      "Requirement already satisfied: jsonschema>=3.0.1 in /opt/conda/lib/python3.8/site-packages (from jupyterlab_server<2.0,>=1.1.5->jupyterlab) (3.2.0)\n",
      "Requirement already satisfied: MarkupSafe>=0.23 in /opt/conda/lib/python3.8/site-packages (from jinja2>=2.10->jupyterlab) (1.1.1)\n",
      "Requirement already satisfied: pexpect>4.3; sys_platform != \"win32\" in /opt/conda/lib/python3.8/site-packages (from ipython>=4.0.0; python_version >= \"3.3\"->ipywidgets>=7.5) (4.8.0)\n",
      "Requirement already satisfied: jedi>=0.10 in /opt/conda/lib/python3.8/site-packages (from ipython>=4.0.0; python_version >= \"3.3\"->ipywidgets>=7.5) (0.17.2)\n",
      "Requirement already satisfied: backcall in /opt/conda/lib/python3.8/site-packages (from ipython>=4.0.0; python_version >= \"3.3\"->ipywidgets>=7.5) (0.2.0)\n",
      "Requirement already satisfied: pygments in /opt/conda/lib/python3.8/site-packages (from ipython>=4.0.0; python_version >= \"3.3\"->ipywidgets>=7.5) (2.7.1)\n",
      "Requirement already satisfied: decorator in /opt/conda/lib/python3.8/site-packages (from ipython>=4.0.0; python_version >= \"3.3\"->ipywidgets>=7.5) (4.4.2)\n",
      "Requirement already satisfied: prompt-toolkit!=3.0.0,!=3.0.1,<3.1.0,>=2.0.0 in /opt/conda/lib/python3.8/site-packages (from ipython>=4.0.0; python_version >= \"3.3\"->ipywidgets>=7.5) (3.0.7)\n",
      "Requirement already satisfied: setuptools>=18.5 in /opt/conda/lib/python3.8/site-packages (from ipython>=4.0.0; python_version >= \"3.3\"->ipywidgets>=7.5) (49.6.0.post20201009)\n",
      "Requirement already satisfied: pickleshare in /opt/conda/lib/python3.8/site-packages (from ipython>=4.0.0; python_version >= \"3.3\"->ipywidgets>=7.5) (0.7.5)\n",
      "Requirement already satisfied: six in /opt/conda/lib/python3.8/site-packages (from argon2-cffi->notebook>=4.3.1->jupyterlab) (1.15.0)\n",
      "Requirement already satisfied: cffi>=1.0.0 in /opt/conda/lib/python3.8/site-packages (from argon2-cffi->notebook>=4.3.1->jupyterlab) (1.14.3)\n",
      "Requirement already satisfied: mistune<2,>=0.8.1 in /opt/conda/lib/python3.8/site-packages (from nbconvert->notebook>=4.3.1->jupyterlab) (0.8.4)\n",
      "Requirement already satisfied: testpath in /opt/conda/lib/python3.8/site-packages (from nbconvert->notebook>=4.3.1->jupyterlab) (0.4.4)\n",
      "Requirement already satisfied: nbclient<0.6.0,>=0.5.0 in /opt/conda/lib/python3.8/site-packages (from nbconvert->notebook>=4.3.1->jupyterlab) (0.5.0)\n",
      "Requirement already satisfied: entrypoints>=0.2.2 in /opt/conda/lib/python3.8/site-packages (from nbconvert->notebook>=4.3.1->jupyterlab) (0.3)\n",
      "Requirement already satisfied: bleach in /opt/conda/lib/python3.8/site-packages (from nbconvert->notebook>=4.3.1->jupyterlab) (3.2.1)\n",
      "Requirement already satisfied: defusedxml in /opt/conda/lib/python3.8/site-packages (from nbconvert->notebook>=4.3.1->jupyterlab) (0.6.0)\n",
      "Requirement already satisfied: pandocfilters>=1.4.1 in /opt/conda/lib/python3.8/site-packages (from nbconvert->notebook>=4.3.1->jupyterlab) (1.4.2)\n",
      "Requirement already satisfied: jupyterlab-pygments in /opt/conda/lib/python3.8/site-packages (from nbconvert->notebook>=4.3.1->jupyterlab) (0.1.2)\n",
      "Requirement already satisfied: python-dateutil>=2.1 in /opt/conda/lib/python3.8/site-packages (from jupyter-client>=5.3.4->notebook>=4.3.1->jupyterlab) (2.8.1)\n",
      "Requirement already satisfied: ptyprocess; os_name != \"nt\" in /opt/conda/lib/python3.8/site-packages (from terminado>=0.8.3->notebook>=4.3.1->jupyterlab) (0.6.0)\n",
      "Requirement already satisfied: certifi>=2017.4.17 in /opt/conda/lib/python3.8/site-packages (from requests->jupyterlab_server<2.0,>=1.1.5->jupyterlab) (2020.6.20)\n",
      "Requirement already satisfied: idna<3,>=2.5 in /opt/conda/lib/python3.8/site-packages (from requests->jupyterlab_server<2.0,>=1.1.5->jupyterlab) (2.10)\n",
      "Requirement already satisfied: chardet<4,>=3.0.2 in /opt/conda/lib/python3.8/site-packages (from requests->jupyterlab_server<2.0,>=1.1.5->jupyterlab) (3.0.4)\n",
      "Requirement already satisfied: urllib3!=1.25.0,!=1.25.1,<1.26,>=1.21.1 in /opt/conda/lib/python3.8/site-packages (from requests->jupyterlab_server<2.0,>=1.1.5->jupyterlab) (1.25.10)\n",
      "Requirement already satisfied: attrs>=17.4.0 in /opt/conda/lib/python3.8/site-packages (from jsonschema>=3.0.1->jupyterlab_server<2.0,>=1.1.5->jupyterlab) (20.2.0)\n",
      "Requirement already satisfied: pyrsistent>=0.14.0 in /opt/conda/lib/python3.8/site-packages (from jsonschema>=3.0.1->jupyterlab_server<2.0,>=1.1.5->jupyterlab) (0.17.3)\n",
      "Requirement already satisfied: parso<0.8.0,>=0.7.0 in /opt/conda/lib/python3.8/site-packages (from jedi>=0.10->ipython>=4.0.0; python_version >= \"3.3\"->ipywidgets>=7.5) (0.7.1)\n",
      "Requirement already satisfied: wcwidth in /opt/conda/lib/python3.8/site-packages (from prompt-toolkit!=3.0.0,!=3.0.1,<3.1.0,>=2.0.0->ipython>=4.0.0; python_version >= \"3.3\"->ipywidgets>=7.5) (0.2.5)\n",
      "Requirement already satisfied: pycparser in /opt/conda/lib/python3.8/site-packages (from cffi>=1.0.0->argon2-cffi->notebook>=4.3.1->jupyterlab) (2.20)\n",
      "Requirement already satisfied: nest-asyncio in /opt/conda/lib/python3.8/site-packages (from nbclient<0.6.0,>=0.5.0->nbconvert->notebook>=4.3.1->jupyterlab) (1.4.1)\n",
      "Requirement already satisfied: async-generator in /opt/conda/lib/python3.8/site-packages (from nbclient<0.6.0,>=0.5.0->nbconvert->notebook>=4.3.1->jupyterlab) (1.10)\n",
      "Requirement already satisfied: packaging in /opt/conda/lib/python3.8/site-packages (from bleach->nbconvert->notebook>=4.3.1->jupyterlab) (20.4)\n",
      "Requirement already satisfied: webencodings in /opt/conda/lib/python3.8/site-packages (from bleach->nbconvert->notebook>=4.3.1->jupyterlab) (0.5.1)\n",
      "Requirement already satisfied: pyparsing>=2.0.2 in /opt/conda/lib/python3.8/site-packages (from packaging->bleach->nbconvert->notebook>=4.3.1->jupyterlab) (2.4.7)\n",
      "Building jupyterlab assets (build:prod:minimize)\n",
      "Building jupyterlab assets (build:prod:minimize)\n",
      "JupyterLab v2.2.8\n",
      "Known labextensions:\n",
      "   app dir: /opt/conda/share/jupyter/lab\n",
      "        @bokeh/jupyter_bokeh v2.0.3 \u001b[32m enabled \u001b[0m \u001b[32mOK\u001b[0m\n",
      "        @jupyter-widgets/jupyterlab-manager v2.0.0 \u001b[32m enabled \u001b[0m \u001b[32mOK\u001b[0m\n",
      "        jupyter-matplotlib v0.7.4 \u001b[32m enabled \u001b[0m \u001b[32mOK\u001b[0m\n",
      "        jupyterlab-plotly v4.9.0 \u001b[32m enabled \u001b[0m \u001b[32mOK\u001b[0m\n",
      "        plotlywidget v4.9.0 \u001b[32m enabled \u001b[0m \u001b[32mOK\u001b[0m\n"
     ]
    }
   ],
   "source": [
    "!pip install plotly==4.9.0\n",
    "!pip install jupyterlab \"ipywidgets>=7.5\"\n",
    "!jupyter labextension install jupyterlab-plotly@4.9.0\n",
    "!jupyter labextension install @jupyter-widgets/jupyterlab-manager plotlywidget@4.9.0\n",
    "!jupyter labextension list"
   ]
  },
  {
   "cell_type": "code",
   "execution_count": 2,
   "metadata": {},
   "outputs": [
    {
     "name": "stdout",
     "output_type": "stream",
     "text": [
      "[LabBuildApp] JupyterLab 2.2.8\n",
      "[LabBuildApp] Building in /opt/conda/share/jupyter/lab\n",
      "[LabBuildApp] Building jupyterlab assets (build:prod:minimize)\n"
     ]
    }
   ],
   "source": [
    "!jupyter lab build"
   ]
  },
  {
   "cell_type": "code",
   "execution_count": 7,
   "metadata": {},
   "outputs": [],
   "source": [
    "import os \n",
    "import logging\n",
    "import scrapy\n",
    "import requests\n",
    "from scrapy.crawler import CrawlerProcess\n",
    "import json\n",
    "import pandas as pd\n",
    "import plotly.express as px\n",
    "import glob\n",
    "import boto3"
   ]
  },
  {
   "cell_type": "code",
   "execution_count": null,
   "metadata": {},
   "outputs": [],
   "source": []
  },
  {
   "cell_type": "code",
   "execution_count": null,
   "metadata": {},
   "outputs": [],
   "source": []
  },
  {
   "cell_type": "markdown",
   "metadata": {},
   "source": [
    "# Cities and creation of df"
   ]
  },
  {
   "cell_type": "code",
   "execution_count": 8,
   "metadata": {},
   "outputs": [],
   "source": [
    "city_names= [\"Mont Saint Michel\",\n",
    "\"St Malo\",\n",
    "\"Bayeux\",\n",
    "\"Le Havre\",\n",
    "\"Rouen\",\n",
    "\"Paris\",\n",
    "\"Amiens\",\n",
    "\"Lille\",\n",
    "\"Strasbourg\",\n",
    "\"Chateau du Haut Koenigsbourg\",\n",
    "\"Colmar\",\n",
    "\"Eguisheim\",\n",
    "\"Besancon\",\n",
    "\"Dijon\",\n",
    "\"Annecy\",\n",
    "\"Grenoble\",\n",
    "\"Lyon\",\n",
    "\"Gorges du Verdon\",\n",
    "\"Bormes les Mimosas\"\n",
    "]"
   ]
  },
  {
   "cell_type": "code",
   "execution_count": 9,
   "metadata": {},
   "outputs": [
    {
     "data": {
      "text/html": [
       "<div>\n",
       "<style scoped>\n",
       "    .dataframe tbody tr th:only-of-type {\n",
       "        vertical-align: middle;\n",
       "    }\n",
       "\n",
       "    .dataframe tbody tr th {\n",
       "        vertical-align: top;\n",
       "    }\n",
       "\n",
       "    .dataframe thead th {\n",
       "        text-align: right;\n",
       "    }\n",
       "</style>\n",
       "<table border=\"1\" class=\"dataframe\">\n",
       "  <thead>\n",
       "    <tr style=\"text-align: right;\">\n",
       "      <th></th>\n",
       "      <th>city_id</th>\n",
       "      <th>name</th>\n",
       "      <th>latitude</th>\n",
       "      <th>longitude</th>\n",
       "      <th>main_weather</th>\n",
       "      <th>expected_rain</th>\n",
       "      <th>day_temperature</th>\n",
       "    </tr>\n",
       "  </thead>\n",
       "  <tbody>\n",
       "  </tbody>\n",
       "</table>\n",
       "</div>"
      ],
      "text/plain": [
       "Empty DataFrame\n",
       "Columns: [city_id, name, latitude, longitude, main_weather, expected_rain, day_temperature]\n",
       "Index: []"
      ]
     },
     "execution_count": 9,
     "metadata": {},
     "output_type": "execute_result"
    }
   ],
   "source": [
    "df = pd.DataFrame(columns=['city_id' , 'name', 'latitude', 'longitude', 'main_weather', 'expected_rain', 'day_temperature'])\n",
    "df"
   ]
  },
  {
   "cell_type": "markdown",
   "metadata": {},
   "source": [
    "# Coordinates, weather info, convert df to csv"
   ]
  },
  {
   "cell_type": "code",
   "execution_count": 10,
   "metadata": {},
   "outputs": [],
   "source": [
    "api_key = \"f482d2b26c2e58bf480acbe962e74f18\""
   ]
  },
  {
   "cell_type": "code",
   "execution_count": 11,
   "metadata": {
    "scrolled": true
   },
   "outputs": [
    {
     "name": "stdout",
     "output_type": "stream",
     "text": [
      "making request: Mont Saint Michel\n",
      "{'lat': 48.6359, 'lon': -1.5126, 'timezone': 'Europe/Paris', 'timezone_offset': 3600, 'daily': [{'dt': 1611403200, 'sunrise': 1611387974, 'sunset': 1611420557, 'temp': {'day': 4.73, 'min': 2.21, 'max': 6.32, 'night': 2.21, 'eve': 3.07, 'morn': 3.04}, 'feels_like': {'day': -1.81, 'night': -0.16, 'eve': -1.14, 'morn': -0.58}, 'pressure': 995, 'humidity': 87, 'dew_point': 2.91, 'wind_speed': 7.14, 'wind_deg': 344, 'weather': [{'id': 502, 'main': 'Rain', 'description': 'heavy intensity rain', 'icon': '10d'}], 'clouds': 94, 'pop': 1, 'rain': 12.68, 'uvi': 0.77}, {'dt': 1611489600, 'sunrise': 1611474311, 'sunset': 1611507050, 'temp': {'day': 6.61, 'min': 1.44, 'max': 6.87, 'night': 4.42, 'eve': 5.04, 'morn': 1.8}, 'feels_like': {'day': -1.1, 'night': -3.8, 'eve': -3.95, 'morn': -4.1}, 'pressure': 998, 'humidity': 77, 'dew_point': 2.94, 'wind_speed': 8.83, 'wind_deg': 261, 'weather': [{'id': 500, 'main': 'Rain', 'description': 'light rain', 'icon': '10d'}], 'clouds': 100, 'pop': 1, 'rain': 6.62, 'uvi': 0.69}, {'dt': 1611576000, 'sunrise': 1611560646, 'sunset': 1611593545, 'temp': {'day': 5.28, 'min': 1.77, 'max': 6.23, 'night': 2.47, 'eve': 3.61, 'morn': 3.24}, 'feels_like': {'day': 2.06, 'night': -2.62, 'eve': -1, 'morn': -1.83}, 'pressure': 1013, 'humidity': 67, 'dew_point': -0.94, 'wind_speed': 1.69, 'wind_deg': 310, 'weather': [{'id': 500, 'main': 'Rain', 'description': 'light rain', 'icon': '10d'}], 'clouds': 69, 'pop': 0.71, 'rain': 0.59, 'uvi': 0.84}, {'dt': 1611662400, 'sunrise': 1611646978, 'sunset': 1611680040, 'temp': {'day': 6.36, 'min': 2.13, 'max': 6.36, 'night': 5.11, 'eve': 5.44, 'morn': 2.88}, 'feels_like': {'day': 1.81, 'night': -2.77, 'eve': 0.94, 'morn': -1.5}, 'pressure': 1020, 'humidity': 76, 'dew_point': 2.63, 'wind_speed': 4.22, 'wind_deg': 196, 'weather': [{'id': 500, 'main': 'Rain', 'description': 'light rain', 'icon': '10d'}], 'clouds': 99, 'pop': 1, 'rain': 3.91, 'uvi': 0.54}, {'dt': 1611748800, 'sunrise': 1611733309, 'sunset': 1611766536, 'temp': {'day': 10.99, 'min': 4.84, 'max': 12.29, 'night': 12.29, 'eve': 11.54, 'morn': 8.27}, 'feels_like': {'day': 8.38, 'night': 7.69, 'eve': 7.15, 'morn': 5.34}, 'pressure': 1019, 'humidity': 89, 'dew_point': 9.3, 'wind_speed': 3.51, 'wind_deg': 223, 'weather': [{'id': 500, 'main': 'Rain', 'description': 'light rain', 'icon': '10d'}], 'clouds': 100, 'pop': 0.9, 'rain': 1.98, 'uvi': 0.47}, {'dt': 1611835200, 'sunrise': 1611819637, 'sunset': 1611853032, 'temp': {'day': 12.43, 'min': 11, 'max': 12.59, 'night': 11.72, 'eve': 11, 'morn': 12.32}, 'feels_like': {'day': 6.4, 'night': 5.31, 'eve': 5.22, 'morn': 7.03}, 'pressure': 1012, 'humidity': 78, 'dew_point': 8.74, 'wind_speed': 8.2, 'wind_deg': 252, 'weather': [{'id': 500, 'main': 'Rain', 'description': 'light rain', 'icon': '10d'}], 'clouds': 94, 'pop': 0.9, 'rain': 1.33, 'uvi': 0.95}, {'dt': 1611921600, 'sunrise': 1611905963, 'sunset': 1611939529, 'temp': {'day': 10.34, 'min': 9.15, 'max': 13.28, 'night': 12.48, 'eve': 12.46, 'morn': 10.03}, 'feels_like': {'day': 5.75, 'night': 6.9, 'eve': 7.78, 'morn': 4.48}, 'pressure': 1014, 'humidity': 79, 'dew_point': 7.03, 'wind_speed': 5.51, 'wind_deg': 229, 'weather': [{'id': 500, 'main': 'Rain', 'description': 'light rain', 'icon': '10d'}], 'clouds': 100, 'pop': 1, 'rain': 1.8, 'uvi': 1}, {'dt': 1612008000, 'sunrise': 1611992287, 'sunset': 1612026027, 'temp': {'day': 11.43, 'min': 7.02, 'max': 12.49, 'night': 7.02, 'eve': 8.03, 'morn': 11.47}, 'feels_like': {'day': 5.6, 'night': 1.85, 'eve': 3.92, 'morn': 5.12}, 'pressure': 999, 'humidity': 77, 'dew_point': 7.64, 'wind_speed': 7.51, 'wind_deg': 240, 'weather': [{'id': 501, 'main': 'Rain', 'description': 'moderate rain', 'icon': '10d'}], 'clouds': 100, 'pop': 1, 'rain': 6.63, 'uvi': 1}], 'alerts': [{'sender_name': 'METEO-FRANCE', 'event': 'Moderate snow-ice warning', 'start': 1611414000, 'end': 1611500400, 'description': 'Although rather usual in this region, locally or potentially dangerous phenomena are expected. (such as local winds, summer thunderstorms, rising streams or high waves)'}, {'sender_name': 'METEO-FRANCE', 'event': 'Moderate flooding warning', 'start': 1611401280, 'end': 1611464400, 'description': 'Although rather usual in this region, locally or potentially dangerous phenomena are expected. (such as local winds, summer thunderstorms, rising streams or high waves)'}]}\n",
      "making request: St Malo\n",
      "{'lat': 48.6455, 'lon': -2.0154, 'timezone': 'Europe/Paris', 'timezone_offset': 3600, 'daily': [{'dt': 1611403200, 'sunrise': 1611388097, 'sunset': 1611420676, 'temp': {'day': 5.76, 'min': 1.92, 'max': 6.91, 'night': 4.49, 'eve': 4.91, 'morn': 4.7}, 'feels_like': {'day': -0.63, 'night': 1.31, 'eve': 0.08, 'morn': 0.21}, 'pressure': 996, 'humidity': 82, 'dew_point': 3.03, 'wind_speed': 6.97, 'wind_deg': 342, 'weather': [{'id': 502, 'main': 'Rain', 'description': 'heavy intensity rain', 'icon': '10d'}], 'clouds': 90, 'pop': 1, 'rain': 15.57, 'uvi': 0.83}, {'dt': 1611489600, 'sunrise': 1611474434, 'sunset': 1611507169, 'temp': {'day': 7.26, 'min': 3.34, 'max': 7.41, 'night': 5.39, 'eve': 5.82, 'morn': 3.55}, 'feels_like': {'day': -2, 'night': -4.79, 'eve': -4.72, 'morn': -3.24}, 'pressure': 998, 'humidity': 69, 'dew_point': 2.04, 'wind_speed': 10.83, 'wind_deg': 274, 'weather': [{'id': 500, 'main': 'Rain', 'description': 'light rain', 'icon': '10d'}], 'clouds': 100, 'pop': 1, 'rain': 4.65, 'uvi': 0.73}, {'dt': 1611576000, 'sunrise': 1611560768, 'sunset': 1611593664, 'temp': {'day': 6.14, 'min': 4.1, 'max': 6.39, 'night': 4.1, 'eve': 4.78, 'morn': 4.82}, 'feels_like': {'day': 1.79, 'night': -1.48, 'eve': -0.28, 'morn': -1.36}, 'pressure': 1014, 'humidity': 62, 'dew_point': -1.59, 'wind_speed': 3.26, 'wind_deg': 301, 'weather': [{'id': 500, 'main': 'Rain', 'description': 'light rain', 'icon': '10d'}], 'clouds': 79, 'pop': 0.67, 'rain': 0.44, 'uvi': 0.91}, {'dt': 1611662400, 'sunrise': 1611647101, 'sunset': 1611680159, 'temp': {'day': 7.26, 'min': 3.9, 'max': 7.26, 'night': 5.98, 'eve': 6, 'morn': 4.49}, 'feels_like': {'day': 1.65, 'night': -1.96, 'eve': 0.17, 'morn': -0.21}, 'pressure': 1020, 'humidity': 72, 'dew_point': 2.7, 'wind_speed': 5.76, 'wind_deg': 197, 'weather': [{'id': 501, 'main': 'Rain', 'description': 'moderate rain', 'icon': '10d'}], 'clouds': 100, 'pop': 1, 'rain': 5.4, 'uvi': 0.54}, {'dt': 1611748800, 'sunrise': 1611733431, 'sunset': 1611766655, 'temp': {'day': 11.52, 'min': 7.22, 'max': 12.04, 'night': 12.04, 'eve': 11.97, 'morn': 9.54}, 'feels_like': {'day': 8.19, 'night': 6.29, 'eve': 7.59, 'morn': 6.2}, 'pressure': 1018, 'humidity': 85, 'dew_point': 9.26, 'wind_speed': 4.48, 'wind_deg': 231, 'weather': [{'id': 500, 'main': 'Rain', 'description': 'light rain', 'icon': '10d'}], 'clouds': 99, 'pop': 0.96, 'rain': 1.72, 'uvi': 0.55}, {'dt': 1611835200, 'sunrise': 1611819759, 'sunset': 1611853151, 'temp': {'day': 12.01, 'min': 11.07, 'max': 12.3, 'night': 11.81, 'eve': 11.07, 'morn': 11.91}, 'feels_like': {'day': 4.79, 'night': 5.3, 'eve': 5.05, 'morn': 5.28}, 'pressure': 1013, 'humidity': 78, 'dew_point': 8.37, 'wind_speed': 9.75, 'wind_deg': 255, 'weather': [{'id': 500, 'main': 'Rain', 'description': 'light rain', 'icon': '10d'}], 'clouds': 95, 'pop': 0.83, 'rain': 0.85, 'uvi': 1.03}, {'dt': 1611921600, 'sunrise': 1611906085, 'sunset': 1611939648, 'temp': {'day': 9.69, 'min': 9.32, 'max': 13.08, 'night': 12.49, 'eve': 12.44, 'morn': 9.83}, 'feels_like': {'day': 4.91, 'night': 6.13, 'eve': 6.75, 'morn': 2.69}, 'pressure': 1013, 'humidity': 82, 'dew_point': 6.91, 'wind_speed': 5.76, 'wind_deg': 219, 'weather': [{'id': 500, 'main': 'Rain', 'description': 'light rain', 'icon': '10d'}], 'clouds': 100, 'pop': 0.96, 'rain': 1.13, 'uvi': 2}, {'dt': 1612008000, 'sunrise': 1611992409, 'sunset': 1612026146, 'temp': {'day': 11.18, 'min': 7.64, 'max': 12.51, 'night': 7.64, 'eve': 8.54, 'morn': 11.12}, 'feels_like': {'day': 4.54, 'night': 1.66, 'eve': 3.3, 'morn': 3.36}, 'pressure': 999, 'humidity': 75, 'dew_point': 7.01, 'wind_speed': 8.46, 'wind_deg': 243, 'weather': [{'id': 500, 'main': 'Rain', 'description': 'light rain', 'icon': '10d'}], 'clouds': 100, 'pop': 0.98, 'rain': 3.4, 'uvi': 2}]}\n",
      "making request: Bayeux\n",
      "{'lat': 49.2765, 'lon': -0.7025, 'timezone': 'Europe/Paris', 'timezone_offset': 3600, 'daily': [{'dt': 1611403200, 'sunrise': 1611387911, 'sunset': 1611420231, 'temp': {'day': 3.84, 'min': 1.08, 'max': 5.15, 'night': 1.08, 'eve': 2.34, 'morn': 1.51}, 'feels_like': {'day': -1.1, 'night': -3.37, 'eve': -2.45, 'morn': -3.62}, 'pressure': 994, 'humidity': 94, 'dew_point': 2.97, 'wind_speed': 4.9, 'wind_deg': 357, 'weather': [{'id': 616, 'main': 'Snow', 'description': 'rain and snow', 'icon': '13d'}], 'clouds': 100, 'pop': 1, 'rain': 3.58, 'snow': 0.77, 'uvi': 0.68}, {'dt': 1611489600, 'sunrise': 1611474246, 'sunset': 1611506727, 'temp': {'day': 5.41, 'min': -0.08, 'max': 6.23, 'night': 2.7, 'eve': 3.19, 'morn': 0.71}, 'feels_like': {'day': -1.04, 'night': -4.47, 'eve': -3.85, 'morn': -4.81}, 'pressure': 996, 'humidity': 82, 'dew_point': 2.61, 'wind_speed': 6.97, 'wind_deg': 244, 'weather': [{'id': 501, 'main': 'Rain', 'description': 'moderate rain', 'icon': '10d'}], 'clouds': 100, 'pop': 1, 'rain': 6.29, 'uvi': 0.61}, {'dt': 1611576000, 'sunrise': 1611560579, 'sunset': 1611593223, 'temp': {'day': 4.8, 'min': 1.44, 'max': 5.32, 'night': 1.99, 'eve': 2.39, 'morn': 3.23}, 'feels_like': {'day': -0.03, 'night': -3.69, 'eve': -3.59, 'morn': -3.37}, 'pressure': 1012, 'humidity': 69, 'dew_point': -0.91, 'wind_speed': 3.98, 'wind_deg': 282, 'weather': [{'id': 800, 'main': 'Clear', 'description': 'clear sky', 'icon': '01d'}], 'clouds': 2, 'pop': 0.81, 'uvi': 0.83}, {'dt': 1611662400, 'sunrise': 1611646909, 'sunset': 1611679721, 'temp': {'day': 5.41, 'min': 1.45, 'max': 5.41, 'night': 5, 'eve': 4.6, 'morn': 3.05}, 'feels_like': {'day': 0.68, 'night': -1.28, 'eve': 0.72, 'morn': -2.09}, 'pressure': 1020, 'humidity': 84, 'dew_point': 3.05, 'wind_speed': 4.6, 'wind_deg': 223, 'weather': [{'id': 500, 'main': 'Rain', 'description': 'light rain', 'icon': '10d'}], 'clouds': 97, 'pop': 1, 'rain': 1.76, 'uvi': 0.51}, {'dt': 1611748800, 'sunrise': 1611733237, 'sunset': 1611766219, 'temp': {'day': 10.12, 'min': 4.86, 'max': 12.41, 'night': 12.41, 'eve': 10.78, 'morn': 6.83}, 'feels_like': {'day': 5.69, 'night': 7.26, 'eve': 6.12, 'morn': 3.12}, 'pressure': 1018, 'humidity': 91, 'dew_point': 8.84, 'wind_speed': 5.91, 'wind_deg': 238, 'weather': [{'id': 500, 'main': 'Rain', 'description': 'light rain', 'icon': '10d'}], 'clouds': 99, 'pop': 0.71, 'rain': 1.05, 'uvi': 0.48}, {'dt': 1611835200, 'sunrise': 1611819563, 'sunset': 1611852717, 'temp': {'day': 11.8, 'min': 10.05, 'max': 12.5, 'night': 10.85, 'eve': 10.05, 'morn': 12.5}, 'feels_like': {'day': 2.67, 'night': 4.21, 'eve': 4.37, 'morn': 5.16}, 'pressure': 1010, 'humidity': 79, 'dew_point': 8.46, 'wind_speed': 12.47, 'wind_deg': 252, 'weather': [{'id': 500, 'main': 'Rain', 'description': 'light rain', 'icon': '10d'}], 'clouds': 78, 'pop': 0.75, 'rain': 0.76, 'uvi': 0.83}, {'dt': 1611921600, 'sunrise': 1611905887, 'sunset': 1611939216, 'temp': {'day': 10.81, 'min': 9.34, 'max': 13.33, 'night': 12.51, 'eve': 9.88, 'morn': 9.34}, 'feels_like': {'day': 4.76, 'night': 7.36, 'eve': 6.14, 'morn': 0.4}, 'pressure': 1012, 'humidity': 78, 'dew_point': 7.24, 'wind_speed': 7.69, 'wind_deg': 252, 'weather': [{'id': 500, 'main': 'Rain', 'description': 'light rain', 'icon': '10d'}], 'clouds': 99, 'pop': 1, 'rain': 2.47, 'uvi': 1}, {'dt': 1612008000, 'sunrise': 1611992209, 'sunset': 1612025716, 'temp': {'day': 11, 'min': 7.09, 'max': 12.54, 'night': 7.09, 'eve': 7.43, 'morn': 12.17}, 'feels_like': {'day': 2.72, 'night': 0.85, 'eve': 1.41, 'morn': 4.81}, 'pressure': 997, 'humidity': 76, 'dew_point': 7.02, 'wind_speed': 10.81, 'wind_deg': 242, 'weather': [{'id': 501, 'main': 'Rain', 'description': 'moderate rain', 'icon': '10d'}], 'clouds': 100, 'pop': 0.99, 'rain': 4.64, 'uvi': 1}], 'alerts': [{'sender_name': 'METEO-FRANCE', 'event': 'Moderate snow-ice warning', 'start': 1611414000, 'end': 1611500400, 'description': 'Although rather usual in this region, locally or potentially dangerous phenomena are expected. (such as local winds, summer thunderstorms, rising streams or high waves)'}, {'sender_name': 'METEO-FRANCE', 'event': 'Moderate flooding warning', 'start': 1611401280, 'end': 1611464400, 'description': 'Although rather usual in this region, locally or potentially dangerous phenomena are expected. (such as local winds, summer thunderstorms, rising streams or high waves)'}]}\n",
      "making request: Le Havre\n",
      "{'lat': 49.4939, 'lon': 0.108, 'timezone': 'Europe/Paris', 'timezone_offset': 3600, 'daily': [{'dt': 1611403200, 'sunrise': 1611387762, 'sunset': 1611419991, 'temp': {'day': 5.03, 'min': 2.34, 'max': 7.04, 'night': 4.81, 'eve': 5.2, 'morn': 4.7}, 'feels_like': {'day': -1.62, 'night': -0.64, 'eve': -1.06, 'morn': -0.23}, 'pressure': 993, 'humidity': 76, 'dew_point': 1.29, 'wind_speed': 6.92, 'wind_deg': 356, 'weather': [{'id': 501, 'main': 'Rain', 'description': 'moderate rain', 'icon': '10d'}], 'clouds': 100, 'pop': 1, 'rain': 3.81, 'uvi': 0.6}, {'dt': 1611489600, 'sunrise': 1611474096, 'sunset': 1611506487, 'temp': {'day': 4.47, 'min': 3.11, 'max': 6.83, 'night': 5.24, 'eve': 6.4, 'morn': 3.11}, 'feels_like': {'day': -3.83, 'night': -4.32, 'eve': -1.89, 'morn': -3.1}, 'pressure': 996, 'humidity': 90, 'dew_point': 3.12, 'wind_speed': 9.7, 'wind_deg': 225, 'weather': [{'id': 501, 'main': 'Rain', 'description': 'moderate rain', 'icon': '10d'}], 'clouds': 100, 'pop': 1, 'rain': 7.78, 'uvi': 0.44}, {'dt': 1611576000, 'sunrise': 1611560428, 'sunset': 1611592985, 'temp': {'day': 5.7, 'min': 4.14, 'max': 7.04, 'night': 7.04, 'eve': 6.09, 'morn': 4.68}, 'feels_like': {'day': -0.41, 'night': -1.36, 'eve': -2.37, 'morn': -3.85}, 'pressure': 1011, 'humidity': 63, 'dew_point': -2.73, 'wind_speed': 5.73, 'wind_deg': 313, 'weather': [{'id': 616, 'main': 'Snow', 'description': 'rain and snow', 'icon': '13d'}], 'clouds': 6, 'pop': 0.88, 'rain': 1.41, 'snow': 0.15, 'uvi': 0.82}, {'dt': 1611662400, 'sunrise': 1611646758, 'sunset': 1611679483, 'temp': {'day': 6.05, 'min': 5.45, 'max': 7.1, 'night': 5.66, 'eve': 5.45, 'morn': 5.88}, 'feels_like': {'day': 0.96, 'night': -0.7, 'eve': 0.96, 'morn': -0.13}, 'pressure': 1020, 'humidity': 81, 'dew_point': 3.1, 'wind_speed': 5.14, 'wind_deg': 228, 'weather': [{'id': 500, 'main': 'Rain', 'description': 'light rain', 'icon': '10d'}], 'clouds': 95, 'pop': 1, 'rain': 2.52, 'uvi': 0.82}, {'dt': 1611748800, 'sunrise': 1611733085, 'sunset': 1611765981, 'temp': {'day': 9.49, 'min': 5.58, 'max': 11.07, 'night': 11.07, 'eve': 9.62, 'morn': 6.95}, 'feels_like': {'day': 4.63, 'night': 5.85, 'eve': 5.63, 'morn': 2.81}, 'pressure': 1018, 'humidity': 92, 'dew_point': 8.31, 'wind_speed': 6.37, 'wind_deg': 239, 'weather': [{'id': 500, 'main': 'Rain', 'description': 'light rain', 'icon': '10d'}], 'clouds': 100, 'pop': 0.98, 'rain': 2.99, 'uvi': 0.58}, {'dt': 1611835200, 'sunrise': 1611819410, 'sunset': 1611852481, 'temp': {'day': 11.05, 'min': 10.15, 'max': 11.65, 'night': 10.76, 'eve': 10.15, 'morn': 11.65}, 'feels_like': {'day': 1.23, 'night': 4.43, 'eve': 3.25, 'morn': 5.03}, 'pressure': 1009, 'humidity': 80, 'dew_point': 7.92, 'wind_speed': 13.27, 'wind_deg': 250, 'weather': [{'id': 500, 'main': 'Rain', 'description': 'light rain', 'icon': '10d'}], 'clouds': 86, 'pop': 0.76, 'rain': 1.86, 'uvi': 0.76}, {'dt': 1611921600, 'sunrise': 1611905734, 'sunset': 1611938981, 'temp': {'day': 9.88, 'min': 9.67, 'max': 11.88, 'night': 11.77, 'eve': 9.67, 'morn': 10.17}, 'feels_like': {'day': 3.08, 'night': 5.94, 'eve': 4.96, 'morn': -0.29}, 'pressure': 1011, 'humidity': 80, 'dew_point': 6.7, 'wind_speed': 8.58, 'wind_deg': 252, 'weather': [{'id': 500, 'main': 'Rain', 'description': 'light rain', 'icon': '10d'}], 'clouds': 95, 'pop': 1, 'rain': 3.22, 'uvi': 1}, {'dt': 1612008000, 'sunrise': 1611992055, 'sunset': 1612025481, 'temp': {'day': 10.61, 'min': 8.42, 'max': 11.96, 'night': 8.42, 'eve': 8.86, 'morn': 11.96}, 'feels_like': {'day': 3.63, 'night': 1.29, 'eve': 1.66, 'morn': 4.33}, 'pressure': 996, 'humidity': 78, 'dew_point': 6.99, 'wind_speed': 8.95, 'wind_deg': 239, 'weather': [{'id': 500, 'main': 'Rain', 'description': 'light rain', 'icon': '10d'}], 'clouds': 100, 'pop': 1, 'rain': 4.92, 'uvi': 1}], 'alerts': [{'sender_name': 'METEO-FRANCE', 'event': 'Moderate snow-ice warning', 'start': 1611414000, 'end': 1611500400, 'description': 'Although rather usual in this region, locally or potentially dangerous phenomena are expected. (such as local winds, summer thunderstorms, rising streams or high waves)'}, {'sender_name': 'METEO-FRANCE', 'event': 'Moderate flooding warning', 'start': 1611414000, 'end': 1611500400, 'description': 'Although rather usual in this region, locally or potentially dangerous phenomena are expected. (such as local winds, summer thunderstorms, rising streams or high waves)'}]}\n",
      "making request: Rouen\n",
      "{'lat': 49.4405, 'lon': 1.094, 'timezone': 'Europe/Paris', 'timezone_offset': 3600, 'daily': [{'dt': 1611403200, 'sunrise': 1611387514, 'sunset': 1611419765, 'temp': {'day': 2.47, 'min': 0.52, 'max': 4.09, 'night': 0.52, 'eve': 0.74, 'morn': 2.67}, 'feels_like': {'day': -2.58, 'night': -3.77, 'eve': -3.76, 'morn': -1.05}, 'pressure': 992, 'humidity': 93, 'dew_point': 1.59, 'wind_speed': 4.69, 'wind_deg': 360, 'weather': [{'id': 616, 'main': 'Snow', 'description': 'rain and snow', 'icon': '13d'}], 'clouds': 100, 'pop': 0.93, 'rain': 2, 'snow': 2.56, 'uvi': 0.38}, {'dt': 1611489600, 'sunrise': 1611473849, 'sunset': 1611506261, 'temp': {'day': 2.97, 'min': -0.79, 'max': 4.53, 'night': 3.29, 'eve': 2.61, 'morn': -0.79}, 'feels_like': {'day': -3.89, 'night': -2.78, 'eve': -2.49, 'morn': -5.13}, 'pressure': 997, 'humidity': 93, 'dew_point': 2, 'wind_speed': 7.4, 'wind_deg': 202, 'weather': [{'id': 501, 'main': 'Rain', 'description': 'moderate rain', 'icon': '10d'}], 'clouds': 97, 'pop': 1, 'rain': 4.61, 'uvi': 0.46}, {'dt': 1611576000, 'sunrise': 1611560181, 'sunset': 1611592758, 'temp': {'day': 4.95, 'min': 1.57, 'max': 5.18, 'night': 3.14, 'eve': 1.57, 'morn': 1.93}, 'feels_like': {'day': -0.45, 'night': -2.9, 'eve': -4.06, 'morn': -5.5}, 'pressure': 1010, 'humidity': 68, 'dew_point': -1.91, 'wind_speed': 4.79, 'wind_deg': 326, 'weather': [{'id': 616, 'main': 'Snow', 'description': 'rain and snow', 'icon': '13d'}], 'clouds': 38, 'pop': 0.68, 'rain': 1.21, 'snow': 0.98, 'uvi': 0.81}, {'dt': 1611662400, 'sunrise': 1611646511, 'sunset': 1611679256, 'temp': {'day': 5.53, 'min': 1, 'max': 5.53, 'night': 3.88, 'eve': 3.82, 'morn': 1.38}, 'feels_like': {'day': 1.26, 'night': -0.31, 'eve': -0.29, 'morn': -3.48}, 'pressure': 1020, 'humidity': 84, 'dew_point': 3.16, 'wind_speed': 3.96, 'wind_deg': 242, 'weather': [{'id': 500, 'main': 'Rain', 'description': 'light rain', 'icon': '10d'}], 'clouds': 93, 'pop': 0.83, 'rain': 2.57, 'uvi': 0.74}, {'dt': 1611748800, 'sunrise': 1611732838, 'sunset': 1611765755, 'temp': {'day': 9.42, 'min': 3.89, 'max': 10.31, 'night': 10.31, 'eve': 8.8, 'morn': 4.11}, 'feels_like': {'day': 5.8, 'night': 6.65, 'eve': 5.89, 'morn': 0.39}, 'pressure': 1018, 'humidity': 90, 'dew_point': 8, 'wind_speed': 4.46, 'wind_deg': 234, 'weather': [{'id': 500, 'main': 'Rain', 'description': 'light rain', 'icon': '10d'}], 'clouds': 99, 'pop': 1, 'rain': 2.48, 'uvi': 0.3}, {'dt': 1611835200, 'sunrise': 1611819164, 'sunset': 1611852254, 'temp': {'day': 12.57, 'min': 9.97, 'max': 12.57, 'night': 10.99, 'eve': 9.97, 'morn': 12.21}, 'feels_like': {'day': 3.61, 'night': 5.45, 'eve': 4.15, 'morn': 6.87}, 'pressure': 1009, 'humidity': 74, 'dew_point': 8.24, 'wind_speed': 12.16, 'wind_deg': 260, 'weather': [{'id': 500, 'main': 'Rain', 'description': 'light rain', 'icon': '10d'}], 'clouds': 93, 'pop': 0.8, 'rain': 1.05, 'uvi': 0.65}, {'dt': 1611921600, 'sunrise': 1611905487, 'sunset': 1611938754, 'temp': {'day': 11.08, 'min': 9.44, 'max': 13.36, 'night': 11.34, 'eve': 9.44, 'morn': 11.28}, 'feels_like': {'day': 3.91, 'night': 7.77, 'eve': 6.09, 'morn': 2.09}, 'pressure': 1011, 'humidity': 72, 'dew_point': 6.33, 'wind_speed': 9, 'wind_deg': 269, 'weather': [{'id': 500, 'main': 'Rain', 'description': 'light rain', 'icon': '10d'}], 'clouds': 82, 'pop': 1, 'rain': 3.17, 'uvi': 1}, {'dt': 1612008000, 'sunrise': 1611991808, 'sunset': 1612025254, 'temp': {'day': 11.17, 'min': 6.57, 'max': 12.29, 'night': 6.57, 'eve': 7.88, 'morn': 11.86}, 'feels_like': {'day': 5.69, 'night': 1.51, 'eve': 2, 'morn': 6.02}, 'pressure': 997, 'humidity': 80, 'dew_point': 7.86, 'wind_speed': 7.11, 'wind_deg': 240, 'weather': [{'id': 500, 'main': 'Rain', 'description': 'light rain', 'icon': '10d'}], 'clouds': 97, 'pop': 0.87, 'rain': 4.11, 'uvi': 1}], 'alerts': [{'sender_name': 'METEO-FRANCE', 'event': 'Moderate snow-ice warning', 'start': 1611414000, 'end': 1611500400, 'description': 'Although rather usual in this region, locally or potentially dangerous phenomena are expected. (such as local winds, summer thunderstorms, rising streams or high waves)'}, {'sender_name': 'METEO-FRANCE', 'event': 'Moderate flooding warning', 'start': 1611414000, 'end': 1611500400, 'description': 'Although rather usual in this region, locally or potentially dangerous phenomena are expected. (such as local winds, summer thunderstorms, rising streams or high waves)'}]}\n",
      "making request: Paris\n",
      "{'lat': 48.8567, 'lon': 2.3515, 'timezone': 'Europe/Paris', 'timezone_offset': 3600, 'daily': [{'dt': 1611403200, 'sunrise': 1611387092, 'sunset': 1611419583, 'temp': {'day': 6.54, 'min': 1.99, 'max': 6.54, 'night': 2.6, 'eve': 4.11, 'morn': 3.19}, 'feels_like': {'day': 2.63, 'night': -1.87, 'eve': -1.53, 'morn': -1.14}, 'pressure': 991, 'humidity': 75, 'dew_point': 2.45, 'wind_speed': 3.3, 'wind_deg': 230, 'weather': [{'id': 616, 'main': 'Snow', 'description': 'rain and snow', 'icon': '13d'}], 'clouds': 99, 'pop': 1, 'rain': 1.82, 'snow': 3.25, 'uvi': 0.46}, {'dt': 1611489600, 'sunrise': 1611473428, 'sunset': 1611506078, 'temp': {'day': 4.46, 'min': 0.88, 'max': 4.46, 'night': 3.39, 'eve': 3.93, 'morn': 0.96}, 'feels_like': {'day': -1.66, 'night': -2.28, 'eve': -0.34, 'morn': -2.94}, 'pressure': 1000, 'humidity': 70, 'dew_point': -1.49, 'wind_speed': 5.8, 'wind_deg': 188, 'weather': [{'id': 501, 'main': 'Rain', 'description': 'moderate rain', 'icon': '10d'}], 'clouds': 69, 'pop': 1, 'rain': 4.61, 'uvi': 0.73}, {'dt': 1611576000, 'sunrise': 1611559763, 'sunset': 1611592573, 'temp': {'day': 5.24, 'min': 2.07, 'max': 5.62, 'night': 3.19, 'eve': 3.44, 'morn': 2.35}, 'feels_like': {'day': -0.44, 'night': -2.5, 'eve': -0.6, 'morn': -3.45}, 'pressure': 1009, 'humidity': 66, 'dew_point': -2.44, 'wind_speed': 5.15, 'wind_deg': 335, 'weather': [{'id': 600, 'main': 'Snow', 'description': 'light snow', 'icon': '13d'}], 'clouds': 57, 'pop': 0.4, 'snow': 0.36, 'uvi': 0.81}, {'dt': 1611662400, 'sunrise': 1611646094, 'sunset': 1611679069, 'temp': {'day': 4.49, 'min': 1.88, 'max': 5.77, 'night': 4.02, 'eve': 4.23, 'morn': 2.27}, 'feels_like': {'day': 0.48, 'night': 0.22, 'eve': 0.2, 'morn': -2.31}, 'pressure': 1020, 'humidity': 76, 'dew_point': 0.74, 'wind_speed': 3.03, 'wind_deg': 237, 'weather': [{'id': 500, 'main': 'Rain', 'description': 'light rain', 'icon': '10d'}], 'clouds': 66, 'pop': 0.61, 'rain': 0.47, 'uvi': 0.79}, {'dt': 1611748800, 'sunrise': 1611732424, 'sunset': 1611765566, 'temp': {'day': 6.45, 'min': 3.32, 'max': 8.51, 'night': 8.42, 'eve': 7.86, 'morn': 3.64}, 'feels_like': {'day': 2.81, 'night': 5.08, 'eve': 4.78, 'morn': -0.56}, 'pressure': 1020, 'humidity': 83, 'dew_point': 3.92, 'wind_speed': 3.26, 'wind_deg': 217, 'weather': [{'id': 501, 'main': 'Rain', 'description': 'moderate rain', 'icon': '10d'}], 'clouds': 98, 'pop': 1, 'rain': 4.48, 'uvi': 0.55}, {'dt': 1611835200, 'sunrise': 1611818751, 'sunset': 1611852063, 'temp': {'day': 13.55, 'min': 10.58, 'max': 13.55, 'night': 11.11, 'eve': 11.57, 'morn': 11.66}, 'feels_like': {'day': 7.46, 'night': 5.84, 'eve': 6.81, 'morn': 7.02}, 'pressure': 1010, 'humidity': 64, 'dew_point': 7.01, 'wind_speed': 7.66, 'wind_deg': 262, 'weather': [{'id': 500, 'main': 'Rain', 'description': 'light rain', 'icon': '10d'}], 'clouds': 100, 'pop': 1, 'rain': 3.18, 'uvi': 0.67}, {'dt': 1611921600, 'sunrise': 1611905077, 'sunset': 1611938560, 'temp': {'day': 12.1, 'min': 10.85, 'max': 13.82, 'night': 11.69, 'eve': 10.85, 'morn': 13.82}, 'feels_like': {'day': 6.19, 'night': 8.6, 'eve': 7.5, 'morn': 8.32}, 'pressure': 1012, 'humidity': 60, 'dew_point': 4.67, 'wind_speed': 6.72, 'wind_deg': 269, 'weather': [{'id': 500, 'main': 'Rain', 'description': 'light rain', 'icon': '10d'}], 'clouds': 100, 'pop': 1, 'rain': 2.16, 'uvi': 1}, {'dt': 1612008000, 'sunrise': 1611991400, 'sunset': 1612025059, 'temp': {'day': 12.92, 'min': 9.01, 'max': 12.92, 'night': 9.01, 'eve': 10.74, 'morn': 11.27}, 'feels_like': {'day': 7.49, 'night': 5.4, 'eve': 6.57, 'morn': 6.97}, 'pressure': 999, 'humidity': 71, 'dew_point': 7.89, 'wind_speed': 7.02, 'wind_deg': 226, 'weather': [{'id': 500, 'main': 'Rain', 'description': 'light rain', 'icon': '10d'}], 'clouds': 98, 'pop': 0.3, 'rain': 0.53, 'uvi': 1}], 'alerts': [{'sender_name': 'METEO-FRANCE', 'event': 'Moderate snow-ice warning', 'start': 1611414000, 'end': 1611500400, 'description': 'Although rather usual in this region, locally or potentially dangerous phenomena are expected. (such as local winds, summer thunderstorms, rising streams or high waves)'}, {'sender_name': 'METEO-FRANCE', 'event': 'Moderate flooding warning', 'start': 1611414000, 'end': 1611500400, 'description': 'Although rather usual in this region, locally or potentially dangerous phenomena are expected. (such as local winds, summer thunderstorms, rising streams or high waves)'}]}\n",
      "making request: Amiens\n",
      "{'lat': 49.8942, 'lon': 2.2957, 'timezone': 'Europe/Paris', 'timezone_offset': 3600, 'daily': [{'dt': 1611403200, 'sunrise': 1611387322, 'sunset': 1611419380, 'temp': {'day': 2.96, 'min': 0.62, 'max': 3.93, 'night': 0.62, 'eve': 2.43, 'morn': 2.2}, 'feels_like': {'day': -1.2, 'night': -3.99, 'eve': -2.4, 'morn': -2.36}, 'pressure': 993, 'humidity': 92, 'dew_point': 1.87, 'wind_speed': 3.51, 'wind_deg': 94, 'weather': [{'id': 616, 'main': 'Snow', 'description': 'rain and snow', 'icon': '13d'}], 'clouds': 100, 'pop': 1, 'rain': 4.82, 'snow': 1.25, 'uvi': 0.26}, {'dt': 1611489600, 'sunrise': 1611473655, 'sunset': 1611505878, 'temp': {'day': 3.91, 'min': -0.4, 'max': 3.91, 'night': 1.66, 'eve': 2.7, 'morn': -0.23}, 'feels_like': {'day': -2.97, 'night': -2.95, 'eve': -2.53, 'morn': -4.35}, 'pressure': 998, 'humidity': 72, 'dew_point': -2.1, 'wind_speed': 6.86, 'wind_deg': 173, 'weather': [{'id': 616, 'main': 'Snow', 'description': 'rain and snow', 'icon': '13d'}], 'clouds': 69, 'pop': 1, 'rain': 1.97, 'snow': 2.13, 'uvi': 0.7}, {'dt': 1611576000, 'sunrise': 1611559986, 'sunset': 1611592377, 'temp': {'day': 4.4, 'min': 1.31, 'max': 4.45, 'night': 2.37, 'eve': 1.51, 'morn': 2.5}, 'feels_like': {'day': -1.58, 'night': -1.78, 'eve': -3.29, 'morn': -3.8}, 'pressure': 1009, 'humidity': 74, 'dew_point': 0.24, 'wind_speed': 5.74, 'wind_deg': 322, 'weather': [{'id': 616, 'main': 'Snow', 'description': 'rain and snow', 'icon': '13d'}], 'clouds': 35, 'pop': 0.97, 'rain': 4.6, 'snow': 0.57, 'uvi': 0.73}, {'dt': 1611662400, 'sunrise': 1611646314, 'sunset': 1611678876, 'temp': {'day': 4.75, 'min': 0.65, 'max': 4.75, 'night': 3.53, 'eve': 2.8, 'morn': 0.65}, 'feels_like': {'day': 0.59, 'night': -0.51, 'eve': -1.25, 'morn': -3.07}, 'pressure': 1019, 'humidity': 90, 'dew_point': 3.39, 'wind_speed': 3.86, 'wind_deg': 251, 'weather': [{'id': 500, 'main': 'Rain', 'description': 'light rain', 'icon': '10d'}], 'clouds': 89, 'pop': 0.97, 'rain': 0.23, 'uvi': 0.73}, {'dt': 1611748800, 'sunrise': 1611732640, 'sunset': 1611765376, 'temp': {'day': 7.31, 'min': 3.2, 'max': 8.6, 'night': 8.6, 'eve': 8.22, 'morn': 3.2}, 'feels_like': {'day': 3.12, 'night': 4.32, 'eve': 4.05, 'morn': -1.38}, 'pressure': 1018, 'humidity': 90, 'dew_point': 5.86, 'wind_speed': 4.61, 'wind_deg': 220, 'weather': [{'id': 500, 'main': 'Rain', 'description': 'light rain', 'icon': '10d'}], 'clouds': 100, 'pop': 1, 'rain': 2.51, 'uvi': 0.33}, {'dt': 1611835200, 'sunrise': 1611818964, 'sunset': 1611851877, 'temp': {'day': 12.54, 'min': 9.63, 'max': 12.54, 'night': 9.95, 'eve': 9.63, 'morn': 11.55}, 'feels_like': {'day': 3.37, 'night': 3.69, 'eve': 2.26, 'morn': 5.76}, 'pressure': 1007, 'humidity': 70, 'dew_point': 7.29, 'wind_speed': 12.17, 'wind_deg': 260, 'weather': [{'id': 500, 'main': 'Rain', 'description': 'light rain', 'icon': '10d'}], 'clouds': 94, 'pop': 1, 'rain': 4.19, 'uvi': 0.56}, {'dt': 1611921600, 'sunrise': 1611905285, 'sunset': 1611938379, 'temp': {'day': 10.99, 'min': 9.1, 'max': 12.62, 'night': 9.37, 'eve': 9.1, 'morn': 12.03}, 'feels_like': {'day': 2.34, 'night': 4.55, 'eve': 5.38, 'morn': 2.7}, 'pressure': 1009, 'humidity': 68, 'dew_point': 5.42, 'wind_speed': 10.84, 'wind_deg': 274, 'weather': [{'id': 500, 'main': 'Rain', 'description': 'light rain', 'icon': '10d'}], 'clouds': 82, 'pop': 1, 'rain': 3.09, 'uvi': 1}, {'dt': 1612008000, 'sunrise': 1611991605, 'sunset': 1612024881, 'temp': {'day': 11.04, 'min': 6.48, 'max': 12.11, 'night': 6.48, 'eve': 8.06, 'morn': 11.57}, 'feels_like': {'day': 5.07, 'night': 1.28, 'eve': 1.75, 'morn': 5.71}, 'pressure': 996, 'humidity': 85, 'dew_point': 8.65, 'wind_speed': 8.08, 'wind_deg': 243, 'weather': [{'id': 500, 'main': 'Rain', 'description': 'light rain', 'icon': '10d'}], 'clouds': 98, 'pop': 0.73, 'rain': 3.2, 'uvi': 1}], 'alerts': [{'sender_name': 'METEO-FRANCE', 'event': 'Moderate snow-ice warning', 'start': 1611414000, 'end': 1611500400, 'description': 'Although rather usual in this region, locally or potentially dangerous phenomena are expected. (such as local winds, summer thunderstorms, rising streams or high waves)'}]}\n",
      "making request: Lille\n",
      "{'lat': 50.6366, 'lon': 3.0635, 'timezone': 'Europe/Paris', 'timezone_offset': 3600, 'daily': [{'dt': 1611399600, 'sunrise': 1611387300, 'sunset': 1611419034, 'temp': {'day': 3.44, 'min': 1.28, 'max': 4.29, 'night': 1.28, 'eve': 2.39, 'morn': 2.55}, 'feels_like': {'day': -0.05, 'night': -3.78, 'eve': -1.35, 'morn': -2.21}, 'pressure': 995, 'humidity': 89, 'dew_point': 1.81, 'wind_speed': 2.55, 'wind_deg': 173, 'weather': [{'id': 501, 'main': 'Rain', 'description': 'moderate rain', 'icon': '10d'}], 'clouds': 100, 'pop': 0.9, 'rain': 4.68, 'uvi': 0.55}, {'dt': 1611486000, 'sunrise': 1611473630, 'sunset': 1611505534, 'temp': {'day': 3.13, 'min': -0.31, 'max': 4.18, 'night': 1.52, 'eve': 1.59, 'morn': 0.34}, 'feels_like': {'day': -2, 'night': -2.49, 'eve': -4.47, 'morn': -4.63}, 'pressure': 1000, 'humidity': 77, 'dew_point': -1.61, 'wind_speed': 4.39, 'wind_deg': 196, 'weather': [{'id': 616, 'main': 'Snow', 'description': 'rain and snow', 'icon': '13d'}], 'clouds': 60, 'pop': 1, 'rain': 1.2, 'snow': 2.35, 'uvi': 0.68}, {'dt': 1611572400, 'sunrise': 1611559958, 'sunset': 1611592036, 'temp': {'day': 3.64, 'min': 0.12, 'max': 4.85, 'night': 2.09, 'eve': 1.73, 'morn': 1.27}, 'feels_like': {'day': -0.69, 'night': -1.55, 'eve': -2.63, 'morn': -3.05}, 'pressure': 1007, 'humidity': 75, 'dew_point': -0.92, 'wind_speed': 3.27, 'wind_deg': 305, 'weather': [{'id': 601, 'main': 'Snow', 'description': 'snow', 'icon': '13d'}], 'clouds': 41, 'pop': 1, 'snow': 2.17, 'uvi': 0.65}, {'dt': 1611662400, 'sunrise': 1611646284, 'sunset': 1611678538, 'temp': {'day': 4.23, 'min': 0.7, 'max': 4.68, 'night': 2.66, 'eve': 2.51, 'morn': 0.7}, 'feels_like': {'day': 0.18, 'night': -1.7, 'eve': -1.07, 'morn': -3.74}, 'pressure': 1018, 'humidity': 79, 'dew_point': 1.05, 'wind_speed': 3.15, 'wind_deg': 252, 'weather': [{'id': 803, 'main': 'Clouds', 'description': 'broken clouds', 'icon': '04d'}], 'clouds': 69, 'pop': 0.8, 'uvi': 0.66}, {'dt': 1611748800, 'sunrise': 1611732607, 'sunset': 1611765041, 'temp': {'day': 5.78, 'min': 3.42, 'max': 8.17, 'night': 8.17, 'eve': 7.98, 'morn': 3.42}, 'feels_like': {'day': 1.13, 'night': 4.14, 'eve': 4.53, 'morn': -1.18}, 'pressure': 1017, 'humidity': 88, 'dew_point': 4.09, 'wind_speed': 4.75, 'wind_deg': 209, 'weather': [{'id': 500, 'main': 'Rain', 'description': 'light rain', 'icon': '10d'}], 'clouds': 100, 'pop': 1, 'rain': 3.8, 'uvi': 0.54}, {'dt': 1611835200, 'sunrise': 1611818928, 'sunset': 1611851544, 'temp': {'day': 11.75, 'min': 9.11, 'max': 11.82, 'night': 9.88, 'eve': 9.54, 'morn': 10.88}, 'feels_like': {'day': 3.1, 'night': 3.35, 'eve': 1.33, 'morn': 5.77}, 'pressure': 1003, 'humidity': 69, 'dew_point': 6.42, 'wind_speed': 11.12, 'wind_deg': 254, 'weather': [{'id': 501, 'main': 'Rain', 'description': 'moderate rain', 'icon': '10d'}], 'clouds': 100, 'pop': 1, 'rain': 6.3, 'uvi': 0.43}, {'dt': 1611921600, 'sunrise': 1611905247, 'sunset': 1611938049, 'temp': {'day': 10.43, 'min': 8.73, 'max': 11.26, 'night': 8.76, 'eve': 8.73, 'morn': 11.19}, 'feels_like': {'day': 1.52, 'night': 4.58, 'eve': 3.74, 'morn': 1.66}, 'pressure': 1006, 'humidity': 64, 'dew_point': 4, 'wind_speed': 10.82, 'wind_deg': 274, 'weather': [{'id': 500, 'main': 'Rain', 'description': 'light rain', 'icon': '10d'}], 'clouds': 54, 'pop': 1, 'rain': 2.07, 'uvi': 1}, {'dt': 1612008000, 'sunrise': 1611991564, 'sunset': 1612024553, 'temp': {'day': 10.54, 'min': 7.36, 'max': 12.36, 'night': 7.36, 'eve': 8.56, 'morn': 11.38}, 'feels_like': {'day': 3.96, 'night': 0.27, 'eve': 0.65, 'morn': 5.33}, 'pressure': 995, 'humidity': 83, 'dew_point': 7.89, 'wind_speed': 8.66, 'wind_deg': 236, 'weather': [{'id': 500, 'main': 'Rain', 'description': 'light rain', 'icon': '10d'}], 'clouds': 93, 'pop': 0.83, 'rain': 2.97, 'uvi': 1}], 'alerts': [{'sender_name': 'METEO-FRANCE', 'event': 'Moderate snow-ice warning', 'start': 1611414000, 'end': 1611500400, 'description': 'Although rather usual in this region, locally or potentially dangerous phenomena are expected. (such as local winds, summer thunderstorms, rising streams or high waves)'}, {'sender_name': 'METEO-FRANCE', 'event': 'Moderate flooding warning', 'start': 1611414000, 'end': 1611500400, 'description': 'Although rather usual in this region, locally or potentially dangerous phenomena are expected. (such as local winds, summer thunderstorms, rising streams or high waves)'}]}\n",
      "making request: Strasbourg\n",
      "{'lat': 48.5846, 'lon': 7.7507, 'timezone': 'Europe/Paris', 'timezone_offset': 3600, 'daily': [{'dt': 1611399600, 'sunrise': 1611385742, 'sunset': 1611418341, 'temp': {'day': 4.94, 'min': 2.25, 'max': 5.6, 'night': 3.66, 'eve': 4.23, 'morn': 2.3}, 'feels_like': {'day': 0.12, 'night': -0.34, 'eve': 0.54, 'morn': -2.41}, 'pressure': 999, 'humidity': 80, 'dew_point': 1.79, 'wind_speed': 4.44, 'wind_deg': 196, 'weather': [{'id': 500, 'main': 'Rain', 'description': 'light rain', 'icon': '10d'}], 'clouds': 100, 'pop': 1, 'rain': 5.17, 'uvi': 0.45}, {'dt': 1611486000, 'sunrise': 1611472079, 'sunset': 1611504835, 'temp': {'day': 3.07, 'min': 0.01, 'max': 4.08, 'night': 0.05, 'eve': 1.18, 'morn': 1.89}, 'feels_like': {'day': -2.56, 'night': -4.1, 'eve': -2.98, 'morn': -3.29}, 'pressure': 1004, 'humidity': 76, 'dew_point': -2.83, 'wind_speed': 5.05, 'wind_deg': 236, 'weather': [{'id': 616, 'main': 'Snow', 'description': 'rain and snow', 'icon': '13d'}], 'clouds': 60, 'pop': 1, 'rain': 0.38, 'snow': 0.75, 'uvi': 0.46}, {'dt': 1611572400, 'sunrise': 1611558414, 'sunset': 1611591329, 'temp': {'day': 2.44, 'min': -0.64, 'max': 2.82, 'night': -0.64, 'eve': 0.79, 'morn': 0.96}, 'feels_like': {'day': -1.98, 'night': -4.66, 'eve': -3.11, 'morn': -4.21}, 'pressure': 1004, 'humidity': 90, 'dew_point': 1.08, 'wind_speed': 3.68, 'wind_deg': 235, 'weather': [{'id': 601, 'main': 'Snow', 'description': 'snow', 'icon': '13d'}], 'clouds': 99, 'pop': 1, 'snow': 2.67, 'uvi': 0.29}, {'dt': 1611658800, 'sunrise': 1611644747, 'sunset': 1611677824, 'temp': {'day': 1.84, 'min': -0.99, 'max': 1.99, 'night': 0.76, 'eve': 0.43, 'morn': -0.23}, 'feels_like': {'day': -2.88, 'night': -3.72, 'eve': -3.47, 'morn': -5.86}, 'pressure': 1020, 'humidity': 86, 'dew_point': -0.64, 'wind_speed': 3.86, 'wind_deg': 231, 'weather': [{'id': 600, 'main': 'Snow', 'description': 'light snow', 'icon': '13d'}], 'clouds': 100, 'pop': 0.87, 'snow': 2.79, 'uvi': 0.48}, {'dt': 1611745200, 'sunrise': 1611731078, 'sunset': 1611764320, 'temp': {'day': 3.3, 'min': -0.06, 'max': 3.44, 'night': 3.14, 'eve': 2.8, 'morn': 0.02}, 'feels_like': {'day': -1.86, 'night': -2.16, 'eve': -1.95, 'morn': -5.05}, 'pressure': 1022, 'humidity': 78, 'dew_point': -0.02, 'wind_speed': 4.5, 'wind_deg': 201, 'weather': [{'id': 616, 'main': 'Snow', 'description': 'rain and snow', 'icon': '13d'}], 'clouds': 99, 'pop': 1, 'rain': 0.63, 'snow': 0.94, 'uvi': 0.36}, {'dt': 1611831600, 'sunrise': 1611817406, 'sunset': 1611850816, 'temp': {'day': 9.76, 'min': 3.9, 'max': 10.06, 'night': 8.33, 'eve': 9.13, 'morn': 5.9}, 'feels_like': {'day': 4.38, 'night': 2.75, 'eve': 3.83, 'morn': 0.23}, 'pressure': 1010, 'humidity': 85, 'dew_point': 7.38, 'wind_speed': 6.81, 'wind_deg': 208, 'weather': [{'id': 500, 'main': 'Rain', 'description': 'light rain', 'icon': '10d'}], 'clouds': 100, 'pop': 1, 'rain': 8.56, 'uvi': 0.29}, {'dt': 1611918000, 'sunrise': 1611903732, 'sunset': 1611937313, 'temp': {'day': 13.42, 'min': 8.56, 'max': 13.42, 'night': 8.57, 'eve': 8.56, 'morn': 9.43}, 'feels_like': {'day': 6.07, 'night': 4.3, 'eve': 4.81, 'morn': 2.45}, 'pressure': 1008, 'humidity': 63, 'dew_point': 6.63, 'wind_speed': 9.35, 'wind_deg': 268, 'weather': [{'id': 500, 'main': 'Rain', 'description': 'light rain', 'icon': '10d'}], 'clouds': 100, 'pop': 1, 'rain': 2.78, 'uvi': 1}, {'dt': 1612004400, 'sunrise': 1611990057, 'sunset': 1612023810, 'temp': {'day': 13.84, 'min': 8.78, 'max': 14.13, 'night': 10.73, 'eve': 11.53, 'morn': 10.05}, 'feels_like': {'day': 9.2, 'night': 8.07, 'eve': 8.63, 'morn': 6.24}, 'pressure': 1002, 'humidity': 66, 'dew_point': 7.78, 'wind_speed': 5.82, 'wind_deg': 203, 'weather': [{'id': 500, 'main': 'Rain', 'description': 'light rain', 'icon': '10d'}], 'clouds': 100, 'pop': 0.6, 'rain': 0.21, 'uvi': 1}], 'alerts': [{'sender_name': 'METEO-FRANCE', 'event': 'Moderate snow-ice warning', 'start': 1611414000, 'end': 1611500400, 'description': 'Although rather usual in this region, locally or potentially dangerous phenomena are expected. (such as local winds, summer thunderstorms, rising streams or high waves)'}, {'sender_name': 'METEO-FRANCE', 'event': 'Moderate flooding warning', 'start': 1611378000, 'end': 1611464400, 'description': 'Although rather usual in this region, locally or potentially dangerous phenomena are expected. (such as local winds, summer thunderstorms, rising streams or high waves)'}]}\n",
      "making request: Chateau du Haut Koenigsbourg\n",
      "{'lat': 48.2495, 'lon': 7.3455, 'timezone': 'Europe/Paris', 'timezone_offset': 3600, 'daily': [{'dt': 1611399600, 'sunrise': 1611385772, 'sunset': 1611418506, 'temp': {'day': 2.44, 'min': -0.84, 'max': 3.47, 'night': 0.53, 'eve': 0.28, 'morn': -0.34}, 'feels_like': {'day': -0.87, 'night': -2.98, 'eve': -4.32, 'morn': -3.54}, 'pressure': 999, 'humidity': 86, 'dew_point': 0.48, 'wind_speed': 1.97, 'wind_deg': 184, 'weather': [{'id': 501, 'main': 'Rain', 'description': 'moderate rain', 'icon': '10d'}], 'clouds': 99, 'pop': 1, 'rain': 6.15, 'uvi': 0.54}, {'dt': 1611486000, 'sunrise': 1611472111, 'sunset': 1611504998, 'temp': {'day': -0.34, 'min': -4.61, 'max': 0.48, 'night': -2.96, 'eve': -3.76, 'morn': -2.27}, 'feels_like': {'day': -4.75, 'night': -7.1, 'eve': -7.44, 'morn': -7.15}, 'pressure': 1005, 'humidity': 93, 'dew_point': -3.9, 'wind_speed': 3.2, 'wind_deg': 245, 'weather': [{'id': 616, 'main': 'Snow', 'description': 'rain and snow', 'icon': '13d'}], 'clouds': 31, 'pop': 1, 'rain': 0.78, 'snow': 0.48, 'uvi': 0.86}, {'dt': 1611572400, 'sunrise': 1611558447, 'sunset': 1611591492, 'temp': {'day': -0.72, 'min': -4.55, 'max': -0.4, 'night': -4.55, 'eve': -3.66, 'morn': -1.97}, 'feels_like': {'day': -5.54, 'night': -8.57, 'eve': -7.6, 'morn': -5.65}, 'pressure': 1005, 'humidity': 99, 'dew_point': -0.9, 'wind_speed': 3.87, 'wind_deg': 272, 'weather': [{'id': 601, 'main': 'Snow', 'description': 'snow', 'icon': '13d'}], 'clouds': 98, 'pop': 1, 'snow': 6.93, 'uvi': 0.44}, {'dt': 1611658800, 'sunrise': 1611644780, 'sunset': 1611677985, 'temp': {'day': -0.55, 'min': -4.78, 'max': -0.13, 'night': -2.92, 'eve': -2.46, 'morn': -4.06}, 'feels_like': {'day': -4.66, 'night': -6.47, 'eve': -6.17, 'morn': -8.49}, 'pressure': 1021, 'humidity': 97, 'dew_point': -2.21, 'wind_speed': 2.84, 'wind_deg': 255, 'weather': [{'id': 600, 'main': 'Snow', 'description': 'light snow', 'icon': '13d'}], 'clouds': 71, 'pop': 0.76, 'snow': 1.98, 'uvi': 0.51}, {'dt': 1611745200, 'sunrise': 1611731112, 'sunset': 1611764480, 'temp': {'day': 1.24, 'min': -3.5, 'max': 1.24, 'night': 0.73, 'eve': -0.07, 'morn': -2.78}, 'feels_like': {'day': -2.48, 'night': -3.55, 'eve': -3.47, 'morn': -6.75}, 'pressure': 1022, 'humidity': 90, 'dew_point': -0.3, 'wind_speed': 2.44, 'wind_deg': 199, 'weather': [{'id': 616, 'main': 'Snow', 'description': 'rain and snow', 'icon': '13d'}], 'clouds': 88, 'pop': 0.89, 'rain': 0.6, 'snow': 0.5, 'uvi': 0.98}, {'dt': 1611831600, 'sunrise': 1611817442, 'sunset': 1611850975, 'temp': {'day': 5.63, 'min': 1.4, 'max': 6.29, 'night': 5.03, 'eve': 5.32, 'morn': 2.86}, 'feels_like': {'day': 1.53, 'night': 0.51, 'eve': 1.03, 'morn': -1.04}, 'pressure': 1011, 'humidity': 100, 'dew_point': 5.87, 'wind_speed': 4.43, 'wind_deg': 226, 'weather': [{'id': 500, 'main': 'Rain', 'description': 'light rain', 'icon': '10d'}], 'clouds': 100, 'pop': 1, 'rain': 8.47, 'uvi': 0.22}, {'dt': 1611918000, 'sunrise': 1611903769, 'sunset': 1611937471, 'temp': {'day': 9.8, 'min': 4.51, 'max': 9.8, 'night': 4.75, 'eve': 4.51, 'morn': 5.34}, 'feels_like': {'day': 2.86, 'night': 1.54, 'eve': 0.83, 'morn': 1.34}, 'pressure': 1010, 'humidity': 82, 'dew_point': 6.95, 'wind_speed': 8.88, 'wind_deg': 270, 'weather': [{'id': 500, 'main': 'Rain', 'description': 'light rain', 'icon': '10d'}], 'clouds': 100, 'pop': 1, 'rain': 5.98, 'uvi': 1}, {'dt': 1612004400, 'sunrise': 1611990095, 'sunset': 1612023967, 'temp': {'day': 11.87, 'min': 5.87, 'max': 11.87, 'night': 6.82, 'eve': 7.68, 'morn': 6.21}, 'feels_like': {'day': 8.78, 'night': 5.27, 'eve': 4.99, 'morn': 3.28}, 'pressure': 1002, 'humidity': 77, 'dew_point': 8.04, 'wind_speed': 3.74, 'wind_deg': 197, 'weather': [{'id': 500, 'main': 'Rain', 'description': 'light rain', 'icon': '10d'}], 'clouds': 94, 'pop': 0.61, 'rain': 0.33, 'uvi': 1}], 'alerts': [{'sender_name': 'METEO-FRANCE', 'event': 'Moderate snow-ice warning', 'start': 1611414000, 'end': 1611500400, 'description': 'Although rather usual in this region, locally or potentially dangerous phenomena are expected. (such as local winds, summer thunderstorms, rising streams or high waves)'}, {'sender_name': 'METEO-FRANCE', 'event': 'Moderate flooding warning', 'start': 1611378000, 'end': 1611464400, 'description': 'Although rather usual in this region, locally or potentially dangerous phenomena are expected. (such as local winds, summer thunderstorms, rising streams or high waves)'}]}\n",
      "making request: Colmar\n",
      "{'lat': 48.0778, 'lon': 7.358, 'timezone': 'Europe/Paris', 'timezone_offset': 3600, 'daily': [{'dt': 1611399600, 'sunrise': 1611385735, 'sunset': 1611418537, 'temp': {'day': 5.42, 'min': 2.29, 'max': 5.68, 'night': 3.29, 'eve': 3.61, 'morn': 2.4}, 'feels_like': {'day': 1.34, 'night': -0.23, 'eve': -1.58, 'morn': -0.85}, 'pressure': 999, 'humidity': 74, 'dew_point': 1.31, 'wind_speed': 3.25, 'wind_deg': 189, 'weather': [{'id': 501, 'main': 'Rain', 'description': 'moderate rain', 'icon': '10d'}], 'clouds': 98, 'pop': 1, 'rain': 8.43, 'uvi': 0.54}, {'dt': 1611486000, 'sunrise': 1611472074, 'sunset': 1611505029, 'temp': {'day': 2.94, 'min': -1.15, 'max': 3.56, 'night': 0.07, 'eve': -0.62, 'morn': -0.08}, 'feels_like': {'day': -1.24, 'night': -4.24, 'eve': -4.13, 'morn': -4.1}, 'pressure': 1005, 'humidity': 76, 'dew_point': -3.04, 'wind_speed': 2.96, 'wind_deg': 225, 'weather': [{'id': 616, 'main': 'Snow', 'description': 'rain and snow', 'icon': '13d'}], 'clouds': 16, 'pop': 1, 'rain': 0.44, 'snow': 0.56, 'uvi': 0.86}, {'dt': 1611572400, 'sunrise': 1611558411, 'sunset': 1611591521, 'temp': {'day': 3.17, 'min': -1.44, 'max': 3.34, 'night': -1.44, 'eve': -0.43, 'morn': 0.73}, 'feels_like': {'day': -1.41, 'night': -4.94, 'eve': -3.86, 'morn': -3.6}, 'pressure': 1006, 'humidity': 78, 'dew_point': -0.63, 'wind_speed': 3.65, 'wind_deg': 260, 'weather': [{'id': 601, 'main': 'Snow', 'description': 'snow', 'icon': '13d'}], 'clouds': 87, 'pop': 1, 'snow': 4.9, 'uvi': 0.44}, {'dt': 1611658800, 'sunrise': 1611644745, 'sunset': 1611678015, 'temp': {'day': 2.78, 'min': -1.83, 'max': 3.29, 'night': 0.23, 'eve': 0.19, 'morn': -1.12}, 'feels_like': {'day': -1.66, 'night': -3.16, 'eve': -3.23, 'morn': -5.84}, 'pressure': 1021, 'humidity': 79, 'dew_point': -1.91, 'wind_speed': 3.41, 'wind_deg': 228, 'weather': [{'id': 600, 'main': 'Snow', 'description': 'light snow', 'icon': '13d'}], 'clouds': 51, 'pop': 0.7, 'snow': 0.26, 'uvi': 0.51}, {'dt': 1611745200, 'sunrise': 1611731077, 'sunset': 1611764509, 'temp': {'day': 4.07, 'min': -0.29, 'max': 4.07, 'night': 3.5, 'eve': 2.71, 'morn': 0.26}, 'feels_like': {'day': -0.57, 'night': -0.78, 'eve': -1.14, 'morn': -3.85}, 'pressure': 1023, 'humidity': 74, 'dew_point': -0.04, 'wind_speed': 3.76, 'wind_deg': 202, 'weather': [{'id': 616, 'main': 'Snow', 'description': 'rain and snow', 'icon': '13d'}], 'clouds': 87, 'pop': 0.8, 'rain': 0.44, 'snow': 0.3, 'uvi': 0.98}, {'dt': 1611831600, 'sunrise': 1611817407, 'sunset': 1611851003, 'temp': {'day': 8.94, 'min': 4.27, 'max': 9.03, 'night': 8.12, 'eve': 8.56, 'morn': 5.65}, 'feels_like': {'day': 4.79, 'night': 3.65, 'eve': 4.32, 'morn': 1.47}, 'pressure': 1012, 'humidity': 87, 'dew_point': 6.99, 'wind_speed': 4.89, 'wind_deg': 215, 'weather': [{'id': 500, 'main': 'Rain', 'description': 'light rain', 'icon': '10d'}], 'clouds': 100, 'pop': 1, 'rain': 7.23, 'uvi': 0.22}, {'dt': 1611918000, 'sunrise': 1611903736, 'sunset': 1611937498, 'temp': {'day': 12.77, 'min': 7.76, 'max': 12.77, 'night': 7.76, 'eve': 7.82, 'morn': 8.57}, 'feels_like': {'day': 7.23, 'night': 4.35, 'eve': 4.15, 'morn': 4.18}, 'pressure': 1010, 'humidity': 73, 'dew_point': 8.09, 'wind_speed': 7.27, 'wind_deg': 258, 'weather': [{'id': 500, 'main': 'Rain', 'description': 'light rain', 'icon': '10d'}], 'clouds': 100, 'pop': 1, 'rain': 5.84, 'uvi': 1}, {'dt': 1612004400, 'sunrise': 1611990062, 'sunset': 1612023994, 'temp': {'day': 14.44, 'min': 9.14, 'max': 14.44, 'night': 9.94, 'eve': 10.71, 'morn': 9.14}, 'feels_like': {'day': 10.82, 'night': 8.1, 'eve': 8.3, 'morn': 6.21}, 'pressure': 1003, 'humidity': 67, 'dew_point': 8.47, 'wind_speed': 4.64, 'wind_deg': 195, 'weather': [{'id': 500, 'main': 'Rain', 'description': 'light rain', 'icon': '10d'}], 'clouds': 93, 'pop': 0.67, 'rain': 0.19, 'uvi': 1}], 'alerts': [{'sender_name': 'METEO-FRANCE', 'event': 'Moderate snow-ice warning', 'start': 1611414000, 'end': 1611500400, 'description': 'Although rather usual in this region, locally or potentially dangerous phenomena are expected. (such as local winds, summer thunderstorms, rising streams or high waves)'}]}\n",
      "making request: Eguisheim\n",
      "{'lat': 48.0448, 'lon': 7.308, 'timezone': 'Europe/Paris', 'timezone_offset': 3600, 'daily': [{'dt': 1611399600, 'sunrise': 1611385741, 'sunset': 1611418555, 'temp': {'day': 5.57, 'min': 2.11, 'max': 5.65, 'night': 3.21, 'eve': 3.62, 'morn': 2.11}, 'feels_like': {'day': 1.6, 'night': -0.07, 'eve': -1.25, 'morn': -1.03}, 'pressure': 999, 'humidity': 73, 'dew_point': 1.2, 'wind_speed': 3.08, 'wind_deg': 191, 'weather': [{'id': 501, 'main': 'Rain', 'description': 'moderate rain', 'icon': '10d'}], 'clouds': 98, 'pop': 1, 'rain': 8.4, 'uvi': 0.54}, {'dt': 1611486000, 'sunrise': 1611472080, 'sunset': 1611505047, 'temp': {'day': 2.89, 'min': -1.25, 'max': 3.46, 'night': 0.04, 'eve': -0.87, 'morn': -0.41}, 'feels_like': {'day': -1.01, 'night': -4.04, 'eve': -4.28, 'morn': -4.31}, 'pressure': 1006, 'humidity': 76, 'dew_point': -3.16, 'wind_speed': 2.55, 'wind_deg': 228, 'weather': [{'id': 616, 'main': 'Snow', 'description': 'rain and snow', 'icon': '13d'}], 'clouds': 17, 'pop': 1, 'rain': 0.48, 'snow': 0.67, 'uvi': 0.86}, {'dt': 1611572400, 'sunrise': 1611558416, 'sunset': 1611591540, 'temp': {'day': 3.21, 'min': -1.65, 'max': 3.36, 'night': -1.65, 'eve': -0.69, 'morn': 0.46}, 'feels_like': {'day': -1.31, 'night': -5.27, 'eve': -4.05, 'morn': -3.56}, 'pressure': 1006, 'humidity': 78, 'dew_point': -0.85, 'wind_speed': 3.57, 'wind_deg': 260, 'weather': [{'id': 601, 'main': 'Snow', 'description': 'snow', 'icon': '13d'}], 'clouds': 79, 'pop': 1, 'snow': 5.47, 'uvi': 0.44}, {'dt': 1611658800, 'sunrise': 1611644751, 'sunset': 1611678033, 'temp': {'day': 2.77, 'min': -2.03, 'max': 3.32, 'night': 0.27, 'eve': 0.06, 'morn': -1.37}, 'feels_like': {'day': -1.43, 'night': -2.95, 'eve': -3.17, 'morn': -5.8}, 'pressure': 1021, 'humidity': 79, 'dew_point': -2.04, 'wind_speed': 3.06, 'wind_deg': 231, 'weather': [{'id': 600, 'main': 'Snow', 'description': 'light snow', 'icon': '13d'}], 'clouds': 45, 'pop': 0.69, 'snow': 0.24, 'uvi': 0.51}, {'dt': 1611745200, 'sunrise': 1611731083, 'sunset': 1611764527, 'temp': {'day': 4.1, 'min': -0.17, 'max': 4.1, 'night': 3.56, 'eve': 2.67, 'morn': 0.36}, 'feels_like': {'day': -0.12, 'night': -0.33, 'eve': -0.93, 'morn': -3.47}, 'pressure': 1023, 'humidity': 75, 'dew_point': 0.08, 'wind_speed': 3.21, 'wind_deg': 208, 'weather': [{'id': 616, 'main': 'Snow', 'description': 'rain and snow', 'icon': '13d'}], 'clouds': 85, 'pop': 0.77, 'rain': 0.43, 'snow': 0.15, 'uvi': 0.98}, {'dt': 1611831600, 'sunrise': 1611817413, 'sunset': 1611851021, 'temp': {'day': 8.89, 'min': 4.35, 'max': 8.89, 'night': 8.06, 'eve': 8.47, 'morn': 5.58}, 'feels_like': {'day': 5.03, 'night': 3.74, 'eve': 4.37, 'morn': 1.66}, 'pressure': 1012, 'humidity': 87, 'dew_point': 6.92, 'wind_speed': 4.46, 'wind_deg': 219, 'weather': [{'id': 500, 'main': 'Rain', 'description': 'light rain', 'icon': '10d'}], 'clouds': 100, 'pop': 1, 'rain': 7.59, 'uvi': 0.22}, {'dt': 1611918000, 'sunrise': 1611903742, 'sunset': 1611937516, 'temp': {'day': 12.77, 'min': 7.28, 'max': 12.77, 'night': 7.28, 'eve': 7.41, 'morn': 8.5}, 'feels_like': {'day': 6.51, 'night': 4.11, 'eve': 4.01, 'morn': 4.51}, 'pressure': 1011, 'humidity': 72, 'dew_point': 7.9, 'wind_speed': 8.23, 'wind_deg': 263, 'weather': [{'id': 500, 'main': 'Rain', 'description': 'light rain', 'icon': '10d'}], 'clouds': 100, 'pop': 1, 'rain': 6.51, 'uvi': 1}, {'dt': 1612004400, 'sunrise': 1611990068, 'sunset': 1612024012, 'temp': {'day': 14.55, 'min': 9.11, 'max': 14.55, 'night': 9.77, 'eve': 10.48, 'morn': 9.11}, 'feels_like': {'day': 11.12, 'night': 8.24, 'eve': 8.34, 'morn': 6.32}, 'pressure': 1003, 'humidity': 66, 'dew_point': 8.43, 'wind_speed': 4.33, 'wind_deg': 196, 'weather': [{'id': 500, 'main': 'Rain', 'description': 'light rain', 'icon': '10d'}], 'clouds': 94, 'pop': 0.69, 'rain': 0.23, 'uvi': 1}], 'alerts': [{'sender_name': 'METEO-FRANCE', 'event': 'Moderate snow-ice warning', 'start': 1611414000, 'end': 1611500400, 'description': 'Although rather usual in this region, locally or potentially dangerous phenomena are expected. (such as local winds, summer thunderstorms, rising streams or high waves)'}]}\n",
      "making request: Besancon\n",
      "{'lat': 47.238, 'lon': 6.0244, 'timezone': 'Europe/Paris', 'timezone_offset': 3600, 'daily': [{'dt': 1611399600, 'sunrise': 1611385893, 'sunset': 1611419020, 'temp': {'day': 5.69, 'min': 2.47, 'max': 6.14, 'night': 3.1, 'eve': 4.11, 'morn': 2.65}, 'feels_like': {'day': 0.91, 'night': -2.95, 'eve': -1.58, 'morn': -1.58}, 'pressure': 999, 'humidity': 74, 'dew_point': 1.6, 'wind_speed': 4.31, 'wind_deg': 202, 'weather': [{'id': 616, 'main': 'Snow', 'description': 'rain and snow', 'icon': '13d'}], 'clouds': 89, 'pop': 1, 'rain': 8.71, 'snow': 0.34, 'uvi': 0.73}, {'dt': 1611486000, 'sunrise': 1611472234, 'sunset': 1611505509, 'temp': {'day': 2.59, 'min': -1.55, 'max': 3.43, 'night': 1.46, 'eve': 0.44, 'morn': -0.42}, 'feels_like': {'day': -1.37, 'night': -5.06, 'eve': -2.89, 'morn': -3.93}, 'pressure': 1007, 'humidity': 81, 'dew_point': -1, 'wind_speed': 2.75, 'wind_deg': 228, 'weather': [{'id': 601, 'main': 'Snow', 'description': 'snow', 'icon': '13d'}], 'clouds': 2, 'pop': 1, 'snow': 1.98, 'uvi': 0.95}, {'dt': 1611572400, 'sunrise': 1611558573, 'sunset': 1611591999, 'temp': {'day': 0.91, 'min': -2.13, 'max': 1.61, 'night': -2.13, 'eve': 0.88, 'morn': 0.94}, 'feels_like': {'day': -5.24, 'night': -5.67, 'eve': -4.22, 'morn': -5.57}, 'pressure': 1008, 'humidity': 93, 'dew_point': 0.05, 'wind_speed': 5.93, 'wind_deg': 235, 'weather': [{'id': 601, 'main': 'Snow', 'description': 'snow', 'icon': '13d'}], 'clouds': 100, 'pop': 1, 'snow': 9.55, 'uvi': 0.46}, {'dt': 1611658800, 'sunrise': 1611644910, 'sunset': 1611678490, 'temp': {'day': 0.43, 'min': -2.99, 'max': 1.38, 'night': -1.95, 'eve': -1.07, 'morn': -1.7}, 'feels_like': {'day': -4.79, 'night': -5.28, 'eve': -4.75, 'morn': -6.39}, 'pressure': 1023, 'humidity': 96, 'dew_point': -0.43, 'wind_speed': 4.6, 'wind_deg': 223, 'weather': [{'id': 601, 'main': 'Snow', 'description': 'snow', 'icon': '13d'}], 'clouds': 100, 'pop': 0.95, 'snow': 4.14, 'uvi': 0.79}, {'dt': 1611745200, 'sunrise': 1611731245, 'sunset': 1611764981, 'temp': {'day': 3.45, 'min': -2.3, 'max': 4.38, 'night': 4.38, 'eve': 3.37, 'morn': -1.26}, 'feels_like': {'day': -0.72, 'night': 0.95, 'eve': -0.25, 'morn': -4.34}, 'pressure': 1023, 'humidity': 82, 'dew_point': 0.71, 'wind_speed': 3.27, 'wind_deg': 227, 'weather': [{'id': 804, 'main': 'Clouds', 'description': 'overcast clouds', 'icon': '04d'}], 'clouds': 96, 'pop': 0.04, 'uvi': 0.86}, {'dt': 1611831600, 'sunrise': 1611817578, 'sunset': 1611851473, 'temp': {'day': 9.27, 'min': 5.08, 'max': 10.11, 'night': 9.31, 'eve': 9.06, 'morn': 7}, 'feels_like': {'day': 3.65, 'night': 4.43, 'eve': 4.57, 'morn': 2.63}, 'pressure': 1015, 'humidity': 91, 'dew_point': 7.97, 'wind_speed': 7.32, 'wind_deg': 222, 'weather': [{'id': 501, 'main': 'Rain', 'description': 'moderate rain', 'icon': '10d'}], 'clouds': 100, 'pop': 1, 'rain': 10.92, 'uvi': 0.3}, {'dt': 1611918000, 'sunrise': 1611903909, 'sunset': 1611937965, 'temp': {'day': 10.64, 'min': 9.24, 'max': 11.36, 'night': 11.36, 'eve': 10.25, 'morn': 9.91}, 'feels_like': {'day': 5.23, 'night': 7.67, 'eve': 7.6, 'morn': 3.55}, 'pressure': 1014, 'humidity': 91, 'dew_point': 9.34, 'wind_speed': 7.5, 'wind_deg': 232, 'weather': [{'id': 501, 'main': 'Rain', 'description': 'moderate rain', 'icon': '10d'}], 'clouds': 100, 'pop': 1, 'rain': 11.29, 'uvi': 1}, {'dt': 1612004400, 'sunrise': 1611990238, 'sunset': 1612024458, 'temp': {'day': 15.73, 'min': 9.84, 'max': 15.73, 'night': 9.84, 'eve': 11.13, 'morn': 10.03}, 'feels_like': {'day': 12.08, 'night': 7.79, 'eve': 9.16, 'morn': 7.34}, 'pressure': 1004, 'humidity': 66, 'dew_point': 9.58, 'wind_speed': 5.05, 'wind_deg': 213, 'weather': [{'id': 500, 'main': 'Rain', 'description': 'light rain', 'icon': '10d'}], 'clouds': 85, 'pop': 1, 'rain': 1.25, 'uvi': 1}], 'alerts': [{'sender_name': 'METEO-FRANCE', 'event': 'Moderate snow-ice warning', 'start': 1611414000, 'end': 1611500400, 'description': 'Although rather usual in this region, locally or potentially dangerous phenomena are expected. (such as local winds, summer thunderstorms, rising streams or high waves)'}, {'sender_name': 'METEO-FRANCE', 'event': 'Moderate flooding warning', 'start': 1611414000, 'end': 1611500400, 'description': 'Although rather usual in this region, locally or potentially dangerous phenomena are expected. (such as local winds, summer thunderstorms, rising streams or high waves)'}]}\n",
      "making request: Dijon\n",
      "{'lat': 47.3216, 'lon': 5.0415, 'timezone': 'Europe/Paris', 'timezone_offset': 3600, 'daily': [{'dt': 1611399600, 'sunrise': 1611386144, 'sunset': 1611419240, 'temp': {'day': 3.41, 'min': 1.63, 'max': 5.33, 'night': 2.61, 'eve': 3.89, 'morn': 3.17}, 'feels_like': {'day': -3.88, 'night': -3.82, 'eve': -0.49, 'morn': -1.89}, 'pressure': 998, 'humidity': 91, 'dew_point': 2.22, 'wind_speed': 8.05, 'wind_deg': 192, 'weather': [{'id': 501, 'main': 'Rain', 'description': 'moderate rain', 'icon': '10d'}], 'clouds': 90, 'pop': 1, 'rain': 8.48, 'uvi': 0.4}, {'dt': 1611486000, 'sunrise': 1611472485, 'sunset': 1611505730, 'temp': {'day': 2.4, 'min': -1.59, 'max': 3.41, 'night': 2.3, 'eve': 0.86, 'morn': -1.09}, 'feels_like': {'day': -1.71, 'night': -3.11, 'eve': -5.53, 'morn': -4.73}, 'pressure': 1007, 'humidity': 81, 'dew_point': -1.73, 'wind_speed': 2.93, 'wind_deg': 218, 'weather': [{'id': 616, 'main': 'Snow', 'description': 'rain and snow', 'icon': '13d'}], 'clouds': 50, 'pop': 1, 'rain': 0.34, 'snow': 2.57, 'uvi': 0.92}, {'dt': 1611572400, 'sunrise': 1611558824, 'sunset': 1611592220, 'temp': {'day': 2.12, 'min': -1.9, 'max': 2.24, 'night': -1.77, 'eve': 0.86, 'morn': 1.03}, 'feels_like': {'day': -3.89, 'night': -5.83, 'eve': -5.13, 'morn': -4.54}, 'pressure': 1009, 'humidity': 85, 'dew_point': -0.49, 'wind_speed': 5.72, 'wind_deg': 275, 'weather': [{'id': 600, 'main': 'Snow', 'description': 'light snow', 'icon': '13d'}], 'clouds': 97, 'pop': 1, 'snow': 1.54, 'uvi': 0.73}, {'dt': 1611658800, 'sunrise': 1611645161, 'sunset': 1611678711, 'temp': {'day': 2.22, 'min': -2.17, 'max': 2.72, 'night': -0.07, 'eve': -0.23, 'morn': -1.73}, 'feels_like': {'day': -2.4, 'night': -3.51, 'eve': -3.76, 'morn': -6.24}, 'pressure': 1023, 'humidity': 84, 'dew_point': -0.47, 'wind_speed': 3.72, 'wind_deg': 249, 'weather': [{'id': 600, 'main': 'Snow', 'description': 'light snow', 'icon': '13d'}], 'clouds': 76, 'pop': 0.57, 'snow': 0.86, 'uvi': 1.02}, {'dt': 1611745200, 'sunrise': 1611731496, 'sunset': 1611765203, 'temp': {'day': 3.51, 'min': -1.31, 'max': 4.01, 'night': 3.32, 'eve': 3.35, 'morn': -1.31}, 'feels_like': {'day': -1.59, 'night': -1.01, 'eve': -0.73, 'morn': -4.93}, 'pressure': 1023, 'humidity': 85, 'dew_point': 1.3, 'wind_speed': 4.72, 'wind_deg': 202, 'weather': [{'id': 500, 'main': 'Rain', 'description': 'light rain', 'icon': '10d'}], 'clouds': 99, 'pop': 0.54, 'rain': 0.42, 'uvi': 0.8}, {'dt': 1611831600, 'sunrise': 1611817828, 'sunset': 1611851695, 'temp': {'day': 9.48, 'min': 4.54, 'max': 11.05, 'night': 8.37, 'eve': 8.47, 'morn': 6.02}, 'feels_like': {'day': 5, 'night': 4.22, 'eve': 4.7, 'morn': 0.8}, 'pressure': 1015, 'humidity': 91, 'dew_point': 8.17, 'wind_speed': 5.76, 'wind_deg': 221, 'weather': [{'id': 501, 'main': 'Rain', 'description': 'moderate rain', 'icon': '10d'}], 'clouds': 100, 'pop': 1, 'rain': 9.36, 'uvi': 0.34}, {'dt': 1611918000, 'sunrise': 1611904159, 'sunset': 1611938187, 'temp': {'day': 12.7, 'min': 8.72, 'max': 12.7, 'night': 11.19, 'eve': 10.22, 'morn': 9.97}, 'feels_like': {'day': 8.86, 'night': 7.73, 'eve': 8.28, 'morn': 4.42}, 'pressure': 1015, 'humidity': 84, 'dew_point': 10.24, 'wind_speed': 5.58, 'wind_deg': 255, 'weather': [{'id': 501, 'main': 'Rain', 'description': 'moderate rain', 'icon': '10d'}], 'clouds': 100, 'pop': 1, 'rain': 9.61, 'uvi': 1}, {'dt': 1612004400, 'sunrise': 1611990487, 'sunset': 1612024680, 'temp': {'day': 14.38, 'min': 8.84, 'max': 14.38, 'night': 8.9, 'eve': 10.29, 'morn': 8.84}, 'feels_like': {'day': 9.29, 'night': 6.51, 'eve': 6.49, 'morn': 4.72}, 'pressure': 1003, 'humidity': 68, 'dew_point': 8.76, 'wind_speed': 6.8, 'wind_deg': 213, 'weather': [{'id': 500, 'main': 'Rain', 'description': 'light rain', 'icon': '10d'}], 'clouds': 84, 'pop': 1, 'rain': 1.47, 'uvi': 1}], 'alerts': [{'sender_name': 'METEO-FRANCE', 'event': 'Moderate snow-ice warning', 'start': 1611414000, 'end': 1611500400, 'description': 'Although rather usual in this region, locally or potentially dangerous phenomena are expected. (such as local winds, summer thunderstorms, rising streams or high waves)'}]}\n",
      "making request: Annecy\n",
      "{'lat': 45.8992, 'lon': 6.1289, 'timezone': 'Europe/Paris', 'timezone_offset': 3600, 'daily': [{'dt': 1611399600, 'sunrise': 1611385620, 'sunset': 1611419242, 'temp': {'day': 3.46, 'min': -0.01, 'max': 4.45, 'night': 2.78, 'eve': 2.61, 'morn': 0.08}, 'feels_like': {'day': -0.16, 'night': -0.62, 'eve': -1.12, 'morn': -3.09}, 'pressure': 1001, 'humidity': 81, 'dew_point': 0.51, 'wind_speed': 2.45, 'wind_deg': 183, 'weather': [{'id': 616, 'main': 'Snow', 'description': 'rain and snow', 'icon': '13d'}], 'clouds': 53, 'pop': 1, 'rain': 4.28, 'snow': 10.37, 'uvi': 1.05}, {'dt': 1611486000, 'sunrise': 1611471965, 'sunset': 1611505728, 'temp': {'day': 2.12, 'min': -1.32, 'max': 2.53, 'night': -0.52, 'eve': -1.32, 'morn': 0.54}, 'feels_like': {'day': -0.03, 'night': -4.53, 'eve': -4.58, 'morn': -2.65}, 'pressure': 1005, 'humidity': 85, 'dew_point': -0.39, 'wind_speed': 0.2, 'wind_deg': 282, 'weather': [{'id': 601, 'main': 'Snow', 'description': 'snow', 'icon': '13d'}], 'clouds': 50, 'pop': 1, 'snow': 3.08, 'uvi': 1.07}, {'dt': 1611572400, 'sunrise': 1611558308, 'sunset': 1611592214, 'temp': {'day': 1.19, 'min': -2.72, 'max': 1.46, 'night': -2.7, 'eve': -2.45, 'morn': -0.4}, 'feels_like': {'day': -2.3, 'night': -5.59, 'eve': -5.56, 'morn': -4.06}, 'pressure': 1009, 'humidity': 89, 'dew_point': -1.54, 'wind_speed': 2.07, 'wind_deg': 220, 'weather': [{'id': 601, 'main': 'Snow', 'description': 'snow', 'icon': '13d'}], 'clouds': 98, 'pop': 1, 'snow': 10.9, 'uvi': 1.18}, {'dt': 1611658800, 'sunrise': 1611644649, 'sunset': 1611678701, 'temp': {'day': 0.78, 'min': -6.85, 'max': 1.5, 'night': -3.7, 'eve': -3.04, 'morn': -6.24}, 'feels_like': {'day': -1.64, 'night': -7.07, 'eve': -6.16, 'morn': -9.95}, 'pressure': 1023, 'humidity': 89, 'dew_point': -3.03, 'wind_speed': 0.45, 'wind_deg': 211, 'weather': [{'id': 802, 'main': 'Clouds', 'description': 'scattered clouds', 'icon': '03d'}], 'clouds': 32, 'pop': 0.74, 'uvi': 1.26}, {'dt': 1611745200, 'sunrise': 1611730988, 'sunset': 1611765188, 'temp': {'day': 3.51, 'min': -4.01, 'max': 3.9, 'night': 3.11, 'eve': 1.97, 'morn': -2.45}, 'feels_like': {'day': 1.25, 'night': 0.04, 'eve': -1.06, 'morn': -5.45}, 'pressure': 1023, 'humidity': 84, 'dew_point': 1.1, 'wind_speed': 0.62, 'wind_deg': 168, 'weather': [{'id': 804, 'main': 'Clouds', 'description': 'overcast clouds', 'icon': '04d'}], 'clouds': 99, 'pop': 0, 'uvi': 1.1}, {'dt': 1611831600, 'sunrise': 1611817325, 'sunset': 1611851676, 'temp': {'day': 5.36, 'min': 3.45, 'max': 6.39, 'night': 5.65, 'eve': 5.63, 'morn': 3.89}, 'feels_like': {'day': 2.35, 'night': 2.9, 'eve': 3.12, 'morn': 0.8}, 'pressure': 1019, 'humidity': 89, 'dew_point': 3.73, 'wind_speed': 2.33, 'wind_deg': 180, 'weather': [{'id': 501, 'main': 'Rain', 'description': 'moderate rain', 'icon': '10d'}], 'clouds': 100, 'pop': 1, 'rain': 17.41, 'uvi': 0.1}, {'dt': 1611918000, 'sunrise': 1611903660, 'sunset': 1611938164, 'temp': {'day': 5.94, 'min': 4.73, 'max': 7.05, 'night': 7.05, 'eve': 6.86, 'morn': 5.1}, 'feels_like': {'day': 3.04, 'night': 4.69, 'eve': 4.48, 'morn': 1.95}, 'pressure': 1017, 'humidity': 88, 'dew_point': 4.19, 'wind_speed': 2.29, 'wind_deg': 165, 'weather': [{'id': 501, 'main': 'Rain', 'description': 'moderate rain', 'icon': '10d'}], 'clouds': 100, 'pop': 1, 'rain': 24.24, 'uvi': 1}, {'dt': 1612004400, 'sunrise': 1611989993, 'sunset': 1612024652, 'temp': {'day': 11.67, 'min': 5.94, 'max': 11.67, 'night': 7.86, 'eve': 7.84, 'morn': 5.94}, 'feels_like': {'day': 9.88, 'night': 5.93, 'eve': 5.72, 'morn': 3.03}, 'pressure': 1008, 'humidity': 81, 'dew_point': 8.53, 'wind_speed': 2.08, 'wind_deg': 135, 'weather': [{'id': 803, 'main': 'Clouds', 'description': 'broken clouds', 'icon': '04d'}], 'clouds': 84, 'pop': 0.44, 'uvi': 1}], 'alerts': [{'sender_name': 'METEO-FRANCE', 'event': 'Moderate snow-ice warning', 'start': 1611414000, 'end': 1611500400, 'description': 'Although rather usual in this region, locally or potentially dangerous phenomena are expected. (such as local winds, summer thunderstorms, rising streams or high waves)'}, {'sender_name': 'METEO-FRANCE', 'event': 'Moderate avalanches warning', 'start': 1611401280, 'end': 1611464400, 'description': 'Although rather usual in this region, locally or potentially dangerous phenomena are expected. (such as local winds, summer thunderstorms, rising streams or high waves)'}, {'sender_name': 'METEO-FRANCE', 'event': 'Moderate wind warning', 'start': 1611414000, 'end': 1611500400, 'description': 'Although rather usual in this region, locally or potentially dangerous phenomena are expected. (such as local winds, summer thunderstorms, rising streams or high waves)'}]}\n",
      "making request: Grenoble\n",
      "{'lat': 45.1876, 'lon': 5.7358, 'timezone': 'Europe/Paris', 'timezone_offset': 3600, 'daily': [{'dt': 1611399600, 'sunrise': 1611385588, 'sunset': 1611419463, 'temp': {'day': 5.49, 'min': 0.91, 'max': 6.18, 'night': 4.09, 'eve': 4.92, 'morn': 1.46}, 'feels_like': {'day': 1.86, 'night': 1.57, 'eve': 1.28, 'morn': -1.23}, 'pressure': 1002, 'humidity': 74, 'dew_point': 1.27, 'wind_speed': 2.62, 'wind_deg': 147, 'weather': [{'id': 616, 'main': 'Snow', 'description': 'rain and snow', 'icon': '13d'}], 'clouds': 37, 'pop': 1, 'rain': 1.71, 'snow': 3.04, 'uvi': 0.93}, {'dt': 1611486000, 'sunrise': 1611471935, 'sunset': 1611505946, 'temp': {'day': 3.25, 'min': 0.59, 'max': 3.63, 'night': 1.73, 'eve': 0.59, 'morn': 2.9}, 'feels_like': {'day': -0.31, 'night': -2.86, 'eve': -2.93, 'morn': -0.67}, 'pressure': 1005, 'humidity': 78, 'dew_point': -0.56, 'wind_speed': 2.2, 'wind_deg': 337, 'weather': [{'id': 601, 'main': 'Snow', 'description': 'snow', 'icon': '13d'}], 'clouds': 91, 'pop': 1, 'snow': 3.17, 'uvi': 0.85}, {'dt': 1611572400, 'sunrise': 1611558280, 'sunset': 1611592430, 'temp': {'day': 2.88, 'min': -1.03, 'max': 3.38, 'night': -0.36, 'eve': -0.35, 'morn': 1.93}, 'feels_like': {'day': -0.13, 'night': -3.59, 'eve': -3.69, 'morn': -0.86}, 'pressure': 1009, 'humidity': 79, 'dew_point': -1.31, 'wind_speed': 1.38, 'wind_deg': 313, 'weather': [{'id': 601, 'main': 'Snow', 'description': 'snow', 'icon': '13d'}], 'clouds': 99, 'pop': 1, 'snow': 11.92, 'uvi': 1.09}, {'dt': 1611658800, 'sunrise': 1611644623, 'sunset': 1611678915, 'temp': {'day': 2.76, 'min': -5.65, 'max': 3.38, 'night': -2.04, 'eve': -1.31, 'morn': -4.62}, 'feels_like': {'day': -0.52, 'night': -4.98, 'eve': -4.54, 'morn': -8.52}, 'pressure': 1022, 'humidity': 78, 'dew_point': -2.78, 'wind_speed': 1.71, 'wind_deg': 1, 'weather': [{'id': 600, 'main': 'Snow', 'description': 'light snow', 'icon': '13d'}], 'clouds': 0, 'pop': 0.6, 'snow': 0.14, 'uvi': 1.34}, {'dt': 1611745200, 'sunrise': 1611730964, 'sunset': 1611765400, 'temp': {'day': 6.22, 'min': -3.32, 'max': 6.24, 'night': 5.23, 'eve': 3.98, 'morn': -2.15}, 'feels_like': {'day': 3.95, 'night': 2.25, 'eve': 1.07, 'morn': -5.15}, 'pressure': 1022, 'humidity': 75, 'dew_point': 2.18, 'wind_speed': 0.88, 'wind_deg': 6, 'weather': [{'id': 803, 'main': 'Clouds', 'description': 'broken clouds', 'icon': '04d'}], 'clouds': 81, 'pop': 0, 'uvi': 1.27}, {'dt': 1611831600, 'sunrise': 1611817303, 'sunset': 1611851886, 'temp': {'day': 8.1, 'min': 4.25, 'max': 8.1, 'night': 7.35, 'eve': 7.49, 'morn': 6.61}, 'feels_like': {'day': 5.91, 'night': 5.14, 'eve': 6.06, 'morn': 4.02}, 'pressure': 1020, 'humidity': 81, 'dew_point': 5.12, 'wind_speed': 1.53, 'wind_deg': 170, 'weather': [{'id': 501, 'main': 'Rain', 'description': 'moderate rain', 'icon': '10d'}], 'clouds': 100, 'pop': 1, 'rain': 15.94, 'uvi': 0.28}, {'dt': 1611918000, 'sunrise': 1611903640, 'sunset': 1611938372, 'temp': {'day': 8.4, 'min': 5.43, 'max': 8.57, 'night': 8.56, 'eve': 8.57, 'morn': 7.5}, 'feels_like': {'day': 5.88, 'night': 6.41, 'eve': 6.77, 'morn': 4.73}, 'pressure': 1018, 'humidity': 80, 'dew_point': 5.25, 'wind_speed': 2.03, 'wind_deg': 169, 'weather': [{'id': 500, 'main': 'Rain', 'description': 'light rain', 'icon': '10d'}], 'clouds': 100, 'pop': 0.71, 'rain': 4.76, 'uvi': 1}, {'dt': 1612004400, 'sunrise': 1611989976, 'sunset': 1612024859, 'temp': {'day': 15.3, 'min': 7.61, 'max': 15.3, 'night': 8.22, 'eve': 8.66, 'morn': 7.76}, 'feels_like': {'day': 14.21, 'night': 6.24, 'eve': 5.95, 'morn': 4.61}, 'pressure': 1009, 'humidity': 75, 'dew_point': 10.97, 'wind_speed': 1.97, 'wind_deg': 139, 'weather': [{'id': 803, 'main': 'Clouds', 'description': 'broken clouds', 'icon': '04d'}], 'clouds': 66, 'pop': 0.08, 'uvi': 1}], 'alerts': [{'sender_name': 'METEO-FRANCE', 'event': 'Moderate wind warning', 'start': 1611414000, 'end': 1611500400, 'description': 'Although rather usual in this region, locally or potentially dangerous phenomena are expected. (such as local winds, summer thunderstorms, rising streams or high waves)'}, {'sender_name': 'METEO-FRANCE', 'event': 'Moderate snow-ice warning', 'start': 1611414000, 'end': 1611500400, 'description': 'Although rather usual in this region, locally or potentially dangerous phenomena are expected. (such as local winds, summer thunderstorms, rising streams or high waves)'}, {'sender_name': 'METEO-FRANCE', 'event': 'Moderate avalanches warning', 'start': 1611401280, 'end': 1611464400, 'description': 'Although rather usual in this region, locally or potentially dangerous phenomena are expected. (such as local winds, summer thunderstorms, rising streams or high waves)'}]}\n",
      "making request: Lyon\n",
      "{'lat': 45.7578, 'lon': 4.832, 'timezone': 'Europe/Paris', 'timezone_offset': 3600, 'daily': [{'dt': 1611399600, 'sunrise': 1611385906, 'sunset': 1611419579, 'temp': {'day': 5.62, 'min': 3.38, 'max': 7.1, 'night': 4.45, 'eve': 6.06, 'morn': 3.56}, 'feels_like': {'day': -0.11, 'night': 2.03, 'eve': 1.14, 'morn': 0.4}, 'pressure': 1001, 'humidity': 75, 'dew_point': 1.69, 'wind_speed': 5.69, 'wind_deg': 169, 'weather': [{'id': 500, 'main': 'Rain', 'description': 'light rain', 'icon': '10d'}], 'clouds': 80, 'pop': 1, 'rain': 3.16, 'uvi': 0.57}, {'dt': 1611486000, 'sunrise': 1611472251, 'sunset': 1611506064, 'temp': {'day': 4.53, 'min': 0.78, 'max': 5.92, 'night': 3.55, 'eve': 3.64, 'morn': 1.93}, 'feels_like': {'day': 1.43, 'night': 0.23, 'eve': -1, 'morn': -2.32}, 'pressure': 1007, 'humidity': 67, 'dew_point': -4.11, 'wind_speed': 1.38, 'wind_deg': 325, 'weather': [{'id': 616, 'main': 'Snow', 'description': 'rain and snow', 'icon': '13d'}], 'clouds': 0, 'pop': 1, 'rain': 0.93, 'snow': 0.58, 'uvi': 1.13}, {'dt': 1611572400, 'sunrise': 1611558595, 'sunset': 1611592550, 'temp': {'day': 3.85, 'min': 0.64, 'max': 4.62, 'night': 0.64, 'eve': 2.55, 'morn': 1.71}, 'feels_like': {'day': -0.15, 'night': -2.92, 'eve': -1.63, 'morn': -2.51}, 'pressure': 1011, 'humidity': 73, 'dew_point': -1.77, 'wind_speed': 2.76, 'wind_deg': 293, 'weather': [{'id': 616, 'main': 'Snow', 'description': 'rain and snow', 'icon': '13d'}], 'clouds': 68, 'pop': 1, 'rain': 0.73, 'snow': 0.54, 'uvi': 0.96}, {'dt': 1611658800, 'sunrise': 1611644936, 'sunset': 1611679036, 'temp': {'day': 3.45, 'min': -0.69, 'max': 4.55, 'night': 2.2, 'eve': 2.64, 'morn': -0.59}, 'feels_like': {'day': 0.6, 'night': -0.42, 'eve': 0.07, 'morn': -2.94}, 'pressure': 1024, 'humidity': 73, 'dew_point': -3.5, 'wind_speed': 1.05, 'wind_deg': 132, 'weather': [{'id': 800, 'main': 'Clear', 'description': 'clear sky', 'icon': '01d'}], 'clouds': 3, 'pop': 0.14, 'uvi': 1.24}, {'dt': 1611745200, 'sunrise': 1611731276, 'sunset': 1611765523, 'temp': {'day': 3.71, 'min': 0.45, 'max': 5.63, 'night': 4.9, 'eve': 4.52, 'morn': 0.57}, 'feels_like': {'day': 0.98, 'night': 2.32, 'eve': 1.76, 'morn': -1.62}, 'pressure': 1023, 'humidity': 72, 'dew_point': -2.85, 'wind_speed': 0.89, 'wind_deg': 139, 'weather': [{'id': 804, 'main': 'Clouds', 'description': 'overcast clouds', 'icon': '04d'}], 'clouds': 99, 'pop': 0, 'uvi': 0.95}, {'dt': 1611831600, 'sunrise': 1611817613, 'sunset': 1611852010, 'temp': {'day': 11.6, 'min': 5.2, 'max': 11.66, 'night': 8.66, 'eve': 9.02, 'morn': 5.2}, 'feels_like': {'day': 8.68, 'night': 6.19, 'eve': 6.52, 'morn': 2.73}, 'pressure': 1019, 'humidity': 79, 'dew_point': 8.18, 'wind_speed': 3.54, 'wind_deg': 208, 'weather': [{'id': 500, 'main': 'Rain', 'description': 'light rain', 'icon': '10d'}], 'clouds': 100, 'pop': 0.97, 'rain': 2.68, 'uvi': 0.59}, {'dt': 1611918000, 'sunrise': 1611903948, 'sunset': 1611938498, 'temp': {'day': 13.49, 'min': 7.77, 'max': 13.49, 'night': 10.31, 'eve': 11.44, 'morn': 8.85}, 'feels_like': {'day': 11.31, 'night': 8.59, 'eve': 10.04, 'morn': 5.59}, 'pressure': 1018, 'humidity': 74, 'dew_point': 8.97, 'wind_speed': 2.79, 'wind_deg': 218, 'weather': [{'id': 500, 'main': 'Rain', 'description': 'light rain', 'icon': '10d'}], 'clouds': 100, 'pop': 0.57, 'rain': 0.36, 'uvi': 1}, {'dt': 1612004400, 'sunrise': 1611990282, 'sunset': 1612024986, 'temp': {'day': 15.61, 'min': 8.16, 'max': 16.72, 'night': 11.17, 'eve': 12.63, 'morn': 8.16}, 'feels_like': {'day': 11.97, 'night': 9.53, 'eve': 11.61, 'morn': 5.67}, 'pressure': 1007, 'humidity': 61, 'dew_point': 8.26, 'wind_speed': 4.58, 'wind_deg': 177, 'weather': [{'id': 802, 'main': 'Clouds', 'description': 'scattered clouds', 'icon': '03d'}], 'clouds': 35, 'pop': 0.34, 'uvi': 1}], 'alerts': [{'sender_name': 'METEO-FRANCE', 'event': 'Moderate wind warning', 'start': 1611414000, 'end': 1611500400, 'description': 'Although rather usual in this region, locally or potentially dangerous phenomena are expected. (such as local winds, summer thunderstorms, rising streams or high waves)'}, {'sender_name': 'METEO-FRANCE', 'event': 'Moderate flooding warning', 'start': 1611414000, 'end': 1611500400, 'description': 'Although rather usual in this region, locally or potentially dangerous phenomena are expected. (such as local winds, summer thunderstorms, rising streams or high waves)'}]}\n",
      "making request: Gorges du Verdon\n"
     ]
    },
    {
     "ename": "IndexError",
     "evalue": "list index out of range",
     "output_type": "error",
     "traceback": [
      "\u001b[0;31m---------------------------------------------------------------------------\u001b[0m",
      "\u001b[0;31mIndexError\u001b[0m                                Traceback (most recent call last)",
      "\u001b[0;32m<ipython-input-11-140bcdb9693d>\u001b[0m in \u001b[0;36m<module>\u001b[0;34m\u001b[0m\n\u001b[1;32m     16\u001b[0m     \u001b[0mdf\u001b[0m\u001b[0;34m.\u001b[0m\u001b[0mloc\u001b[0m\u001b[0;34m[\u001b[0m\u001b[0mi\u001b[0m\u001b[0;34m,\u001b[0m\u001b[0;34m'city_id'\u001b[0m\u001b[0;34m]\u001b[0m \u001b[0;34m=\u001b[0m \u001b[0mi\u001b[0m\u001b[0;34m\u001b[0m\u001b[0;34m\u001b[0m\u001b[0m\n\u001b[1;32m     17\u001b[0m     \u001b[0mdf\u001b[0m\u001b[0;34m.\u001b[0m\u001b[0mloc\u001b[0m\u001b[0;34m[\u001b[0m\u001b[0mi\u001b[0m\u001b[0;34m,\u001b[0m\u001b[0;34m'name'\u001b[0m\u001b[0;34m]\u001b[0m \u001b[0;34m=\u001b[0m \u001b[0mcity_names\u001b[0m\u001b[0;34m[\u001b[0m\u001b[0mi\u001b[0m\u001b[0;34m]\u001b[0m\u001b[0;34m\u001b[0m\u001b[0;34m\u001b[0m\u001b[0m\n\u001b[0;32m---> 18\u001b[0;31m     \u001b[0mdf\u001b[0m\u001b[0;34m.\u001b[0m\u001b[0mloc\u001b[0m\u001b[0;34m[\u001b[0m\u001b[0mi\u001b[0m\u001b[0;34m,\u001b[0m \u001b[0;34m'latitude'\u001b[0m\u001b[0;34m]\u001b[0m \u001b[0;34m=\u001b[0m \u001b[0mres\u001b[0m\u001b[0;34m[\u001b[0m\u001b[0;36m0\u001b[0m\u001b[0;34m]\u001b[0m\u001b[0;34m[\u001b[0m\u001b[0;34m'lat'\u001b[0m\u001b[0;34m]\u001b[0m\u001b[0;34m\u001b[0m\u001b[0;34m\u001b[0m\u001b[0m\n\u001b[0m\u001b[1;32m     19\u001b[0m     \u001b[0mdf\u001b[0m\u001b[0;34m.\u001b[0m\u001b[0mloc\u001b[0m\u001b[0;34m[\u001b[0m\u001b[0mi\u001b[0m\u001b[0;34m,\u001b[0m \u001b[0;34m'longitude'\u001b[0m\u001b[0;34m]\u001b[0m \u001b[0;34m=\u001b[0m \u001b[0mres\u001b[0m\u001b[0;34m[\u001b[0m\u001b[0;36m0\u001b[0m\u001b[0;34m]\u001b[0m\u001b[0;34m[\u001b[0m\u001b[0;34m'lon'\u001b[0m\u001b[0;34m]\u001b[0m\u001b[0;34m\u001b[0m\u001b[0;34m\u001b[0m\u001b[0m\n\u001b[1;32m     20\u001b[0m \u001b[0;34m\u001b[0m\u001b[0m\n",
      "\u001b[0;31mIndexError\u001b[0m: list index out of range"
     ]
    }
   ],
   "source": [
    "for i in range(len(city_names)):\n",
    "    print(\"making request: {}\".format(city_names[i]))\n",
    "    \n",
    "#get latitude and longitude of cities    \n",
    "    \n",
    "    par = {\n",
    "        \"city\": city_names[i],\n",
    "        \"country\": \"France\",\n",
    "        \"format\": \"json\"\n",
    "          }\n",
    "    \n",
    "    r = requests.get('https://nominatim.openstreetmap.org/search', params=par)\n",
    "    res = r.json()\n",
    "    \n",
    "#fix lat and lon\n",
    "    df.loc[i,'city_id'] = i\n",
    "    df.loc[i,'name'] = city_names[i]\n",
    "    df.loc[i, 'latitude'] = res[0]['lat']\n",
    "    df.loc[i, 'longitude'] = res[0]['lon']\n",
    "    \n",
    "#get weather\n",
    "    par = {\n",
    "        \"lat\": df.loc[i, 'latitude'],\n",
    "        \"lon\": df.loc[i, 'longitude'],\n",
    "        \"exclude\": \"current,minutely,hourly\",\n",
    "        \"units\": \"metric\",\n",
    "        \"appid\": api_key,\n",
    "           }\n",
    "    \n",
    "    r = requests.get('https://api.openweathermap.org/data/2.5/onecall', params=par)\n",
    "    res = r.json()\n",
    "    \n",
    "    # Compute expected volume of rain\n",
    "    expected_rain = 0\n",
    "    print(res) \n",
    "    \n",
    "    for d in res['daily']:\n",
    "        if 'rain' in d.keys():\n",
    "            expected_rain += d['pop']*d['rain']\n",
    "            \n",
    "    # Compute average day temperature\n",
    "    temperatures = pd.Series([d['temp']['day'] for d in res['daily']])\n",
    "    mean_temperature = temperatures.mean()\n",
    "\n",
    "    # Extract most probable weather\n",
    "    weathers = pd.Series([d['weather'][0]['main'] for d in res['daily']])\n",
    "    main_weather = weathers.mode()[0]\n",
    "    \n",
    "    df.loc[i, 'main_weather'] = main_weather\n",
    "    df.loc[i,'expected_rain'] = expected_rain\n",
    "    df.loc[i,'day_temperature'] = mean_temperature\n"
   ]
  },
  {
   "cell_type": "code",
   "execution_count": 12,
   "metadata": {},
   "outputs": [
    {
     "data": {
      "text/html": [
       "<div>\n",
       "<style scoped>\n",
       "    .dataframe tbody tr th:only-of-type {\n",
       "        vertical-align: middle;\n",
       "    }\n",
       "\n",
       "    .dataframe tbody tr th {\n",
       "        vertical-align: top;\n",
       "    }\n",
       "\n",
       "    .dataframe thead th {\n",
       "        text-align: right;\n",
       "    }\n",
       "</style>\n",
       "<table border=\"1\" class=\"dataframe\">\n",
       "  <thead>\n",
       "    <tr style=\"text-align: right;\">\n",
       "      <th></th>\n",
       "      <th>city_id</th>\n",
       "      <th>name</th>\n",
       "      <th>latitude</th>\n",
       "      <th>longitude</th>\n",
       "      <th>main_weather</th>\n",
       "      <th>expected_rain</th>\n",
       "      <th>day_temperature</th>\n",
       "    </tr>\n",
       "  </thead>\n",
       "  <tbody>\n",
       "    <tr>\n",
       "      <th>0</th>\n",
       "      <td>0</td>\n",
       "      <td>Mont Saint Michel</td>\n",
       "      <td>48.6358559</td>\n",
       "      <td>-1.5126096</td>\n",
       "      <td>Rain</td>\n",
       "      <td>35.0379</td>\n",
       "      <td>8.52125</td>\n",
       "    </tr>\n",
       "    <tr>\n",
       "      <th>1</th>\n",
       "      <td>1</td>\n",
       "      <td>St Malo</td>\n",
       "      <td>48.6454528</td>\n",
       "      <td>-2.015418</td>\n",
       "      <td>Rain</td>\n",
       "      <td>32.6883</td>\n",
       "      <td>8.8525</td>\n",
       "    </tr>\n",
       "    <tr>\n",
       "      <th>2</th>\n",
       "      <td>2</td>\n",
       "      <td>Bayeux</td>\n",
       "      <td>49.2764624</td>\n",
       "      <td>-0.7024738</td>\n",
       "      <td>Rain</td>\n",
       "      <td>20.0091</td>\n",
       "      <td>7.89875</td>\n",
       "    </tr>\n",
       "    <tr>\n",
       "      <th>3</th>\n",
       "      <td>3</td>\n",
       "      <td>Le Havre</td>\n",
       "      <td>49.4938975</td>\n",
       "      <td>0.1079732</td>\n",
       "      <td>Rain</td>\n",
       "      <td>27.8346</td>\n",
       "      <td>7.785</td>\n",
       "    </tr>\n",
       "    <tr>\n",
       "      <th>4</th>\n",
       "      <td>4</td>\n",
       "      <td>Rouen</td>\n",
       "      <td>49.4404591</td>\n",
       "      <td>1.0939658</td>\n",
       "      <td>Rain</td>\n",
       "      <td>19.4916</td>\n",
       "      <td>7.52</td>\n",
       "    </tr>\n",
       "    <tr>\n",
       "      <th>5</th>\n",
       "      <td>5</td>\n",
       "      <td>Paris</td>\n",
       "      <td>48.8566969</td>\n",
       "      <td>2.3514616</td>\n",
       "      <td>Rain</td>\n",
       "      <td>16.6957</td>\n",
       "      <td>8.21875</td>\n",
       "    </tr>\n",
       "    <tr>\n",
       "      <th>6</th>\n",
       "      <td>6</td>\n",
       "      <td>Amiens</td>\n",
       "      <td>49.8941708</td>\n",
       "      <td>2.2956951</td>\n",
       "      <td>Rain</td>\n",
       "      <td>23.6011</td>\n",
       "      <td>7.2375</td>\n",
       "    </tr>\n",
       "    <tr>\n",
       "      <th>7</th>\n",
       "      <td>7</td>\n",
       "      <td>Lille</td>\n",
       "      <td>50.6365654</td>\n",
       "      <td>3.0635282</td>\n",
       "      <td>Rain</td>\n",
       "      <td>20.0471</td>\n",
       "      <td>6.6175</td>\n",
       "    </tr>\n",
       "    <tr>\n",
       "      <th>8</th>\n",
       "      <td>8</td>\n",
       "      <td>Strasbourg</td>\n",
       "      <td>48.584614</td>\n",
       "      <td>7.7507127</td>\n",
       "      <td>Rain</td>\n",
       "      <td>17.646</td>\n",
       "      <td>6.57625</td>\n",
       "    </tr>\n",
       "    <tr>\n",
       "      <th>9</th>\n",
       "      <td>9</td>\n",
       "      <td>Chateau du Haut Koenigsbourg</td>\n",
       "      <td>48.2495226</td>\n",
       "      <td>7.3454923</td>\n",
       "      <td>Rain</td>\n",
       "      <td>22.1153</td>\n",
       "      <td>3.67125</td>\n",
       "    </tr>\n",
       "    <tr>\n",
       "      <th>10</th>\n",
       "      <td>10</td>\n",
       "      <td>Colmar</td>\n",
       "      <td>48.0777517</td>\n",
       "      <td>7.3579641</td>\n",
       "      <td>Rain</td>\n",
       "      <td>22.4193</td>\n",
       "      <td>6.81625</td>\n",
       "    </tr>\n",
       "    <tr>\n",
       "      <th>11</th>\n",
       "      <td>11</td>\n",
       "      <td>Eguisheim</td>\n",
       "      <td>48.0447968</td>\n",
       "      <td>7.3079618</td>\n",
       "      <td>Rain</td>\n",
       "      <td>23.4698</td>\n",
       "      <td>6.84375</td>\n",
       "    </tr>\n",
       "    <tr>\n",
       "      <th>12</th>\n",
       "      <td>12</td>\n",
       "      <td>Besancon</td>\n",
       "      <td>47.2380222</td>\n",
       "      <td>6.0243622</td>\n",
       "      <td>Snow</td>\n",
       "      <td>32.17</td>\n",
       "      <td>6.08875</td>\n",
       "    </tr>\n",
       "    <tr>\n",
       "      <th>13</th>\n",
       "      <td>13</td>\n",
       "      <td>Dijon</td>\n",
       "      <td>47.3215806</td>\n",
       "      <td>5.0414701</td>\n",
       "      <td>Rain</td>\n",
       "      <td>29.4868</td>\n",
       "      <td>6.2775</td>\n",
       "    </tr>\n",
       "    <tr>\n",
       "      <th>14</th>\n",
       "      <td>14</td>\n",
       "      <td>Annecy</td>\n",
       "      <td>45.8992348</td>\n",
       "      <td>6.1288847</td>\n",
       "      <td>Clouds</td>\n",
       "      <td>45.93</td>\n",
       "      <td>4.25375</td>\n",
       "    </tr>\n",
       "    <tr>\n",
       "      <th>15</th>\n",
       "      <td>15</td>\n",
       "      <td>Grenoble</td>\n",
       "      <td>45.1875602</td>\n",
       "      <td>5.7357819</td>\n",
       "      <td>Snow</td>\n",
       "      <td>21.0296</td>\n",
       "      <td>6.55</td>\n",
       "    </tr>\n",
       "    <tr>\n",
       "      <th>16</th>\n",
       "      <td>16</td>\n",
       "      <td>Lyon</td>\n",
       "      <td>45.7578137</td>\n",
       "      <td>4.8320114</td>\n",
       "      <td>Rain</td>\n",
       "      <td>7.6248</td>\n",
       "      <td>7.7325</td>\n",
       "    </tr>\n",
       "    <tr>\n",
       "      <th>17</th>\n",
       "      <td>17</td>\n",
       "      <td>Gorges du Verdon</td>\n",
       "      <td>NaN</td>\n",
       "      <td>NaN</td>\n",
       "      <td>NaN</td>\n",
       "      <td>NaN</td>\n",
       "      <td>NaN</td>\n",
       "    </tr>\n",
       "  </tbody>\n",
       "</table>\n",
       "</div>"
      ],
      "text/plain": [
       "   city_id                          name    latitude   longitude main_weather  \\\n",
       "0        0             Mont Saint Michel  48.6358559  -1.5126096         Rain   \n",
       "1        1                       St Malo  48.6454528   -2.015418         Rain   \n",
       "2        2                        Bayeux  49.2764624  -0.7024738         Rain   \n",
       "3        3                      Le Havre  49.4938975   0.1079732         Rain   \n",
       "4        4                         Rouen  49.4404591   1.0939658         Rain   \n",
       "5        5                         Paris  48.8566969   2.3514616         Rain   \n",
       "6        6                        Amiens  49.8941708   2.2956951         Rain   \n",
       "7        7                         Lille  50.6365654   3.0635282         Rain   \n",
       "8        8                    Strasbourg   48.584614   7.7507127         Rain   \n",
       "9        9  Chateau du Haut Koenigsbourg  48.2495226   7.3454923         Rain   \n",
       "10      10                        Colmar  48.0777517   7.3579641         Rain   \n",
       "11      11                     Eguisheim  48.0447968   7.3079618         Rain   \n",
       "12      12                      Besancon  47.2380222   6.0243622         Snow   \n",
       "13      13                         Dijon  47.3215806   5.0414701         Rain   \n",
       "14      14                        Annecy  45.8992348   6.1288847       Clouds   \n",
       "15      15                      Grenoble  45.1875602   5.7357819         Snow   \n",
       "16      16                          Lyon  45.7578137   4.8320114         Rain   \n",
       "17      17              Gorges du Verdon         NaN         NaN          NaN   \n",
       "\n",
       "   expected_rain day_temperature  \n",
       "0        35.0379         8.52125  \n",
       "1        32.6883          8.8525  \n",
       "2        20.0091         7.89875  \n",
       "3        27.8346           7.785  \n",
       "4        19.4916            7.52  \n",
       "5        16.6957         8.21875  \n",
       "6        23.6011          7.2375  \n",
       "7        20.0471          6.6175  \n",
       "8         17.646         6.57625  \n",
       "9        22.1153         3.67125  \n",
       "10       22.4193         6.81625  \n",
       "11       23.4698         6.84375  \n",
       "12         32.17         6.08875  \n",
       "13       29.4868          6.2775  \n",
       "14         45.93         4.25375  \n",
       "15       21.0296            6.55  \n",
       "16        7.6248          7.7325  \n",
       "17           NaN             NaN  "
      ]
     },
     "execution_count": 12,
     "metadata": {},
     "output_type": "execute_result"
    }
   ],
   "source": [
    "df"
   ]
  },
  {
   "cell_type": "code",
   "execution_count": 20,
   "metadata": {},
   "outputs": [
    {
     "data": {
      "text/html": [
       "<div>\n",
       "<style scoped>\n",
       "    .dataframe tbody tr th:only-of-type {\n",
       "        vertical-align: middle;\n",
       "    }\n",
       "\n",
       "    .dataframe tbody tr th {\n",
       "        vertical-align: top;\n",
       "    }\n",
       "\n",
       "    .dataframe thead th {\n",
       "        text-align: right;\n",
       "    }\n",
       "</style>\n",
       "<table border=\"1\" class=\"dataframe\">\n",
       "  <thead>\n",
       "    <tr style=\"text-align: right;\">\n",
       "      <th></th>\n",
       "      <th>city_id</th>\n",
       "      <th>name</th>\n",
       "      <th>latitude</th>\n",
       "      <th>longitude</th>\n",
       "      <th>main_weather</th>\n",
       "      <th>expected_rain</th>\n",
       "      <th>day_temperature</th>\n",
       "      <th>rank</th>\n",
       "      <th>inverted_rank</th>\n",
       "    </tr>\n",
       "  </thead>\n",
       "  <tbody>\n",
       "    <tr>\n",
       "      <th>0</th>\n",
       "      <td>17</td>\n",
       "      <td>Gorges du Verdon</td>\n",
       "      <td>0.000000</td>\n",
       "      <td>0.000000</td>\n",
       "      <td>0</td>\n",
       "      <td>0.0000</td>\n",
       "      <td>0.00000</td>\n",
       "      <td>1.0</td>\n",
       "      <td>18.0</td>\n",
       "    </tr>\n",
       "    <tr>\n",
       "      <th>1</th>\n",
       "      <td>16</td>\n",
       "      <td>Lyon</td>\n",
       "      <td>45.757814</td>\n",
       "      <td>4.832011</td>\n",
       "      <td>Rain</td>\n",
       "      <td>7.6248</td>\n",
       "      <td>7.73250</td>\n",
       "      <td>2.0</td>\n",
       "      <td>17.0</td>\n",
       "    </tr>\n",
       "    <tr>\n",
       "      <th>2</th>\n",
       "      <td>5</td>\n",
       "      <td>Paris</td>\n",
       "      <td>48.856697</td>\n",
       "      <td>2.351462</td>\n",
       "      <td>Rain</td>\n",
       "      <td>16.6957</td>\n",
       "      <td>8.21875</td>\n",
       "      <td>3.0</td>\n",
       "      <td>16.0</td>\n",
       "    </tr>\n",
       "    <tr>\n",
       "      <th>3</th>\n",
       "      <td>8</td>\n",
       "      <td>Strasbourg</td>\n",
       "      <td>48.584614</td>\n",
       "      <td>7.750713</td>\n",
       "      <td>Rain</td>\n",
       "      <td>17.6460</td>\n",
       "      <td>6.57625</td>\n",
       "      <td>4.0</td>\n",
       "      <td>15.0</td>\n",
       "    </tr>\n",
       "    <tr>\n",
       "      <th>4</th>\n",
       "      <td>4</td>\n",
       "      <td>Rouen</td>\n",
       "      <td>49.440459</td>\n",
       "      <td>1.093966</td>\n",
       "      <td>Rain</td>\n",
       "      <td>19.4916</td>\n",
       "      <td>7.52000</td>\n",
       "      <td>5.0</td>\n",
       "      <td>14.0</td>\n",
       "    </tr>\n",
       "    <tr>\n",
       "      <th>5</th>\n",
       "      <td>2</td>\n",
       "      <td>Bayeux</td>\n",
       "      <td>49.276462</td>\n",
       "      <td>-0.702474</td>\n",
       "      <td>Rain</td>\n",
       "      <td>20.0091</td>\n",
       "      <td>7.89875</td>\n",
       "      <td>6.0</td>\n",
       "      <td>13.0</td>\n",
       "    </tr>\n",
       "    <tr>\n",
       "      <th>6</th>\n",
       "      <td>7</td>\n",
       "      <td>Lille</td>\n",
       "      <td>50.636565</td>\n",
       "      <td>3.063528</td>\n",
       "      <td>Rain</td>\n",
       "      <td>20.0471</td>\n",
       "      <td>6.61750</td>\n",
       "      <td>7.0</td>\n",
       "      <td>12.0</td>\n",
       "    </tr>\n",
       "    <tr>\n",
       "      <th>7</th>\n",
       "      <td>15</td>\n",
       "      <td>Grenoble</td>\n",
       "      <td>45.187560</td>\n",
       "      <td>5.735782</td>\n",
       "      <td>Snow</td>\n",
       "      <td>21.0296</td>\n",
       "      <td>6.55000</td>\n",
       "      <td>8.0</td>\n",
       "      <td>11.0</td>\n",
       "    </tr>\n",
       "    <tr>\n",
       "      <th>8</th>\n",
       "      <td>9</td>\n",
       "      <td>Chateau du Haut Koenigsbourg</td>\n",
       "      <td>48.249523</td>\n",
       "      <td>7.345492</td>\n",
       "      <td>Rain</td>\n",
       "      <td>22.1153</td>\n",
       "      <td>3.67125</td>\n",
       "      <td>9.0</td>\n",
       "      <td>10.0</td>\n",
       "    </tr>\n",
       "    <tr>\n",
       "      <th>9</th>\n",
       "      <td>10</td>\n",
       "      <td>Colmar</td>\n",
       "      <td>48.077752</td>\n",
       "      <td>7.357964</td>\n",
       "      <td>Rain</td>\n",
       "      <td>22.4193</td>\n",
       "      <td>6.81625</td>\n",
       "      <td>10.0</td>\n",
       "      <td>9.0</td>\n",
       "    </tr>\n",
       "    <tr>\n",
       "      <th>10</th>\n",
       "      <td>11</td>\n",
       "      <td>Eguisheim</td>\n",
       "      <td>48.044797</td>\n",
       "      <td>7.307962</td>\n",
       "      <td>Rain</td>\n",
       "      <td>23.4698</td>\n",
       "      <td>6.84375</td>\n",
       "      <td>11.0</td>\n",
       "      <td>8.0</td>\n",
       "    </tr>\n",
       "    <tr>\n",
       "      <th>11</th>\n",
       "      <td>6</td>\n",
       "      <td>Amiens</td>\n",
       "      <td>49.894171</td>\n",
       "      <td>2.295695</td>\n",
       "      <td>Rain</td>\n",
       "      <td>23.6011</td>\n",
       "      <td>7.23750</td>\n",
       "      <td>12.0</td>\n",
       "      <td>7.0</td>\n",
       "    </tr>\n",
       "    <tr>\n",
       "      <th>12</th>\n",
       "      <td>3</td>\n",
       "      <td>Le Havre</td>\n",
       "      <td>49.493898</td>\n",
       "      <td>0.107973</td>\n",
       "      <td>Rain</td>\n",
       "      <td>27.8346</td>\n",
       "      <td>7.78500</td>\n",
       "      <td>13.0</td>\n",
       "      <td>6.0</td>\n",
       "    </tr>\n",
       "    <tr>\n",
       "      <th>13</th>\n",
       "      <td>13</td>\n",
       "      <td>Dijon</td>\n",
       "      <td>47.321581</td>\n",
       "      <td>5.041470</td>\n",
       "      <td>Rain</td>\n",
       "      <td>29.4868</td>\n",
       "      <td>6.27750</td>\n",
       "      <td>14.0</td>\n",
       "      <td>5.0</td>\n",
       "    </tr>\n",
       "    <tr>\n",
       "      <th>14</th>\n",
       "      <td>12</td>\n",
       "      <td>Besancon</td>\n",
       "      <td>47.238022</td>\n",
       "      <td>6.024362</td>\n",
       "      <td>Snow</td>\n",
       "      <td>32.1700</td>\n",
       "      <td>6.08875</td>\n",
       "      <td>15.0</td>\n",
       "      <td>4.0</td>\n",
       "    </tr>\n",
       "    <tr>\n",
       "      <th>15</th>\n",
       "      <td>1</td>\n",
       "      <td>St Malo</td>\n",
       "      <td>48.645453</td>\n",
       "      <td>-2.015418</td>\n",
       "      <td>Rain</td>\n",
       "      <td>32.6883</td>\n",
       "      <td>8.85250</td>\n",
       "      <td>16.0</td>\n",
       "      <td>3.0</td>\n",
       "    </tr>\n",
       "    <tr>\n",
       "      <th>16</th>\n",
       "      <td>0</td>\n",
       "      <td>Mont Saint Michel</td>\n",
       "      <td>48.635856</td>\n",
       "      <td>-1.512610</td>\n",
       "      <td>Rain</td>\n",
       "      <td>35.0379</td>\n",
       "      <td>8.52125</td>\n",
       "      <td>17.0</td>\n",
       "      <td>2.0</td>\n",
       "    </tr>\n",
       "    <tr>\n",
       "      <th>17</th>\n",
       "      <td>14</td>\n",
       "      <td>Annecy</td>\n",
       "      <td>45.899235</td>\n",
       "      <td>6.128885</td>\n",
       "      <td>Clouds</td>\n",
       "      <td>45.9300</td>\n",
       "      <td>4.25375</td>\n",
       "      <td>18.0</td>\n",
       "      <td>1.0</td>\n",
       "    </tr>\n",
       "  </tbody>\n",
       "</table>\n",
       "</div>"
      ],
      "text/plain": [
       "    city_id                          name   latitude  longitude main_weather  \\\n",
       "0        17              Gorges du Verdon   0.000000   0.000000            0   \n",
       "1        16                          Lyon  45.757814   4.832011         Rain   \n",
       "2         5                         Paris  48.856697   2.351462         Rain   \n",
       "3         8                    Strasbourg  48.584614   7.750713         Rain   \n",
       "4         4                         Rouen  49.440459   1.093966         Rain   \n",
       "5         2                        Bayeux  49.276462  -0.702474         Rain   \n",
       "6         7                         Lille  50.636565   3.063528         Rain   \n",
       "7        15                      Grenoble  45.187560   5.735782         Snow   \n",
       "8         9  Chateau du Haut Koenigsbourg  48.249523   7.345492         Rain   \n",
       "9        10                        Colmar  48.077752   7.357964         Rain   \n",
       "10       11                     Eguisheim  48.044797   7.307962         Rain   \n",
       "11        6                        Amiens  49.894171   2.295695         Rain   \n",
       "12        3                      Le Havre  49.493898   0.107973         Rain   \n",
       "13       13                         Dijon  47.321581   5.041470         Rain   \n",
       "14       12                      Besancon  47.238022   6.024362         Snow   \n",
       "15        1                       St Malo  48.645453  -2.015418         Rain   \n",
       "16        0             Mont Saint Michel  48.635856  -1.512610         Rain   \n",
       "17       14                        Annecy  45.899235   6.128885       Clouds   \n",
       "\n",
       "    expected_rain  day_temperature  rank  inverted_rank  \n",
       "0          0.0000          0.00000   1.0           18.0  \n",
       "1          7.6248          7.73250   2.0           17.0  \n",
       "2         16.6957          8.21875   3.0           16.0  \n",
       "3         17.6460          6.57625   4.0           15.0  \n",
       "4         19.4916          7.52000   5.0           14.0  \n",
       "5         20.0091          7.89875   6.0           13.0  \n",
       "6         20.0471          6.61750   7.0           12.0  \n",
       "7         21.0296          6.55000   8.0           11.0  \n",
       "8         22.1153          3.67125   9.0           10.0  \n",
       "9         22.4193          6.81625  10.0            9.0  \n",
       "10        23.4698          6.84375  11.0            8.0  \n",
       "11        23.6011          7.23750  12.0            7.0  \n",
       "12        27.8346          7.78500  13.0            6.0  \n",
       "13        29.4868          6.27750  14.0            5.0  \n",
       "14        32.1700          6.08875  15.0            4.0  \n",
       "15        32.6883          8.85250  16.0            3.0  \n",
       "16        35.0379          8.52125  17.0            2.0  \n",
       "17        45.9300          4.25375  18.0            1.0  "
      ]
     },
     "metadata": {},
     "output_type": "display_data"
    }
   ],
   "source": [
    "df.loc[:,'rank'] = df['expected_rain'].rank(method='min')\n",
    "df.loc[:,'inverted_rank'] = df['expected_rain'].rank(method='min', ascending=False)\n",
    "df = df.sort_values(by=['expected_rain', 'day_temperature'], ascending = [True, False]).reset_index(drop=True)\n",
    "display(df)"
   ]
  },
  {
   "cell_type": "code",
   "execution_count": 21,
   "metadata": {},
   "outputs": [
    {
     "name": "stdout",
     "output_type": "stream",
     "text": [
      "Best places for a trip next week are : \n",
      "\n",
      "Gorges du Verdon -- Mostly 0 with temperature 0.0 °C\n"
     ]
    }
   ],
   "source": [
    "print('Best places for a trip next week are : ')\n",
    "print()\n",
    "\n",
    "for i,row in df.loc[df['rank']==1,:].iterrows():\n",
    "    print(\"{} -- Mostly {} with temperature {} °C\".format(row['name'], row['main_weather'], row['day_temperature']))"
   ]
  },
  {
   "cell_type": "code",
   "execution_count": 22,
   "metadata": {},
   "outputs": [],
   "source": [
    "df = df.fillna(0)"
   ]
  },
  {
   "cell_type": "code",
   "execution_count": 23,
   "metadata": {},
   "outputs": [],
   "source": [
    "df.loc[:,'latitude'] = df['latitude'].astype('float')\n",
    "df.loc[:,'longitude'] = df['longitude'].astype('float')\n",
    "df.loc[:,'expected_rain'] = df['expected_rain'].astype('float')\n",
    "df.loc[:,'day_temperature'] = df['day_temperature'].astype('float')\n",
    "df.loc[:,'rank'] = df['rank'].astype('int')\n",
    "df.loc[:,'inverted_rank'] = df['inverted_rank'].astype('int')"
   ]
  },
  {
   "cell_type": "code",
   "execution_count": 24,
   "metadata": {},
   "outputs": [
    {
     "data": {
      "application/vnd.plotly.v1+json": {
       "config": {
        "plotlyServerURL": "https://plot.ly"
       },
       "data": [
        {
         "customdata": [
          [
           0,
           0,
           0
          ],
          [
           "Rain",
           7.6248000000000005,
           7.7325
          ],
          [
           "Rain",
           16.6957,
           8.21875
          ],
          [
           "Rain",
           17.646,
           6.57625
          ],
          [
           "Rain",
           19.491600000000002,
           7.5200000000000005
          ],
          [
           "Rain",
           20.0091,
           7.89875
          ],
          [
           "Rain",
           20.0471,
           6.617500000000001
          ],
          [
           "Snow",
           21.0296,
           6.550000000000001
          ],
          [
           "Rain",
           22.1153,
           3.6712499999999997
          ],
          [
           "Rain",
           22.4193,
           6.81625
          ],
          [
           "Rain",
           23.469799999999996,
           6.84375
          ],
          [
           "Rain",
           23.6011,
           7.2375
          ],
          [
           "Rain",
           27.834599999999995,
           7.785000000000001
          ],
          [
           "Rain",
           29.4868,
           6.277500000000001
          ],
          [
           "Snow",
           32.17,
           6.088750000000001
          ],
          [
           "Rain",
           32.6883,
           8.8525
          ],
          [
           "Rain",
           35.0379,
           8.521249999999998
          ],
          [
           "Clouds",
           45.93,
           4.25375
          ]
         ],
         "hovertemplate": "<b>%{hovertext}</b><br><br>inverted_rank=%{marker.size}<br>latitude=%{lat}<br>longitude=%{lon}<br>main_weather=%{customdata[0]}<br>expected_rain=%{customdata[1]}<br>day_temperature=%{marker.color}<extra></extra>",
         "hovertext": [
          "Gorges du Verdon",
          "Lyon",
          "Paris",
          "Strasbourg",
          "Rouen",
          "Bayeux",
          "Lille",
          "Grenoble",
          "Chateau du Haut Koenigsbourg",
          "Colmar",
          "Eguisheim",
          "Amiens",
          "Le Havre",
          "Dijon",
          "Besancon",
          "St Malo",
          "Mont Saint Michel",
          "Annecy"
         ],
         "lat": [
          0,
          45.7578137,
          48.8566969,
          48.584614,
          49.4404591,
          49.2764624,
          50.6365654,
          45.1875602,
          48.2495226,
          48.0777517,
          48.0447968,
          49.8941708,
          49.4938975,
          47.3215806,
          47.2380222,
          48.6454528,
          48.6358559,
          45.8992348
         ],
         "legendgroup": "",
         "lon": [
          0,
          4.8320114,
          2.3514616,
          7.7507127,
          1.0939658,
          -0.7024738,
          3.0635282,
          5.7357819,
          7.3454923,
          7.3579641,
          7.3079618,
          2.2956951,
          0.1079732,
          5.0414701,
          6.0243622,
          -2.015418,
          -1.5126096,
          6.1288847
         ],
         "marker": {
          "color": [
           0,
           7.7325,
           8.21875,
           6.57625,
           7.5200000000000005,
           7.89875,
           6.617500000000001,
           6.550000000000001,
           3.6712499999999997,
           6.81625,
           6.84375,
           7.2375,
           7.785000000000001,
           6.277500000000001,
           6.088750000000001,
           8.8525,
           8.521249999999998,
           4.25375
          ],
          "coloraxis": "coloraxis",
          "size": [
           18,
           17,
           16,
           15,
           14,
           13,
           12,
           11,
           10,
           9,
           8,
           7,
           6,
           5,
           4,
           3,
           2,
           1
          ],
          "sizemode": "area",
          "sizeref": 0.045
         },
         "mode": "markers",
         "name": "",
         "showlegend": false,
         "subplot": "mapbox",
         "type": "scattermapbox"
        }
       ],
       "layout": {
        "autosize": true,
        "coloraxis": {
         "colorbar": {
          "title": {
           "text": "day_temperature"
          }
         },
         "colorscale": [
          [
           0,
           "rgb(0,0,255)"
          ],
          [
           1,
           "rgb(255,0,0)"
          ]
         ]
        },
        "legend": {
         "itemsizing": "constant",
         "tracegroupgap": 0
        },
        "mapbox": {
         "bearing": 0,
         "center": {
          "lat": 47.597932248851805,
          "lon": 4.764397899652522
         },
         "domain": {
          "x": [
           0,
           1
          ],
          "y": [
           0,
           1
          ]
         },
         "pitch": 0,
         "style": "carto-positron",
         "zoom": 4.1865039363567425
        },
        "margin": {
         "t": 60
        },
        "template": {
         "data": {
          "bar": [
           {
            "error_x": {
             "color": "#2a3f5f"
            },
            "error_y": {
             "color": "#2a3f5f"
            },
            "marker": {
             "line": {
              "color": "#E5ECF6",
              "width": 0.5
             }
            },
            "type": "bar"
           }
          ],
          "barpolar": [
           {
            "marker": {
             "line": {
              "color": "#E5ECF6",
              "width": 0.5
             }
            },
            "type": "barpolar"
           }
          ],
          "carpet": [
           {
            "aaxis": {
             "endlinecolor": "#2a3f5f",
             "gridcolor": "white",
             "linecolor": "white",
             "minorgridcolor": "white",
             "startlinecolor": "#2a3f5f"
            },
            "baxis": {
             "endlinecolor": "#2a3f5f",
             "gridcolor": "white",
             "linecolor": "white",
             "minorgridcolor": "white",
             "startlinecolor": "#2a3f5f"
            },
            "type": "carpet"
           }
          ],
          "choropleth": [
           {
            "colorbar": {
             "outlinewidth": 0,
             "ticks": ""
            },
            "type": "choropleth"
           }
          ],
          "contour": [
           {
            "colorbar": {
             "outlinewidth": 0,
             "ticks": ""
            },
            "colorscale": [
             [
              0,
              "#0d0887"
             ],
             [
              0.1111111111111111,
              "#46039f"
             ],
             [
              0.2222222222222222,
              "#7201a8"
             ],
             [
              0.3333333333333333,
              "#9c179e"
             ],
             [
              0.4444444444444444,
              "#bd3786"
             ],
             [
              0.5555555555555556,
              "#d8576b"
             ],
             [
              0.6666666666666666,
              "#ed7953"
             ],
             [
              0.7777777777777778,
              "#fb9f3a"
             ],
             [
              0.8888888888888888,
              "#fdca26"
             ],
             [
              1,
              "#f0f921"
             ]
            ],
            "type": "contour"
           }
          ],
          "contourcarpet": [
           {
            "colorbar": {
             "outlinewidth": 0,
             "ticks": ""
            },
            "type": "contourcarpet"
           }
          ],
          "heatmap": [
           {
            "colorbar": {
             "outlinewidth": 0,
             "ticks": ""
            },
            "colorscale": [
             [
              0,
              "#0d0887"
             ],
             [
              0.1111111111111111,
              "#46039f"
             ],
             [
              0.2222222222222222,
              "#7201a8"
             ],
             [
              0.3333333333333333,
              "#9c179e"
             ],
             [
              0.4444444444444444,
              "#bd3786"
             ],
             [
              0.5555555555555556,
              "#d8576b"
             ],
             [
              0.6666666666666666,
              "#ed7953"
             ],
             [
              0.7777777777777778,
              "#fb9f3a"
             ],
             [
              0.8888888888888888,
              "#fdca26"
             ],
             [
              1,
              "#f0f921"
             ]
            ],
            "type": "heatmap"
           }
          ],
          "heatmapgl": [
           {
            "colorbar": {
             "outlinewidth": 0,
             "ticks": ""
            },
            "colorscale": [
             [
              0,
              "#0d0887"
             ],
             [
              0.1111111111111111,
              "#46039f"
             ],
             [
              0.2222222222222222,
              "#7201a8"
             ],
             [
              0.3333333333333333,
              "#9c179e"
             ],
             [
              0.4444444444444444,
              "#bd3786"
             ],
             [
              0.5555555555555556,
              "#d8576b"
             ],
             [
              0.6666666666666666,
              "#ed7953"
             ],
             [
              0.7777777777777778,
              "#fb9f3a"
             ],
             [
              0.8888888888888888,
              "#fdca26"
             ],
             [
              1,
              "#f0f921"
             ]
            ],
            "type": "heatmapgl"
           }
          ],
          "histogram": [
           {
            "marker": {
             "colorbar": {
              "outlinewidth": 0,
              "ticks": ""
             }
            },
            "type": "histogram"
           }
          ],
          "histogram2d": [
           {
            "colorbar": {
             "outlinewidth": 0,
             "ticks": ""
            },
            "colorscale": [
             [
              0,
              "#0d0887"
             ],
             [
              0.1111111111111111,
              "#46039f"
             ],
             [
              0.2222222222222222,
              "#7201a8"
             ],
             [
              0.3333333333333333,
              "#9c179e"
             ],
             [
              0.4444444444444444,
              "#bd3786"
             ],
             [
              0.5555555555555556,
              "#d8576b"
             ],
             [
              0.6666666666666666,
              "#ed7953"
             ],
             [
              0.7777777777777778,
              "#fb9f3a"
             ],
             [
              0.8888888888888888,
              "#fdca26"
             ],
             [
              1,
              "#f0f921"
             ]
            ],
            "type": "histogram2d"
           }
          ],
          "histogram2dcontour": [
           {
            "colorbar": {
             "outlinewidth": 0,
             "ticks": ""
            },
            "colorscale": [
             [
              0,
              "#0d0887"
             ],
             [
              0.1111111111111111,
              "#46039f"
             ],
             [
              0.2222222222222222,
              "#7201a8"
             ],
             [
              0.3333333333333333,
              "#9c179e"
             ],
             [
              0.4444444444444444,
              "#bd3786"
             ],
             [
              0.5555555555555556,
              "#d8576b"
             ],
             [
              0.6666666666666666,
              "#ed7953"
             ],
             [
              0.7777777777777778,
              "#fb9f3a"
             ],
             [
              0.8888888888888888,
              "#fdca26"
             ],
             [
              1,
              "#f0f921"
             ]
            ],
            "type": "histogram2dcontour"
           }
          ],
          "mesh3d": [
           {
            "colorbar": {
             "outlinewidth": 0,
             "ticks": ""
            },
            "type": "mesh3d"
           }
          ],
          "parcoords": [
           {
            "line": {
             "colorbar": {
              "outlinewidth": 0,
              "ticks": ""
             }
            },
            "type": "parcoords"
           }
          ],
          "pie": [
           {
            "automargin": true,
            "type": "pie"
           }
          ],
          "scatter": [
           {
            "marker": {
             "colorbar": {
              "outlinewidth": 0,
              "ticks": ""
             }
            },
            "type": "scatter"
           }
          ],
          "scatter3d": [
           {
            "line": {
             "colorbar": {
              "outlinewidth": 0,
              "ticks": ""
             }
            },
            "marker": {
             "colorbar": {
              "outlinewidth": 0,
              "ticks": ""
             }
            },
            "type": "scatter3d"
           }
          ],
          "scattercarpet": [
           {
            "marker": {
             "colorbar": {
              "outlinewidth": 0,
              "ticks": ""
             }
            },
            "type": "scattercarpet"
           }
          ],
          "scattergeo": [
           {
            "marker": {
             "colorbar": {
              "outlinewidth": 0,
              "ticks": ""
             }
            },
            "type": "scattergeo"
           }
          ],
          "scattergl": [
           {
            "marker": {
             "colorbar": {
              "outlinewidth": 0,
              "ticks": ""
             }
            },
            "type": "scattergl"
           }
          ],
          "scattermapbox": [
           {
            "marker": {
             "colorbar": {
              "outlinewidth": 0,
              "ticks": ""
             }
            },
            "type": "scattermapbox"
           }
          ],
          "scatterpolar": [
           {
            "marker": {
             "colorbar": {
              "outlinewidth": 0,
              "ticks": ""
             }
            },
            "type": "scatterpolar"
           }
          ],
          "scatterpolargl": [
           {
            "marker": {
             "colorbar": {
              "outlinewidth": 0,
              "ticks": ""
             }
            },
            "type": "scatterpolargl"
           }
          ],
          "scatterternary": [
           {
            "marker": {
             "colorbar": {
              "outlinewidth": 0,
              "ticks": ""
             }
            },
            "type": "scatterternary"
           }
          ],
          "surface": [
           {
            "colorbar": {
             "outlinewidth": 0,
             "ticks": ""
            },
            "colorscale": [
             [
              0,
              "#0d0887"
             ],
             [
              0.1111111111111111,
              "#46039f"
             ],
             [
              0.2222222222222222,
              "#7201a8"
             ],
             [
              0.3333333333333333,
              "#9c179e"
             ],
             [
              0.4444444444444444,
              "#bd3786"
             ],
             [
              0.5555555555555556,
              "#d8576b"
             ],
             [
              0.6666666666666666,
              "#ed7953"
             ],
             [
              0.7777777777777778,
              "#fb9f3a"
             ],
             [
              0.8888888888888888,
              "#fdca26"
             ],
             [
              1,
              "#f0f921"
             ]
            ],
            "type": "surface"
           }
          ],
          "table": [
           {
            "cells": {
             "fill": {
              "color": "#EBF0F8"
             },
             "line": {
              "color": "white"
             }
            },
            "header": {
             "fill": {
              "color": "#C8D4E3"
             },
             "line": {
              "color": "white"
             }
            },
            "type": "table"
           }
          ]
         },
         "layout": {
          "annotationdefaults": {
           "arrowcolor": "#2a3f5f",
           "arrowhead": 0,
           "arrowwidth": 1
          },
          "coloraxis": {
           "colorbar": {
            "outlinewidth": 0,
            "ticks": ""
           }
          },
          "colorscale": {
           "diverging": [
            [
             0,
             "#8e0152"
            ],
            [
             0.1,
             "#c51b7d"
            ],
            [
             0.2,
             "#de77ae"
            ],
            [
             0.3,
             "#f1b6da"
            ],
            [
             0.4,
             "#fde0ef"
            ],
            [
             0.5,
             "#f7f7f7"
            ],
            [
             0.6,
             "#e6f5d0"
            ],
            [
             0.7,
             "#b8e186"
            ],
            [
             0.8,
             "#7fbc41"
            ],
            [
             0.9,
             "#4d9221"
            ],
            [
             1,
             "#276419"
            ]
           ],
           "sequential": [
            [
             0,
             "#0d0887"
            ],
            [
             0.1111111111111111,
             "#46039f"
            ],
            [
             0.2222222222222222,
             "#7201a8"
            ],
            [
             0.3333333333333333,
             "#9c179e"
            ],
            [
             0.4444444444444444,
             "#bd3786"
            ],
            [
             0.5555555555555556,
             "#d8576b"
            ],
            [
             0.6666666666666666,
             "#ed7953"
            ],
            [
             0.7777777777777778,
             "#fb9f3a"
            ],
            [
             0.8888888888888888,
             "#fdca26"
            ],
            [
             1,
             "#f0f921"
            ]
           ],
           "sequentialminus": [
            [
             0,
             "#0d0887"
            ],
            [
             0.1111111111111111,
             "#46039f"
            ],
            [
             0.2222222222222222,
             "#7201a8"
            ],
            [
             0.3333333333333333,
             "#9c179e"
            ],
            [
             0.4444444444444444,
             "#bd3786"
            ],
            [
             0.5555555555555556,
             "#d8576b"
            ],
            [
             0.6666666666666666,
             "#ed7953"
            ],
            [
             0.7777777777777778,
             "#fb9f3a"
            ],
            [
             0.8888888888888888,
             "#fdca26"
            ],
            [
             1,
             "#f0f921"
            ]
           ]
          },
          "colorway": [
           "#636efa",
           "#EF553B",
           "#00cc96",
           "#ab63fa",
           "#FFA15A",
           "#19d3f3",
           "#FF6692",
           "#B6E880",
           "#FF97FF",
           "#FECB52"
          ],
          "font": {
           "color": "#2a3f5f"
          },
          "geo": {
           "bgcolor": "white",
           "lakecolor": "white",
           "landcolor": "#E5ECF6",
           "showlakes": true,
           "showland": true,
           "subunitcolor": "white"
          },
          "hoverlabel": {
           "align": "left"
          },
          "hovermode": "closest",
          "mapbox": {
           "style": "light"
          },
          "paper_bgcolor": "white",
          "plot_bgcolor": "#E5ECF6",
          "polar": {
           "angularaxis": {
            "gridcolor": "white",
            "linecolor": "white",
            "ticks": ""
           },
           "bgcolor": "#E5ECF6",
           "radialaxis": {
            "gridcolor": "white",
            "linecolor": "white",
            "ticks": ""
           }
          },
          "scene": {
           "xaxis": {
            "backgroundcolor": "#E5ECF6",
            "gridcolor": "white",
            "gridwidth": 2,
            "linecolor": "white",
            "showbackground": true,
            "ticks": "",
            "zerolinecolor": "white"
           },
           "yaxis": {
            "backgroundcolor": "#E5ECF6",
            "gridcolor": "white",
            "gridwidth": 2,
            "linecolor": "white",
            "showbackground": true,
            "ticks": "",
            "zerolinecolor": "white"
           },
           "zaxis": {
            "backgroundcolor": "#E5ECF6",
            "gridcolor": "white",
            "gridwidth": 2,
            "linecolor": "white",
            "showbackground": true,
            "ticks": "",
            "zerolinecolor": "white"
           }
          },
          "shapedefaults": {
           "line": {
            "color": "#2a3f5f"
           }
          },
          "ternary": {
           "aaxis": {
            "gridcolor": "white",
            "linecolor": "white",
            "ticks": ""
           },
           "baxis": {
            "gridcolor": "white",
            "linecolor": "white",
            "ticks": ""
           },
           "bgcolor": "#E5ECF6",
           "caxis": {
            "gridcolor": "white",
            "linecolor": "white",
            "ticks": ""
           }
          },
          "title": {
           "x": 0.05
          },
          "xaxis": {
           "automargin": true,
           "gridcolor": "white",
           "linecolor": "white",
           "ticks": "",
           "title": {
            "standoff": 15
           },
           "zerolinecolor": "white",
           "zerolinewidth": 2
          },
          "yaxis": {
           "automargin": true,
           "gridcolor": "white",
           "linecolor": "white",
           "ticks": "",
           "title": {
            "standoff": 15
           },
           "zerolinecolor": "white",
           "zerolinewidth": 2
          }
         }
        }
       }
      },
      "image/png": "[encoded data removed]",
      "text/html": [
       "<div>\n",
       "        \n",
       "        \n",
       "            <div id=\"462cca66-a082-4a40-88ec-0d48117156d2\" class=\"plotly-graph-div\" style=\"height:525px; width:100%;\"></div>\n",
       "            <script type=\"text/javascript\">\n",
       "                require([\"plotly\"], function(Plotly) {\n",
       "                    window.PLOTLYENV=window.PLOTLYENV || {};\n",
       "                    \n",
       "                if (document.getElementById(\"462cca66-a082-4a40-88ec-0d48117156d2\")) {\n",
       "                    Plotly.newPlot(\n",
       "                        '462cca66-a082-4a40-88ec-0d48117156d2',\n",
       "                        [{\"customdata\": [[0, 0.0, 0.0], [\"Rain\", 7.6248000000000005, 7.7325], [\"Rain\", 16.6957, 8.21875], [\"Rain\", 17.646, 6.57625], [\"Rain\", 19.491600000000002, 7.5200000000000005], [\"Rain\", 20.0091, 7.89875], [\"Rain\", 20.0471, 6.617500000000001], [\"Snow\", 21.0296, 6.550000000000001], [\"Rain\", 22.1153, 3.6712499999999997], [\"Rain\", 22.4193, 6.81625], [\"Rain\", 23.469799999999996, 6.84375], [\"Rain\", 23.6011, 7.2375], [\"Rain\", 27.834599999999995, 7.785000000000001], [\"Rain\", 29.4868, 6.277500000000001], [\"Snow\", 32.17, 6.088750000000001], [\"Rain\", 32.6883, 8.8525], [\"Rain\", 35.0379, 8.521249999999998], [\"Clouds\", 45.93, 4.25375]], \"hovertemplate\": \"<b>%{hovertext}</b><br><br>inverted_rank=%{marker.size}<br>latitude=%{lat}<br>longitude=%{lon}<br>main_weather=%{customdata[0]}<br>expected_rain=%{customdata[1]}<br>day_temperature=%{marker.color}<extra></extra>\", \"hovertext\": [\"Gorges du Verdon\", \"Lyon\", \"Paris\", \"Strasbourg\", \"Rouen\", \"Bayeux\", \"Lille\", \"Grenoble\", \"Chateau du Haut Koenigsbourg\", \"Colmar\", \"Eguisheim\", \"Amiens\", \"Le Havre\", \"Dijon\", \"Besancon\", \"St Malo\", \"Mont Saint Michel\", \"Annecy\"], \"lat\": [0.0, 45.7578137, 48.8566969, 48.584614, 49.4404591, 49.2764624, 50.6365654, 45.1875602, 48.2495226, 48.0777517, 48.0447968, 49.8941708, 49.4938975, 47.3215806, 47.2380222, 48.6454528, 48.6358559, 45.8992348], \"legendgroup\": \"\", \"lon\": [0.0, 4.8320114, 2.3514616, 7.7507127, 1.0939658, -0.7024738, 3.0635282, 5.7357819, 7.3454923, 7.3579641, 7.3079618, 2.2956951, 0.1079732, 5.0414701, 6.0243622, -2.015418, -1.5126096, 6.1288847], \"marker\": {\"color\": [0.0, 7.7325, 8.21875, 6.57625, 7.5200000000000005, 7.89875, 6.617500000000001, 6.550000000000001, 3.6712499999999997, 6.81625, 6.84375, 7.2375, 7.785000000000001, 6.277500000000001, 6.088750000000001, 8.8525, 8.521249999999998, 4.25375], \"coloraxis\": \"coloraxis\", \"size\": [18, 17, 16, 15, 14, 13, 12, 11, 10, 9, 8, 7, 6, 5, 4, 3, 2, 1], \"sizemode\": \"area\", \"sizeref\": 0.045}, \"mode\": \"markers\", \"name\": \"\", \"showlegend\": false, \"subplot\": \"mapbox\", \"type\": \"scattermapbox\"}],\n",
       "                        {\"coloraxis\": {\"colorbar\": {\"title\": {\"text\": \"day_temperature\"}}, \"colorscale\": [[0.0, \"rgb(0,0,255)\"], [1.0, \"rgb(255,0,0)\"]]}, \"legend\": {\"itemsizing\": \"constant\", \"tracegroupgap\": 0}, \"mapbox\": {\"center\": {\"lat\": 45.513358744444446, \"lon\": 3.455931316666667}, \"domain\": {\"x\": [0.0, 1.0], \"y\": [0.0, 1.0]}, \"style\": \"carto-positron\", \"zoom\": 4}, \"margin\": {\"t\": 60}, \"template\": {\"data\": {\"bar\": [{\"error_x\": {\"color\": \"#2a3f5f\"}, \"error_y\": {\"color\": \"#2a3f5f\"}, \"marker\": {\"line\": {\"color\": \"#E5ECF6\", \"width\": 0.5}}, \"type\": \"bar\"}], \"barpolar\": [{\"marker\": {\"line\": {\"color\": \"#E5ECF6\", \"width\": 0.5}}, \"type\": \"barpolar\"}], \"carpet\": [{\"aaxis\": {\"endlinecolor\": \"#2a3f5f\", \"gridcolor\": \"white\", \"linecolor\": \"white\", \"minorgridcolor\": \"white\", \"startlinecolor\": \"#2a3f5f\"}, \"baxis\": {\"endlinecolor\": \"#2a3f5f\", \"gridcolor\": \"white\", \"linecolor\": \"white\", \"minorgridcolor\": \"white\", \"startlinecolor\": \"#2a3f5f\"}, \"type\": \"carpet\"}], \"choropleth\": [{\"colorbar\": {\"outlinewidth\": 0, \"ticks\": \"\"}, \"type\": \"choropleth\"}], \"contour\": [{\"colorbar\": {\"outlinewidth\": 0, \"ticks\": \"\"}, \"colorscale\": [[0.0, \"#0d0887\"], [0.1111111111111111, \"#46039f\"], [0.2222222222222222, \"#7201a8\"], [0.3333333333333333, \"#9c179e\"], [0.4444444444444444, \"#bd3786\"], [0.5555555555555556, \"#d8576b\"], [0.6666666666666666, \"#ed7953\"], [0.7777777777777778, \"#fb9f3a\"], [0.8888888888888888, \"#fdca26\"], [1.0, \"#f0f921\"]], \"type\": \"contour\"}], \"contourcarpet\": [{\"colorbar\": {\"outlinewidth\": 0, \"ticks\": \"\"}, \"type\": \"contourcarpet\"}], \"heatmap\": [{\"colorbar\": {\"outlinewidth\": 0, \"ticks\": \"\"}, \"colorscale\": [[0.0, \"#0d0887\"], [0.1111111111111111, \"#46039f\"], [0.2222222222222222, \"#7201a8\"], [0.3333333333333333, \"#9c179e\"], [0.4444444444444444, \"#bd3786\"], [0.5555555555555556, \"#d8576b\"], [0.6666666666666666, \"#ed7953\"], [0.7777777777777778, \"#fb9f3a\"], [0.8888888888888888, \"#fdca26\"], [1.0, \"#f0f921\"]], \"type\": \"heatmap\"}], \"heatmapgl\": [{\"colorbar\": {\"outlinewidth\": 0, \"ticks\": \"\"}, \"colorscale\": [[0.0, \"#0d0887\"], [0.1111111111111111, \"#46039f\"], [0.2222222222222222, \"#7201a8\"], [0.3333333333333333, \"#9c179e\"], [0.4444444444444444, \"#bd3786\"], [0.5555555555555556, \"#d8576b\"], [0.6666666666666666, \"#ed7953\"], [0.7777777777777778, \"#fb9f3a\"], [0.8888888888888888, \"#fdca26\"], [1.0, \"#f0f921\"]], \"type\": \"heatmapgl\"}], \"histogram\": [{\"marker\": {\"colorbar\": {\"outlinewidth\": 0, \"ticks\": \"\"}}, \"type\": \"histogram\"}], \"histogram2d\": [{\"colorbar\": {\"outlinewidth\": 0, \"ticks\": \"\"}, \"colorscale\": [[0.0, \"#0d0887\"], [0.1111111111111111, \"#46039f\"], [0.2222222222222222, \"#7201a8\"], [0.3333333333333333, \"#9c179e\"], [0.4444444444444444, \"#bd3786\"], [0.5555555555555556, \"#d8576b\"], [0.6666666666666666, \"#ed7953\"], [0.7777777777777778, \"#fb9f3a\"], [0.8888888888888888, \"#fdca26\"], [1.0, \"#f0f921\"]], \"type\": \"histogram2d\"}], \"histogram2dcontour\": [{\"colorbar\": {\"outlinewidth\": 0, \"ticks\": \"\"}, \"colorscale\": [[0.0, \"#0d0887\"], [0.1111111111111111, \"#46039f\"], [0.2222222222222222, \"#7201a8\"], [0.3333333333333333, \"#9c179e\"], [0.4444444444444444, \"#bd3786\"], [0.5555555555555556, \"#d8576b\"], [0.6666666666666666, \"#ed7953\"], [0.7777777777777778, \"#fb9f3a\"], [0.8888888888888888, \"#fdca26\"], [1.0, \"#f0f921\"]], \"type\": \"histogram2dcontour\"}], \"mesh3d\": [{\"colorbar\": {\"outlinewidth\": 0, \"ticks\": \"\"}, \"type\": \"mesh3d\"}], \"parcoords\": [{\"line\": {\"colorbar\": {\"outlinewidth\": 0, \"ticks\": \"\"}}, \"type\": \"parcoords\"}], \"pie\": [{\"automargin\": true, \"type\": \"pie\"}], \"scatter\": [{\"marker\": {\"colorbar\": {\"outlinewidth\": 0, \"ticks\": \"\"}}, \"type\": \"scatter\"}], \"scatter3d\": [{\"line\": {\"colorbar\": {\"outlinewidth\": 0, \"ticks\": \"\"}}, \"marker\": {\"colorbar\": {\"outlinewidth\": 0, \"ticks\": \"\"}}, \"type\": \"scatter3d\"}], \"scattercarpet\": [{\"marker\": {\"colorbar\": {\"outlinewidth\": 0, \"ticks\": \"\"}}, \"type\": \"scattercarpet\"}], \"scattergeo\": [{\"marker\": {\"colorbar\": {\"outlinewidth\": 0, \"ticks\": \"\"}}, \"type\": \"scattergeo\"}], \"scattergl\": [{\"marker\": {\"colorbar\": {\"outlinewidth\": 0, \"ticks\": \"\"}}, \"type\": \"scattergl\"}], \"scattermapbox\": [{\"marker\": {\"colorbar\": {\"outlinewidth\": 0, \"ticks\": \"\"}}, \"type\": \"scattermapbox\"}], \"scatterpolar\": [{\"marker\": {\"colorbar\": {\"outlinewidth\": 0, \"ticks\": \"\"}}, \"type\": \"scatterpolar\"}], \"scatterpolargl\": [{\"marker\": {\"colorbar\": {\"outlinewidth\": 0, \"ticks\": \"\"}}, \"type\": \"scatterpolargl\"}], \"scatterternary\": [{\"marker\": {\"colorbar\": {\"outlinewidth\": 0, \"ticks\": \"\"}}, \"type\": \"scatterternary\"}], \"surface\": [{\"colorbar\": {\"outlinewidth\": 0, \"ticks\": \"\"}, \"colorscale\": [[0.0, \"#0d0887\"], [0.1111111111111111, \"#46039f\"], [0.2222222222222222, \"#7201a8\"], [0.3333333333333333, \"#9c179e\"], [0.4444444444444444, \"#bd3786\"], [0.5555555555555556, \"#d8576b\"], [0.6666666666666666, \"#ed7953\"], [0.7777777777777778, \"#fb9f3a\"], [0.8888888888888888, \"#fdca26\"], [1.0, \"#f0f921\"]], \"type\": \"surface\"}], \"table\": [{\"cells\": {\"fill\": {\"color\": \"#EBF0F8\"}, \"line\": {\"color\": \"white\"}}, \"header\": {\"fill\": {\"color\": \"#C8D4E3\"}, \"line\": {\"color\": \"white\"}}, \"type\": \"table\"}]}, \"layout\": {\"annotationdefaults\": {\"arrowcolor\": \"#2a3f5f\", \"arrowhead\": 0, \"arrowwidth\": 1}, \"coloraxis\": {\"colorbar\": {\"outlinewidth\": 0, \"ticks\": \"\"}}, \"colorscale\": {\"diverging\": [[0, \"#8e0152\"], [0.1, \"#c51b7d\"], [0.2, \"#de77ae\"], [0.3, \"#f1b6da\"], [0.4, \"#fde0ef\"], [0.5, \"#f7f7f7\"], [0.6, \"#e6f5d0\"], [0.7, \"#b8e186\"], [0.8, \"#7fbc41\"], [0.9, \"#4d9221\"], [1, \"#276419\"]], \"sequential\": [[0.0, \"#0d0887\"], [0.1111111111111111, \"#46039f\"], [0.2222222222222222, \"#7201a8\"], [0.3333333333333333, \"#9c179e\"], [0.4444444444444444, \"#bd3786\"], [0.5555555555555556, \"#d8576b\"], [0.6666666666666666, \"#ed7953\"], [0.7777777777777778, \"#fb9f3a\"], [0.8888888888888888, \"#fdca26\"], [1.0, \"#f0f921\"]], \"sequentialminus\": [[0.0, \"#0d0887\"], [0.1111111111111111, \"#46039f\"], [0.2222222222222222, \"#7201a8\"], [0.3333333333333333, \"#9c179e\"], [0.4444444444444444, \"#bd3786\"], [0.5555555555555556, \"#d8576b\"], [0.6666666666666666, \"#ed7953\"], [0.7777777777777778, \"#fb9f3a\"], [0.8888888888888888, \"#fdca26\"], [1.0, \"#f0f921\"]]}, \"colorway\": [\"#636efa\", \"#EF553B\", \"#00cc96\", \"#ab63fa\", \"#FFA15A\", \"#19d3f3\", \"#FF6692\", \"#B6E880\", \"#FF97FF\", \"#FECB52\"], \"font\": {\"color\": \"#2a3f5f\"}, \"geo\": {\"bgcolor\": \"white\", \"lakecolor\": \"white\", \"landcolor\": \"#E5ECF6\", \"showlakes\": true, \"showland\": true, \"subunitcolor\": \"white\"}, \"hoverlabel\": {\"align\": \"left\"}, \"hovermode\": \"closest\", \"mapbox\": {\"style\": \"light\"}, \"paper_bgcolor\": \"white\", \"plot_bgcolor\": \"#E5ECF6\", \"polar\": {\"angularaxis\": {\"gridcolor\": \"white\", \"linecolor\": \"white\", \"ticks\": \"\"}, \"bgcolor\": \"#E5ECF6\", \"radialaxis\": {\"gridcolor\": \"white\", \"linecolor\": \"white\", \"ticks\": \"\"}}, \"scene\": {\"xaxis\": {\"backgroundcolor\": \"#E5ECF6\", \"gridcolor\": \"white\", \"gridwidth\": 2, \"linecolor\": \"white\", \"showbackground\": true, \"ticks\": \"\", \"zerolinecolor\": \"white\"}, \"yaxis\": {\"backgroundcolor\": \"#E5ECF6\", \"gridcolor\": \"white\", \"gridwidth\": 2, \"linecolor\": \"white\", \"showbackground\": true, \"ticks\": \"\", \"zerolinecolor\": \"white\"}, \"zaxis\": {\"backgroundcolor\": \"#E5ECF6\", \"gridcolor\": \"white\", \"gridwidth\": 2, \"linecolor\": \"white\", \"showbackground\": true, \"ticks\": \"\", \"zerolinecolor\": \"white\"}}, \"shapedefaults\": {\"line\": {\"color\": \"#2a3f5f\"}}, \"ternary\": {\"aaxis\": {\"gridcolor\": \"white\", \"linecolor\": \"white\", \"ticks\": \"\"}, \"baxis\": {\"gridcolor\": \"white\", \"linecolor\": \"white\", \"ticks\": \"\"}, \"bgcolor\": \"#E5ECF6\", \"caxis\": {\"gridcolor\": \"white\", \"linecolor\": \"white\", \"ticks\": \"\"}}, \"title\": {\"x\": 0.05}, \"xaxis\": {\"automargin\": true, \"gridcolor\": \"white\", \"linecolor\": \"white\", \"ticks\": \"\", \"title\": {\"standoff\": 15}, \"zerolinecolor\": \"white\", \"zerolinewidth\": 2}, \"yaxis\": {\"automargin\": true, \"gridcolor\": \"white\", \"linecolor\": \"white\", \"ticks\": \"\", \"title\": {\"standoff\": 15}, \"zerolinecolor\": \"white\", \"zerolinewidth\": 2}}}},\n",
       "                        {\"responsive\": true}\n",
       "                    ).then(function(){\n",
       "                            \n",
       "var gd = document.getElementById('462cca66-a082-4a40-88ec-0d48117156d2');\n",
       "var x = new MutationObserver(function (mutations, observer) {{\n",
       "        var display = window.getComputedStyle(gd).display;\n",
       "        if (!display || display === 'none') {{\n",
       "            console.log([gd, 'removed!']);\n",
       "            Plotly.purge(gd);\n",
       "            observer.disconnect();\n",
       "        }}\n",
       "}});\n",
       "\n",
       "// Listen for the removal of the full notebook cells\n",
       "var notebookContainer = gd.closest('#notebook-container');\n",
       "if (notebookContainer) {{\n",
       "    x.observe(notebookContainer, {childList: true});\n",
       "}}\n",
       "\n",
       "// Listen for the clearing of the current output cell\n",
       "var outputEl = gd.closest('.output');\n",
       "if (outputEl) {{\n",
       "    x.observe(outputEl, {childList: true});\n",
       "}}\n",
       "\n",
       "                        })\n",
       "                };\n",
       "                });\n",
       "            </script>\n",
       "        </div>"
      ]
     },
     "metadata": {},
     "output_type": "display_data"
    }
   ],
   "source": [
    "fig = px.scatter_mapbox(df, lat=\"latitude\", lon=\"longitude\", hover_name = 'name', zoom = 4,\n",
    "                        hover_data = ['main_weather', 'expected_rain', 'day_temperature'], \n",
    "                        color = 'day_temperature', color_continuous_scale = 'Bluered', size = 'inverted_rank',\n",
    "                        mapbox_style=\"carto-positron\")\n",
    "fig.show()"
   ]
  },
  {
   "cell_type": "code",
   "execution_count": 25,
   "metadata": {},
   "outputs": [],
   "source": [
    "df.to_csv('destinations.csv', index=False)"
   ]
  },
  {
   "cell_type": "markdown",
   "metadata": {},
   "source": [
    "# Scrapping Booking.com for hotel information"
   ]
  },
  {
   "cell_type": "markdown",
   "metadata": {},
   "source": [
    "### La Rochelle"
   ]
  },
  {
   "cell_type": "code",
   "execution_count": 26,
   "metadata": {},
   "outputs": [],
   "source": [
    "city = 'La Rochelle'"
   ]
  },
  {
   "cell_type": "code",
   "execution_count": 27,
   "metadata": {},
   "outputs": [
    {
     "data": {
      "text/plain": [
       "<Response [200]>"
      ]
     },
     "execution_count": 27,
     "metadata": {},
     "output_type": "execute_result"
    }
   ],
   "source": [
    "r = requests.get('https://www.booking.com/index.fr.html')\n",
    "r"
   ]
  },
  {
   "cell_type": "code",
   "execution_count": 28,
   "metadata": {},
   "outputs": [],
   "source": [
    "class BookingSpider(scrapy.Spider):\n",
    "    name = \"booking\"\n",
    "\n",
    "    start_urls = ['https://www.booking.com/index.fr.html']\n",
    "\n",
    "    def parse(self, response):\n",
    "        return scrapy.FormRequest.from_response(\n",
    "            response,\n",
    "            formdata={'ss': city},\n",
    "            callback=self.after_search\n",
    "        )\n",
    "\n",
    "    def after_search(self, response):\n",
    "        \n",
    "        booking = response.css('.sr_item')\n",
    "\n",
    "        for data in booking:\n",
    "            yield {\n",
    "                'name': data.css('.sr-hotel__name::text').get(),\n",
    "                'url': 'https://www.booking.com' + data.css('.hotel_name_link').attrib[\"href\"],\n",
    "                'coords': data.css('.sr_card_address_line a').attrib[\"data-coords\"],\n",
    "                'score': data.css('.bui-review-score__badge::text').get(),\n",
    "                'description': data.css('.hotel_desc::text').get()\n",
    "                \n",
    "            }\n",
    "        \n",
    "        \n",
    "        try:\n",
    "            next_page = response.css('a.paging-next').attrib[\"href\"]\n",
    "        except KeyError:\n",
    "            logging.info('No next page. Terminating crawling process.')\n",
    "        else:\n",
    "            yield response.follow(next_page, callback=self.after_search)"
   ]
  },
  {
   "cell_type": "code",
   "execution_count": 29,
   "metadata": {
    "scrolled": true
   },
   "outputs": [
    {
     "name": "stderr",
     "output_type": "stream",
     "text": [
      "2021-01-23 19:29:55 [scrapy.utils.log] INFO: Scrapy 2.4.1 started (bot: scrapybot)\n",
      "2021-01-23 19:29:55 [scrapy.utils.log] INFO: Versions: lxml 4.6.2.0, libxml2 2.9.10, cssselect 1.1.0, parsel 1.6.0, w3lib 1.22.0, Twisted 20.3.0, Python 3.8.6 | packaged by conda-forge | (default, Oct  7 2020, 19:08:05) - [GCC 7.5.0], pyOpenSSL 19.1.0 (OpenSSL 1.1.1h  22 Sep 2020), cryptography 3.1.1, Platform Linux-4.19.112+-x86_64-with-glibc2.10\n",
      "2021-01-23 19:29:55 [scrapy.crawler] INFO: Overridden settings:\n",
      "{'LOG_LEVEL': 20,\n",
      " 'USER_AGENT': 'Chrome/84.0 (compatible; MSIE 7.0; Windows NT 5.1)'}\n",
      "2021-01-23 19:29:55 [scrapy.extensions.telnet] INFO: Telnet Password: aef51dbe523497c2\n",
      "2021-01-23 19:29:55 [scrapy.middleware] INFO: Enabled extensions:\n",
      "['scrapy.extensions.corestats.CoreStats',\n",
      " 'scrapy.extensions.telnet.TelnetConsole',\n",
      " 'scrapy.extensions.memusage.MemoryUsage',\n",
      " 'scrapy.extensions.feedexport.FeedExporter',\n",
      " 'scrapy.extensions.logstats.LogStats']\n",
      "2021-01-23 19:29:55 [scrapy.middleware] INFO: Enabled downloader middlewares:\n",
      "['scrapy.downloadermiddlewares.httpauth.HttpAuthMiddleware',\n",
      " 'scrapy.downloadermiddlewares.downloadtimeout.DownloadTimeoutMiddleware',\n",
      " 'scrapy.downloadermiddlewares.defaultheaders.DefaultHeadersMiddleware',\n",
      " 'scrapy.downloadermiddlewares.useragent.UserAgentMiddleware',\n",
      " 'scrapy.downloadermiddlewares.retry.RetryMiddleware',\n",
      " 'scrapy.downloadermiddlewares.redirect.MetaRefreshMiddleware',\n",
      " 'scrapy.downloadermiddlewares.httpcompression.HttpCompressionMiddleware',\n",
      " 'scrapy.downloadermiddlewares.redirect.RedirectMiddleware',\n",
      " 'scrapy.downloadermiddlewares.cookies.CookiesMiddleware',\n",
      " 'scrapy.downloadermiddlewares.httpproxy.HttpProxyMiddleware',\n",
      " 'scrapy.downloadermiddlewares.stats.DownloaderStats']\n",
      "2021-01-23 19:29:55 [scrapy.middleware] INFO: Enabled spider middlewares:\n",
      "['scrapy.spidermiddlewares.httperror.HttpErrorMiddleware',\n",
      " 'scrapy.spidermiddlewares.offsite.OffsiteMiddleware',\n",
      " 'scrapy.spidermiddlewares.referer.RefererMiddleware',\n",
      " 'scrapy.spidermiddlewares.urllength.UrlLengthMiddleware',\n",
      " 'scrapy.spidermiddlewares.depth.DepthMiddleware']\n",
      "2021-01-23 19:29:55 [scrapy.middleware] INFO: Enabled item pipelines:\n",
      "[]\n",
      "2021-01-23 19:29:55 [scrapy.core.engine] INFO: Spider opened\n",
      "2021-01-23 19:29:55 [scrapy.extensions.logstats] INFO: Crawled 0 pages (at 0 pages/min), scraped 0 items (at 0 items/min)\n",
      "2021-01-23 19:29:55 [scrapy.extensions.telnet] INFO: Telnet console listening on 127.0.0.1:6023\n",
      "2021-01-23 19:30:12 [root] INFO: No next page. Terminating crawling process.\n",
      "2021-01-23 19:30:12 [scrapy.core.engine] INFO: Closing spider (finished)\n",
      "2021-01-23 19:30:12 [scrapy.extensions.feedexport] INFO: Stored json feed (362 items) in: res/hotels_La-Rochelle.json\n",
      "2021-01-23 19:30:12 [scrapy.statscollectors] INFO: Dumping Scrapy stats:\n",
      "{'downloader/request_bytes': 25873,\n",
      " 'downloader/request_count': 16,\n",
      " 'downloader/request_method_count/GET': 16,\n",
      " 'downloader/response_bytes': 2397225,\n",
      " 'downloader/response_count': 16,\n",
      " 'downloader/response_status_count/200': 16,\n",
      " 'elapsed_time_seconds': 16.842199,\n",
      " 'finish_reason': 'finished',\n",
      " 'finish_time': datetime.datetime(2021, 1, 23, 19, 30, 12, 797669),\n",
      " 'item_scraped_count': 362,\n",
      " 'log_count/INFO': 12,\n",
      " 'memusage/max': 151642112,\n",
      " 'memusage/startup': 151642112,\n",
      " 'request_depth_max': 15,\n",
      " 'response_received_count': 16,\n",
      " 'scheduler/dequeued': 16,\n",
      " 'scheduler/dequeued/memory': 16,\n",
      " 'scheduler/enqueued': 16,\n",
      " 'scheduler/enqueued/memory': 16,\n",
      " 'start_time': datetime.datetime(2021, 1, 23, 19, 29, 55, 955470)}\n",
      "2021-01-23 19:30:12 [scrapy.core.engine] INFO: Spider closed (finished)\n"
     ]
    }
   ],
   "source": [
    "filename = \"hotels_\" + city.replace(\" \", \"-\") + \".json\"\n",
    "\n",
    "\n",
    "process = CrawlerProcess(settings = {\n",
    "    'USER_AGENT': 'Chrome/84.0 (compatible; MSIE 7.0; Windows NT 5.1)',\n",
    "    'LOG_LEVEL': logging.INFO,\n",
    "    \"FEEDS\": {\n",
    "        'res/' + filename: {\"format\": \"json\"},\n",
    "    }\n",
    "})\n",
    "\n",
    "process.crawl(BookingSpider)\n",
    "process.start()"
   ]
  },
  {
   "cell_type": "markdown",
   "metadata": {},
   "source": [
    "### Paris"
   ]
  },
  {
   "cell_type": "code",
   "execution_count": 30,
   "metadata": {},
   "outputs": [],
   "source": [
    "city = 'Paris'"
   ]
  },
  {
   "cell_type": "code",
   "execution_count": 31,
   "metadata": {},
   "outputs": [
    {
     "data": {
      "text/plain": [
       "<Response [200]>"
      ]
     },
     "execution_count": 31,
     "metadata": {},
     "output_type": "execute_result"
    }
   ],
   "source": [
    "r = requests.get('https://www.booking.com/index.fr.html')\n",
    "r"
   ]
  },
  {
   "cell_type": "code",
   "execution_count": 32,
   "metadata": {},
   "outputs": [],
   "source": [
    "class BookingSpider(scrapy.Spider):\n",
    "    name = \"booking\"\n",
    "\n",
    "    start_urls = ['https://www.booking.com/index.fr.html']\n",
    "\n",
    "    def parse(self, response):\n",
    "        return scrapy.FormRequest.from_response(\n",
    "            response,\n",
    "            formdata={'ss': city},\n",
    "            callback=self.after_search\n",
    "        )\n",
    "\n",
    "    def after_search(self, response):\n",
    "        \n",
    "        booking = response.css('.sr_item')\n",
    "\n",
    "        for b in booking:\n",
    "            yield {\n",
    "                'name': b.css('.sr-hotel__name::text').get(),\n",
    "                'url': 'https://www.booking.com' + b.css('.hotel_name_link').attrib[\"href\"],\n",
    "                'coords': b.css('.sr_card_address_line a').attrib[\"data-coords\"],\n",
    "                'score': b.css('.bui-review-score__badge::text').get(),\n",
    "                'description': b.css('.hotel_desc::text').get()\n",
    "                \n",
    "            }\n",
    "        \n",
    "        \n",
    "        try:\n",
    "            next_page = response.css('a.paging-next').attrib[\"href\"]\n",
    "        except KeyError:\n",
    "            logging.info('No next page. Terminating crawling process.')\n",
    "        else:\n",
    "            yield response.follow(next_page, callback=self.after_search)"
   ]
  },
  {
   "cell_type": "code",
   "execution_count": 33,
   "metadata": {},
   "outputs": [
    {
     "name": "stderr",
     "output_type": "stream",
     "text": [
      "2021-01-23 19:30:13 [scrapy.utils.log] INFO: Scrapy 2.4.1 started (bot: scrapybot)\n",
      "2021-01-23 19:30:13 [scrapy.utils.log] INFO: Versions: lxml 4.6.2.0, libxml2 2.9.10, cssselect 1.1.0, parsel 1.6.0, w3lib 1.22.0, Twisted 20.3.0, Python 3.8.6 | packaged by conda-forge | (default, Oct  7 2020, 19:08:05) - [GCC 7.5.0], pyOpenSSL 19.1.0 (OpenSSL 1.1.1h  22 Sep 2020), cryptography 3.1.1, Platform Linux-4.19.112+-x86_64-with-glibc2.10\n",
      "2021-01-23 19:30:13 [scrapy.crawler] INFO: Overridden settings:\n",
      "{'LOG_LEVEL': 20,\n",
      " 'USER_AGENT': 'Chrome/84.0 (compatible; MSIE 7.0; Windows NT 5.1)'}\n",
      "2021-01-23 19:30:13 [scrapy.extensions.telnet] INFO: Telnet Password: b508f9eed7548582\n",
      "2021-01-23 19:30:13 [scrapy.middleware] INFO: Enabled extensions:\n",
      "['scrapy.extensions.corestats.CoreStats',\n",
      " 'scrapy.extensions.telnet.TelnetConsole',\n",
      " 'scrapy.extensions.memusage.MemoryUsage',\n",
      " 'scrapy.extensions.feedexport.FeedExporter',\n",
      " 'scrapy.extensions.logstats.LogStats']\n",
      "2021-01-23 19:30:13 [scrapy.middleware] INFO: Enabled downloader middlewares:\n",
      "['scrapy.downloadermiddlewares.httpauth.HttpAuthMiddleware',\n",
      " 'scrapy.downloadermiddlewares.downloadtimeout.DownloadTimeoutMiddleware',\n",
      " 'scrapy.downloadermiddlewares.defaultheaders.DefaultHeadersMiddleware',\n",
      " 'scrapy.downloadermiddlewares.useragent.UserAgentMiddleware',\n",
      " 'scrapy.downloadermiddlewares.retry.RetryMiddleware',\n",
      " 'scrapy.downloadermiddlewares.redirect.MetaRefreshMiddleware',\n",
      " 'scrapy.downloadermiddlewares.httpcompression.HttpCompressionMiddleware',\n",
      " 'scrapy.downloadermiddlewares.redirect.RedirectMiddleware',\n",
      " 'scrapy.downloadermiddlewares.cookies.CookiesMiddleware',\n",
      " 'scrapy.downloadermiddlewares.httpproxy.HttpProxyMiddleware',\n",
      " 'scrapy.downloadermiddlewares.stats.DownloaderStats']\n",
      "2021-01-23 19:30:13 [scrapy.middleware] INFO: Enabled spider middlewares:\n",
      "['scrapy.spidermiddlewares.httperror.HttpErrorMiddleware',\n",
      " 'scrapy.spidermiddlewares.offsite.OffsiteMiddleware',\n",
      " 'scrapy.spidermiddlewares.referer.RefererMiddleware',\n",
      " 'scrapy.spidermiddlewares.urllength.UrlLengthMiddleware',\n",
      " 'scrapy.spidermiddlewares.depth.DepthMiddleware']\n",
      "2021-01-23 19:30:13 [scrapy.middleware] INFO: Enabled item pipelines:\n",
      "[]\n",
      "2021-01-23 19:30:13 [scrapy.core.engine] INFO: Spider opened\n",
      "2021-01-23 19:30:13 [scrapy.extensions.logstats] INFO: Crawled 0 pages (at 0 pages/min), scraped 0 items (at 0 items/min)\n",
      "2021-01-23 19:30:13 [scrapy.extensions.telnet] INFO: Telnet console listening on 127.0.0.1:6023\n"
     ]
    },
    {
     "ename": "ReactorNotRestartable",
     "evalue": "",
     "output_type": "error",
     "traceback": [
      "\u001b[0;31m---------------------------------------------------------------------------\u001b[0m",
      "\u001b[0;31mReactorNotRestartable\u001b[0m                     Traceback (most recent call last)",
      "\u001b[0;32m<ipython-input-33-8b5d0bb2a3e4>\u001b[0m in \u001b[0;36m<module>\u001b[0;34m\u001b[0m\n\u001b[1;32m     11\u001b[0m \u001b[0;34m\u001b[0m\u001b[0m\n\u001b[1;32m     12\u001b[0m \u001b[0mprocess\u001b[0m\u001b[0;34m.\u001b[0m\u001b[0mcrawl\u001b[0m\u001b[0;34m(\u001b[0m\u001b[0mBookingSpider\u001b[0m\u001b[0;34m)\u001b[0m\u001b[0;34m\u001b[0m\u001b[0;34m\u001b[0m\u001b[0m\n\u001b[0;32m---> 13\u001b[0;31m \u001b[0mprocess\u001b[0m\u001b[0;34m.\u001b[0m\u001b[0mstart\u001b[0m\u001b[0;34m(\u001b[0m\u001b[0;34m)\u001b[0m\u001b[0;34m\u001b[0m\u001b[0;34m\u001b[0m\u001b[0m\n\u001b[0m",
      "\u001b[0;32m/opt/conda/lib/python3.8/site-packages/scrapy/crawler.py\u001b[0m in \u001b[0;36mstart\u001b[0;34m(self, stop_after_crawl)\u001b[0m\n\u001b[1;32m    325\u001b[0m         \u001b[0mtp\u001b[0m\u001b[0;34m.\u001b[0m\u001b[0madjustPoolsize\u001b[0m\u001b[0;34m(\u001b[0m\u001b[0mmaxthreads\u001b[0m\u001b[0;34m=\u001b[0m\u001b[0mself\u001b[0m\u001b[0;34m.\u001b[0m\u001b[0msettings\u001b[0m\u001b[0;34m.\u001b[0m\u001b[0mgetint\u001b[0m\u001b[0;34m(\u001b[0m\u001b[0;34m'REACTOR_THREADPOOL_MAXSIZE'\u001b[0m\u001b[0;34m)\u001b[0m\u001b[0;34m)\u001b[0m\u001b[0;34m\u001b[0m\u001b[0;34m\u001b[0m\u001b[0m\n\u001b[1;32m    326\u001b[0m         \u001b[0mreactor\u001b[0m\u001b[0;34m.\u001b[0m\u001b[0maddSystemEventTrigger\u001b[0m\u001b[0;34m(\u001b[0m\u001b[0;34m'before'\u001b[0m\u001b[0;34m,\u001b[0m \u001b[0;34m'shutdown'\u001b[0m\u001b[0;34m,\u001b[0m \u001b[0mself\u001b[0m\u001b[0;34m.\u001b[0m\u001b[0mstop\u001b[0m\u001b[0;34m)\u001b[0m\u001b[0;34m\u001b[0m\u001b[0;34m\u001b[0m\u001b[0m\n\u001b[0;32m--> 327\u001b[0;31m         \u001b[0mreactor\u001b[0m\u001b[0;34m.\u001b[0m\u001b[0mrun\u001b[0m\u001b[0;34m(\u001b[0m\u001b[0minstallSignalHandlers\u001b[0m\u001b[0;34m=\u001b[0m\u001b[0;32mFalse\u001b[0m\u001b[0;34m)\u001b[0m  \u001b[0;31m# blocking call\u001b[0m\u001b[0;34m\u001b[0m\u001b[0;34m\u001b[0m\u001b[0m\n\u001b[0m\u001b[1;32m    328\u001b[0m \u001b[0;34m\u001b[0m\u001b[0m\n\u001b[1;32m    329\u001b[0m     \u001b[0;32mdef\u001b[0m \u001b[0m_graceful_stop_reactor\u001b[0m\u001b[0;34m(\u001b[0m\u001b[0mself\u001b[0m\u001b[0;34m)\u001b[0m\u001b[0;34m:\u001b[0m\u001b[0;34m\u001b[0m\u001b[0;34m\u001b[0m\u001b[0m\n",
      "\u001b[0;32m/opt/conda/lib/python3.8/site-packages/twisted/internet/base.py\u001b[0m in \u001b[0;36mrun\u001b[0;34m(self, installSignalHandlers)\u001b[0m\n\u001b[1;32m   1280\u001b[0m \u001b[0;34m\u001b[0m\u001b[0m\n\u001b[1;32m   1281\u001b[0m     \u001b[0;32mdef\u001b[0m \u001b[0mrun\u001b[0m\u001b[0;34m(\u001b[0m\u001b[0mself\u001b[0m\u001b[0;34m,\u001b[0m \u001b[0minstallSignalHandlers\u001b[0m\u001b[0;34m=\u001b[0m\u001b[0;32mTrue\u001b[0m\u001b[0;34m)\u001b[0m\u001b[0;34m:\u001b[0m\u001b[0;34m\u001b[0m\u001b[0;34m\u001b[0m\u001b[0m\n\u001b[0;32m-> 1282\u001b[0;31m         \u001b[0mself\u001b[0m\u001b[0;34m.\u001b[0m\u001b[0mstartRunning\u001b[0m\u001b[0;34m(\u001b[0m\u001b[0minstallSignalHandlers\u001b[0m\u001b[0;34m=\u001b[0m\u001b[0minstallSignalHandlers\u001b[0m\u001b[0;34m)\u001b[0m\u001b[0;34m\u001b[0m\u001b[0;34m\u001b[0m\u001b[0m\n\u001b[0m\u001b[1;32m   1283\u001b[0m         \u001b[0mself\u001b[0m\u001b[0;34m.\u001b[0m\u001b[0mmainLoop\u001b[0m\u001b[0;34m(\u001b[0m\u001b[0;34m)\u001b[0m\u001b[0;34m\u001b[0m\u001b[0;34m\u001b[0m\u001b[0m\n\u001b[1;32m   1284\u001b[0m \u001b[0;34m\u001b[0m\u001b[0m\n",
      "\u001b[0;32m/opt/conda/lib/python3.8/site-packages/twisted/internet/base.py\u001b[0m in \u001b[0;36mstartRunning\u001b[0;34m(self, installSignalHandlers)\u001b[0m\n\u001b[1;32m   1260\u001b[0m         \"\"\"\n\u001b[1;32m   1261\u001b[0m         \u001b[0mself\u001b[0m\u001b[0;34m.\u001b[0m\u001b[0m_installSignalHandlers\u001b[0m \u001b[0;34m=\u001b[0m \u001b[0minstallSignalHandlers\u001b[0m\u001b[0;34m\u001b[0m\u001b[0;34m\u001b[0m\u001b[0m\n\u001b[0;32m-> 1262\u001b[0;31m         \u001b[0mReactorBase\u001b[0m\u001b[0;34m.\u001b[0m\u001b[0mstartRunning\u001b[0m\u001b[0;34m(\u001b[0m\u001b[0mself\u001b[0m\u001b[0;34m)\u001b[0m\u001b[0;34m\u001b[0m\u001b[0;34m\u001b[0m\u001b[0m\n\u001b[0m\u001b[1;32m   1263\u001b[0m \u001b[0;34m\u001b[0m\u001b[0m\n\u001b[1;32m   1264\u001b[0m \u001b[0;34m\u001b[0m\u001b[0m\n",
      "\u001b[0;32m/opt/conda/lib/python3.8/site-packages/twisted/internet/base.py\u001b[0m in \u001b[0;36mstartRunning\u001b[0;34m(self)\u001b[0m\n\u001b[1;32m    763\u001b[0m             \u001b[0;32mraise\u001b[0m \u001b[0merror\u001b[0m\u001b[0;34m.\u001b[0m\u001b[0mReactorAlreadyRunning\u001b[0m\u001b[0;34m(\u001b[0m\u001b[0;34m)\u001b[0m\u001b[0;34m\u001b[0m\u001b[0;34m\u001b[0m\u001b[0m\n\u001b[1;32m    764\u001b[0m         \u001b[0;32mif\u001b[0m \u001b[0mself\u001b[0m\u001b[0;34m.\u001b[0m\u001b[0m_startedBefore\u001b[0m\u001b[0;34m:\u001b[0m\u001b[0;34m\u001b[0m\u001b[0;34m\u001b[0m\u001b[0m\n\u001b[0;32m--> 765\u001b[0;31m             \u001b[0;32mraise\u001b[0m \u001b[0merror\u001b[0m\u001b[0;34m.\u001b[0m\u001b[0mReactorNotRestartable\u001b[0m\u001b[0;34m(\u001b[0m\u001b[0;34m)\u001b[0m\u001b[0;34m\u001b[0m\u001b[0;34m\u001b[0m\u001b[0m\n\u001b[0m\u001b[1;32m    766\u001b[0m         \u001b[0mself\u001b[0m\u001b[0;34m.\u001b[0m\u001b[0m_started\u001b[0m \u001b[0;34m=\u001b[0m \u001b[0;32mTrue\u001b[0m\u001b[0;34m\u001b[0m\u001b[0;34m\u001b[0m\u001b[0m\n\u001b[1;32m    767\u001b[0m         \u001b[0mself\u001b[0m\u001b[0;34m.\u001b[0m\u001b[0m_stopped\u001b[0m \u001b[0;34m=\u001b[0m \u001b[0;32mFalse\u001b[0m\u001b[0;34m\u001b[0m\u001b[0;34m\u001b[0m\u001b[0m\n",
      "\u001b[0;31mReactorNotRestartable\u001b[0m: "
     ]
    }
   ],
   "source": [
    "filename = \"hotels_\" + city.replace(\" \", \"-\") + \".json\"\n",
    "\n",
    "\n",
    "process = CrawlerProcess(settings = {\n",
    "    'USER_AGENT': 'Chrome/84.0 (compatible; MSIE 7.0; Windows NT 5.1)',\n",
    "    'LOG_LEVEL': logging.INFO,\n",
    "    \"FEEDS\": {\n",
    "        'res/' + filename: {\"format\": \"json\"},\n",
    "    }\n",
    "})\n",
    "\n",
    "process.crawl(BookingSpider)\n",
    "process.start()"
   ]
  },
  {
   "cell_type": "markdown",
   "metadata": {},
   "source": [
    "# Data lake with S3"
   ]
  },
  {
   "cell_type": "code",
   "execution_count": 37,
   "metadata": {},
   "outputs": [
    {
     "data": {
      "text/html": [
       "<div>\n",
       "<style scoped>\n",
       "    .dataframe tbody tr th:only-of-type {\n",
       "        vertical-align: middle;\n",
       "    }\n",
       "\n",
       "    .dataframe tbody tr th {\n",
       "        vertical-align: top;\n",
       "    }\n",
       "\n",
       "    .dataframe thead th {\n",
       "        text-align: right;\n",
       "    }\n",
       "</style>\n",
       "<table border=\"1\" class=\"dataframe\">\n",
       "  <thead>\n",
       "    <tr style=\"text-align: right;\">\n",
       "      <th></th>\n",
       "      <th>city_id</th>\n",
       "      <th>name</th>\n",
       "      <th>latitude</th>\n",
       "      <th>longitude</th>\n",
       "      <th>main_weather</th>\n",
       "      <th>expected_rain</th>\n",
       "      <th>day_temperature</th>\n",
       "      <th>rank</th>\n",
       "      <th>inverted_rank</th>\n",
       "    </tr>\n",
       "  </thead>\n",
       "  <tbody>\n",
       "    <tr>\n",
       "      <th>0</th>\n",
       "      <td>17</td>\n",
       "      <td>Gorges du Verdon</td>\n",
       "      <td>0.000000</td>\n",
       "      <td>0.000000</td>\n",
       "      <td>0</td>\n",
       "      <td>0.0000</td>\n",
       "      <td>0.00000</td>\n",
       "      <td>1</td>\n",
       "      <td>18</td>\n",
       "    </tr>\n",
       "    <tr>\n",
       "      <th>1</th>\n",
       "      <td>16</td>\n",
       "      <td>Lyon</td>\n",
       "      <td>45.757814</td>\n",
       "      <td>4.832011</td>\n",
       "      <td>Rain</td>\n",
       "      <td>7.6248</td>\n",
       "      <td>7.73250</td>\n",
       "      <td>2</td>\n",
       "      <td>17</td>\n",
       "    </tr>\n",
       "    <tr>\n",
       "      <th>2</th>\n",
       "      <td>5</td>\n",
       "      <td>Paris</td>\n",
       "      <td>48.856697</td>\n",
       "      <td>2.351462</td>\n",
       "      <td>Rain</td>\n",
       "      <td>16.6957</td>\n",
       "      <td>8.21875</td>\n",
       "      <td>3</td>\n",
       "      <td>16</td>\n",
       "    </tr>\n",
       "    <tr>\n",
       "      <th>3</th>\n",
       "      <td>8</td>\n",
       "      <td>Strasbourg</td>\n",
       "      <td>48.584614</td>\n",
       "      <td>7.750713</td>\n",
       "      <td>Rain</td>\n",
       "      <td>17.6460</td>\n",
       "      <td>6.57625</td>\n",
       "      <td>4</td>\n",
       "      <td>15</td>\n",
       "    </tr>\n",
       "    <tr>\n",
       "      <th>4</th>\n",
       "      <td>4</td>\n",
       "      <td>Rouen</td>\n",
       "      <td>49.440459</td>\n",
       "      <td>1.093966</td>\n",
       "      <td>Rain</td>\n",
       "      <td>19.4916</td>\n",
       "      <td>7.52000</td>\n",
       "      <td>5</td>\n",
       "      <td>14</td>\n",
       "    </tr>\n",
       "  </tbody>\n",
       "</table>\n",
       "</div>"
      ],
      "text/plain": [
       "   city_id              name   latitude  longitude main_weather  \\\n",
       "0       17  Gorges du Verdon   0.000000   0.000000            0   \n",
       "1       16              Lyon  45.757814   4.832011         Rain   \n",
       "2        5             Paris  48.856697   2.351462         Rain   \n",
       "3        8        Strasbourg  48.584614   7.750713         Rain   \n",
       "4        4             Rouen  49.440459   1.093966         Rain   \n",
       "\n",
       "   expected_rain  day_temperature  rank  inverted_rank  \n",
       "0         0.0000          0.00000     1             18  \n",
       "1         7.6248          7.73250     2             17  \n",
       "2        16.6957          8.21875     3             16  \n",
       "3        17.6460          6.57625     4             15  \n",
       "4        19.4916          7.52000     5             14  "
      ]
     },
     "execution_count": 37,
     "metadata": {},
     "output_type": "execute_result"
    }
   ],
   "source": [
    "cities = pd.read_csv('destinations.csv')\n",
    "cities.head()"
   ]
  },
  {
   "cell_type": "code",
   "execution_count": 38,
   "metadata": {},
   "outputs": [
    {
     "data": {
      "text/html": [
       "<div>\n",
       "<style scoped>\n",
       "    .dataframe tbody tr th:only-of-type {\n",
       "        vertical-align: middle;\n",
       "    }\n",
       "\n",
       "    .dataframe tbody tr th {\n",
       "        vertical-align: top;\n",
       "    }\n",
       "\n",
       "    .dataframe thead th {\n",
       "        text-align: right;\n",
       "    }\n",
       "</style>\n",
       "<table border=\"1\" class=\"dataframe\">\n",
       "  <thead>\n",
       "    <tr style=\"text-align: right;\">\n",
       "      <th></th>\n",
       "      <th>city_id</th>\n",
       "      <th>city_name</th>\n",
       "      <th>hotel_id</th>\n",
       "      <th>name</th>\n",
       "      <th>url</th>\n",
       "      <th>latitude</th>\n",
       "      <th>longitude</th>\n",
       "      <th>score</th>\n",
       "      <th>description</th>\n",
       "    </tr>\n",
       "  </thead>\n",
       "  <tbody>\n",
       "  </tbody>\n",
       "</table>\n",
       "</div>"
      ],
      "text/plain": [
       "Empty DataFrame\n",
       "Columns: [city_id, city_name, hotel_id, name, url, latitude, longitude, score, description]\n",
       "Index: []"
      ]
     },
     "execution_count": 38,
     "metadata": {},
     "output_type": "execute_result"
    }
   ],
   "source": [
    "hotel_files = glob.glob('res/_hotels_*.json')\n",
    "\n",
    "hotels = pd.DataFrame(columns = ['city_id', 'city_name', 'hotel_id', 'name', 'url', 'latitude', 'longitude', 'score', 'description'])\n",
    "hotels\n"
   ]
  },
  {
   "cell_type": "code",
   "execution_count": 39,
   "metadata": {
    "scrolled": true
   },
   "outputs": [],
   "source": [
    "for f in hotel_files:\n",
    "    city_name = f.split('_')[2].split('.')[0].replace(\"-\",\" \")"
   ]
  },
  {
   "cell_type": "code",
   "execution_count": 40,
   "metadata": {},
   "outputs": [],
   "source": [
    "for f in hotel_files:\n",
    "    city_id = cities.loc[cities['name'] == city_name,'city_id'].values[0]"
   ]
  },
  {
   "cell_type": "code",
   "execution_count": 41,
   "metadata": {},
   "outputs": [
    {
     "data": {
      "text/plain": [
       "['res/_hotels_Paris.json']"
      ]
     },
     "execution_count": 41,
     "metadata": {},
     "output_type": "execute_result"
    }
   ],
   "source": [
    "hotel_files"
   ]
  },
  {
   "cell_type": "code",
   "execution_count": 58,
   "metadata": {},
   "outputs": [
    {
     "data": {
      "text/html": [
       "<div>\n",
       "<style scoped>\n",
       "    .dataframe tbody tr th:only-of-type {\n",
       "        vertical-align: middle;\n",
       "    }\n",
       "\n",
       "    .dataframe tbody tr th {\n",
       "        vertical-align: top;\n",
       "    }\n",
       "\n",
       "    .dataframe thead th {\n",
       "        text-align: right;\n",
       "    }\n",
       "</style>\n",
       "<table border=\"1\" class=\"dataframe\">\n",
       "  <thead>\n",
       "    <tr style=\"text-align: right;\">\n",
       "      <th></th>\n",
       "      <th>name</th>\n",
       "      <th>url</th>\n",
       "      <th>coords</th>\n",
       "      <th>score</th>\n",
       "      <th>description</th>\n",
       "    </tr>\n",
       "  </thead>\n",
       "  <tbody>\n",
       "    <tr>\n",
       "      <th>0</th>\n",
       "      <td>Elysées Union</td>\n",
       "      <td>https://www.booking.com\\n/hotel/fr/elyseesunio...</td>\n",
       "      <td>2.29176588356495,48.8683494219935</td>\n",
       "      <td>8,4</td>\n",
       "      <td>Occupant un bâtiment du XIXe siècle à Paris, l...</td>\n",
       "    </tr>\n",
       "    <tr>\n",
       "      <th>1</th>\n",
       "      <td>Hyatt Regency Paris Etoile</td>\n",
       "      <td>https://www.booking.com\\n/hotel/fr/hyatt-regen...</td>\n",
       "      <td>2.28472741799624,48.8804098381377</td>\n",
       "      <td>8,4</td>\n",
       "      <td>Le Hyatt Regency Paris Etoile, connu autrefois...</td>\n",
       "    </tr>\n",
       "    <tr>\n",
       "      <th>2</th>\n",
       "      <td>Hotel Lutetia</td>\n",
       "      <td>https://www.booking.com\\n/hotel/fr/lutetia-par...</td>\n",
       "      <td>2.327238,48.851244</td>\n",
       "      <td>8,9</td>\n",
       "      <td>L’Hotel Lutetia est un établissement de luxe e...</td>\n",
       "    </tr>\n",
       "    <tr>\n",
       "      <th>3</th>\n",
       "      <td>Pullman Paris Tour Eiffel</td>\n",
       "      <td>https://www.booking.com\\n/hotel/fr/tour-eiffel...</td>\n",
       "      <td>2.29256182909012,48.855604014139</td>\n",
       "      <td>8,3</td>\n",
       "      <td>L'hôtel 4 étoiles Pullman Paris Tour Eiffel es...</td>\n",
       "    </tr>\n",
       "    <tr>\n",
       "      <th>4</th>\n",
       "      <td>Hotel Prelude Opera</td>\n",
       "      <td>https://www.booking.com\\n/hotel/fr/corona.fr.h...</td>\n",
       "      <td>2.34349831938744,48.871934420399</td>\n",
       "      <td>9,0</td>\n",
       "      <td>L'Hotel Corona Opera se situe dans l'élégant 9...</td>\n",
       "    </tr>\n",
       "  </tbody>\n",
       "</table>\n",
       "</div>"
      ],
      "text/plain": [
       "                         name  \\\n",
       "0               Elysées Union   \n",
       "1  Hyatt Regency Paris Etoile   \n",
       "2               Hotel Lutetia   \n",
       "3   Pullman Paris Tour Eiffel   \n",
       "4         Hotel Prelude Opera   \n",
       "\n",
       "                                                 url  \\\n",
       "0  https://www.booking.com\\n/hotel/fr/elyseesunio...   \n",
       "1  https://www.booking.com\\n/hotel/fr/hyatt-regen...   \n",
       "2  https://www.booking.com\\n/hotel/fr/lutetia-par...   \n",
       "3  https://www.booking.com\\n/hotel/fr/tour-eiffel...   \n",
       "4  https://www.booking.com\\n/hotel/fr/corona.fr.h...   \n",
       "\n",
       "                              coords  score  \\\n",
       "0  2.29176588356495,48.8683494219935   8,4    \n",
       "1  2.28472741799624,48.8804098381377   8,4    \n",
       "2                 2.327238,48.851244   8,9    \n",
       "3   2.29256182909012,48.855604014139   8,3    \n",
       "4   2.34349831938744,48.871934420399   9,0    \n",
       "\n",
       "                                         description  \n",
       "0  Occupant un bâtiment du XIXe siècle à Paris, l...  \n",
       "1  Le Hyatt Regency Paris Etoile, connu autrefois...  \n",
       "2  L’Hotel Lutetia est un établissement de luxe e...  \n",
       "3  L'hôtel 4 étoiles Pullman Paris Tour Eiffel es...  \n",
       "4  L'Hotel Corona Opera se situe dans l'élégant 9...  "
      ]
     },
     "execution_count": 58,
     "metadata": {},
     "output_type": "execute_result"
    }
   ],
   "source": [
    "f1 = pd.read_json('res/hotels_Paris.json')\n",
    "hotels=pd.DataFrame(f1)\n",
    "hotels['name']=(hotels['name']).astype(str).replace('\\n','',regex=True)\n",
    "hotels['description']=(hotels['description']).astype(str).replace('\\n','',regex=True)\n",
    "hotels.head()"
   ]
  },
  {
   "cell_type": "code",
   "execution_count": null,
   "metadata": {},
   "outputs": [],
   "source": []
  },
  {
   "cell_type": "code",
   "execution_count": 59,
   "metadata": {},
   "outputs": [
    {
     "data": {
      "text/plain": [
       "0      [2.29176588356495, 48.8683494219935]\n",
       "1      [2.28472741799624, 48.8804098381377]\n",
       "2                     [2.327238, 48.851244]\n",
       "3       [2.29256182909012, 48.855604014139]\n",
       "4       [2.34349831938744, 48.871934420399]\n",
       "                       ...                 \n",
       "995     [2.3464098572731, 48.8762389019165]\n",
       "996                  [2.370153, 48.8748331]\n",
       "997    [2.38599121570587, 48.8738147952617]\n",
       "998                 [2.3791229, 48.8809536]\n",
       "999    [2.28464267672121, 48.8458345949375]\n",
       "Name: coords, Length: 1000, dtype: object"
      ]
     },
     "execution_count": 59,
     "metadata": {},
     "output_type": "execute_result"
    }
   ],
   "source": [
    "split_data = hotels['coords'].str.split(',')\n",
    "hotels.loc[:,'latitude'] = split_data.apply(lambda x: x[1])\n",
    "hotels.loc[:,'longitude'] = split_data.apply(lambda x: x[0])\n",
    "split_data\n",
    "\n",
    "\n"
   ]
  },
  {
   "cell_type": "code",
   "execution_count": 60,
   "metadata": {},
   "outputs": [],
   "source": [
    "#hotels_all = hotels_all.append(hotels)"
   ]
  },
  {
   "cell_type": "code",
   "execution_count": 61,
   "metadata": {},
   "outputs": [
    {
     "data": {
      "text/html": [
       "<div>\n",
       "<style scoped>\n",
       "    .dataframe tbody tr th:only-of-type {\n",
       "        vertical-align: middle;\n",
       "    }\n",
       "\n",
       "    .dataframe tbody tr th {\n",
       "        vertical-align: top;\n",
       "    }\n",
       "\n",
       "    .dataframe thead th {\n",
       "        text-align: right;\n",
       "    }\n",
       "</style>\n",
       "<table border=\"1\" class=\"dataframe\">\n",
       "  <thead>\n",
       "    <tr style=\"text-align: right;\">\n",
       "      <th></th>\n",
       "      <th>name</th>\n",
       "      <th>url</th>\n",
       "      <th>score</th>\n",
       "      <th>description</th>\n",
       "      <th>latitude</th>\n",
       "      <th>longitude</th>\n",
       "    </tr>\n",
       "  </thead>\n",
       "  <tbody>\n",
       "    <tr>\n",
       "      <th>0</th>\n",
       "      <td>Elysées Union</td>\n",
       "      <td>https://www.booking.com\\n/hotel/fr/elyseesunio...</td>\n",
       "      <td>8,4</td>\n",
       "      <td>Occupant un bâtiment du XIXe siècle à Paris, l...</td>\n",
       "      <td>48.8683494219935</td>\n",
       "      <td>2.29176588356495</td>\n",
       "    </tr>\n",
       "    <tr>\n",
       "      <th>1</th>\n",
       "      <td>Hyatt Regency Paris Etoile</td>\n",
       "      <td>https://www.booking.com\\n/hotel/fr/hyatt-regen...</td>\n",
       "      <td>8,4</td>\n",
       "      <td>Le Hyatt Regency Paris Etoile, connu autrefois...</td>\n",
       "      <td>48.8804098381377</td>\n",
       "      <td>2.28472741799624</td>\n",
       "    </tr>\n",
       "    <tr>\n",
       "      <th>2</th>\n",
       "      <td>Hotel Lutetia</td>\n",
       "      <td>https://www.booking.com\\n/hotel/fr/lutetia-par...</td>\n",
       "      <td>8,9</td>\n",
       "      <td>L’Hotel Lutetia est un établissement de luxe e...</td>\n",
       "      <td>48.851244</td>\n",
       "      <td>2.327238</td>\n",
       "    </tr>\n",
       "    <tr>\n",
       "      <th>3</th>\n",
       "      <td>Pullman Paris Tour Eiffel</td>\n",
       "      <td>https://www.booking.com\\n/hotel/fr/tour-eiffel...</td>\n",
       "      <td>8,3</td>\n",
       "      <td>L'hôtel 4 étoiles Pullman Paris Tour Eiffel es...</td>\n",
       "      <td>48.855604014139</td>\n",
       "      <td>2.29256182909012</td>\n",
       "    </tr>\n",
       "    <tr>\n",
       "      <th>4</th>\n",
       "      <td>Hotel Prelude Opera</td>\n",
       "      <td>https://www.booking.com\\n/hotel/fr/corona.fr.h...</td>\n",
       "      <td>9,0</td>\n",
       "      <td>L'Hotel Corona Opera se situe dans l'élégant 9...</td>\n",
       "      <td>48.871934420399</td>\n",
       "      <td>2.34349831938744</td>\n",
       "    </tr>\n",
       "  </tbody>\n",
       "</table>\n",
       "</div>"
      ],
      "text/plain": [
       "                         name  \\\n",
       "0               Elysées Union   \n",
       "1  Hyatt Regency Paris Etoile   \n",
       "2               Hotel Lutetia   \n",
       "3   Pullman Paris Tour Eiffel   \n",
       "4         Hotel Prelude Opera   \n",
       "\n",
       "                                                 url  score  \\\n",
       "0  https://www.booking.com\\n/hotel/fr/elyseesunio...   8,4    \n",
       "1  https://www.booking.com\\n/hotel/fr/hyatt-regen...   8,4    \n",
       "2  https://www.booking.com\\n/hotel/fr/lutetia-par...   8,9    \n",
       "3  https://www.booking.com\\n/hotel/fr/tour-eiffel...   8,3    \n",
       "4  https://www.booking.com\\n/hotel/fr/corona.fr.h...   9,0    \n",
       "\n",
       "                                         description          latitude  \\\n",
       "0  Occupant un bâtiment du XIXe siècle à Paris, l...  48.8683494219935   \n",
       "1  Le Hyatt Regency Paris Etoile, connu autrefois...  48.8804098381377   \n",
       "2  L’Hotel Lutetia est un établissement de luxe e...         48.851244   \n",
       "3  L'hôtel 4 étoiles Pullman Paris Tour Eiffel es...   48.855604014139   \n",
       "4  L'Hotel Corona Opera se situe dans l'élégant 9...   48.871934420399   \n",
       "\n",
       "          longitude  \n",
       "0  2.29176588356495  \n",
       "1  2.28472741799624  \n",
       "2          2.327238  \n",
       "3  2.29256182909012  \n",
       "4  2.34349831938744  "
      ]
     },
     "execution_count": 61,
     "metadata": {},
     "output_type": "execute_result"
    }
   ],
   "source": [
    "del hotels['coords']\n",
    "hotels.head()"
   ]
  },
  {
   "cell_type": "code",
   "execution_count": 62,
   "metadata": {},
   "outputs": [],
   "source": [
    "hotels.loc[:, 'city_name']='Paris'\n",
    "hotels.loc[:, 'city_id'] = cities.loc[cities['name'] == city_name,'city_id'].values[0]\n",
    "hotels.loc[:, 'latitude'] = hotels['latitude'].astype('float')\n",
    "hotels.loc[:, 'longitude'] = hotels['longitude'].astype('float')\n",
    "hotels.loc[:, 'score'] = hotels['score'].str.replace(',','.').astype('float')"
   ]
  },
  {
   "cell_type": "code",
   "execution_count": 63,
   "metadata": {},
   "outputs": [
    {
     "data": {
      "text/html": [
       "<div>\n",
       "<style scoped>\n",
       "    .dataframe tbody tr th:only-of-type {\n",
       "        vertical-align: middle;\n",
       "    }\n",
       "\n",
       "    .dataframe tbody tr th {\n",
       "        vertical-align: top;\n",
       "    }\n",
       "\n",
       "    .dataframe thead th {\n",
       "        text-align: right;\n",
       "    }\n",
       "</style>\n",
       "<table border=\"1\" class=\"dataframe\">\n",
       "  <thead>\n",
       "    <tr style=\"text-align: right;\">\n",
       "      <th></th>\n",
       "      <th>name</th>\n",
       "      <th>url</th>\n",
       "      <th>score</th>\n",
       "      <th>description</th>\n",
       "      <th>latitude</th>\n",
       "      <th>longitude</th>\n",
       "      <th>city_name</th>\n",
       "      <th>city_id</th>\n",
       "    </tr>\n",
       "  </thead>\n",
       "  <tbody>\n",
       "    <tr>\n",
       "      <th>0</th>\n",
       "      <td>Elysées Union</td>\n",
       "      <td>https://www.booking.com\\n/hotel/fr/elyseesunio...</td>\n",
       "      <td>8.4</td>\n",
       "      <td>Occupant un bâtiment du XIXe siècle à Paris, l...</td>\n",
       "      <td>48.868349</td>\n",
       "      <td>2.291766</td>\n",
       "      <td>Paris</td>\n",
       "      <td>5</td>\n",
       "    </tr>\n",
       "    <tr>\n",
       "      <th>1</th>\n",
       "      <td>Hyatt Regency Paris Etoile</td>\n",
       "      <td>https://www.booking.com\\n/hotel/fr/hyatt-regen...</td>\n",
       "      <td>8.4</td>\n",
       "      <td>Le Hyatt Regency Paris Etoile, connu autrefois...</td>\n",
       "      <td>48.880410</td>\n",
       "      <td>2.284727</td>\n",
       "      <td>Paris</td>\n",
       "      <td>5</td>\n",
       "    </tr>\n",
       "    <tr>\n",
       "      <th>2</th>\n",
       "      <td>Hotel Lutetia</td>\n",
       "      <td>https://www.booking.com\\n/hotel/fr/lutetia-par...</td>\n",
       "      <td>8.9</td>\n",
       "      <td>L’Hotel Lutetia est un établissement de luxe e...</td>\n",
       "      <td>48.851244</td>\n",
       "      <td>2.327238</td>\n",
       "      <td>Paris</td>\n",
       "      <td>5</td>\n",
       "    </tr>\n",
       "    <tr>\n",
       "      <th>3</th>\n",
       "      <td>Pullman Paris Tour Eiffel</td>\n",
       "      <td>https://www.booking.com\\n/hotel/fr/tour-eiffel...</td>\n",
       "      <td>8.3</td>\n",
       "      <td>L'hôtel 4 étoiles Pullman Paris Tour Eiffel es...</td>\n",
       "      <td>48.855604</td>\n",
       "      <td>2.292562</td>\n",
       "      <td>Paris</td>\n",
       "      <td>5</td>\n",
       "    </tr>\n",
       "    <tr>\n",
       "      <th>4</th>\n",
       "      <td>Hotel Prelude Opera</td>\n",
       "      <td>https://www.booking.com\\n/hotel/fr/corona.fr.h...</td>\n",
       "      <td>9.0</td>\n",
       "      <td>L'Hotel Corona Opera se situe dans l'élégant 9...</td>\n",
       "      <td>48.871934</td>\n",
       "      <td>2.343498</td>\n",
       "      <td>Paris</td>\n",
       "      <td>5</td>\n",
       "    </tr>\n",
       "  </tbody>\n",
       "</table>\n",
       "</div>"
      ],
      "text/plain": [
       "                         name  \\\n",
       "0               Elysées Union   \n",
       "1  Hyatt Regency Paris Etoile   \n",
       "2               Hotel Lutetia   \n",
       "3   Pullman Paris Tour Eiffel   \n",
       "4         Hotel Prelude Opera   \n",
       "\n",
       "                                                 url  score  \\\n",
       "0  https://www.booking.com\\n/hotel/fr/elyseesunio...    8.4   \n",
       "1  https://www.booking.com\\n/hotel/fr/hyatt-regen...    8.4   \n",
       "2  https://www.booking.com\\n/hotel/fr/lutetia-par...    8.9   \n",
       "3  https://www.booking.com\\n/hotel/fr/tour-eiffel...    8.3   \n",
       "4  https://www.booking.com\\n/hotel/fr/corona.fr.h...    9.0   \n",
       "\n",
       "                                         description   latitude  longitude  \\\n",
       "0  Occupant un bâtiment du XIXe siècle à Paris, l...  48.868349   2.291766   \n",
       "1  Le Hyatt Regency Paris Etoile, connu autrefois...  48.880410   2.284727   \n",
       "2  L’Hotel Lutetia est un établissement de luxe e...  48.851244   2.327238   \n",
       "3  L'hôtel 4 étoiles Pullman Paris Tour Eiffel es...  48.855604   2.292562   \n",
       "4  L'Hotel Corona Opera se situe dans l'élégant 9...  48.871934   2.343498   \n",
       "\n",
       "  city_name  city_id  \n",
       "0     Paris        5  \n",
       "1     Paris        5  \n",
       "2     Paris        5  \n",
       "3     Paris        5  \n",
       "4     Paris        5  "
      ]
     },
     "execution_count": 63,
     "metadata": {},
     "output_type": "execute_result"
    }
   ],
   "source": [
    "hotels.head()"
   ]
  },
  {
   "cell_type": "code",
   "execution_count": 64,
   "metadata": {},
   "outputs": [],
   "source": [
    "hotels.to_csv('res/0_hotels.csv', index=False)"
   ]
  },
  {
   "cell_type": "code",
   "execution_count": 67,
   "metadata": {},
   "outputs": [
    {
     "data": {
      "application/vnd.plotly.v1+json": {
       "config": {
        "plotlyServerURL": "https://plot.ly"
       },
       "data": [
        {
         "customdata": [
          [
           "Situé à Paris, le Ritz Paris propose une sélection de bars et de restaurants, une salle de sport, ainsi qu'un centre de bien-être agrémenté d'une piscine, d'un sauna et d'installations de massage, à..."
          ],
          [
           "Situé à Paris, LE MARAIS PRESTIGE Luxueux - Cosy - Wifi propose une vue sur le jardin et une connexion Wi-Fi gratuite, à 300 mètres du centre Pompidou et à 800 mètres de la cathédrale Notre-Dame. "
          ],
          [
           "Le Notre Dame - Luxury Apartment with Seine View est un hébergement indépendant situé dans le 6ème arrondissement de Paris. "
          ],
          [
           "Le Beauquartier Paris - Grands Boulevards propose des hébergements climatisés dotés d’une connexion Wi-Fi gratuite à Paris, à 1,2 km de l'opéra Garnier. "
          ],
          [
           "Situé à Paris, à moins de 300 mètres du musée d'Orsay, le J.K. Place Paris propose un service d'enregistrement et de départ rapides, des chambres pour les personnes souffrant d'allergies, un..."
          ],
          [
           "Situé à Paris, à 2,4 km de la tour Eiffel, le Sourire Boutique Hôtel Particulier possède une terrasse, un salon commun, un bar et une connexion Wi-Fi gratuite. "
          ],
          [
           "Le My Opéra est situé dans le 9ème arr. Le quartier de Paris se trouve à 1,8 km du Sacré-Cœur, à 1,9 km du musée de l'Orangerie et à 2,3 km de la salle de concert La Cigale. "
          ],
          [
           "Le My Showroom propose un hébergement avec une connexion Wi-Fi gratuite à Paris, à 2,4 km de l'opéra Bastille, à 2,6 km de la salle de concert La Cigale et à 2,9 km de Sainte-Chapelle. "
          ],
          [
           "Le Families and friends - Center - 110 sqm propose un hébergement doté d’une connexion Wi-Fi gratuite à Paris, à moins de 1 km du Centre Pompidou, 17 minutes de marche du musée du Louvre et 2,1 km de..."
          ],
          [
           "Situé à Paris, à 500 mètres de la Tour Eiffel, le Relais 12 Bis Luxury B&B vous propose des chambres climatisées et une connexion Wi-Fi gratuite dans l'ensemble de ses locaux. "
          ],
          [
           "Doté d’un bar, d’un restaurant, d’une salle de sport et d’un parking privé, l’Hôtel Particulier Villeroy propose des hébergements à Paris, à 1,6 km du musée de l'Orangerie. "
          ],
          [
           "Le Boutik Boheme Le Loft Batignolles propose un hébergement dans le 17ème arrondissement de Paris, à 1,8 km de la salle de concert La Cigale, 2,2 km du Sacré-Cœur et 2,6 km de l’opéra Garnier. "
          ],
          [
           "Situé à Paris, le St Honore propose un hébergement avec connexion Wi-Fi gratuite, à 200 mètres du musée du Louvre, à 1,4 km de Sainte-Chapelle, à 1,7 km du centre Pompidou et à 1,9 km du musée..."
          ],
          [
           "Doté d'une terrasse bien exposée et offrant une vue sur la ville, le TRIBE Paris Batignolles est situé à Paris, à 2,3 km de la basilique du Sacré-Cœur. Vous pourrez profiter d'un bar sur place. "
          ]
         ],
         "hovertemplate": "<b>%{hovertext}</b><br><br>latitude=%{lat}<br>longitude=%{lon}<br>description=%{customdata[0]}<br>score=%{marker.color}<extra></extra>",
         "hovertext": [
          "Ritz Paris",
          "LE MARAIS PRESTIGE Luxueux - Cosy - Wifi",
          "Le Notre Dame - Luxury Apartment with Seine View",
          "Beauquartier Paris - Grands Boulevards",
          "J.K. Place Paris",
          "Sourire Boutique Hôtel Particulier",
          "My Opéra",
          "My Showroom",
          "Families and friends - Center - 110 sqm",
          "Relais12bis Bed & Breakfast By Eiffel Tower",
          "Hôtel Particulier Villeroy",
          "Boutik Boheme Le Loft Batignolles",
          "Chez Vous ST HONORÉ",
          "TRIBE Paris Batignolles"
         ],
         "lat": [
          48.8678979521744,
          48.8585607,
          48.8547578144066,
          48.8725005,
          48.861187,
          48.8551251490439,
          48.8781902,
          48.8690411,
          48.865213235555,
          48.8538428389106,
          48.865229,
          48.8884738,
          48.862395,
          48.8904782081564
         ],
         "legendgroup": "",
         "lon": [
          2.32878010185243,
          2.3556057,
          2.34200057637872,
          2.3483493,
          2.321622,
          2.27542282943045,
          2.3273697,
          2.3603507,
          2.3503628773155,
          2.29421348220899,
          2.304762,
          2.3207222,
          2.338453,
          2.31742900489348
         ],
         "marker": {
          "color": [
           9.6,
           9.7,
           9.7,
           9.8,
           9.8,
           9.6,
           9.7,
           9.6,
           9.9,
           9.8,
           10,
           10,
           9.6,
           9.6
          ],
          "coloraxis": "coloraxis"
         },
         "mode": "markers",
         "name": "",
         "showlegend": false,
         "subplot": "mapbox",
         "type": "scattermapbox"
        }
       ],
       "layout": {
        "autosize": true,
        "coloraxis": {
         "colorbar": {
          "title": {
           "text": "score"
          }
         },
         "colorscale": [
          [
           0,
           "rgb(3, 35, 51)"
          ],
          [
           0.09090909090909091,
           "rgb(13, 48, 100)"
          ],
          [
           0.18181818181818182,
           "rgb(53, 50, 155)"
          ],
          [
           0.2727272727272727,
           "rgb(93, 62, 153)"
          ],
          [
           0.36363636363636365,
           "rgb(126, 77, 143)"
          ],
          [
           0.45454545454545453,
           "rgb(158, 89, 135)"
          ],
          [
           0.5454545454545454,
           "rgb(193, 100, 121)"
          ],
          [
           0.6363636363636364,
           "rgb(225, 113, 97)"
          ],
          [
           0.7272727272727273,
           "rgb(246, 139, 69)"
          ],
          [
           0.8181818181818182,
           "rgb(251, 173, 60)"
          ],
          [
           0.9090909090909091,
           "rgb(246, 211, 70)"
          ],
          [
           1,
           "rgb(231, 250, 90)"
          ]
         ]
        },
        "legend": {
         "tracegroupgap": 0
        },
        "mapbox": {
         "bearing": 0,
         "center": {
          "lat": 48.86861916865806,
          "lon": 2.343197400644385
         },
         "domain": {
          "x": [
           0,
           1
          ],
          "y": [
           0,
           1
          ]
         },
         "pitch": 0,
         "style": "carto-positron",
         "zoom": 11.405722681213966
        },
        "margin": {
         "t": 60
        },
        "template": {
         "data": {
          "bar": [
           {
            "error_x": {
             "color": "#2a3f5f"
            },
            "error_y": {
             "color": "#2a3f5f"
            },
            "marker": {
             "line": {
              "color": "#E5ECF6",
              "width": 0.5
             }
            },
            "type": "bar"
           }
          ],
          "barpolar": [
           {
            "marker": {
             "line": {
              "color": "#E5ECF6",
              "width": 0.5
             }
            },
            "type": "barpolar"
           }
          ],
          "carpet": [
           {
            "aaxis": {
             "endlinecolor": "#2a3f5f",
             "gridcolor": "white",
             "linecolor": "white",
             "minorgridcolor": "white",
             "startlinecolor": "#2a3f5f"
            },
            "baxis": {
             "endlinecolor": "#2a3f5f",
             "gridcolor": "white",
             "linecolor": "white",
             "minorgridcolor": "white",
             "startlinecolor": "#2a3f5f"
            },
            "type": "carpet"
           }
          ],
          "choropleth": [
           {
            "colorbar": {
             "outlinewidth": 0,
             "ticks": ""
            },
            "type": "choropleth"
           }
          ],
          "contour": [
           {
            "colorbar": {
             "outlinewidth": 0,
             "ticks": ""
            },
            "colorscale": [
             [
              0,
              "#0d0887"
             ],
             [
              0.1111111111111111,
              "#46039f"
             ],
             [
              0.2222222222222222,
              "#7201a8"
             ],
             [
              0.3333333333333333,
              "#9c179e"
             ],
             [
              0.4444444444444444,
              "#bd3786"
             ],
             [
              0.5555555555555556,
              "#d8576b"
             ],
             [
              0.6666666666666666,
              "#ed7953"
             ],
             [
              0.7777777777777778,
              "#fb9f3a"
             ],
             [
              0.8888888888888888,
              "#fdca26"
             ],
             [
              1,
              "#f0f921"
             ]
            ],
            "type": "contour"
           }
          ],
          "contourcarpet": [
           {
            "colorbar": {
             "outlinewidth": 0,
             "ticks": ""
            },
            "type": "contourcarpet"
           }
          ],
          "heatmap": [
           {
            "colorbar": {
             "outlinewidth": 0,
             "ticks": ""
            },
            "colorscale": [
             [
              0,
              "#0d0887"
             ],
             [
              0.1111111111111111,
              "#46039f"
             ],
             [
              0.2222222222222222,
              "#7201a8"
             ],
             [
              0.3333333333333333,
              "#9c179e"
             ],
             [
              0.4444444444444444,
              "#bd3786"
             ],
             [
              0.5555555555555556,
              "#d8576b"
             ],
             [
              0.6666666666666666,
              "#ed7953"
             ],
             [
              0.7777777777777778,
              "#fb9f3a"
             ],
             [
              0.8888888888888888,
              "#fdca26"
             ],
             [
              1,
              "#f0f921"
             ]
            ],
            "type": "heatmap"
           }
          ],
          "heatmapgl": [
           {
            "colorbar": {
             "outlinewidth": 0,
             "ticks": ""
            },
            "colorscale": [
             [
              0,
              "#0d0887"
             ],
             [
              0.1111111111111111,
              "#46039f"
             ],
             [
              0.2222222222222222,
              "#7201a8"
             ],
             [
              0.3333333333333333,
              "#9c179e"
             ],
             [
              0.4444444444444444,
              "#bd3786"
             ],
             [
              0.5555555555555556,
              "#d8576b"
             ],
             [
              0.6666666666666666,
              "#ed7953"
             ],
             [
              0.7777777777777778,
              "#fb9f3a"
             ],
             [
              0.8888888888888888,
              "#fdca26"
             ],
             [
              1,
              "#f0f921"
             ]
            ],
            "type": "heatmapgl"
           }
          ],
          "histogram": [
           {
            "marker": {
             "colorbar": {
              "outlinewidth": 0,
              "ticks": ""
             }
            },
            "type": "histogram"
           }
          ],
          "histogram2d": [
           {
            "colorbar": {
             "outlinewidth": 0,
             "ticks": ""
            },
            "colorscale": [
             [
              0,
              "#0d0887"
             ],
             [
              0.1111111111111111,
              "#46039f"
             ],
             [
              0.2222222222222222,
              "#7201a8"
             ],
             [
              0.3333333333333333,
              "#9c179e"
             ],
             [
              0.4444444444444444,
              "#bd3786"
             ],
             [
              0.5555555555555556,
              "#d8576b"
             ],
             [
              0.6666666666666666,
              "#ed7953"
             ],
             [
              0.7777777777777778,
              "#fb9f3a"
             ],
             [
              0.8888888888888888,
              "#fdca26"
             ],
             [
              1,
              "#f0f921"
             ]
            ],
            "type": "histogram2d"
           }
          ],
          "histogram2dcontour": [
           {
            "colorbar": {
             "outlinewidth": 0,
             "ticks": ""
            },
            "colorscale": [
             [
              0,
              "#0d0887"
             ],
             [
              0.1111111111111111,
              "#46039f"
             ],
             [
              0.2222222222222222,
              "#7201a8"
             ],
             [
              0.3333333333333333,
              "#9c179e"
             ],
             [
              0.4444444444444444,
              "#bd3786"
             ],
             [
              0.5555555555555556,
              "#d8576b"
             ],
             [
              0.6666666666666666,
              "#ed7953"
             ],
             [
              0.7777777777777778,
              "#fb9f3a"
             ],
             [
              0.8888888888888888,
              "#fdca26"
             ],
             [
              1,
              "#f0f921"
             ]
            ],
            "type": "histogram2dcontour"
           }
          ],
          "mesh3d": [
           {
            "colorbar": {
             "outlinewidth": 0,
             "ticks": ""
            },
            "type": "mesh3d"
           }
          ],
          "parcoords": [
           {
            "line": {
             "colorbar": {
              "outlinewidth": 0,
              "ticks": ""
             }
            },
            "type": "parcoords"
           }
          ],
          "pie": [
           {
            "automargin": true,
            "type": "pie"
           }
          ],
          "scatter": [
           {
            "marker": {
             "colorbar": {
              "outlinewidth": 0,
              "ticks": ""
             }
            },
            "type": "scatter"
           }
          ],
          "scatter3d": [
           {
            "line": {
             "colorbar": {
              "outlinewidth": 0,
              "ticks": ""
             }
            },
            "marker": {
             "colorbar": {
              "outlinewidth": 0,
              "ticks": ""
             }
            },
            "type": "scatter3d"
           }
          ],
          "scattercarpet": [
           {
            "marker": {
             "colorbar": {
              "outlinewidth": 0,
              "ticks": ""
             }
            },
            "type": "scattercarpet"
           }
          ],
          "scattergeo": [
           {
            "marker": {
             "colorbar": {
              "outlinewidth": 0,
              "ticks": ""
             }
            },
            "type": "scattergeo"
           }
          ],
          "scattergl": [
           {
            "marker": {
             "colorbar": {
              "outlinewidth": 0,
              "ticks": ""
             }
            },
            "type": "scattergl"
           }
          ],
          "scattermapbox": [
           {
            "marker": {
             "colorbar": {
              "outlinewidth": 0,
              "ticks": ""
             }
            },
            "type": "scattermapbox"
           }
          ],
          "scatterpolar": [
           {
            "marker": {
             "colorbar": {
              "outlinewidth": 0,
              "ticks": ""
             }
            },
            "type": "scatterpolar"
           }
          ],
          "scatterpolargl": [
           {
            "marker": {
             "colorbar": {
              "outlinewidth": 0,
              "ticks": ""
             }
            },
            "type": "scatterpolargl"
           }
          ],
          "scatterternary": [
           {
            "marker": {
             "colorbar": {
              "outlinewidth": 0,
              "ticks": ""
             }
            },
            "type": "scatterternary"
           }
          ],
          "surface": [
           {
            "colorbar": {
             "outlinewidth": 0,
             "ticks": ""
            },
            "colorscale": [
             [
              0,
              "#0d0887"
             ],
             [
              0.1111111111111111,
              "#46039f"
             ],
             [
              0.2222222222222222,
              "#7201a8"
             ],
             [
              0.3333333333333333,
              "#9c179e"
             ],
             [
              0.4444444444444444,
              "#bd3786"
             ],
             [
              0.5555555555555556,
              "#d8576b"
             ],
             [
              0.6666666666666666,
              "#ed7953"
             ],
             [
              0.7777777777777778,
              "#fb9f3a"
             ],
             [
              0.8888888888888888,
              "#fdca26"
             ],
             [
              1,
              "#f0f921"
             ]
            ],
            "type": "surface"
           }
          ],
          "table": [
           {
            "cells": {
             "fill": {
              "color": "#EBF0F8"
             },
             "line": {
              "color": "white"
             }
            },
            "header": {
             "fill": {
              "color": "#C8D4E3"
             },
             "line": {
              "color": "white"
             }
            },
            "type": "table"
           }
          ]
         },
         "layout": {
          "annotationdefaults": {
           "arrowcolor": "#2a3f5f",
           "arrowhead": 0,
           "arrowwidth": 1
          },
          "coloraxis": {
           "colorbar": {
            "outlinewidth": 0,
            "ticks": ""
           }
          },
          "colorscale": {
           "diverging": [
            [
             0,
             "#8e0152"
            ],
            [
             0.1,
             "#c51b7d"
            ],
            [
             0.2,
             "#de77ae"
            ],
            [
             0.3,
             "#f1b6da"
            ],
            [
             0.4,
             "#fde0ef"
            ],
            [
             0.5,
             "#f7f7f7"
            ],
            [
             0.6,
             "#e6f5d0"
            ],
            [
             0.7,
             "#b8e186"
            ],
            [
             0.8,
             "#7fbc41"
            ],
            [
             0.9,
             "#4d9221"
            ],
            [
             1,
             "#276419"
            ]
           ],
           "sequential": [
            [
             0,
             "#0d0887"
            ],
            [
             0.1111111111111111,
             "#46039f"
            ],
            [
             0.2222222222222222,
             "#7201a8"
            ],
            [
             0.3333333333333333,
             "#9c179e"
            ],
            [
             0.4444444444444444,
             "#bd3786"
            ],
            [
             0.5555555555555556,
             "#d8576b"
            ],
            [
             0.6666666666666666,
             "#ed7953"
            ],
            [
             0.7777777777777778,
             "#fb9f3a"
            ],
            [
             0.8888888888888888,
             "#fdca26"
            ],
            [
             1,
             "#f0f921"
            ]
           ],
           "sequentialminus": [
            [
             0,
             "#0d0887"
            ],
            [
             0.1111111111111111,
             "#46039f"
            ],
            [
             0.2222222222222222,
             "#7201a8"
            ],
            [
             0.3333333333333333,
             "#9c179e"
            ],
            [
             0.4444444444444444,
             "#bd3786"
            ],
            [
             0.5555555555555556,
             "#d8576b"
            ],
            [
             0.6666666666666666,
             "#ed7953"
            ],
            [
             0.7777777777777778,
             "#fb9f3a"
            ],
            [
             0.8888888888888888,
             "#fdca26"
            ],
            [
             1,
             "#f0f921"
            ]
           ]
          },
          "colorway": [
           "#636efa",
           "#EF553B",
           "#00cc96",
           "#ab63fa",
           "#FFA15A",
           "#19d3f3",
           "#FF6692",
           "#B6E880",
           "#FF97FF",
           "#FECB52"
          ],
          "font": {
           "color": "#2a3f5f"
          },
          "geo": {
           "bgcolor": "white",
           "lakecolor": "white",
           "landcolor": "#E5ECF6",
           "showlakes": true,
           "showland": true,
           "subunitcolor": "white"
          },
          "hoverlabel": {
           "align": "left"
          },
          "hovermode": "closest",
          "mapbox": {
           "style": "light"
          },
          "paper_bgcolor": "white",
          "plot_bgcolor": "#E5ECF6",
          "polar": {
           "angularaxis": {
            "gridcolor": "white",
            "linecolor": "white",
            "ticks": ""
           },
           "bgcolor": "#E5ECF6",
           "radialaxis": {
            "gridcolor": "white",
            "linecolor": "white",
            "ticks": ""
           }
          },
          "scene": {
           "xaxis": {
            "backgroundcolor": "#E5ECF6",
            "gridcolor": "white",
            "gridwidth": 2,
            "linecolor": "white",
            "showbackground": true,
            "ticks": "",
            "zerolinecolor": "white"
           },
           "yaxis": {
            "backgroundcolor": "#E5ECF6",
            "gridcolor": "white",
            "gridwidth": 2,
            "linecolor": "white",
            "showbackground": true,
            "ticks": "",
            "zerolinecolor": "white"
           },
           "zaxis": {
            "backgroundcolor": "#E5ECF6",
            "gridcolor": "white",
            "gridwidth": 2,
            "linecolor": "white",
            "showbackground": true,
            "ticks": "",
            "zerolinecolor": "white"
           }
          },
          "shapedefaults": {
           "line": {
            "color": "#2a3f5f"
           }
          },
          "ternary": {
           "aaxis": {
            "gridcolor": "white",
            "linecolor": "white",
            "ticks": ""
           },
           "baxis": {
            "gridcolor": "white",
            "linecolor": "white",
            "ticks": ""
           },
           "bgcolor": "#E5ECF6",
           "caxis": {
            "gridcolor": "white",
            "linecolor": "white",
            "ticks": ""
           }
          },
          "title": {
           "x": 0.05
          },
          "xaxis": {
           "automargin": true,
           "gridcolor": "white",
           "linecolor": "white",
           "ticks": "",
           "title": {
            "standoff": 15
           },
           "zerolinecolor": "white",
           "zerolinewidth": 2
          },
          "yaxis": {
           "automargin": true,
           "gridcolor": "white",
           "linecolor": "white",
           "ticks": "",
           "title": {
            "standoff": 15
           },
           "zerolinecolor": "white",
           "zerolinewidth": 2
          }
         }
        }
       }
      },
      "image/png": "[encoded data removed]",
      "text/html": [
       "<div>\n",
       "        \n",
       "        \n",
       "            <div id=\"cf7b8119-85a7-4dc5-8a85-2dca780806a2\" class=\"plotly-graph-div\" style=\"height:525px; width:100%;\"></div>\n",
       "            <script type=\"text/javascript\">\n",
       "                require([\"plotly\"], function(Plotly) {\n",
       "                    window.PLOTLYENV=window.PLOTLYENV || {};\n",
       "                    \n",
       "                if (document.getElementById(\"cf7b8119-85a7-4dc5-8a85-2dca780806a2\")) {\n",
       "                    Plotly.newPlot(\n",
       "                        'cf7b8119-85a7-4dc5-8a85-2dca780806a2',\n",
       "                        [{\"customdata\": [[\"Situ\\u00e9 \\u00e0 Paris, le Ritz Paris propose une s\\u00e9lection de bars et de restaurants, une salle de sport, ainsi qu'un centre de bien-\\u00eatre agr\\u00e9ment\\u00e9 d'une piscine, d'un sauna et d'installations de massage, \\u00e0...\"], [\"Situ\\u00e9 \\u00e0 Paris, LE MARAIS PRESTIGE Luxueux - Cosy - Wifi propose une vue sur le jardin et une connexion Wi-Fi gratuite, \\u00e0 300 m\\u00e8tres du centre Pompidou et \\u00e0 800 m\\u00e8tres de la cath\\u00e9drale Notre-Dame. \"], [\"Le Notre Dame - Luxury Apartment with Seine View est un h\\u00e9bergement ind\\u00e9pendant situ\\u00e9 dans le 6\\u00e8me arrondissement de Paris. \"], [\"Le Beauquartier Paris\\u00a0-\\u00a0Grands Boulevards propose des h\\u00e9bergements climatis\\u00e9s dot\\u00e9s d\\u2019une connexion Wi-Fi gratuite \\u00e0 Paris, \\u00e0 1,2\\u00a0km de l'op\\u00e9ra Garnier. \"], [\"Situ\\u00e9 \\u00e0 Paris, \\u00e0 moins de 300 m\\u00e8tres du mus\\u00e9e d'Orsay, le J.K. Place Paris propose un service d'enregistrement et de d\\u00e9part rapides, des chambres pour les personnes souffrant d'allergies, un...\"], [\"Situ\\u00e9 \\u00e0 Paris, \\u00e0 2,4 km de la tour Eiffel, le Sourire Boutique H\\u00f4tel Particulier poss\\u00e8de une terrasse, un salon commun, un bar et une connexion Wi-Fi gratuite. \"], [\"Le My Op\\u00e9ra est situ\\u00e9 dans le 9\\u00e8me arr. Le quartier de Paris se trouve \\u00e0 1,8 km du Sacr\\u00e9-C\\u0153ur, \\u00e0 1,9 km du mus\\u00e9e de l'Orangerie et \\u00e0 2,3 km de la salle de concert La Cigale. \"], [\"Le My Showroom propose un h\\u00e9bergement avec une connexion Wi-Fi gratuite \\u00e0 Paris, \\u00e0 2,4 km de l'op\\u00e9ra Bastille, \\u00e0 2,6 km de la salle de concert La Cigale et \\u00e0 2,9 km de Sainte-Chapelle. \"], [\"Le Families and friends - Center - 110 sqm propose un h\\u00e9bergement dot\\u00e9 d\\u2019une connexion Wi-Fi gratuite \\u00e0 Paris, \\u00e0 moins de 1 km du Centre Pompidou, 17 minutes de marche du mus\\u00e9e du Louvre et 2,1 km de...\"], [\"Situ\\u00e9 \\u00e0 Paris, \\u00e0 500 m\\u00e8tres de la Tour Eiffel, le Relais 12 Bis Luxury B&B vous propose des chambres climatis\\u00e9es et une connexion Wi-Fi gratuite dans l'ensemble de ses locaux. \"], [\"Dot\\u00e9 d\\u2019un bar, d\\u2019un restaurant, d\\u2019une salle de sport et d\\u2019un parking priv\\u00e9, l\\u2019H\\u00f4tel Particulier Villeroy propose des h\\u00e9bergements \\u00e0 Paris, \\u00e0 1,6 km du mus\\u00e9e de l'Orangerie. \"], [\"Le Boutik Boheme Le Loft Batignolles propose un h\\u00e9bergement dans le 17\\u00e8me\\u00a0arrondissement de Paris, \\u00e0 1,8\\u00a0km de la salle de concert La\\u00a0Cigale, 2,2\\u00a0km du Sacr\\u00e9-C\\u0153ur et 2,6\\u00a0km de l\\u2019op\\u00e9ra Garnier. \"], [\"Situ\\u00e9 \\u00e0 Paris, le St Honore propose un h\\u00e9bergement avec connexion Wi-Fi gratuite, \\u00e0 200 m\\u00e8tres du mus\\u00e9e du Louvre, \\u00e0 1,4 km de Sainte-Chapelle, \\u00e0 1,7 km du centre Pompidou et \\u00e0 1,9 km du mus\\u00e9e...\"], [\"Dot\\u00e9 d'une terrasse bien expos\\u00e9e et offrant une vue sur la ville, le TRIBE Paris Batignolles est situ\\u00e9 \\u00e0 Paris, \\u00e0 2,3\\u00a0km de la basilique du Sacr\\u00e9-C\\u0153ur. Vous pourrez profiter d'un bar sur place. \"]], \"hovertemplate\": \"<b>%{hovertext}</b><br><br>latitude=%{lat}<br>longitude=%{lon}<br>description=%{customdata[0]}<br>score=%{marker.color}<extra></extra>\", \"hovertext\": [\"Ritz Paris\", \"LE MARAIS PRESTIGE Luxueux - Cosy - Wifi\", \"Le Notre Dame - Luxury Apartment with Seine View\", \"Beauquartier Paris - Grands Boulevards\", \"J.K. Place Paris\", \"Sourire Boutique H\\u00f4tel Particulier\", \"My Op\\u00e9ra\", \"My Showroom\", \"Families and friends - Center - 110 sqm\", \"Relais12bis Bed & Breakfast By Eiffel Tower\", \"H\\u00f4tel Particulier Villeroy\", \"Boutik Boheme Le Loft Batignolles\", \"Chez Vous ST HONOR\\u00c9\", \"TRIBE Paris Batignolles\"], \"lat\": [48.8678979521744, 48.8585607, 48.8547578144066, 48.8725005, 48.861187, 48.8551251490439, 48.8781902, 48.8690411, 48.865213235555, 48.8538428389106, 48.865229, 48.8884738, 48.862395, 48.8904782081564], \"legendgroup\": \"\", \"lon\": [2.32878010185243, 2.3556057, 2.34200057637872, 2.3483493, 2.321622, 2.27542282943045, 2.3273697, 2.3603507, 2.3503628773155, 2.29421348220899, 2.304762, 2.3207222, 2.338453, 2.31742900489348], \"marker\": {\"color\": [9.6, 9.7, 9.7, 9.8, 9.8, 9.6, 9.7, 9.6, 9.9, 9.8, 10.0, 10.0, 9.6, 9.6], \"coloraxis\": \"coloraxis\"}, \"mode\": \"markers\", \"name\": \"\", \"showlegend\": false, \"subplot\": \"mapbox\", \"type\": \"scattermapbox\"}],\n",
       "                        {\"coloraxis\": {\"colorbar\": {\"title\": {\"text\": \"score\"}}, \"colorscale\": [[0.0, \"rgb(3, 35, 51)\"], [0.09090909090909091, \"rgb(13, 48, 100)\"], [0.18181818181818182, \"rgb(53, 50, 155)\"], [0.2727272727272727, \"rgb(93, 62, 153)\"], [0.36363636363636365, \"rgb(126, 77, 143)\"], [0.45454545454545453, \"rgb(158, 89, 135)\"], [0.5454545454545454, \"rgb(193, 100, 121)\"], [0.6363636363636364, \"rgb(225, 113, 97)\"], [0.7272727272727273, \"rgb(246, 139, 69)\"], [0.8181818181818182, \"rgb(251, 173, 60)\"], [0.9090909090909091, \"rgb(246, 211, 70)\"], [1.0, \"rgb(231, 250, 90)\"]]}, \"legend\": {\"tracegroupgap\": 0}, \"mapbox\": {\"center\": {\"lat\": 48.867349464160505, \"lon\": 2.3275316765771126}, \"domain\": {\"x\": [0.0, 1.0], \"y\": [0.0, 1.0]}, \"style\": \"carto-positron\", \"zoom\": 4}, \"margin\": {\"t\": 60}, \"template\": {\"data\": {\"bar\": [{\"error_x\": {\"color\": \"#2a3f5f\"}, \"error_y\": {\"color\": \"#2a3f5f\"}, \"marker\": {\"line\": {\"color\": \"#E5ECF6\", \"width\": 0.5}}, \"type\": \"bar\"}], \"barpolar\": [{\"marker\": {\"line\": {\"color\": \"#E5ECF6\", \"width\": 0.5}}, \"type\": \"barpolar\"}], \"carpet\": [{\"aaxis\": {\"endlinecolor\": \"#2a3f5f\", \"gridcolor\": \"white\", \"linecolor\": \"white\", \"minorgridcolor\": \"white\", \"startlinecolor\": \"#2a3f5f\"}, \"baxis\": {\"endlinecolor\": \"#2a3f5f\", \"gridcolor\": \"white\", \"linecolor\": \"white\", \"minorgridcolor\": \"white\", \"startlinecolor\": \"#2a3f5f\"}, \"type\": \"carpet\"}], \"choropleth\": [{\"colorbar\": {\"outlinewidth\": 0, \"ticks\": \"\"}, \"type\": \"choropleth\"}], \"contour\": [{\"colorbar\": {\"outlinewidth\": 0, \"ticks\": \"\"}, \"colorscale\": [[0.0, \"#0d0887\"], [0.1111111111111111, \"#46039f\"], [0.2222222222222222, \"#7201a8\"], [0.3333333333333333, \"#9c179e\"], [0.4444444444444444, \"#bd3786\"], [0.5555555555555556, \"#d8576b\"], [0.6666666666666666, \"#ed7953\"], [0.7777777777777778, \"#fb9f3a\"], [0.8888888888888888, \"#fdca26\"], [1.0, \"#f0f921\"]], \"type\": \"contour\"}], \"contourcarpet\": [{\"colorbar\": {\"outlinewidth\": 0, \"ticks\": \"\"}, \"type\": \"contourcarpet\"}], \"heatmap\": [{\"colorbar\": {\"outlinewidth\": 0, \"ticks\": \"\"}, \"colorscale\": [[0.0, \"#0d0887\"], [0.1111111111111111, \"#46039f\"], [0.2222222222222222, \"#7201a8\"], [0.3333333333333333, \"#9c179e\"], [0.4444444444444444, \"#bd3786\"], [0.5555555555555556, \"#d8576b\"], [0.6666666666666666, \"#ed7953\"], [0.7777777777777778, \"#fb9f3a\"], [0.8888888888888888, \"#fdca26\"], [1.0, \"#f0f921\"]], \"type\": \"heatmap\"}], \"heatmapgl\": [{\"colorbar\": {\"outlinewidth\": 0, \"ticks\": \"\"}, \"colorscale\": [[0.0, \"#0d0887\"], [0.1111111111111111, \"#46039f\"], [0.2222222222222222, \"#7201a8\"], [0.3333333333333333, \"#9c179e\"], [0.4444444444444444, \"#bd3786\"], [0.5555555555555556, \"#d8576b\"], [0.6666666666666666, \"#ed7953\"], [0.7777777777777778, \"#fb9f3a\"], [0.8888888888888888, \"#fdca26\"], [1.0, \"#f0f921\"]], \"type\": \"heatmapgl\"}], \"histogram\": [{\"marker\": {\"colorbar\": {\"outlinewidth\": 0, \"ticks\": \"\"}}, \"type\": \"histogram\"}], \"histogram2d\": [{\"colorbar\": {\"outlinewidth\": 0, \"ticks\": \"\"}, \"colorscale\": [[0.0, \"#0d0887\"], [0.1111111111111111, \"#46039f\"], [0.2222222222222222, \"#7201a8\"], [0.3333333333333333, \"#9c179e\"], [0.4444444444444444, \"#bd3786\"], [0.5555555555555556, \"#d8576b\"], [0.6666666666666666, \"#ed7953\"], [0.7777777777777778, \"#fb9f3a\"], [0.8888888888888888, \"#fdca26\"], [1.0, \"#f0f921\"]], \"type\": \"histogram2d\"}], \"histogram2dcontour\": [{\"colorbar\": {\"outlinewidth\": 0, \"ticks\": \"\"}, \"colorscale\": [[0.0, \"#0d0887\"], [0.1111111111111111, \"#46039f\"], [0.2222222222222222, \"#7201a8\"], [0.3333333333333333, \"#9c179e\"], [0.4444444444444444, \"#bd3786\"], [0.5555555555555556, \"#d8576b\"], [0.6666666666666666, \"#ed7953\"], [0.7777777777777778, \"#fb9f3a\"], [0.8888888888888888, \"#fdca26\"], [1.0, \"#f0f921\"]], \"type\": \"histogram2dcontour\"}], \"mesh3d\": [{\"colorbar\": {\"outlinewidth\": 0, \"ticks\": \"\"}, \"type\": \"mesh3d\"}], \"parcoords\": [{\"line\": {\"colorbar\": {\"outlinewidth\": 0, \"ticks\": \"\"}}, \"type\": \"parcoords\"}], \"pie\": [{\"automargin\": true, \"type\": \"pie\"}], \"scatter\": [{\"marker\": {\"colorbar\": {\"outlinewidth\": 0, \"ticks\": \"\"}}, \"type\": \"scatter\"}], \"scatter3d\": [{\"line\": {\"colorbar\": {\"outlinewidth\": 0, \"ticks\": \"\"}}, \"marker\": {\"colorbar\": {\"outlinewidth\": 0, \"ticks\": \"\"}}, \"type\": \"scatter3d\"}], \"scattercarpet\": [{\"marker\": {\"colorbar\": {\"outlinewidth\": 0, \"ticks\": \"\"}}, \"type\": \"scattercarpet\"}], \"scattergeo\": [{\"marker\": {\"colorbar\": {\"outlinewidth\": 0, \"ticks\": \"\"}}, \"type\": \"scattergeo\"}], \"scattergl\": [{\"marker\": {\"colorbar\": {\"outlinewidth\": 0, \"ticks\": \"\"}}, \"type\": \"scattergl\"}], \"scattermapbox\": [{\"marker\": {\"colorbar\": {\"outlinewidth\": 0, \"ticks\": \"\"}}, \"type\": \"scattermapbox\"}], \"scatterpolar\": [{\"marker\": {\"colorbar\": {\"outlinewidth\": 0, \"ticks\": \"\"}}, \"type\": \"scatterpolar\"}], \"scatterpolargl\": [{\"marker\": {\"colorbar\": {\"outlinewidth\": 0, \"ticks\": \"\"}}, \"type\": \"scatterpolargl\"}], \"scatterternary\": [{\"marker\": {\"colorbar\": {\"outlinewidth\": 0, \"ticks\": \"\"}}, \"type\": \"scatterternary\"}], \"surface\": [{\"colorbar\": {\"outlinewidth\": 0, \"ticks\": \"\"}, \"colorscale\": [[0.0, \"#0d0887\"], [0.1111111111111111, \"#46039f\"], [0.2222222222222222, \"#7201a8\"], [0.3333333333333333, \"#9c179e\"], [0.4444444444444444, \"#bd3786\"], [0.5555555555555556, \"#d8576b\"], [0.6666666666666666, \"#ed7953\"], [0.7777777777777778, \"#fb9f3a\"], [0.8888888888888888, \"#fdca26\"], [1.0, \"#f0f921\"]], \"type\": \"surface\"}], \"table\": [{\"cells\": {\"fill\": {\"color\": \"#EBF0F8\"}, \"line\": {\"color\": \"white\"}}, \"header\": {\"fill\": {\"color\": \"#C8D4E3\"}, \"line\": {\"color\": \"white\"}}, \"type\": \"table\"}]}, \"layout\": {\"annotationdefaults\": {\"arrowcolor\": \"#2a3f5f\", \"arrowhead\": 0, \"arrowwidth\": 1}, \"coloraxis\": {\"colorbar\": {\"outlinewidth\": 0, \"ticks\": \"\"}}, \"colorscale\": {\"diverging\": [[0, \"#8e0152\"], [0.1, \"#c51b7d\"], [0.2, \"#de77ae\"], [0.3, \"#f1b6da\"], [0.4, \"#fde0ef\"], [0.5, \"#f7f7f7\"], [0.6, \"#e6f5d0\"], [0.7, \"#b8e186\"], [0.8, \"#7fbc41\"], [0.9, \"#4d9221\"], [1, \"#276419\"]], \"sequential\": [[0.0, \"#0d0887\"], [0.1111111111111111, \"#46039f\"], [0.2222222222222222, \"#7201a8\"], [0.3333333333333333, \"#9c179e\"], [0.4444444444444444, \"#bd3786\"], [0.5555555555555556, \"#d8576b\"], [0.6666666666666666, \"#ed7953\"], [0.7777777777777778, \"#fb9f3a\"], [0.8888888888888888, \"#fdca26\"], [1.0, \"#f0f921\"]], \"sequentialminus\": [[0.0, \"#0d0887\"], [0.1111111111111111, \"#46039f\"], [0.2222222222222222, \"#7201a8\"], [0.3333333333333333, \"#9c179e\"], [0.4444444444444444, \"#bd3786\"], [0.5555555555555556, \"#d8576b\"], [0.6666666666666666, \"#ed7953\"], [0.7777777777777778, \"#fb9f3a\"], [0.8888888888888888, \"#fdca26\"], [1.0, \"#f0f921\"]]}, \"colorway\": [\"#636efa\", \"#EF553B\", \"#00cc96\", \"#ab63fa\", \"#FFA15A\", \"#19d3f3\", \"#FF6692\", \"#B6E880\", \"#FF97FF\", \"#FECB52\"], \"font\": {\"color\": \"#2a3f5f\"}, \"geo\": {\"bgcolor\": \"white\", \"lakecolor\": \"white\", \"landcolor\": \"#E5ECF6\", \"showlakes\": true, \"showland\": true, \"subunitcolor\": \"white\"}, \"hoverlabel\": {\"align\": \"left\"}, \"hovermode\": \"closest\", \"mapbox\": {\"style\": \"light\"}, \"paper_bgcolor\": \"white\", \"plot_bgcolor\": \"#E5ECF6\", \"polar\": {\"angularaxis\": {\"gridcolor\": \"white\", \"linecolor\": \"white\", \"ticks\": \"\"}, \"bgcolor\": \"#E5ECF6\", \"radialaxis\": {\"gridcolor\": \"white\", \"linecolor\": \"white\", \"ticks\": \"\"}}, \"scene\": {\"xaxis\": {\"backgroundcolor\": \"#E5ECF6\", \"gridcolor\": \"white\", \"gridwidth\": 2, \"linecolor\": \"white\", \"showbackground\": true, \"ticks\": \"\", \"zerolinecolor\": \"white\"}, \"yaxis\": {\"backgroundcolor\": \"#E5ECF6\", \"gridcolor\": \"white\", \"gridwidth\": 2, \"linecolor\": \"white\", \"showbackground\": true, \"ticks\": \"\", \"zerolinecolor\": \"white\"}, \"zaxis\": {\"backgroundcolor\": \"#E5ECF6\", \"gridcolor\": \"white\", \"gridwidth\": 2, \"linecolor\": \"white\", \"showbackground\": true, \"ticks\": \"\", \"zerolinecolor\": \"white\"}}, \"shapedefaults\": {\"line\": {\"color\": \"#2a3f5f\"}}, \"ternary\": {\"aaxis\": {\"gridcolor\": \"white\", \"linecolor\": \"white\", \"ticks\": \"\"}, \"baxis\": {\"gridcolor\": \"white\", \"linecolor\": \"white\", \"ticks\": \"\"}, \"bgcolor\": \"#E5ECF6\", \"caxis\": {\"gridcolor\": \"white\", \"linecolor\": \"white\", \"ticks\": \"\"}}, \"title\": {\"x\": 0.05}, \"xaxis\": {\"automargin\": true, \"gridcolor\": \"white\", \"linecolor\": \"white\", \"ticks\": \"\", \"title\": {\"standoff\": 15}, \"zerolinecolor\": \"white\", \"zerolinewidth\": 2}, \"yaxis\": {\"automargin\": true, \"gridcolor\": \"white\", \"linecolor\": \"white\", \"ticks\": \"\", \"title\": {\"standoff\": 15}, \"zerolinecolor\": \"white\", \"zerolinewidth\": 2}}}},\n",
       "                        {\"responsive\": true}\n",
       "                    ).then(function(){\n",
       "                            \n",
       "var gd = document.getElementById('cf7b8119-85a7-4dc5-8a85-2dca780806a2');\n",
       "var x = new MutationObserver(function (mutations, observer) {{\n",
       "        var display = window.getComputedStyle(gd).display;\n",
       "        if (!display || display === 'none') {{\n",
       "            console.log([gd, 'removed!']);\n",
       "            Plotly.purge(gd);\n",
       "            observer.disconnect();\n",
       "        }}\n",
       "}});\n",
       "\n",
       "// Listen for the removal of the full notebook cells\n",
       "var notebookContainer = gd.closest('#notebook-container');\n",
       "if (notebookContainer) {{\n",
       "    x.observe(notebookContainer, {childList: true});\n",
       "}}\n",
       "\n",
       "// Listen for the clearing of the current output cell\n",
       "var outputEl = gd.closest('.output');\n",
       "if (outputEl) {{\n",
       "    x.observe(outputEl, {childList: true});\n",
       "}}\n",
       "\n",
       "                        })\n",
       "                };\n",
       "                });\n",
       "            </script>\n",
       "        </div>"
      ]
     },
     "metadata": {},
     "output_type": "display_data"
    }
   ],
   "source": [
    "\n",
    "hotels_with_score = hotels.loc[hotels['score']>9.5,:]\n",
    "\n",
    "fig = px.scatter_mapbox(hotels_with_score, lat=\"latitude\", lon=\"longitude\", hover_name = 'name', zoom = 4,\n",
    "                        hover_data = ['description'],\n",
    "                        color = 'score', color_continuous_scale = 'thermal',\n",
    "                        mapbox_style=\"carto-positron\")\n",
    "fig.show()"
   ]
  },
  {
   "cell_type": "code",
   "execution_count": null,
   "metadata": {},
   "outputs": [],
   "source": []
  }
 ],
 "metadata": {
  "kernelspec": {
   "display_name": "Python 3",
   "language": "python",
   "name": "python3"
  },
  "language_info": {
   "codemirror_mode": {
    "name": "ipython",
    "version": 3
   },
   "file_extension": ".py",
   "mimetype": "text/x-python",
   "name": "python",
   "nbconvert_exporter": "python",
   "pygments_lexer": "ipython3",
   "version": "3.8.6"
  }
 },
 "nbformat": 4,
 "nbformat_minor": 4
}
