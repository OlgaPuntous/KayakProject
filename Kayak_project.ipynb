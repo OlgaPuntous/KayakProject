{
 "cells": [
  {
   "cell_type": "code",
   "execution_count": 4,
   "metadata": {},
   "outputs": [
    {
     "name": "stdout",
     "output_type": "stream",
     "text": [
      "Requirement already satisfied: plotly_express==0.4.0 in /opt/conda/lib/python3.8/site-packages (0.4.0)\n",
      "Requirement already satisfied: statsmodels>=0.9.0 in /opt/conda/lib/python3.8/site-packages (from plotly_express==0.4.0) (0.12.0)\n",
      "Requirement already satisfied: pandas>=0.20.0 in /opt/conda/lib/python3.8/site-packages (from plotly_express==0.4.0) (1.1.3)\n",
      "Requirement already satisfied: patsy>=0.5 in /opt/conda/lib/python3.8/site-packages (from plotly_express==0.4.0) (0.5.1)\n",
      "Requirement already satisfied: plotly>=4.0.0 in /opt/conda/lib/python3.8/site-packages (from plotly_express==0.4.0) (4.14.3)\n",
      "Requirement already satisfied: numpy>=1.11 in /opt/conda/lib/python3.8/site-packages (from plotly_express==0.4.0) (1.19.2)\n",
      "Requirement already satisfied: scipy>=0.18 in /opt/conda/lib/python3.8/site-packages (from plotly_express==0.4.0) (1.5.2)\n",
      "Requirement already satisfied: python-dateutil>=2.7.3 in /opt/conda/lib/python3.8/site-packages (from pandas>=0.20.0->plotly_express==0.4.0) (2.8.1)\n",
      "Requirement already satisfied: pytz>=2017.2 in /opt/conda/lib/python3.8/site-packages (from pandas>=0.20.0->plotly_express==0.4.0) (2020.1)\n",
      "Requirement already satisfied: six in /opt/conda/lib/python3.8/site-packages (from patsy>=0.5->plotly_express==0.4.0) (1.15.0)\n",
      "Requirement already satisfied: retrying>=1.3.3 in /opt/conda/lib/python3.8/site-packages (from plotly>=4.0.0->plotly_express==0.4.0) (1.3.3)\n",
      "Note: you may need to restart the kernel to use updated packages.\n"
     ]
    }
   ],
   "source": [
    "pip install plotly_express==0.4.0\n"
   ]
  },
  {
   "cell_type": "code",
   "execution_count": 5,
   "metadata": {},
   "outputs": [
    {
     "name": "stdout",
     "output_type": "stream",
     "text": [
      "Requirement already satisfied: Scrapy in /opt/conda/lib/python3.8/site-packages (2.4.1)\n",
      "Requirement already satisfied: parsel>=1.5.0 in /opt/conda/lib/python3.8/site-packages (from Scrapy) (1.6.0)\n",
      "Requirement already satisfied: zope.interface>=4.1.3 in /opt/conda/lib/python3.8/site-packages (from Scrapy) (5.2.0)\n",
      "Requirement already satisfied: w3lib>=1.17.0 in /opt/conda/lib/python3.8/site-packages (from Scrapy) (1.22.0)\n",
      "Requirement already satisfied: itemadapter>=0.1.0 in /opt/conda/lib/python3.8/site-packages (from Scrapy) (0.2.0)\n",
      "Requirement already satisfied: service-identity>=16.0.0 in /opt/conda/lib/python3.8/site-packages (from Scrapy) (18.1.0)\n",
      "Requirement already satisfied: queuelib>=1.4.2 in /opt/conda/lib/python3.8/site-packages (from Scrapy) (1.5.0)\n",
      "Requirement already satisfied: lxml>=3.5.0; platform_python_implementation == \"CPython\" in /opt/conda/lib/python3.8/site-packages (from Scrapy) (4.6.2)\n",
      "Requirement already satisfied: cryptography>=2.0 in /opt/conda/lib/python3.8/site-packages (from Scrapy) (3.1.1)\n",
      "Requirement already satisfied: pyOpenSSL>=16.2.0 in /opt/conda/lib/python3.8/site-packages (from Scrapy) (19.1.0)\n",
      "Requirement already satisfied: PyDispatcher>=2.0.5 in /opt/conda/lib/python3.8/site-packages (from Scrapy) (2.0.5)\n",
      "Requirement already satisfied: cssselect>=0.9.1 in /opt/conda/lib/python3.8/site-packages (from Scrapy) (1.1.0)\n",
      "Requirement already satisfied: itemloaders>=1.0.1 in /opt/conda/lib/python3.8/site-packages (from Scrapy) (1.0.4)\n",
      "Requirement already satisfied: protego>=0.1.15 in /opt/conda/lib/python3.8/site-packages (from Scrapy) (0.1.16)\n",
      "Requirement already satisfied: Twisted>=17.9.0 in /opt/conda/lib/python3.8/site-packages (from Scrapy) (20.3.0)\n",
      "Requirement already satisfied: six>=1.6.0 in /opt/conda/lib/python3.8/site-packages (from parsel>=1.5.0->Scrapy) (1.15.0)\n",
      "Requirement already satisfied: setuptools in /opt/conda/lib/python3.8/site-packages (from zope.interface>=4.1.3->Scrapy) (49.6.0.post20201009)\n",
      "Requirement already satisfied: attrs>=16.0.0 in /opt/conda/lib/python3.8/site-packages (from service-identity>=16.0.0->Scrapy) (20.2.0)\n",
      "Requirement already satisfied: pyasn1-modules in /opt/conda/lib/python3.8/site-packages (from service-identity>=16.0.0->Scrapy) (0.2.8)\n",
      "Requirement already satisfied: pyasn1 in /opt/conda/lib/python3.8/site-packages (from service-identity>=16.0.0->Scrapy) (0.4.8)\n",
      "Requirement already satisfied: cffi!=1.11.3,>=1.8 in /opt/conda/lib/python3.8/site-packages (from cryptography>=2.0->Scrapy) (1.14.3)\n",
      "Requirement already satisfied: jmespath>=0.9.5 in /opt/conda/lib/python3.8/site-packages (from itemloaders>=1.0.1->Scrapy) (0.10.0)\n",
      "Requirement already satisfied: constantly>=15.1 in /opt/conda/lib/python3.8/site-packages (from Twisted>=17.9.0->Scrapy) (15.1.0)\n",
      "Requirement already satisfied: hyperlink>=17.1.1 in /opt/conda/lib/python3.8/site-packages (from Twisted>=17.9.0->Scrapy) (21.0.0)\n",
      "Requirement already satisfied: Automat>=0.3.0 in /opt/conda/lib/python3.8/site-packages (from Twisted>=17.9.0->Scrapy) (20.2.0)\n",
      "Requirement already satisfied: PyHamcrest!=1.10.0,>=1.9.0 in /opt/conda/lib/python3.8/site-packages (from Twisted>=17.9.0->Scrapy) (2.0.2)\n",
      "Requirement already satisfied: incremental>=16.10.1 in /opt/conda/lib/python3.8/site-packages (from Twisted>=17.9.0->Scrapy) (17.5.0)\n",
      "Requirement already satisfied: pycparser in /opt/conda/lib/python3.8/site-packages (from cffi!=1.11.3,>=1.8->cryptography>=2.0->Scrapy) (2.20)\n",
      "Requirement already satisfied: idna>=2.5 in /opt/conda/lib/python3.8/site-packages (from hyperlink>=17.1.1->Twisted>=17.9.0->Scrapy) (2.10)\n",
      "Note: you may need to restart the kernel to use updated packages.\n"
     ]
    }
   ],
   "source": [
    "pip install Scrapy"
   ]
  },
  {
   "cell_type": "code",
   "execution_count": 6,
   "metadata": {},
   "outputs": [
    {
     "ename": "ModuleNotFoundError",
     "evalue": "No module named 'boto3'",
     "output_type": "error",
     "traceback": [
      "\u001b[0;31m---------------------------------------------------------------------------\u001b[0m",
      "\u001b[0;31mModuleNotFoundError\u001b[0m                       Traceback (most recent call last)",
      "\u001b[0;32m<ipython-input-6-f6f91809ac6a>\u001b[0m in \u001b[0;36m<module>\u001b[0;34m\u001b[0m\n\u001b[1;32m      8\u001b[0m \u001b[0;32mimport\u001b[0m \u001b[0mplotly\u001b[0m\u001b[0;34m.\u001b[0m\u001b[0mexpress\u001b[0m \u001b[0;32mas\u001b[0m \u001b[0mpx\u001b[0m\u001b[0;34m\u001b[0m\u001b[0;34m\u001b[0m\u001b[0m\n\u001b[1;32m      9\u001b[0m \u001b[0;32mimport\u001b[0m \u001b[0mglob\u001b[0m\u001b[0;34m\u001b[0m\u001b[0;34m\u001b[0m\u001b[0m\n\u001b[0;32m---> 10\u001b[0;31m \u001b[0;32mimport\u001b[0m \u001b[0mboto3\u001b[0m\u001b[0;34m\u001b[0m\u001b[0;34m\u001b[0m\u001b[0m\n\u001b[0m",
      "\u001b[0;31mModuleNotFoundError\u001b[0m: No module named 'boto3'"
     ]
    }
   ],
   "source": [
    "import os \n",
    "import logging\n",
    "import scrapy\n",
    "import requests\n",
    "from scrapy.crawler import CrawlerProcess\n",
    "import json\n",
    "import pandas as pd\n",
    "import plotly.express as px\n",
    "import glob\n",
    "import boto3"
   ]
  },
  {
   "cell_type": "markdown",
   "metadata": {},
   "source": [
    "# Cities and creation of df"
   ]
  },
  {
   "cell_type": "code",
   "execution_count": 9,
   "metadata": {},
   "outputs": [],
   "source": [
    "city_names= [\"Mont Saint Michel\",\n",
    "\"St Malo\",\n",
    "\"Bayeux\",\n",
    "\"Le Havre\",\n",
    "\"Rouen\",\n",
    "\"Paris\",\n",
    "\"Amiens\",\n",
    "\"Lille\",\n",
    "\"Strasbourg\",\n",
    "\"Chateau du Haut Koenigsbourg\",\n",
    "\"Colmar\",\n",
    "\"Eguisheim\",\n",
    "\"Besancon\",\n",
    "\"Dijon\",\n",
    "\"Annecy\",\n",
    "\"Grenoble\",\n",
    "\"Lyon\",\n",
    "\"Gorges du Verdon\",\n",
    "\"Bormes les Mimosas\"\n",
    "]"
   ]
  },
  {
   "cell_type": "code",
   "execution_count": 10,
   "metadata": {},
   "outputs": [
    {
     "data": {
      "text/html": [
       "<div>\n",
       "<style scoped>\n",
       "    .dataframe tbody tr th:only-of-type {\n",
       "        vertical-align: middle;\n",
       "    }\n",
       "\n",
       "    .dataframe tbody tr th {\n",
       "        vertical-align: top;\n",
       "    }\n",
       "\n",
       "    .dataframe thead th {\n",
       "        text-align: right;\n",
       "    }\n",
       "</style>\n",
       "<table border=\"1\" class=\"dataframe\">\n",
       "  <thead>\n",
       "    <tr style=\"text-align: right;\">\n",
       "      <th></th>\n",
       "      <th>city_id</th>\n",
       "      <th>name</th>\n",
       "      <th>latitude</th>\n",
       "      <th>longitude</th>\n",
       "      <th>main_weather</th>\n",
       "      <th>expected_rain</th>\n",
       "      <th>day_temperature</th>\n",
       "    </tr>\n",
       "  </thead>\n",
       "  <tbody>\n",
       "  </tbody>\n",
       "</table>\n",
       "</div>"
      ],
      "text/plain": [
       "Empty DataFrame\n",
       "Columns: [city_id, name, latitude, longitude, main_weather, expected_rain, day_temperature]\n",
       "Index: []"
      ]
     },
     "execution_count": 10,
     "metadata": {},
     "output_type": "execute_result"
    }
   ],
   "source": [
    "df = pd.DataFrame(columns=['city_id' , 'name', 'latitude', 'longitude', 'main_weather', 'expected_rain', 'day_temperature'])\n",
    "df"
   ]
  },
  {
   "cell_type": "markdown",
   "metadata": {},
   "source": [
    "# Coordinates, weather info, convert df to csv"
   ]
  },
  {
   "cell_type": "code",
   "execution_count": 11,
   "metadata": {},
   "outputs": [],
   "source": [
    "api_key = \"f482d2b26c2e58bf480acbe962e74f18\""
   ]
  },
  {
   "cell_type": "code",
   "execution_count": 12,
   "metadata": {
    "scrolled": true
   },
   "outputs": [
    {
     "name": "stdout",
     "output_type": "stream",
     "text": [
      "making request: Mont Saint Michel\n",
      "{'lat': 48.6359, 'lon': -1.5126, 'timezone': 'Europe/Paris', 'timezone_offset': 3600, 'daily': [{'dt': 1610971200, 'sunrise': 1610956254, 'sunset': 1610988102, 'temp': {'day': 7.31, 'min': 3.45, 'max': 8.65, 'night': 6.93, 'eve': 7.39, 'morn': 3.88}, 'feels_like': {'day': 2.69, 'night': -0.22, 'eve': 1.96, 'morn': -0.13}, 'pressure': 1026, 'humidity': 77, 'dew_point': 3.67, 'wind_speed': 4.6, 'wind_deg': 216, 'weather': [{'id': 804, 'main': 'Clouds', 'description': 'overcast clouds', 'icon': '04d'}], 'clouds': 99, 'pop': 0.07, 'uvi': 0.93}, {'dt': 1611057600, 'sunrise': 1611042603, 'sunset': 1611074591, 'temp': {'day': 10.38, 'min': 7.63, 'max': 10.73, 'night': 9.42, 'eve': 9.21, 'morn': 9.63}, 'feels_like': {'day': 3.9, 'night': 1.18, 'eve': 3.08, 'morn': 2.97}, 'pressure': 1013, 'humidity': 83, 'dew_point': 7.75, 'wind_speed': 8.47, 'wind_deg': 202, 'weather': [{'id': 500, 'main': 'Rain', 'description': 'light rain', 'icon': '10d'}], 'clouds': 98, 'pop': 0.51, 'rain': 0.53, 'uvi': 0.84}, {'dt': 1611144000, 'sunrise': 1611128949, 'sunset': 1611161081, 'temp': {'day': 9.89, 'min': 8.28, 'max': 10.34, 'night': 10.2, 'eve': 9.67, 'morn': 8.75}, 'feels_like': {'day': 2.41, 'night': 2.73, 'eve': 1.11, 'morn': 2.03}, 'pressure': 994, 'humidity': 87, 'dew_point': 7.87, 'wind_speed': 9.96, 'wind_deg': 194, 'weather': [{'id': 500, 'main': 'Rain', 'description': 'light rain', 'icon': '10d'}], 'clouds': 100, 'pop': 1, 'rain': 5.14, 'uvi': 0.46}, {'dt': 1611230400, 'sunrise': 1611215293, 'sunset': 1611247572, 'temp': {'day': 8.53, 'min': 4.93, 'max': 10.37, 'night': 5.85, 'eve': 4.93, 'morn': 5.56}, 'feels_like': {'day': 2.74, 'night': 1.23, 'eve': 0.06, 'morn': -1.02}, 'pressure': 993, 'humidity': 73, 'dew_point': 4.11, 'wind_speed': 6.38, 'wind_deg': 209, 'weather': [{'id': 501, 'main': 'Rain', 'description': 'moderate rain', 'icon': '10d'}], 'clouds': 100, 'pop': 1, 'rain': 11.42, 'uvi': 0.96}, {'dt': 1611316800, 'sunrise': 1611301635, 'sunset': 1611334064, 'temp': {'day': 7.97, 'min': 4.6, 'max': 7.97, 'night': 4.6, 'eve': 5.72, 'morn': 4.9}, 'feels_like': {'day': 1.58, 'night': -1.06, 'eve': -0.37, 'morn': -1.08}, 'pressure': 1000, 'humidity': 73, 'dew_point': 3.44, 'wind_speed': 7.1, 'wind_deg': 261, 'weather': [{'id': 500, 'main': 'Rain', 'description': 'light rain', 'icon': '10d'}], 'clouds': 76, 'pop': 0.96, 'rain': 4.34, 'uvi': 0.95}, {'dt': 1611403200, 'sunrise': 1611387974, 'sunset': 1611420557, 'temp': {'day': 7.28, 'min': 4.48, 'max': 7.28, 'night': 4.75, 'eve': 4.58, 'morn': 5.9}, 'feels_like': {'day': 3.52, 'night': -0.6, 'eve': 0.13, 'morn': -5.42}, 'pressure': 997, 'humidity': 76, 'dew_point': 3.4, 'wind_speed': 3.31, 'wind_deg': 279, 'weather': [{'id': 501, 'main': 'Rain', 'description': 'moderate rain', 'icon': '10d'}], 'clouds': 98, 'pop': 1, 'rain': 7.46, 'uvi': 1}, {'dt': 1611489600, 'sunrise': 1611474311, 'sunset': 1611507050, 'temp': {'day': 8.35, 'min': 4.75, 'max': 8.35, 'night': 6.02, 'eve': 6.02, 'morn': 6.41}, 'feels_like': {'day': 1.33, 'night': 1.27, 'eve': 1.44, 'morn': 2.73}, 'pressure': 1002, 'humidity': 75, 'dew_point': 4.29, 'wind_speed': 8.19, 'wind_deg': 284, 'weather': [{'id': 501, 'main': 'Rain', 'description': 'moderate rain', 'icon': '10d'}], 'clouds': 74, 'pop': 1, 'rain': 9.91, 'uvi': 1}, {'dt': 1611576000, 'sunrise': 1611560646, 'sunset': 1611593545, 'temp': {'day': 8.01, 'min': 4.66, 'max': 9.04, 'night': 9.04, 'eve': 7.87, 'morn': 4.66}, 'feels_like': {'day': 4.94, 'night': 4.39, 'eve': 4.24, 'morn': 1.09}, 'pressure': 1016, 'humidity': 80, 'dew_point': 4.84, 'wind_speed': 2.72, 'wind_deg': 222, 'weather': [{'id': 500, 'main': 'Rain', 'description': 'light rain', 'icon': '10d'}], 'clouds': 100, 'pop': 0.52, 'rain': 1.01, 'uvi': 1}]}\n",
      "making request: St Malo\n",
      "{'lat': 48.6455, 'lon': -2.0154, 'timezone': 'Europe/Paris', 'timezone_offset': 3600, 'daily': [{'dt': 1610971200, 'sunrise': 1610956376, 'sunset': 1610988220, 'temp': {'day': 8.15, 'min': 5.3, 'max': 8.71, 'night': 8.71, 'eve': 7.54, 'morn': 5.42}, 'feels_like': {'day': 2.75, 'night': 0.66, 'eve': 1.27, 'morn': 0.67}, 'pressure': 1026, 'humidity': 72, 'dew_point': 3.53, 'wind_speed': 5.68, 'wind_deg': 220, 'weather': [{'id': 804, 'main': 'Clouds', 'description': 'overcast clouds', 'icon': '04d'}], 'clouds': 88, 'pop': 0.07, 'uvi': 0.85}, {'dt': 1611057600, 'sunrise': 1611042725, 'sunset': 1611074709, 'temp': {'day': 10.72, 'min': 9.17, 'max': 10.83, 'night': 9.73, 'eve': 10.17, 'morn': 10.3}, 'feels_like': {'day': 3.69, 'night': 0.67, 'eve': 3.02, 'morn': 3.17}, 'pressure': 1012, 'humidity': 82, 'dew_point': 7.82, 'wind_speed': 9.3, 'wind_deg': 206, 'weather': [{'id': 500, 'main': 'Rain', 'description': 'light rain', 'icon': '10d'}], 'clouds': 100, 'pop': 0.56, 'rain': 0.67, 'uvi': 0.68}, {'dt': 1611144000, 'sunrise': 1611129072, 'sunset': 1611161199, 'temp': {'day': 9.79, 'min': 8.91, 'max': 10.8, 'night': 10.45, 'eve': 10.4, 'morn': 9.39}, 'feels_like': {'day': 2.05, 'night': 2.04, 'eve': 2.53, 'morn': 1.62}, 'pressure': 993, 'humidity': 89, 'dew_point': 8.19, 'wind_speed': 10.42, 'wind_deg': 197, 'weather': [{'id': 500, 'main': 'Rain', 'description': 'light rain', 'icon': '10d'}], 'clouds': 100, 'pop': 1, 'rain': 3.8, 'uvi': 0.45}, {'dt': 1611230400, 'sunrise': 1611215416, 'sunset': 1611247690, 'temp': {'day': 8.74, 'min': 5.45, 'max': 9.94, 'night': 6.77, 'eve': 5.45, 'morn': 6.35}, 'feels_like': {'day': 2.77, 'night': 0.56, 'eve': 1.38, 'morn': -1.06}, 'pressure': 992, 'humidity': 72, 'dew_point': 4.04, 'wind_speed': 6.64, 'wind_deg': 213, 'weather': [{'id': 501, 'main': 'Rain', 'description': 'moderate rain', 'icon': '10d'}], 'clouds': 99, 'pop': 1, 'rain': 11.25, 'uvi': 0.89}, {'dt': 1611316800, 'sunrise': 1611301757, 'sunset': 1611334183, 'temp': {'day': 8.4, 'min': 5.37, 'max': 8.4, 'night': 5.37, 'eve': 6.69, 'morn': 5.92}, 'feels_like': {'day': 0.75, 'night': -1.18, 'eve': -0.84, 'morn': -1.4}, 'pressure': 1000, 'humidity': 69, 'dew_point': 3.12, 'wind_speed': 8.8, 'wind_deg': 269, 'weather': [{'id': 500, 'main': 'Rain', 'description': 'light rain', 'icon': '10d'}], 'clouds': 56, 'pop': 0.85, 'rain': 2.56, 'uvi': 0.95}, {'dt': 1611403200, 'sunrise': 1611388097, 'sunset': 1611420676, 'temp': {'day': 7.31, 'min': 5.68, 'max': 7.37, 'night': 5.68, 'eve': 5.73, 'morn': 6.57}, 'feels_like': {'day': 3.46, 'night': -0.51, 'eve': 0.09, 'morn': -5.39}, 'pressure': 997, 'humidity': 72, 'dew_point': 2.64, 'wind_speed': 3.26, 'wind_deg': 281, 'weather': [{'id': 501, 'main': 'Rain', 'description': 'moderate rain', 'icon': '10d'}], 'clouds': 99, 'pop': 1, 'rain': 6.2, 'uvi': 1}, {'dt': 1611489600, 'sunrise': 1611474434, 'sunset': 1611507169, 'temp': {'day': 8.78, 'min': 5.86, 'max': 8.78, 'night': 6.66, 'eve': 7.01, 'morn': 7.36}, 'feels_like': {'day': 0.56, 'night': 1.18, 'eve': 1.42, 'morn': 2.37}, 'pressure': 1002, 'humidity': 71, 'dew_point': 3.99, 'wind_speed': 9.81, 'wind_deg': 284, 'weather': [{'id': 501, 'main': 'Rain', 'description': 'moderate rain', 'icon': '10d'}], 'clouds': 58, 'pop': 1, 'rain': 8.55, 'uvi': 1}, {'dt': 1611576000, 'sunrise': 1611560768, 'sunset': 1611593664, 'temp': {'day': 8.41, 'min': 6.14, 'max': 9.66, 'night': 9.66, 'eve': 8.65, 'morn': 6.18}, 'feels_like': {'day': 4.9, 'night': 4.17, 'eve': 4.16, 'morn': 2.19}, 'pressure': 1016, 'humidity': 77, 'dew_point': 4.79, 'wind_speed': 3.3, 'wind_deg': 225, 'weather': [{'id': 500, 'main': 'Rain', 'description': 'light rain', 'icon': '10d'}], 'clouds': 100, 'pop': 0.77, 'rain': 1.04, 'uvi': 1}]}\n",
      "making request: Bayeux\n",
      "{'lat': 49.2765, 'lon': -0.7025, 'timezone': 'Europe/Paris', 'timezone_offset': 3600, 'daily': [{'dt': 1610971200, 'sunrise': 1610956201, 'sunset': 1610987766, 'temp': {'day': 6.45, 'min': 3.33, 'max': 7.18, 'night': 6.77, 'eve': 5.41, 'morn': 3.49}, 'feels_like': {'day': 0.77, 'night': -0.97, 'eve': -0.2, 'morn': -1.15}, 'pressure': 1026, 'humidity': 82, 'dew_point': 3.64, 'wind_speed': 6.12, 'wind_deg': 230, 'weather': [{'id': 804, 'main': 'Clouds', 'description': 'overcast clouds', 'icon': '04d'}], 'clouds': 100, 'pop': 0.25, 'uvi': 0.76}, {'dt': 1611057600, 'sunrise': 1611042548, 'sunset': 1611074257, 'temp': {'day': 9.85, 'min': 6.96, 'max': 10.17, 'night': 9.62, 'eve': 8.63, 'morn': 9.22}, 'feels_like': {'day': 3.41, 'night': 1.25, 'eve': 2.18, 'morn': 1.64}, 'pressure': 1012, 'humidity': 87, 'dew_point': 7.92, 'wind_speed': 8.47, 'wind_deg': 216, 'weather': [{'id': 500, 'main': 'Rain', 'description': 'light rain', 'icon': '10d'}], 'clouds': 100, 'pop': 0.97, 'rain': 3.94, 'uvi': 0.79}, {'dt': 1611144000, 'sunrise': 1611128892, 'sunset': 1611160749, 'temp': {'day': 9.97, 'min': 7.59, 'max': 10.25, 'night': 9.76, 'eve': 8.97, 'morn': 8.73}, 'feels_like': {'day': 1.53, 'night': 0.78, 'eve': 0.64, 'morn': 0.89}, 'pressure': 994, 'humidity': 76, 'dew_point': 6.12, 'wind_speed': 10.73, 'wind_deg': 193, 'weather': [{'id': 500, 'main': 'Rain', 'description': 'light rain', 'icon': '10d'}], 'clouds': 100, 'pop': 1, 'rain': 3.02, 'uvi': 0.64}, {'dt': 1611230400, 'sunrise': 1611215234, 'sunset': 1611247242, 'temp': {'day': 7.98, 'min': 4.69, 'max': 10.03, 'night': 4.69, 'eve': 4.77, 'morn': 5}, 'feels_like': {'day': 1.03, 'night': 0.07, 'eve': 1.57, 'morn': -1.28}, 'pressure': 992, 'humidity': 74, 'dew_point': 3.79, 'wind_speed': 7.94, 'wind_deg': 220, 'weather': [{'id': 501, 'main': 'Rain', 'description': 'moderate rain', 'icon': '10d'}], 'clouds': 84, 'pop': 1, 'rain': 7.19, 'uvi': 0.85}, {'dt': 1611316800, 'sunrise': 1611301574, 'sunset': 1611333736, 'temp': {'day': 7.44, 'min': 3.72, 'max': 7.44, 'night': 4.78, 'eve': 4.29, 'morn': 3.88}, 'feels_like': {'day': 0.97, 'night': -0.69, 'eve': -0.87, 'morn': -1.37}, 'pressure': 998, 'humidity': 74, 'dew_point': 3.27, 'wind_speed': 7.13, 'wind_deg': 253, 'weather': [{'id': 500, 'main': 'Rain', 'description': 'light rain', 'icon': '10d'}], 'clouds': 87, 'pop': 0.99, 'rain': 4.91, 'uvi': 0.84}, {'dt': 1611403200, 'sunrise': 1611387911, 'sunset': 1611420231, 'temp': {'day': 6.73, 'min': 3.16, 'max': 6.73, 'night': 3.73, 'eve': 3.79, 'morn': 4.61}, 'feels_like': {'day': 2.43, 'night': -1.93, 'eve': -0.61, 'morn': -3.63}, 'pressure': 996, 'humidity': 76, 'dew_point': 2.98, 'wind_speed': 3.95, 'wind_deg': 290, 'weather': [{'id': 501, 'main': 'Rain', 'description': 'moderate rain', 'icon': '10d'}], 'clouds': 85, 'pop': 1, 'rain': 8.2, 'uvi': 1}, {'dt': 1611489600, 'sunrise': 1611474246, 'sunset': 1611506727, 'temp': {'day': 6.59, 'min': 3.34, 'max': 6.98, 'night': 3.34, 'eve': 3.79, 'morn': 4.19}, 'feels_like': {'day': 0.28, 'night': -1.5, 'eve': -1.08, 'morn': -0.01}, 'pressure': 1000, 'humidity': 81, 'dew_point': 3.74, 'wind_speed': 7.01, 'wind_deg': 272, 'weather': [{'id': 500, 'main': 'Rain', 'description': 'light rain', 'icon': '10d'}], 'clouds': 92, 'pop': 1, 'rain': 7.11, 'uvi': 1}, {'dt': 1611576000, 'sunrise': 1611560579, 'sunset': 1611593223, 'temp': {'day': 7.03, 'min': 1.46, 'max': 7.19, 'night': 7.19, 'eve': 5.75, 'morn': 1.68}, 'feels_like': {'day': 3.4, 'night': 2.36, 'eve': 1.75, 'morn': -2.62}, 'pressure': 1016, 'humidity': 76, 'dew_point': 3.2, 'wind_speed': 3.07, 'wind_deg': 230, 'weather': [{'id': 804, 'main': 'Clouds', 'description': 'overcast clouds', 'icon': '04d'}], 'clouds': 87, 'pop': 0.36, 'uvi': 1}]}\n",
      "making request: Le Havre\n",
      "{'lat': 49.4939, 'lon': 0.108, 'timezone': 'Europe/Paris', 'timezone_offset': 3600, 'daily': [{'dt': 1610971200, 'sunrise': 1610956055, 'sunset': 1610987522, 'temp': {'day': 7.16, 'min': 5.85, 'max': 7.83, 'night': 7.62, 'eve': 6.77, 'morn': 6.17}, 'feels_like': {'day': 0.65, 'night': -0.6, 'eve': 0.2, 'morn': 1.12}, 'pressure': 1025, 'humidity': 78, 'dew_point': 3.62, 'wind_speed': 7.31, 'wind_deg': 233, 'weather': [{'id': 804, 'main': 'Clouds', 'description': 'overcast clouds', 'icon': '04d'}], 'clouds': 100, 'pop': 0.2, 'uvi': 0.73}, {'dt': 1611057600, 'sunrise': 1611042402, 'sunset': 1611074014, 'temp': {'day': 9.93, 'min': 7.86, 'max': 10, 'night': 9.51, 'eve': 9.77, 'morn': 9.07}, 'feels_like': {'day': 2.42, 'night': 0.7, 'eve': 2.02, 'morn': 0.58}, 'pressure': 1012, 'humidity': 85, 'dew_point': 7.56, 'wind_speed': 9.91, 'wind_deg': 220, 'weather': [{'id': 500, 'main': 'Rain', 'description': 'light rain', 'icon': '10d'}], 'clouds': 100, 'pop': 1, 'rain': 2.9, 'uvi': 0.93}, {'dt': 1611144000, 'sunrise': 1611128745, 'sunset': 1611160506, 'temp': {'day': 8.78, 'min': 8.13, 'max': 10.25, 'night': 10.25, 'eve': 9.38, 'morn': 8.87}, 'feels_like': {'day': -0.36, 'night': -0.53, 'eve': -0.57, 'morn': 0.37}, 'pressure': 995, 'humidity': 75, 'dew_point': 4.79, 'wind_speed': 11.34, 'wind_deg': 188, 'weather': [{'id': 500, 'main': 'Rain', 'description': 'light rain', 'icon': '10d'}], 'clouds': 100, 'pop': 0.81, 'rain': 1.18, 'uvi': 0.58}, {'dt': 1611230400, 'sunrise': 1611215087, 'sunset': 1611247000, 'temp': {'day': 8.2, 'min': 5.78, 'max': 10.39, 'night': 6.48, 'eve': 5.78, 'morn': 7.8}, 'feels_like': {'day': -0.39, 'night': 2.43, 'eve': 1.87, 'morn': -1.25}, 'pressure': 992, 'humidity': 70, 'dew_point': 3.11, 'wind_speed': 10.14, 'wind_deg': 220, 'weather': [{'id': 501, 'main': 'Rain', 'description': 'moderate rain', 'icon': '10d'}], 'clouds': 90, 'pop': 1, 'rain': 7.7, 'uvi': 0.92}, {'dt': 1611316800, 'sunrise': 1611301426, 'sunset': 1611333495, 'temp': {'day': 7.95, 'min': 6.94, 'max': 7.95, 'night': 7.07, 'eve': 7.41, 'morn': 6.94}, 'feels_like': {'day': 0.26, 'night': 0.19, 'eve': 0.56, 'morn': -0.57}, 'pressure': 998, 'humidity': 67, 'dew_point': 2.36, 'wind_speed': 8.64, 'wind_deg': 255, 'weather': [{'id': 500, 'main': 'Rain', 'description': 'light rain', 'icon': '10d'}], 'clouds': 97, 'pop': 1, 'rain': 6.93, 'uvi': 0.81}, {'dt': 1611403200, 'sunrise': 1611387762, 'sunset': 1611419991, 'temp': {'day': 6.49, 'min': 5.36, 'max': 7.24, 'night': 6.28, 'eve': 6.6, 'morn': 5.37}, 'feels_like': {'day': 0.27, 'night': -0.23, 'eve': 1.33, 'morn': -0.8}, 'pressure': 995, 'humidity': 76, 'dew_point': 2.7, 'wind_speed': 6.63, 'wind_deg': 304, 'weather': [{'id': 501, 'main': 'Rain', 'description': 'moderate rain', 'icon': '10d'}], 'clouds': 98, 'pop': 1, 'rain': 11.19, 'uvi': 1}, {'dt': 1611489600, 'sunrise': 1611474096, 'sunset': 1611506487, 'temp': {'day': 6.25, 'min': 5.4, 'max': 7.55, 'night': 7.31, 'eve': 7.41, 'morn': 5.4}, 'feels_like': {'day': -0.02, 'night': -0.21, 'eve': 0.15, 'morn': -0.21}, 'pressure': 999, 'humidity': 78, 'dew_point': 2.75, 'wind_speed': 6.73, 'wind_deg': 280, 'weather': [{'id': 500, 'main': 'Rain', 'description': 'light rain', 'icon': '10d'}], 'clouds': 100, 'pop': 1, 'rain': 9.52, 'uvi': 1}, {'dt': 1611576000, 'sunrise': 1611560428, 'sunset': 1611592985, 'temp': {'day': 7.53, 'min': 6.54, 'max': 7.53, 'night': 6.64, 'eve': 7.07, 'morn': 6.59}, 'feels_like': {'day': 1.84, 'night': 1.79, 'eve': 2.3, 'morn': 0.11}, 'pressure': 1015, 'humidity': 66, 'dew_point': 1.76, 'wind_speed': 5.64, 'wind_deg': 257, 'weather': [{'id': 500, 'main': 'Rain', 'description': 'light rain', 'icon': '10d'}], 'clouds': 66, 'pop': 0.53, 'rain': 1.08, 'uvi': 1}]}\n",
      "making request: Rouen\n",
      "{'lat': 49.4405, 'lon': 1.094, 'timezone': 'Europe/Paris', 'timezone_offset': 3600, 'daily': [{'dt': 1610971200, 'sunrise': 1610955807, 'sunset': 1610987297, 'temp': {'day': 6.75, 'min': 1.77, 'max': 7.37, 'night': 5.19, 'eve': 4.37, 'morn': 2.52}, 'feels_like': {'day': 1.89, 'night': 0.08, 'eve': 0.14, 'morn': -1.22}, 'pressure': 1026, 'humidity': 78, 'dew_point': 3.36, 'wind_speed': 4.84, 'wind_deg': 234, 'weather': [{'id': 804, 'main': 'Clouds', 'description': 'overcast clouds', 'icon': '04d'}], 'clouds': 97, 'pop': 0.05, 'uvi': 0.82}, {'dt': 1611057600, 'sunrise': 1611042153, 'sunset': 1611073789, 'temp': {'day': 10.41, 'min': 5.52, 'max': 10.41, 'night': 8.64, 'eve': 8.31, 'morn': 7.45}, 'feels_like': {'day': 3.72, 'night': 2.42, 'eve': 2.16, 'morn': 0.39}, 'pressure': 1013, 'humidity': 79, 'dew_point': 7.01, 'wind_speed': 8.53, 'wind_deg': 233, 'weather': [{'id': 500, 'main': 'Rain', 'description': 'light rain', 'icon': '10d'}], 'clouds': 100, 'pop': 0.87, 'rain': 1.97, 'uvi': 0.86}, {'dt': 1611144000, 'sunrise': 1611128497, 'sunset': 1611160281, 'temp': {'day': 8.02, 'min': 7, 'max': 9.2, 'night': 9.2, 'eve': 8.42, 'morn': 7.84}, 'feels_like': {'day': 0.5, 'night': 0.87, 'eve': 0.75, 'morn': 1.86}, 'pressure': 997, 'humidity': 70, 'dew_point': 2.92, 'wind_speed': 8.57, 'wind_deg': 194, 'weather': [{'id': 500, 'main': 'Rain', 'description': 'light rain', 'icon': '10d'}], 'clouds': 100, 'pop': 0.55, 'rain': 0.7, 'uvi': 0.59}, {'dt': 1611230400, 'sunrise': 1611214839, 'sunset': 1611246775, 'temp': {'day': 7.81, 'min': 4.83, 'max': 10.65, 'night': 4.83, 'eve': 5.38, 'morn': 5.3}, 'feels_like': {'day': 0.96, 'night': 0.69, 'eve': 2.95, 'morn': -0.59}, 'pressure': 993, 'humidity': 68, 'dew_point': 2.43, 'wind_speed': 7.46, 'wind_deg': 221, 'weather': [{'id': 501, 'main': 'Rain', 'description': 'moderate rain', 'icon': '10d'}], 'clouds': 69, 'pop': 1, 'rain': 11.18, 'uvi': 0.84}, {'dt': 1611316800, 'sunrise': 1611301178, 'sunset': 1611333269, 'temp': {'day': 7.44, 'min': 3.28, 'max': 7.44, 'night': 3.6, 'eve': 4.23, 'morn': 3.28}, 'feels_like': {'day': 1.08, 'night': -1.5, 'eve': -0.48, 'morn': -2.14}, 'pressure': 998, 'humidity': 71, 'dew_point': 2.67, 'wind_speed': 6.82, 'wind_deg': 254, 'weather': [{'id': 500, 'main': 'Rain', 'description': 'light rain', 'icon': '10d'}], 'clouds': 81, 'pop': 1, 'rain': 2.26, 'uvi': 0.76}, {'dt': 1611403200, 'sunrise': 1611387514, 'sunset': 1611419765, 'temp': {'day': 4.21, 'min': 2.81, 'max': 5.58, 'night': 2.93, 'eve': 2.81, 'morn': 3.4}, 'feels_like': {'day': -2.17, 'night': -0.76, 'eve': -0.91, 'morn': -1.77}, 'pressure': 994, 'humidity': 83, 'dew_point': 1.65, 'wind_speed': 6.62, 'wind_deg': 319, 'weather': [{'id': 501, 'main': 'Rain', 'description': 'moderate rain', 'icon': '10d'}], 'clouds': 99, 'pop': 1, 'rain': 7.75, 'uvi': 1}, {'dt': 1611489600, 'sunrise': 1611473849, 'sunset': 1611506261, 'temp': {'day': 4.16, 'min': 2.74, 'max': 5.75, 'night': 3.52, 'eve': 2.74, 'morn': 3.78}, 'feels_like': {'day': -1.01, 'night': -0.98, 'eve': -1.56, 'morn': -0.29}, 'pressure': 998, 'humidity': 93, 'dew_point': 3.19, 'wind_speed': 5.28, 'wind_deg': 298, 'weather': [{'id': 500, 'main': 'Rain', 'description': 'light rain', 'icon': '10d'}], 'clouds': 100, 'pop': 1, 'rain': 6.08, 'uvi': 1}, {'dt': 1611576000, 'sunrise': 1611560181, 'sunset': 1611592758, 'temp': {'day': 6.16, 'min': 1.43, 'max': 6.16, 'night': 4.1, 'eve': 3.68, 'morn': 1.43}, 'feels_like': {'day': 1.66, 'night': 0.44, 'eve': 0.15, 'morn': -3.1}, 'pressure': 1015, 'humidity': 76, 'dew_point': 2.43, 'wind_speed': 4.1, 'wind_deg': 250, 'weather': [{'id': 500, 'main': 'Rain', 'description': 'light rain', 'icon': '10d'}], 'clouds': 60, 'pop': 0.27, 'rain': 0.19, 'uvi': 1}]}\n",
      "making request: Paris\n",
      "{'lat': 48.8567, 'lon': 2.3515, 'timezone': 'Europe/Paris', 'timezone_offset': 3600, 'daily': [{'dt': 1610971200, 'sunrise': 1610955375, 'sunset': 1610987125, 'temp': {'day': 5.39, 'min': 2.1, 'max': 6.6, 'night': 4.91, 'eve': 5.1, 'morn': 2.27}, 'feels_like': {'day': 1.59, 'night': 0.16, 'eve': 1.16, 'morn': -0.47}, 'pressure': 1027, 'humidity': 75, 'dew_point': 1.42, 'wind_speed': 2.88, 'wind_deg': 222, 'weather': [{'id': 803, 'main': 'Clouds', 'description': 'broken clouds', 'icon': '04d'}], 'clouds': 65, 'pop': 0, 'uvi': 0.84}, {'dt': 1611057600, 'sunrise': 1611041723, 'sunset': 1611073615, 'temp': {'day': 7.5, 'min': 4.57, 'max': 8.28, 'night': 6.25, 'eve': 6.38, 'morn': 4.87}, 'feels_like': {'day': 2, 'night': 0.8, 'eve': 1.11, 'morn': -1.49}, 'pressure': 1015, 'humidity': 76, 'dew_point': 3.69, 'wind_speed': 5.85, 'wind_deg': 223, 'weather': [{'id': 500, 'main': 'Rain', 'description': 'light rain', 'icon': '10d'}], 'clouds': 100, 'pop': 0.73, 'rain': 1.89, 'uvi': 0.83}, {'dt': 1611144000, 'sunrise': 1611128069, 'sunset': 1611160105, 'temp': {'day': 8.91, 'min': 6.25, 'max': 9.86, 'night': 9.58, 'eve': 9.13, 'morn': 6.47}, 'feels_like': {'day': 1.96, 'night': 2.47, 'eve': 2.98, 'morn': 0.73}, 'pressure': 1000, 'humidity': 52, 'dew_point': -1.29, 'wind_speed': 7.01, 'wind_deg': 199, 'weather': [{'id': 500, 'main': 'Rain', 'description': 'light rain', 'icon': '10d'}], 'clouds': 100, 'pop': 0.4, 'rain': 0.11, 'uvi': 0.65}, {'dt': 1611230400, 'sunrise': 1611214413, 'sunset': 1611246597, 'temp': {'day': 9.03, 'min': 7.4, 'max': 10.72, 'night': 8.08, 'eve': 7.72, 'morn': 8.34}, 'feels_like': {'day': 2.55, 'night': 4.52, 'eve': 4.22, 'morn': 3.09}, 'pressure': 996, 'humidity': 54, 'dew_point': 0.34, 'wind_speed': 6.46, 'wind_deg': 224, 'weather': [{'id': 501, 'main': 'Rain', 'description': 'moderate rain', 'icon': '10d'}], 'clouds': 90, 'pop': 1, 'rain': 14.04, 'uvi': 0.82}, {'dt': 1611316800, 'sunrise': 1611300754, 'sunset': 1611333090, 'temp': {'day': 7.45, 'min': 4.57, 'max': 7.77, 'night': 5.48, 'eve': 6.75, 'morn': 4.57}, 'feels_like': {'day': 2.07, 'night': 0.5, 'eve': 1.6, 'morn': -0.4}, 'pressure': 999, 'humidity': 63, 'dew_point': 0.99, 'wind_speed': 5.03, 'wind_deg': 245, 'weather': [{'id': 501, 'main': 'Rain', 'description': 'moderate rain', 'icon': '10d'}], 'clouds': 88, 'pop': 1, 'rain': 4.95, 'uvi': 0.9}, {'dt': 1611403200, 'sunrise': 1611387092, 'sunset': 1611419583, 'temp': {'day': 5.75, 'min': 3.41, 'max': 5.75, 'night': 3.75, 'eve': 4.99, 'morn': 3.41}, 'feels_like': {'day': -1.69, 'night': 0.15, 'eve': 1.9, 'morn': -2.34}, 'pressure': 993, 'humidity': 75, 'dew_point': 1.7, 'wind_speed': 8.16, 'wind_deg': 284, 'weather': [{'id': 501, 'main': 'Rain', 'description': 'moderate rain', 'icon': '10d'}], 'clouds': 99, 'pop': 0.99, 'rain': 5.64, 'uvi': 1}, {'dt': 1611489600, 'sunrise': 1611473428, 'sunset': 1611506078, 'temp': {'day': 3.74, 'min': 2.1, 'max': 5.37, 'night': 3.83, 'eve': 4.78, 'morn': 3.33}, 'feels_like': {'day': -0.2, 'night': -0.31, 'eve': 0.2, 'morn': -1.09}, 'pressure': 998, 'humidity': 88, 'dew_point': 2.02, 'wind_speed': 3.22, 'wind_deg': 297, 'weather': [{'id': 500, 'main': 'Rain', 'description': 'light rain', 'icon': '10d'}], 'clouds': 100, 'pop': 1, 'rain': 3.29, 'uvi': 1}, {'dt': 1611576000, 'sunrise': 1611559763, 'sunset': 1611592573, 'temp': {'day': 6.29, 'min': 2.42, 'max': 6.84, 'night': 4.96, 'eve': 4.86, 'morn': 2.42}, 'feels_like': {'day': 1.95, 'night': 1.65, 'eve': 1.61, 'morn': -1.78}, 'pressure': 1016, 'humidity': 63, 'dew_point': -0.16, 'wind_speed': 3.32, 'wind_deg': 261, 'weather': [{'id': 500, 'main': 'Rain', 'description': 'light rain', 'icon': '10d'}], 'clouds': 41, 'pop': 0.2, 'rain': 0.11, 'uvi': 1}]}\n",
      "making request: Amiens\n",
      "{'lat': 49.8942, 'lon': 2.2957, 'timezone': 'Europe/Paris', 'timezone_offset': 3600, 'daily': [{'dt': 1610971200, 'sunrise': 1610955622, 'sunset': 1610986905, 'temp': {'day': 5.83, 'min': 1.74, 'max': 6.37, 'night': 3.95, 'eve': 4.42, 'morn': 2.38}, 'feels_like': {'day': 0.52, 'night': -1.77, 'eve': -0.46, 'morn': -1.69}, 'pressure': 1025, 'humidity': 83, 'dew_point': 3.29, 'wind_speed': 5.49, 'wind_deg': 233, 'weather': [{'id': 804, 'main': 'Clouds', 'description': 'overcast clouds', 'icon': '04d'}], 'clouds': 94, 'pop': 0.14, 'uvi': 0.69}, {'dt': 1611057600, 'sunrise': 1611041967, 'sunset': 1611073398, 'temp': {'day': 9.3, 'min': 4.27, 'max': 9.77, 'night': 7.81, 'eve': 8.1, 'morn': 6.94}, 'feels_like': {'day': 2.52, 'night': 0.69, 'eve': 1.43, 'morn': -1.2}, 'pressure': 1012, 'humidity': 84, 'dew_point': 6.74, 'wind_speed': 8.61, 'wind_deg': 235, 'weather': [{'id': 500, 'main': 'Rain', 'description': 'light rain', 'icon': '10d'}], 'clouds': 100, 'pop': 1, 'rain': 2.7, 'uvi': 0.63}, {'dt': 1611144000, 'sunrise': 1611128310, 'sunset': 1611159892, 'temp': {'day': 8.37, 'min': 6.73, 'max': 8.37, 'night': 8.3, 'eve': 7.78, 'morn': 6.91}, 'feels_like': {'day': -0.2, 'night': -0.15, 'eve': -0.25, 'morn': -0.72}, 'pressure': 998, 'humidity': 66, 'dew_point': 2.47, 'wind_speed': 9.95, 'wind_deg': 197, 'weather': [{'id': 500, 'main': 'Rain', 'description': 'light rain', 'icon': '10d'}], 'clouds': 100, 'pop': 0.82, 'rain': 0.65, 'uvi': 0.63}, {'dt': 1611230400, 'sunrise': 1611214650, 'sunset': 1611246387, 'temp': {'day': 7.6, 'min': 4.74, 'max': 9.93, 'night': 4.74, 'eve': 5.11, 'morn': 5.73}, 'feels_like': {'day': 0.02, 'night': 2.11, 'eve': 1.05, 'morn': -0.29}, 'pressure': 993, 'humidity': 68, 'dew_point': 2.11, 'wind_speed': 8.46, 'wind_deg': 220, 'weather': [{'id': 501, 'main': 'Rain', 'description': 'moderate rain', 'icon': '10d'}], 'clouds': 63, 'pop': 1, 'rain': 8.86, 'uvi': 0.8}, {'dt': 1611316800, 'sunrise': 1611300987, 'sunset': 1611332883, 'temp': {'day': 7.06, 'min': 3.16, 'max': 7.06, 'night': 3.16, 'eve': 4.34, 'morn': 3.39}, 'feels_like': {'day': 0.74, 'night': -1.5, 'eve': -0.85, 'morn': -2.61}, 'pressure': 997, 'humidity': 73, 'dew_point': 2.6, 'wind_speed': 6.77, 'wind_deg': 251, 'weather': [{'id': 500, 'main': 'Rain', 'description': 'light rain', 'icon': '10d'}], 'clouds': 89, 'pop': 1, 'rain': 2.31, 'uvi': 0.65}, {'dt': 1611403200, 'sunrise': 1611387322, 'sunset': 1611419380, 'temp': {'day': 2.8, 'min': 1.61, 'max': 3.18, 'night': 1.61, 'eve': 1.95, 'morn': 2.24}, 'feels_like': {'day': -2.77, 'night': -2.77, 'eve': -1.87, 'morn': -3.86}, 'pressure': 992, 'humidity': 94, 'dew_point': 2.06, 'wind_speed': 5.55, 'wind_deg': 325, 'weather': [{'id': 501, 'main': 'Rain', 'description': 'moderate rain', 'icon': '10d'}], 'clouds': 100, 'pop': 1, 'rain': 7.56, 'uvi': 1}, {'dt': 1611489600, 'sunrise': 1611473655, 'sunset': 1611505878, 'temp': {'day': 4.54, 'min': 2.3, 'max': 5.65, 'night': 2.3, 'eve': 3.76, 'morn': 3.16}, 'feels_like': {'day': 0.43, 'night': -2.67, 'eve': -2.22, 'morn': -1.65}, 'pressure': 997, 'humidity': 91, 'dew_point': 3.21, 'wind_speed': 3.78, 'wind_deg': 266, 'weather': [{'id': 500, 'main': 'Rain', 'description': 'light rain', 'icon': '10d'}], 'clouds': 100, 'pop': 1, 'rain': 3.27, 'uvi': 1}, {'dt': 1611576000, 'sunrise': 1611559986, 'sunset': 1611592377, 'temp': {'day': 6.57, 'min': 1.34, 'max': 6.57, 'night': 3.51, 'eve': 3.01, 'morn': 1.64}, 'feels_like': {'day': 0.92, 'night': -0.71, 'eve': -1.32, 'morn': -3.26}, 'pressure': 1015, 'humidity': 69, 'dew_point': 1.31, 'wind_speed': 5.51, 'wind_deg': 280, 'weather': [{'id': 500, 'main': 'Rain', 'description': 'light rain', 'icon': '10d'}], 'clouds': 30, 'pop': 0.21, 'rain': 0.14, 'uvi': 1}]}\n",
      "making request: Lille\n",
      "{'lat': 50.6366, 'lon': 3.0635, 'timezone': 'Europe/Paris', 'timezone_offset': 3600, 'daily': [{'dt': 1610967600, 'sunrise': 1610955612, 'sunset': 1610986546, 'temp': {'day': 5.55, 'min': 1.52, 'max': 6.39, 'night': 4.66, 'eve': 5.51, 'morn': 1.93}, 'feels_like': {'day': 0.45, 'night': -1.46, 'eve': 0.16, 'morn': -2.06}, 'pressure': 1025, 'humidity': 84, 'dew_point': 3.2, 'wind_speed': 5.16, 'wind_deg': 227, 'weather': [{'id': 804, 'main': 'Clouds', 'description': 'overcast clouds', 'icon': '04d'}], 'clouds': 97, 'pop': 0.07, 'uvi': 0.69}, {'dt': 1611054000, 'sunrise': 1611041955, 'sunset': 1611073041, 'temp': {'day': 9.91, 'min': 4.7, 'max': 10.01, 'night': 7.5, 'eve': 9.14, 'morn': 6.92}, 'feels_like': {'day': 4.04, 'night': 0.28, 'eve': 2.63, 'morn': -1.32}, 'pressure': 1009, 'humidity': 89, 'dew_point': 8.31, 'wind_speed': 7.79, 'wind_deg': 237, 'weather': [{'id': 501, 'main': 'Rain', 'description': 'moderate rain', 'icon': '10d'}], 'clouds': 100, 'pop': 1, 'rain': 8.06, 'uvi': 0.26}, {'dt': 1611140400, 'sunrise': 1611128295, 'sunset': 1611159538, 'temp': {'day': 7.59, 'min': 6.88, 'max': 8.9, 'night': 8.48, 'eve': 7.81, 'morn': 8.26}, 'feels_like': {'day': 0.49, 'night': 0.21, 'eve': 0.05, 'morn': 0.48}, 'pressure': 998, 'humidity': 71, 'dew_point': 2.75, 'wind_speed': 7.91, 'wind_deg': 196, 'weather': [{'id': 500, 'main': 'Rain', 'description': 'light rain', 'icon': '10d'}], 'clouds': 100, 'pop': 0.86, 'rain': 1.16, 'uvi': 0.54}, {'dt': 1611226800, 'sunrise': 1611214633, 'sunset': 1611246035, 'temp': {'day': 7.53, 'min': 4.96, 'max': 10.14, 'night': 4.96, 'eve': 6.04, 'morn': 6.78}, 'feels_like': {'day': -0.39, 'night': 1.17, 'eve': 0.58, 'morn': 0.06}, 'pressure': 992, 'humidity': 68, 'dew_point': 2.14, 'wind_speed': 8.93, 'wind_deg': 219, 'weather': [{'id': 501, 'main': 'Rain', 'description': 'moderate rain', 'icon': '10d'}], 'clouds': 45, 'pop': 1, 'rain': 3.94, 'uvi': 0.72}, {'dt': 1611313200, 'sunrise': 1611300968, 'sunset': 1611332534, 'temp': {'day': 7.23, 'min': 2.91, 'max': 7.23, 'night': 2.91, 'eve': 4.56, 'morn': 3.1}, 'feels_like': {'day': 1.62, 'night': -1.36, 'eve': -0.46, 'morn': -1.72}, 'pressure': 996, 'humidity': 65, 'dew_point': 1.29, 'wind_speed': 5.42, 'wind_deg': 249, 'weather': [{'id': 500, 'main': 'Rain', 'description': 'light rain', 'icon': '10d'}], 'clouds': 68, 'pop': 0.89, 'rain': 2.28, 'uvi': 0.67}, {'dt': 1611399600, 'sunrise': 1611387300, 'sunset': 1611419034, 'temp': {'day': 2.05, 'min': 2.05, 'max': 3.86, 'night': 3.03, 'eve': 2.99, 'morn': 2.05}, 'feels_like': {'day': -1.45, 'night': -0.74, 'eve': -0.92, 'morn': -2.49}, 'pressure': 991, 'humidity': 95, 'dew_point': 1.41, 'wind_speed': 2.46, 'wind_deg': 20, 'weather': [{'id': 601, 'main': 'Snow', 'description': 'snow', 'icon': '13d'}], 'clouds': 100, 'pop': 0.69, 'snow': 3.76, 'uvi': 1}, {'dt': 1611486000, 'sunrise': 1611473630, 'sunset': 1611505534, 'temp': {'day': 5.28, 'min': 2.42, 'max': 5.61, 'night': 2.42, 'eve': 3.57, 'morn': 3.21}, 'feels_like': {'day': 1.51, 'night': -1.86, 'eve': -0.89, 'morn': -1.55}, 'pressure': 996, 'humidity': 83, 'dew_point': 2.75, 'wind_speed': 3.15, 'wind_deg': 250, 'weather': [{'id': 500, 'main': 'Rain', 'description': 'light rain', 'icon': '10d'}], 'clouds': 100, 'pop': 0.69, 'rain': 3.25, 'uvi': 1}, {'dt': 1611572400, 'sunrise': 1611559958, 'sunset': 1611592036, 'temp': {'day': 5.87, 'min': 1.52, 'max': 5.87, 'night': 2.88, 'eve': 3.24, 'morn': 1.72}, 'feels_like': {'day': 0.52, 'night': -1.14, 'eve': -0.72, 'morn': -3.52}, 'pressure': 1013, 'humidity': 70, 'dew_point': 1, 'wind_speed': 4.98, 'wind_deg': 278, 'weather': [{'id': 800, 'main': 'Clear', 'description': 'clear sky', 'icon': '01d'}], 'clouds': 0, 'pop': 0.37, 'uvi': 1}]}\n",
      "making request: Strasbourg\n",
      "{'lat': 48.5846, 'lon': 7.7507, 'timezone': 'Europe/Paris', 'timezone_offset': 3600, 'daily': [{'dt': 1610967600, 'sunrise': 1610954021, 'sunset': 1610985887, 'temp': {'day': 1.48, 'min': -0.82, 'max': 2.3, 'night': -0.82, 'eve': 1.54, 'morn': 0.74}, 'feels_like': {'day': -2.58, 'night': -5.52, 'eve': -2.66, 'morn': -2.91}, 'pressure': 1029, 'humidity': 99, 'dew_point': 1.45, 'wind_speed': 3.26, 'wind_deg': 190, 'weather': [{'id': 500, 'main': 'Rain', 'description': 'light rain', 'icon': '10d'}], 'clouds': 100, 'pop': 0.52, 'rain': 0.6, 'uvi': 0.55}, {'dt': 1611054000, 'sunrise': 1611040370, 'sunset': 1611072376, 'temp': {'day': 1.68, 'min': -1.52, 'max': 2.84, 'night': 0.89, 'eve': 2.27, 'morn': -1.28}, 'feels_like': {'day': -4.93, 'night': -4.23, 'eve': -3.15, 'morn': -6.85}, 'pressure': 1018, 'humidity': 87, 'dew_point': -0.5, 'wind_speed': 6.56, 'wind_deg': 193, 'weather': [{'id': 500, 'main': 'Rain', 'description': 'light rain', 'icon': '10d'}], 'clouds': 100, 'pop': 0.69, 'rain': 0.95, 'uvi': 0.33}, {'dt': 1611140400, 'sunrise': 1611126717, 'sunset': 1611158866, 'temp': {'day': 4.36, 'min': 0.79, 'max': 5.52, 'night': 2.45, 'eve': 3.55, 'morn': 1.25}, 'feels_like': {'day': -0.97, 'night': -2.82, 'eve': -1.14, 'morn': -4.42}, 'pressure': 1008, 'humidity': 77, 'dew_point': 0.76, 'wind_speed': 4.92, 'wind_deg': 193, 'weather': [{'id': 804, 'main': 'Clouds', 'description': 'overcast clouds', 'icon': '04d'}], 'clouds': 100, 'pop': 0, 'uvi': 0.83}, {'dt': 1611226800, 'sunrise': 1611213061, 'sunset': 1611245357, 'temp': {'day': 7.76, 'min': 2.1, 'max': 7.8, 'night': 7.65, 'eve': 6.97, 'morn': 2.99}, 'feels_like': {'day': 1.19, 'night': 0.48, 'eve': 2.14, 'morn': -3.93}, 'pressure': 999, 'humidity': 75, 'dew_point': 3.78, 'wind_speed': 7.4, 'wind_deg': 202, 'weather': [{'id': 500, 'main': 'Rain', 'description': 'light rain', 'icon': '10d'}], 'clouds': 34, 'pop': 0.72, 'rain': 0.25, 'uvi': 0.41}, {'dt': 1611313200, 'sunrise': 1611299403, 'sunset': 1611331849, 'temp': {'day': 6.73, 'min': 2.9, 'max': 7.3, 'night': 2.9, 'eve': 4.01, 'morn': 6.38}, 'feels_like': {'day': 1.42, 'night': -1.99, 'eve': -0.46, 'morn': 0.67}, 'pressure': 1002, 'humidity': 67, 'dew_point': 1.07, 'wind_speed': 4.98, 'wind_deg': 228, 'weather': [{'id': 500, 'main': 'Rain', 'description': 'light rain', 'icon': '10d'}], 'clouds': 99, 'pop': 0.96, 'rain': 1.12, 'uvi': 0.7}, {'dt': 1611399600, 'sunrise': 1611385742, 'sunset': 1611418341, 'temp': {'day': 4.25, 'min': 2.39, 'max': 4.8, 'night': 3.81, 'eve': 4.61, 'morn': 2.76}, 'feels_like': {'day': -3.39, 'night': -0.63, 'eve': -0.48, 'morn': -2.17}, 'pressure': 997, 'humidity': 84, 'dew_point': 1.93, 'wind_speed': 8.48, 'wind_deg': 206, 'weather': [{'id': 500, 'main': 'Rain', 'description': 'light rain', 'icon': '10d'}], 'clouds': 100, 'pop': 1, 'rain': 2.78, 'uvi': 1}, {'dt': 1611486000, 'sunrise': 1611472079, 'sunset': 1611504835, 'temp': {'day': 3.23, 'min': 1.11, 'max': 3.46, 'night': 2.25, 'eve': 1.97, 'morn': 1.11}, 'feels_like': {'day': -0.94, 'night': -1.93, 'eve': -2.47, 'morn': -2.39}, 'pressure': 998, 'humidity': 92, 'dew_point': 2.07, 'wind_speed': 3.58, 'wind_deg': 189, 'weather': [{'id': 616, 'main': 'Snow', 'description': 'rain and snow', 'icon': '13d'}], 'clouds': 95, 'pop': 1, 'rain': 6.82, 'snow': 2.08, 'uvi': 1}, {'dt': 1611572400, 'sunrise': 1611558414, 'sunset': 1611591329, 'temp': {'day': 4.57, 'min': 1.36, 'max': 4.65, 'night': 1.83, 'eve': 2.06, 'morn': 1.8}, 'feels_like': {'day': -0.57, 'night': -2.61, 'eve': -1.79, 'morn': -1.54}, 'pressure': 1015, 'humidity': 72, 'dew_point': -0.16, 'wind_speed': 4.5, 'wind_deg': 235, 'weather': [{'id': 616, 'main': 'Snow', 'description': 'rain and snow', 'icon': '13d'}], 'clouds': 81, 'pop': 0.93, 'rain': 0.63, 'snow': 0.45, 'uvi': 1}], 'alerts': [{'sender_name': 'METEO-FRANCE', 'event': 'Moderate snow-ice warning', 'start': 1610982000, 'end': 1611068400, 'description': 'Although rather usual in this region, locally or potentially dangerous phenomena are expected. (such as local winds, summer thunderstorms, rising streams or high waves)'}]}\n",
      "making request: Chateau du Haut Koenigsbourg\n",
      "{'lat': 48.2495, 'lon': 7.3455, 'timezone': 'Europe/Paris', 'timezone_offset': 3600, 'daily': [{'dt': 1610967600, 'sunrise': 1610954046, 'sunset': 1610986057, 'temp': {'day': -0.38, 'min': -4.35, 'max': 2.36, 'night': -4.35, 'eve': -0.36, 'morn': -1.83}, 'feels_like': {'day': -3.53, 'night': -8.13, 'eve': -3.49, 'morn': -5.05}, 'pressure': 1029, 'humidity': 100, 'dew_point': 0.65, 'wind_speed': 1.58, 'wind_deg': 227, 'weather': [{'id': 600, 'main': 'Snow', 'description': 'light snow', 'icon': '13d'}], 'clouds': 81, 'pop': 0.66, 'snow': 0.18, 'uvi': 0.72}, {'dt': 1611054000, 'sunrise': 1611040396, 'sunset': 1611072545, 'temp': {'day': 0.24, 'min': -5.24, 'max': 0.99, 'night': -1.83, 'eve': -1.18, 'morn': -4.83}, 'feels_like': {'day': -3.78, 'night': -5.96, 'eve': -5.34, 'morn': -8.93}, 'pressure': 1019, 'humidity': 100, 'dew_point': 0.79, 'wind_speed': 2.96, 'wind_deg': 205, 'weather': [{'id': 804, 'main': 'Clouds', 'description': 'overcast clouds', 'icon': '04d'}], 'clouds': 100, 'pop': 0.41, 'uvi': 0.42}, {'dt': 1611140400, 'sunrise': 1611126744, 'sunset': 1611159033, 'temp': {'day': 2.41, 'min': -1.92, 'max': 3.3, 'night': 0.21, 'eve': 0.37, 'morn': -1.3}, 'feels_like': {'day': -1.12, 'night': -3.44, 'eve': -3.29, 'morn': -5.52}, 'pressure': 1008, 'humidity': 100, 'dew_point': 2.85, 'wind_speed': 2.75, 'wind_deg': 207, 'weather': [{'id': 804, 'main': 'Clouds', 'description': 'overcast clouds', 'icon': '04d'}], 'clouds': 100, 'pop': 0, 'uvi': 0.82}, {'dt': 1611226800, 'sunrise': 1611213089, 'sunset': 1611245523, 'temp': {'day': 3.41, 'min': -0.77, 'max': 3.43, 'night': 2.91, 'eve': 2.23, 'morn': -0.14}, 'feels_like': {'day': -0.48, 'night': -1.95, 'eve': -1.36, 'morn': -4.8}, 'pressure': 999, 'humidity': 100, 'dew_point': 3.65, 'wind_speed': 3.52, 'wind_deg': 199, 'weather': [{'id': 500, 'main': 'Rain', 'description': 'light rain', 'icon': '10d'}], 'clouds': 59, 'pop': 0.82, 'rain': 2.83, 'uvi': 0.42}, {'dt': 1611313200, 'sunrise': 1611299432, 'sunset': 1611332014, 'temp': {'day': 2.74, 'min': -0.9, 'max': 3.05, 'night': -0.9, 'eve': -0.54, 'morn': 1.72}, 'feels_like': {'day': -1.27, 'night': -4.94, 'eve': -4.44, 'morn': -3.02}, 'pressure': 1002, 'humidity': 88, 'dew_point': 1.1, 'wind_speed': 3.1, 'wind_deg': 226, 'weather': [{'id': 616, 'main': 'Snow', 'description': 'rain and snow', 'icon': '13d'}], 'clouds': 100, 'pop': 0.96, 'rain': 3, 'snow': 0.27, 'uvi': 0.79}, {'dt': 1611399600, 'sunrise': 1611385772, 'sunset': 1611418506, 'temp': {'day': 1.28, 'min': -1.15, 'max': 1.37, 'night': -0.2, 'eve': 1.12, 'morn': -0.77}, 'feels_like': {'day': -4.41, 'night': -3.77, 'eve': -4.23, 'morn': -4.69}, 'pressure': 998, 'humidity': 99, 'dew_point': 1.26, 'wind_speed': 5.54, 'wind_deg': 218, 'weather': [{'id': 616, 'main': 'Snow', 'description': 'rain and snow', 'icon': '13d'}], 'clouds': 98, 'pop': 1, 'rain': 3.38, 'snow': 0.19, 'uvi': 1}, {'dt': 1611486000, 'sunrise': 1611472111, 'sunset': 1611504998, 'temp': {'day': -0.88, 'min': -2.65, 'max': 2.29, 'night': -0.34, 'eve': -0.52, 'morn': -2.65}, 'feels_like': {'day': -5, 'night': -4.57, 'eve': -5.56, 'morn': -6.2}, 'pressure': 998, 'humidity': 100, 'dew_point': 0.18, 'wind_speed': 2.87, 'wind_deg': 192, 'weather': [{'id': 501, 'main': 'Rain', 'description': 'moderate rain', 'icon': '10d'}], 'clouds': 94, 'pop': 1, 'rain': 12.38, 'uvi': 1}, {'dt': 1611572400, 'sunrise': 1611558447, 'sunset': 1611591492, 'temp': {'day': 1.25, 'min': -2.41, 'max': 1.25, 'night': -2.41, 'eve': -2.26, 'morn': -1.25}, 'feels_like': {'day': -3.3, 'night': -6.21, 'eve': -6.18, 'morn': -4.37}, 'pressure': 1016, 'humidity': 90, 'dew_point': -0.67, 'wind_speed': 3.62, 'wind_deg': 261, 'weather': [{'id': 616, 'main': 'Snow', 'description': 'rain and snow', 'icon': '13d'}], 'clouds': 81, 'pop': 0.84, 'rain': 1.54, 'snow': 0.57, 'uvi': 1}], 'alerts': [{'sender_name': 'METEO-FRANCE', 'event': 'Moderate snow-ice warning', 'start': 1610982000, 'end': 1611068400, 'description': 'Although rather usual in this region, locally or potentially dangerous phenomena are expected. (such as local winds, summer thunderstorms, rising streams or high waves)'}]}\n",
      "making request: Colmar\n",
      "{'lat': 48.0778, 'lon': 7.358, 'timezone': 'Europe/Paris', 'timezone_offset': 3600, 'daily': [{'dt': 1610967600, 'sunrise': 1610954006, 'sunset': 1610986090, 'temp': {'day': 2.52, 'min': -1.19, 'max': 2.79, 'night': -1.19, 'eve': 1.3, 'morn': 0.89}, 'feels_like': {'day': -0.51, 'night': -4.77, 'eve': -1.56, 'morn': -1.99}, 'pressure': 1030, 'humidity': 91, 'dew_point': 1.35, 'wind_speed': 1.76, 'wind_deg': 195, 'weather': [{'id': 600, 'main': 'Snow', 'description': 'light snow', 'icon': '13d'}], 'clouds': 81, 'pop': 0.61, 'snow': 0.1, 'uvi': 0.72}, {'dt': 1611054000, 'sunrise': 1611040357, 'sunset': 1611072578, 'temp': {'day': 3.23, 'min': -1.9, 'max': 4.19, 'night': 1.18, 'eve': 1.97, 'morn': -1.45}, 'feels_like': {'day': -1.7, 'night': -3.09, 'eve': -2.22, 'morn': -5.73}, 'pressure': 1020, 'humidity': 82, 'dew_point': 0.54, 'wind_speed': 4.31, 'wind_deg': 193, 'weather': [{'id': 804, 'main': 'Clouds', 'description': 'overcast clouds', 'icon': '04d'}], 'clouds': 99, 'pop': 0.28, 'uvi': 0.42}, {'dt': 1611140400, 'sunrise': 1611126705, 'sunset': 1611159066, 'temp': {'day': 4.92, 'min': 0.87, 'max': 6.19, 'night': 2.6, 'eve': 3.07, 'morn': 1.49}, 'feels_like': {'day': 0.79, 'night': -1.24, 'eve': -0.94, 'morn': -2.83}, 'pressure': 1008, 'humidity': 83, 'dew_point': 2.34, 'wind_speed': 3.58, 'wind_deg': 205, 'weather': [{'id': 804, 'main': 'Clouds', 'description': 'overcast clouds', 'icon': '04d'}], 'clouds': 100, 'pop': 0, 'uvi': 0.82}, {'dt': 1611226800, 'sunrise': 1611213051, 'sunset': 1611245555, 'temp': {'day': 7.21, 'min': 1.93, 'max': 7.21, 'night': 6.65, 'eve': 5.72, 'morn': 2.35}, 'feels_like': {'day': 3.29, 'night': 0.93, 'eve': 1.93, 'morn': -2.51}, 'pressure': 1000, 'humidity': 85, 'dew_point': 4.87, 'wind_speed': 3.95, 'wind_deg': 196, 'weather': [{'id': 500, 'main': 'Rain', 'description': 'light rain', 'icon': '10d'}], 'clouds': 71, 'pop': 0.8, 'rain': 3.12, 'uvi': 0.42}, {'dt': 1611313200, 'sunrise': 1611299394, 'sunset': 1611332046, 'temp': {'day': 6.05, 'min': 2.62, 'max': 6.31, 'night': 2.62, 'eve': 2.91, 'morn': 5.19}, 'feels_like': {'day': 1.71, 'night': -1.5, 'eve': -1.25, 'morn': 0.94}, 'pressure': 1003, 'humidity': 73, 'dew_point': 1.75, 'wind_speed': 3.71, 'wind_deg': 223, 'weather': [{'id': 500, 'main': 'Rain', 'description': 'light rain', 'icon': '10d'}], 'clouds': 98, 'pop': 0.98, 'rain': 4.19, 'uvi': 0.79}, {'dt': 1611399600, 'sunrise': 1611385735, 'sunset': 1611418537, 'temp': {'day': 4.65, 'min': 2.59, 'max': 4.67, 'night': 2.69, 'eve': 4.31, 'morn': 2.59}, 'feels_like': {'day': -1.96, 'night': -0.95, 'eve': -1.93, 'morn': -2.09}, 'pressure': 998, 'humidity': 84, 'dew_point': 2.3, 'wind_speed': 7.09, 'wind_deg': 222, 'weather': [{'id': 616, 'main': 'Snow', 'description': 'rain and snow', 'icon': '13d'}], 'clouds': 96, 'pop': 1, 'rain': 5.12, 'snow': 0.32, 'uvi': 1}, {'dt': 1611486000, 'sunrise': 1611472074, 'sunset': 1611505029, 'temp': {'day': 2.09, 'min': 1.05, 'max': 6.18, 'night': 2.94, 'eve': 2.94, 'morn': 1.05}, 'feels_like': {'day': -2.18, 'night': -0.8, 'eve': -1.26, 'morn': -2.31}, 'pressure': 998, 'humidity': 93, 'dew_point': 1.12, 'wind_speed': 3.49, 'wind_deg': 194, 'weather': [{'id': 616, 'main': 'Snow', 'description': 'rain and snow', 'icon': '13d'}], 'clouds': 98, 'pop': 1, 'rain': 9.28, 'snow': 0.75, 'uvi': 1}, {'dt': 1611572400, 'sunrise': 1611558411, 'sunset': 1611591521, 'temp': {'day': 4.77, 'min': 0.73, 'max': 4.77, 'night': 0.73, 'eve': 0.88, 'morn': 1.64}, 'feels_like': {'day': 0.76, 'night': -2.86, 'eve': -2.73, 'morn': -1.41}, 'pressure': 1016, 'humidity': 70, 'dew_point': -0.61, 'wind_speed': 2.85, 'wind_deg': 246, 'weather': [{'id': 616, 'main': 'Snow', 'description': 'rain and snow', 'icon': '13d'}], 'clouds': 51, 'pop': 0.83, 'rain': 1.23, 'snow': 1.1, 'uvi': 1}], 'alerts': [{'sender_name': 'METEO-FRANCE', 'event': 'Moderate snow-ice warning', 'start': 1610982000, 'end': 1611068400, 'description': 'Although rather usual in this region, locally or potentially dangerous phenomena are expected. (such as local winds, summer thunderstorms, rising streams or high waves)'}]}\n",
      "making request: Eguisheim\n",
      "{'lat': 48.0448, 'lon': 7.308, 'timezone': 'Europe/Paris', 'timezone_offset': 3600, 'daily': [{'dt': 1610967600, 'sunrise': 1610954011, 'sunset': 1610986109, 'temp': {'day': 2.89, 'min': -1.13, 'max': 3.24, 'night': -1.13, 'eve': 1.28, 'morn': 0.9}, 'feels_like': {'day': 0.07, 'night': -4.57, 'eve': -1.53, 'morn': -1.84}, 'pressure': 1030, 'humidity': 89, 'dew_point': 1.32, 'wind_speed': 1.46, 'wind_deg': 196, 'weather': [{'id': 600, 'main': 'Snow', 'description': 'light snow', 'icon': '13d'}], 'clouds': 77, 'pop': 0.6, 'snow': 0.26, 'uvi': 0.72}, {'dt': 1611054000, 'sunrise': 1611040362, 'sunset': 1611072597, 'temp': {'day': 3.64, 'min': -1.77, 'max': 4.6, 'night': 1.44, 'eve': 1.85, 'morn': -1.38}, 'feels_like': {'day': -0.86, 'night': -2.75, 'eve': -2.14, 'morn': -5.41}, 'pressure': 1020, 'humidity': 80, 'dew_point': 0.66, 'wind_speed': 3.7, 'wind_deg': 199, 'weather': [{'id': 804, 'main': 'Clouds', 'description': 'overcast clouds', 'icon': '04d'}], 'clouds': 100, 'pop': 0.25, 'uvi': 0.42}, {'dt': 1611140400, 'sunrise': 1611126710, 'sunset': 1611159085, 'temp': {'day': 5.22, 'min': 1.06, 'max': 6.57, 'night': 2.94, 'eve': 3.37, 'morn': 1.72}, 'feels_like': {'day': 1.37, 'night': -0.7, 'eve': -0.55, 'morn': -2.42}, 'pressure': 1008, 'humidity': 83, 'dew_point': 2.6, 'wind_speed': 3.25, 'wind_deg': 206, 'weather': [{'id': 804, 'main': 'Clouds', 'description': 'overcast clouds', 'icon': '04d'}], 'clouds': 100, 'pop': 0, 'uvi': 0.82}, {'dt': 1611226800, 'sunrise': 1611213056, 'sunset': 1611245574, 'temp': {'day': 7.23, 'min': 1.94, 'max': 7.23, 'night': 6.96, 'eve': 5.94, 'morn': 2.65}, 'feels_like': {'day': 3.65, 'night': 1.43, 'eve': 2.3, 'morn': -2.03}, 'pressure': 1000, 'humidity': 86, 'dew_point': 5.12, 'wind_speed': 3.52, 'wind_deg': 199, 'weather': [{'id': 500, 'main': 'Rain', 'description': 'light rain', 'icon': '10d'}], 'clouds': 78, 'pop': 0.8, 'rain': 3.55, 'uvi': 0.42}, {'dt': 1611313200, 'sunrise': 1611299400, 'sunset': 1611332064, 'temp': {'day': 5.93, 'min': 2.78, 'max': 6.34, 'night': 2.78, 'eve': 2.81, 'morn': 5.05}, 'feels_like': {'day': 1.82, 'night': -1.16, 'eve': -1.23, 'morn': 0.95}, 'pressure': 1003, 'humidity': 73, 'dew_point': 1.66, 'wind_speed': 3.35, 'wind_deg': 225, 'weather': [{'id': 501, 'main': 'Rain', 'description': 'moderate rain', 'icon': '10d'}], 'clouds': 96, 'pop': 0.99, 'rain': 4.46, 'uvi': 0.79}, {'dt': 1611399600, 'sunrise': 1611385741, 'sunset': 1611418555, 'temp': {'day': 4.5, 'min': 2.47, 'max': 4.64, 'night': 2.47, 'eve': 4.27, 'morn': 2.7}, 'feels_like': {'day': -1.94, 'night': -1.02, 'eve': -2.17, 'morn': -1.81}, 'pressure': 998, 'humidity': 85, 'dew_point': 2.23, 'wind_speed': 6.86, 'wind_deg': 225, 'weather': [{'id': 616, 'main': 'Snow', 'description': 'rain and snow', 'icon': '13d'}], 'clouds': 98, 'pop': 1, 'rain': 5.93, 'snow': 1.42, 'uvi': 1}, {'dt': 1611486000, 'sunrise': 1611472080, 'sunset': 1611505047, 'temp': {'day': 2.07, 'min': 0.86, 'max': 6.25, 'night': 2.86, 'eve': 2.89, 'morn': 0.86}, 'feels_like': {'day': -1.87, 'night': -0.65, 'eve': -1.61, 'morn': -2.25}, 'pressure': 998, 'humidity': 92, 'dew_point': 0.97, 'wind_speed': 2.99, 'wind_deg': 197, 'weather': [{'id': 616, 'main': 'Snow', 'description': 'rain and snow', 'icon': '13d'}], 'clouds': 98, 'pop': 1, 'rain': 9.39, 'snow': 0.81, 'uvi': 1}, {'dt': 1611572400, 'sunrise': 1611558416, 'sunset': 1611591540, 'temp': {'day': 4.65, 'min': 0.62, 'max': 4.65, 'night': 0.62, 'eve': 0.63, 'morn': 1.68}, 'feels_like': {'day': 0.82, 'night': -2.86, 'eve': -2.91, 'morn': -1.28}, 'pressure': 1016, 'humidity': 71, 'dew_point': -0.56, 'wind_speed': 2.6, 'wind_deg': 247, 'weather': [{'id': 616, 'main': 'Snow', 'description': 'rain and snow', 'icon': '13d'}], 'clouds': 41, 'pop': 0.85, 'rain': 1.38, 'snow': 1.19, 'uvi': 1}], 'alerts': [{'sender_name': 'METEO-FRANCE', 'event': 'Moderate snow-ice warning', 'start': 1610982000, 'end': 1611068400, 'description': 'Although rather usual in this region, locally or potentially dangerous phenomena are expected. (such as local winds, summer thunderstorms, rising streams or high waves)'}]}\n",
      "making request: Besancon\n",
      "{'lat': 47.238, 'lon': 6.0244, 'timezone': 'Europe/Paris', 'timezone_offset': 3600, 'daily': [{'dt': 1610967600, 'sunrise': 1610954151, 'sunset': 1610986585, 'temp': {'day': 2.47, 'min': -0.34, 'max': 3.67, 'night': -0.34, 'eve': 0.63, 'morn': 0.41}, 'feels_like': {'day': -0.5, 'night': -3.57, 'eve': -2.04, 'morn': -2.78}, 'pressure': 1030, 'humidity': 93, 'dew_point': 1.53, 'wind_speed': 1.72, 'wind_deg': 212, 'weather': [{'id': 804, 'main': 'Clouds', 'description': 'overcast clouds', 'icon': '04d'}], 'clouds': 100, 'pop': 0.42, 'uvi': 0.64}, {'dt': 1611054000, 'sunrise': 1611040504, 'sunset': 1611073070, 'temp': {'day': 5, 'min': -1.45, 'max': 6.22, 'night': 1.68, 'eve': 1.85, 'morn': -1.23}, 'feels_like': {'day': -0.06, 'night': -2.38, 'eve': -1.74, 'morn': -4.74}, 'pressure': 1021, 'humidity': 68, 'dew_point': -1.09, 'wind_speed': 4.31, 'wind_deg': 225, 'weather': [{'id': 804, 'main': 'Clouds', 'description': 'overcast clouds', 'icon': '04d'}], 'clouds': 98, 'pop': 0, 'uvi': 1.12}, {'dt': 1611140400, 'sunrise': 1611126855, 'sunset': 1611159556, 'temp': {'day': 10.09, 'min': 1.83, 'max': 10.8, 'night': 3.36, 'eve': 5.45, 'morn': 3.84}, 'feels_like': {'day': 5.62, 'night': -0.81, 'eve': 1.78, 'morn': -1.06}, 'pressure': 1008, 'humidity': 67, 'dew_point': 4.27, 'wind_speed': 4.57, 'wind_deg': 204, 'weather': [{'id': 804, 'main': 'Clouds', 'description': 'overcast clouds', 'icon': '04d'}], 'clouds': 96, 'pop': 0, 'uvi': 1.02}, {'dt': 1611226800, 'sunrise': 1611213203, 'sunset': 1611246043, 'temp': {'day': 9.09, 'min': 3.74, 'max': 9.09, 'night': 8.27, 'eve': 8.19, 'morn': 6.56}, 'feels_like': {'day': 3.82, 'night': 1.5, 'eve': 3.41, 'morn': 2.01}, 'pressure': 1002, 'humidity': 80, 'dew_point': 5.87, 'wind_speed': 6.16, 'wind_deg': 208, 'weather': [{'id': 501, 'main': 'Rain', 'description': 'moderate rain', 'icon': '10d'}], 'clouds': 88, 'pop': 0.95, 'rain': 6.8, 'uvi': 0.44}, {'dt': 1611313200, 'sunrise': 1611299549, 'sunset': 1611332531, 'temp': {'day': 5.7, 'min': 3.21, 'max': 7.96, 'night': 3.21, 'eve': 4.09, 'morn': 4.61}, 'feels_like': {'day': 0.23, 'night': -1.38, 'eve': -0.51, 'morn': 0.29}, 'pressure': 1004, 'humidity': 81, 'dew_point': 2.76, 'wind_speed': 5.6, 'wind_deg': 228, 'weather': [{'id': 501, 'main': 'Rain', 'description': 'moderate rain', 'icon': '10d'}], 'clouds': 97, 'pop': 1, 'rain': 8.64, 'uvi': 1.08}, {'dt': 1611399600, 'sunrise': 1611385893, 'sunset': 1611419020, 'temp': {'day': 4.45, 'min': 1.78, 'max': 4.87, 'night': 2.9, 'eve': 4.87, 'morn': 1.78}, 'feels_like': {'day': -3.44, 'night': -0.16, 'eve': -0.04, 'morn': -2.98}, 'pressure': 1000, 'humidity': 89, 'dew_point': 2.9, 'wind_speed': 9.07, 'wind_deg': 223, 'weather': [{'id': 501, 'main': 'Rain', 'description': 'moderate rain', 'icon': '10d'}], 'clouds': 100, 'pop': 1, 'rain': 25.38, 'uvi': 2}, {'dt': 1611486000, 'sunrise': 1611472234, 'sunset': 1611505509, 'temp': {'day': 7, 'min': 1.99, 'max': 7, 'night': 3.95, 'eve': 4.64, 'morn': 4.14}, 'feels_like': {'day': -0.05, 'night': -0.55, 'eve': 0.1, 'morn': -0.01}, 'pressure': 1000, 'humidity': 86, 'dew_point': 4.85, 'wind_speed': 8.41, 'wind_deg': 234, 'weather': [{'id': 501, 'main': 'Rain', 'description': 'moderate rain', 'icon': '10d'}], 'clouds': 100, 'pop': 1, 'rain': 18.68, 'uvi': 2}, {'dt': 1611572400, 'sunrise': 1611558573, 'sunset': 1611591999, 'temp': {'day': 4.61, 'min': 0.74, 'max': 4.61, 'night': 0.74, 'eve': 1.23, 'morn': 1.57}, 'feels_like': {'day': 0.73, 'night': -2.71, 'eve': -2.08, 'morn': -2.49}, 'pressure': 1018, 'humidity': 83, 'dew_point': 2.14, 'wind_speed': 3.15, 'wind_deg': 263, 'weather': [{'id': 616, 'main': 'Snow', 'description': 'rain and snow', 'icon': '13d'}], 'clouds': 65, 'pop': 1, 'rain': 7.96, 'snow': 0.91, 'uvi': 2}], 'alerts': [{'sender_name': 'METEO-FRANCE', 'event': 'Moderate snow-ice warning', 'start': 1610982000, 'end': 1611068400, 'description': 'Although rather usual in this region, locally or potentially dangerous phenomena are expected. (such as local winds, summer thunderstorms, rising streams or high waves)'}]}\n",
      "making request: Dijon\n",
      "{'lat': 47.3216, 'lon': 5.0415, 'timezone': 'Europe/Paris', 'timezone_offset': 3600, 'daily': [{'dt': 1610967600, 'sunrise': 1610954404, 'sunset': 1610986804, 'temp': {'day': 2.78, 'min': -0.41, 'max': 3.71, 'night': -0.41, 'eve': 2.2, 'morn': 0.99}, 'feels_like': {'day': -0.49, 'night': -3.84, 'eve': -1.11, 'morn': -1.78}, 'pressure': 1030, 'humidity': 92, 'dew_point': 1.74, 'wind_speed': 2.19, 'wind_deg': 209, 'weather': [{'id': 804, 'main': 'Clouds', 'description': 'overcast clouds', 'icon': '04d'}], 'clouds': 99, 'pop': 0, 'uvi': 0.68}, {'dt': 1611054000, 'sunrise': 1611040757, 'sunset': 1611073290, 'temp': {'day': 3.05, 'min': -1.17, 'max': 4.62, 'night': 0.6, 'eve': 1.21, 'morn': -1.09}, 'feels_like': {'day': -2.23, 'night': -4.54, 'eve': -3.32, 'morn': -5.39}, 'pressure': 1021, 'humidity': 80, 'dew_point': -0.16, 'wind_speed': 4.7, 'wind_deg': 204, 'weather': [{'id': 804, 'main': 'Clouds', 'description': 'overcast clouds', 'icon': '04d'}], 'clouds': 100, 'pop': 0, 'uvi': 1.1}, {'dt': 1611140400, 'sunrise': 1611127107, 'sunset': 1611159776, 'temp': {'day': 8.86, 'min': 0.33, 'max': 9.98, 'night': 7.83, 'eve': 7.83, 'morn': 1.6}, 'feels_like': {'day': 0.82, 'night': -1.07, 'eve': 0.24, 'morn': -3.59}, 'pressure': 1006, 'humidity': 78, 'dew_point': 5.3, 'wind_speed': 9.94, 'wind_deg': 192, 'weather': [{'id': 804, 'main': 'Clouds', 'description': 'overcast clouds', 'icon': '04d'}], 'clouds': 96, 'pop': 0, 'uvi': 1.14}, {'dt': 1611226800, 'sunrise': 1611213455, 'sunset': 1611246263, 'temp': {'day': 8.6, 'min': 7.6, 'max': 8.69, 'night': 8.59, 'eve': 8.69, 'morn': 8.31}, 'feels_like': {'day': 1.81, 'night': 1.8, 'eve': 1.38, 'morn': 0.16}, 'pressure': 1001, 'humidity': 85, 'dew_point': 6.34, 'wind_speed': 8.46, 'wind_deg': 202, 'weather': [{'id': 501, 'main': 'Rain', 'description': 'moderate rain', 'icon': '10d'}], 'clouds': 100, 'pop': 1, 'rain': 8.49, 'uvi': 0.21}, {'dt': 1611313200, 'sunrise': 1611299801, 'sunset': 1611332751, 'temp': {'day': 6.4, 'min': 3.14, 'max': 7.75, 'night': 3.14, 'eve': 3.14, 'morn': 4.25}, 'feels_like': {'day': 0.79, 'night': -1.82, 'eve': -1.43, 'morn': -0.14}, 'pressure': 1004, 'humidity': 73, 'dew_point': 2.05, 'wind_speed': 5.61, 'wind_deg': 234, 'weather': [{'id': 500, 'main': 'Rain', 'description': 'light rain', 'icon': '10d'}], 'clouds': 100, 'pop': 1, 'rain': 1.69, 'uvi': 1.03}, {'dt': 1611399600, 'sunrise': 1611386144, 'sunset': 1611419240, 'temp': {'day': 4.29, 'min': 1.3, 'max': 4.82, 'night': 2.25, 'eve': 3.26, 'morn': 1.44}, 'feels_like': {'day': -2.27, 'night': -0.98, 'eve': -0.76, 'morn': -5.47}, 'pressure': 999, 'humidity': 93, 'dew_point': 3.28, 'wind_speed': 7.29, 'wind_deg': 218, 'weather': [{'id': 501, 'main': 'Rain', 'description': 'moderate rain', 'icon': '10d'}], 'clouds': 100, 'pop': 1, 'rain': 13.8, 'uvi': 2}, {'dt': 1611486000, 'sunrise': 1611472485, 'sunset': 1611505730, 'temp': {'day': 7.71, 'min': 2.46, 'max': 7.71, 'night': 3.18, 'eve': 3.99, 'morn': 3.22}, 'feels_like': {'day': 0.22, 'night': -1.8, 'eve': -1.99, 'morn': -0.66}, 'pressure': 1000, 'humidity': 78, 'dew_point': 4.27, 'wind_speed': 8.85, 'wind_deg': 247, 'weather': [{'id': 500, 'main': 'Rain', 'description': 'light rain', 'icon': '10d'}], 'clouds': 100, 'pop': 1, 'rain': 4.51, 'uvi': 2}, {'dt': 1611572400, 'sunrise': 1611558824, 'sunset': 1611592220, 'temp': {'day': 4.1, 'min': 1.72, 'max': 4.16, 'night': 1.74, 'eve': 1.8, 'morn': 2.4}, 'feels_like': {'day': -0.2, 'night': -2.08, 'eve': -1.61, 'morn': -1.82}, 'pressure': 1018, 'humidity': 83, 'dew_point': 1.57, 'wind_speed': 3.63, 'wind_deg': 281, 'weather': [{'id': 501, 'main': 'Rain', 'description': 'moderate rain', 'icon': '10d'}], 'clouds': 71, 'pop': 0.99, 'rain': 6.28, 'uvi': 2}], 'alerts': [{'sender_name': 'METEO-FRANCE', 'event': 'Moderate snow-ice warning', 'start': 1610982000, 'end': 1611068400, 'description': 'Although rather usual in this region, locally or potentially dangerous phenomena are expected. (such as local winds, summer thunderstorms, rising streams or high waves)'}]}\n",
      "making request: Annecy\n",
      "{'lat': 45.8992, 'lon': 6.1289, 'timezone': 'Europe/Paris', 'timezone_offset': 3600, 'daily': [{'dt': 1610967600, 'sunrise': 1610953861, 'sunset': 1610986826, 'temp': {'day': 2.58, 'min': -2.91, 'max': 3, 'night': -2.91, 'eve': -1.19, 'morn': -0.94}, 'feels_like': {'day': 0.04, 'night': -6.11, 'eve': -3.82, 'morn': -3.58}, 'pressure': 1029, 'humidity': 82, 'dew_point': -0.25, 'wind_speed': 0.75, 'wind_deg': 335, 'weather': [{'id': 803, 'main': 'Clouds', 'description': 'broken clouds', 'icon': '04d'}], 'clouds': 71, 'pop': 0.48, 'uvi': 1.11}, {'dt': 1611054000, 'sunrise': 1611040217, 'sunset': 1611073307, 'temp': {'day': 4.23, 'min': -4, 'max': 5.46, 'night': -0.07, 'eve': 1.52, 'morn': -3.77}, 'feels_like': {'day': 1.5, 'night': -3.6, 'eve': -1.87, 'morn': -7.31}, 'pressure': 1023, 'humidity': 78, 'dew_point': 0.79, 'wind_speed': 1.22, 'wind_deg': 182, 'weather': [{'id': 803, 'main': 'Clouds', 'description': 'broken clouds', 'icon': '04d'}], 'clouds': 60, 'pop': 0, 'uvi': 1.27}, {'dt': 1611140400, 'sunrise': 1611126571, 'sunset': 1611159790, 'temp': {'day': 5.5, 'min': -0.69, 'max': 6.51, 'night': 0.75, 'eve': 2.43, 'morn': -0.61}, 'feels_like': {'day': 2.63, 'night': -2.79, 'eve': -0.98, 'morn': -4.02}, 'pressure': 1013, 'humidity': 79, 'dew_point': 2.24, 'wind_speed': 1.74, 'wind_deg': 172, 'weather': [{'id': 803, 'main': 'Clouds', 'description': 'broken clouds', 'icon': '04d'}], 'clouds': 58, 'pop': 0, 'uvi': 1.15}, {'dt': 1611226800, 'sunrise': 1611212923, 'sunset': 1611246273, 'temp': {'day': 7.1, 'min': 0.77, 'max': 7.1, 'night': 4.03, 'eve': 4.49, 'morn': 1.66}, 'feels_like': {'day': 4.5, 'night': 0.87, 'eve': 1.53, 'morn': -1.91}, 'pressure': 1006, 'humidity': 81, 'dew_point': 4.24, 'wind_speed': 1.85, 'wind_deg': 176, 'weather': [{'id': 500, 'main': 'Rain', 'description': 'light rain', 'icon': '10d'}], 'clouds': 90, 'pop': 0.3, 'rain': 0.25, 'uvi': 0.97}, {'dt': 1611313200, 'sunrise': 1611299273, 'sunset': 1611332757, 'temp': {'day': 3.26, 'min': 0.99, 'max': 4.26, 'night': 0.99, 'eve': 1.04, 'morn': 4.26}, 'feels_like': {'day': 0.28, 'night': -1.92, 'eve': -2.01, 'morn': 1.34}, 'pressure': 1004, 'humidity': 85, 'dew_point': 1.07, 'wind_speed': 1.64, 'wind_deg': 200, 'weather': [{'id': 616, 'main': 'Snow', 'description': 'rain and snow', 'icon': '13d'}], 'clouds': 100, 'pop': 1, 'rain': 8.34, 'snow': 13.59, 'uvi': 0.17}, {'dt': 1611399600, 'sunrise': 1611385620, 'sunset': 1611419242, 'temp': {'day': 3.33, 'min': -1.37, 'max': 4.16, 'night': 4.16, 'eve': 3.57, 'morn': -1.37}, 'feels_like': {'day': -0.82, 'night': -0.34, 'eve': -0.51, 'morn': -5.14}, 'pressure': 1006, 'humidity': 82, 'dew_point': 0.57, 'wind_speed': 3.21, 'wind_deg': 168, 'weather': [{'id': 616, 'main': 'Snow', 'description': 'rain and snow', 'icon': '13d'}], 'clouds': 100, 'pop': 1, 'rain': 7.88, 'snow': 2.48, 'uvi': 1}, {'dt': 1611486000, 'sunrise': 1611471965, 'sunset': 1611505728, 'temp': {'day': 4.38, 'min': 2.65, 'max': 4.69, 'night': 2.65, 'eve': 4.29, 'morn': 4.46}, 'feels_like': {'day': 0.88, 'night': 0.05, 'eve': 1.56, 'morn': 1.22}, 'pressure': 1003, 'humidity': 88, 'dew_point': 2.7, 'wind_speed': 2.75, 'wind_deg': 226, 'weather': [{'id': 501, 'main': 'Rain', 'description': 'moderate rain', 'icon': '10d'}], 'clouds': 100, 'pop': 1, 'rain': 30.68, 'uvi': 1}, {'dt': 1611572400, 'sunrise': 1611558308, 'sunset': 1611592214, 'temp': {'day': 4.04, 'min': 0.16, 'max': 4.04, 'night': 0.16, 'eve': 0.83, 'morn': 3.29}, 'feels_like': {'day': 1.48, 'night': -2.96, 'eve': -2.24, 'morn': 0.58}, 'pressure': 1016, 'humidity': 86, 'dew_point': 2.06, 'wind_speed': 1.24, 'wind_deg': 247, 'weather': [{'id': 616, 'main': 'Snow', 'description': 'rain and snow', 'icon': '13d'}], 'clouds': 99, 'pop': 1, 'rain': 8.23, 'snow': 0.18, 'uvi': 1}], 'alerts': [{'sender_name': 'METEO-FRANCE', 'event': 'Moderate avalanches warning', 'start': 1610982000, 'end': 1611068400, 'description': 'Although rather usual in this region, locally or potentially dangerous phenomena are expected. (such as local winds, summer thunderstorms, rising streams or high waves)'}]}\n",
      "making request: Grenoble\n",
      "{'lat': 45.1876, 'lon': 5.7358, 'timezone': 'Europe/Paris', 'timezone_offset': 3600, 'daily': [{'dt': 1610967600, 'sunrise': 1610953820, 'sunset': 1610987056, 'temp': {'day': 3.37, 'min': -1.96, 'max': 4.04, 'night': -1.96, 'eve': 0.68, 'morn': 1.34}, 'feels_like': {'day': -0.24, 'night': -5.06, 'eve': -2.31, 'morn': -2.39}, 'pressure': 1028, 'humidity': 77, 'dew_point': -0.62, 'wind_speed': 2.26, 'wind_deg': 348, 'weather': [{'id': 802, 'main': 'Clouds', 'description': 'scattered clouds', 'icon': '03d'}], 'clouds': 47, 'pop': 0.32, 'uvi': 1.18}, {'dt': 1611054000, 'sunrise': 1611040178, 'sunset': 1611073536, 'temp': {'day': 6.78, 'min': -2.7, 'max': 8.12, 'night': 1.24, 'eve': 3.33, 'morn': -1.92}, 'feels_like': {'day': 4.17, 'night': -2.66, 'eve': -0.04, 'morn': -5.62}, 'pressure': 1024, 'humidity': 70, 'dew_point': 1.8, 'wind_speed': 1.26, 'wind_deg': 174, 'weather': [{'id': 803, 'main': 'Clouds', 'description': 'broken clouds', 'icon': '04d'}], 'clouds': 58, 'pop': 0, 'uvi': 1.36}, {'dt': 1611140400, 'sunrise': 1611126534, 'sunset': 1611160016, 'temp': {'day': 9.01, 'min': 1.22, 'max': 9.35, 'night': 5.8, 'eve': 6.25, 'morn': 1.97}, 'feels_like': {'day': 5.14, 'night': 1.78, 'eve': 1.69, 'morn': -2.24}, 'pressure': 1014, 'humidity': 74, 'dew_point': 4.72, 'wind_speed': 3.82, 'wind_deg': 183, 'weather': [{'id': 801, 'main': 'Clouds', 'description': 'few clouds', 'icon': '02d'}], 'clouds': 19, 'pop': 0, 'uvi': 1.14}, {'dt': 1611226800, 'sunrise': 1611212887, 'sunset': 1611246498, 'temp': {'day': 10.72, 'min': 5.5, 'max': 10.72, 'night': 6.88, 'eve': 6.48, 'morn': 5.93}, 'feels_like': {'day': 7.77, 'night': 2.82, 'eve': 3.03, 'morn': 2.33}, 'pressure': 1008, 'humidity': 73, 'dew_point': 6.13, 'wind_speed': 2.92, 'wind_deg': 187, 'weather': [{'id': 500, 'main': 'Rain', 'description': 'light rain', 'icon': '10d'}], 'clouds': 63, 'pop': 0.45, 'rain': 0.25, 'uvi': 1.09}, {'dt': 1611313200, 'sunrise': 1611299239, 'sunset': 1611332980, 'temp': {'day': 5.99, 'min': 1.33, 'max': 6.44, 'night': 1.33, 'eve': 2.24, 'morn': 6.33}, 'feels_like': {'day': 3.86, 'night': -1.23, 'eve': -0.31, 'morn': 2.92}, 'pressure': 1004, 'humidity': 74, 'dew_point': 1.74, 'wind_speed': 0.59, 'wind_deg': 302, 'weather': [{'id': 616, 'main': 'Snow', 'description': 'rain and snow', 'icon': '13d'}], 'clouds': 100, 'pop': 1, 'rain': 2.99, 'snow': 9.86, 'uvi': 0.11}, {'dt': 1611399600, 'sunrise': 1611385588, 'sunset': 1611419463, 'temp': {'day': 5.65, 'min': -0.03, 'max': 5.89, 'night': 5.67, 'eve': 4.67, 'morn': -0.03}, 'feels_like': {'day': 1.39, 'night': 1.4, 'eve': 0.18, 'morn': -3.71}, 'pressure': 1007, 'humidity': 74, 'dew_point': 1.41, 'wind_speed': 3.55, 'wind_deg': 187, 'weather': [{'id': 616, 'main': 'Snow', 'description': 'rain and snow', 'icon': '13d'}], 'clouds': 98, 'pop': 1, 'rain': 2.51, 'snow': 1.03, 'uvi': 1}, {'dt': 1611486000, 'sunrise': 1611471935, 'sunset': 1611505946, 'temp': {'day': 6.53, 'min': 5.45, 'max': 6.53, 'night': 5.45, 'eve': 5.68, 'morn': 6.11}, 'feels_like': {'day': 3.38, 'night': 3.05, 'eve': 3.48, 'morn': 3.48}, 'pressure': 1005, 'humidity': 80, 'dew_point': 3.37, 'wind_speed': 2.44, 'wind_deg': 187, 'weather': [{'id': 501, 'main': 'Rain', 'description': 'moderate rain', 'icon': '10d'}], 'clouds': 100, 'pop': 1, 'rain': 19.27, 'uvi': 1}, {'dt': 1611572400, 'sunrise': 1611558280, 'sunset': 1611592430, 'temp': {'day': 4.51, 'min': 1.28, 'max': 5.35, 'night': 1.28, 'eve': 2.15, 'morn': 5.13}, 'feels_like': {'day': 1.56, 'night': -1.65, 'eve': -0.55, 'morn': 2.4}, 'pressure': 1016, 'humidity': 81, 'dew_point': 1.54, 'wind_speed': 1.71, 'wind_deg': 341, 'weather': [{'id': 616, 'main': 'Snow', 'description': 'rain and snow', 'icon': '13d'}], 'clouds': 100, 'pop': 0.98, 'rain': 5.07, 'snow': 5.77, 'uvi': 1}], 'alerts': [{'sender_name': 'METEO-FRANCE', 'event': 'Moderate avalanches warning', 'start': 1610982000, 'end': 1611068400, 'description': 'Although rather usual in this region, locally or potentially dangerous phenomena are expected. (such as local winds, summer thunderstorms, rising streams or high waves)'}]}\n",
      "making request: Lyon\n",
      "{'lat': 45.7578, 'lon': 4.832, 'timezone': 'Europe/Paris', 'timezone_offset': 3600, 'daily': [{'dt': 1610967600, 'sunrise': 1610954145, 'sunset': 1610987165, 'temp': {'day': 4.31, 'min': 1.35, 'max': 5.57, 'night': 1.36, 'eve': 2.71, 'morn': 2.18}, 'feels_like': {'day': 1.59, 'night': -1.01, 'eve': 0.4, 'morn': -0.58}, 'pressure': 1030, 'humidity': 80, 'dew_point': 1.17, 'wind_speed': 1.31, 'wind_deg': 347, 'weather': [{'id': 804, 'main': 'Clouds', 'description': 'overcast clouds', 'icon': '04d'}], 'clouds': 98, 'pop': 0.08, 'uvi': 0.93}, {'dt': 1611054000, 'sunrise': 1611040501, 'sunset': 1611073646, 'temp': {'day': 4.45, 'min': -0.11, 'max': 7.34, 'night': 3.46, 'eve': 4.61, 'morn': 0.02}, 'feels_like': {'day': 0.62, 'night': -1.19, 'eve': 0.47, 'morn': -3.15}, 'pressure': 1023, 'humidity': 69, 'dew_point': -2.58, 'wind_speed': 2.48, 'wind_deg': 158, 'weather': [{'id': 803, 'main': 'Clouds', 'description': 'broken clouds', 'icon': '04d'}], 'clouds': 54, 'pop': 0, 'uvi': 1.3}, {'dt': 1611140400, 'sunrise': 1611126856, 'sunset': 1611160128, 'temp': {'day': 11.12, 'min': 3.31, 'max': 11.75, 'night': 9.81, 'eve': 10.26, 'morn': 5.65}, 'feels_like': {'day': 2.13, 'night': 2.82, 'eve': 2.93, 'morn': 0.92}, 'pressure': 1010, 'humidity': 62, 'dew_point': 4.27, 'wind_speed': 10.99, 'wind_deg': 178, 'weather': [{'id': 804, 'main': 'Clouds', 'description': 'overcast clouds', 'icon': '04d'}], 'clouds': 96, 'pop': 0.14, 'uvi': 1.22}, {'dt': 1611226800, 'sunrise': 1611213208, 'sunset': 1611246611, 'temp': {'day': 11.84, 'min': 8.05, 'max': 11.84, 'night': 10.11, 'eve': 10.64, 'morn': 8.15}, 'feels_like': {'day': 6.6, 'night': 4.86, 'eve': 4.67, 'morn': 2.92}, 'pressure': 1005, 'humidity': 66, 'dew_point': 5.79, 'wind_speed': 6.08, 'wind_deg': 185, 'weather': [{'id': 500, 'main': 'Rain', 'description': 'light rain', 'icon': '10d'}], 'clouds': 87, 'pop': 0.8, 'rain': 0.46, 'uvi': 0.78}, {'dt': 1611313200, 'sunrise': 1611299558, 'sunset': 1611333095, 'temp': {'day': 8.2, 'min': 4.42, 'max': 9.33, 'night': 4.42, 'eve': 5.69, 'morn': 7.4}, 'feels_like': {'day': 4.58, 'night': 1.46, 'eve': 2.85, 'morn': 2.99}, 'pressure': 1006, 'humidity': 58, 'dew_point': 0.6, 'wind_speed': 2.42, 'wind_deg': 195, 'weather': [{'id': 501, 'main': 'Rain', 'description': 'moderate rain', 'icon': '10d'}], 'clouds': 100, 'pop': 1, 'rain': 8.39, 'uvi': 0.42}, {'dt': 1611399600, 'sunrise': 1611385906, 'sunset': 1611419579, 'temp': {'day': 6.19, 'min': 2.8, 'max': 6.9, 'night': 6.79, 'eve': 6.75, 'morn': 3.25}, 'feels_like': {'day': -0.22, 'night': 0.66, 'eve': 0.86, 'morn': -1.85}, 'pressure': 1005, 'humidity': 76, 'dew_point': 2.29, 'wind_speed': 6.84, 'wind_deg': 175, 'weather': [{'id': 500, 'main': 'Rain', 'description': 'light rain', 'icon': '10d'}], 'clouds': 100, 'pop': 0.9, 'rain': 1.68, 'uvi': 1}, {'dt': 1611486000, 'sunrise': 1611472251, 'sunset': 1611506064, 'temp': {'day': 8.62, 'min': 6.07, 'max': 8.96, 'night': 6.34, 'eve': 6.38, 'morn': 6.07}, 'feels_like': {'day': 5.47, 'night': 3.91, 'eve': 3.8, 'morn': 2.64}, 'pressure': 1004, 'humidity': 77, 'dew_point': 4.82, 'wind_speed': 2.84, 'wind_deg': 230, 'weather': [{'id': 500, 'main': 'Rain', 'description': 'light rain', 'icon': '10d'}], 'clouds': 88, 'pop': 1, 'rain': 5.16, 'uvi': 1}, {'dt': 1611572400, 'sunrise': 1611558595, 'sunset': 1611592550, 'temp': {'day': 7.19, 'min': 5.16, 'max': 7.61, 'night': 5.16, 'eve': 5.2, 'morn': 5.66}, 'feels_like': {'day': 4.35, 'night': 2.28, 'eve': 3.11, 'morn': 3.39}, 'pressure': 1018, 'humidity': 73, 'dew_point': 2.69, 'wind_speed': 1.83, 'wind_deg': 290, 'weather': [{'id': 501, 'main': 'Rain', 'description': 'moderate rain', 'icon': '10d'}], 'clouds': 100, 'pop': 1, 'rain': 7.55, 'uvi': 1}]}\n",
      "making request: Gorges du Verdon\n"
     ]
    },
    {
     "ename": "IndexError",
     "evalue": "list index out of range",
     "output_type": "error",
     "traceback": [
      "\u001b[0;31m---------------------------------------------------------------------------\u001b[0m",
      "\u001b[0;31mIndexError\u001b[0m                                Traceback (most recent call last)",
      "\u001b[0;32m<ipython-input-12-140bcdb9693d>\u001b[0m in \u001b[0;36m<module>\u001b[0;34m\u001b[0m\n\u001b[1;32m     16\u001b[0m     \u001b[0mdf\u001b[0m\u001b[0;34m.\u001b[0m\u001b[0mloc\u001b[0m\u001b[0;34m[\u001b[0m\u001b[0mi\u001b[0m\u001b[0;34m,\u001b[0m\u001b[0;34m'city_id'\u001b[0m\u001b[0;34m]\u001b[0m \u001b[0;34m=\u001b[0m \u001b[0mi\u001b[0m\u001b[0;34m\u001b[0m\u001b[0;34m\u001b[0m\u001b[0m\n\u001b[1;32m     17\u001b[0m     \u001b[0mdf\u001b[0m\u001b[0;34m.\u001b[0m\u001b[0mloc\u001b[0m\u001b[0;34m[\u001b[0m\u001b[0mi\u001b[0m\u001b[0;34m,\u001b[0m\u001b[0;34m'name'\u001b[0m\u001b[0;34m]\u001b[0m \u001b[0;34m=\u001b[0m \u001b[0mcity_names\u001b[0m\u001b[0;34m[\u001b[0m\u001b[0mi\u001b[0m\u001b[0;34m]\u001b[0m\u001b[0;34m\u001b[0m\u001b[0;34m\u001b[0m\u001b[0m\n\u001b[0;32m---> 18\u001b[0;31m     \u001b[0mdf\u001b[0m\u001b[0;34m.\u001b[0m\u001b[0mloc\u001b[0m\u001b[0;34m[\u001b[0m\u001b[0mi\u001b[0m\u001b[0;34m,\u001b[0m \u001b[0;34m'latitude'\u001b[0m\u001b[0;34m]\u001b[0m \u001b[0;34m=\u001b[0m \u001b[0mres\u001b[0m\u001b[0;34m[\u001b[0m\u001b[0;36m0\u001b[0m\u001b[0;34m]\u001b[0m\u001b[0;34m[\u001b[0m\u001b[0;34m'lat'\u001b[0m\u001b[0;34m]\u001b[0m\u001b[0;34m\u001b[0m\u001b[0;34m\u001b[0m\u001b[0m\n\u001b[0m\u001b[1;32m     19\u001b[0m     \u001b[0mdf\u001b[0m\u001b[0;34m.\u001b[0m\u001b[0mloc\u001b[0m\u001b[0;34m[\u001b[0m\u001b[0mi\u001b[0m\u001b[0;34m,\u001b[0m \u001b[0;34m'longitude'\u001b[0m\u001b[0;34m]\u001b[0m \u001b[0;34m=\u001b[0m \u001b[0mres\u001b[0m\u001b[0;34m[\u001b[0m\u001b[0;36m0\u001b[0m\u001b[0;34m]\u001b[0m\u001b[0;34m[\u001b[0m\u001b[0;34m'lon'\u001b[0m\u001b[0;34m]\u001b[0m\u001b[0;34m\u001b[0m\u001b[0;34m\u001b[0m\u001b[0m\n\u001b[1;32m     20\u001b[0m \u001b[0;34m\u001b[0m\u001b[0m\n",
      "\u001b[0;31mIndexError\u001b[0m: list index out of range"
     ]
    }
   ],
   "source": [
    "for i in range(len(city_names)):\n",
    "    print(\"making request: {}\".format(city_names[i]))\n",
    "    \n",
    "#get latitude and longitude of cities    \n",
    "    \n",
    "    par = {\n",
    "        \"city\": city_names[i],\n",
    "        \"country\": \"France\",\n",
    "        \"format\": \"json\"\n",
    "          }\n",
    "    \n",
    "    r = requests.get('https://nominatim.openstreetmap.org/search', params=par)\n",
    "    res = r.json()\n",
    "    \n",
    "#fix lat and lon\n",
    "    df.loc[i,'city_id'] = i\n",
    "    df.loc[i,'name'] = city_names[i]\n",
    "    df.loc[i, 'latitude'] = res[0]['lat']\n",
    "    df.loc[i, 'longitude'] = res[0]['lon']\n",
    "    \n",
    "#get weather\n",
    "    par = {\n",
    "        \"lat\": df.loc[i, 'latitude'],\n",
    "        \"lon\": df.loc[i, 'longitude'],\n",
    "        \"exclude\": \"current,minutely,hourly\",\n",
    "        \"units\": \"metric\",\n",
    "        \"appid\": api_key,\n",
    "           }\n",
    "    \n",
    "    r = requests.get('https://api.openweathermap.org/data/2.5/onecall', params=par)\n",
    "    res = r.json()\n",
    "    \n",
    "    # Compute expected volume of rain\n",
    "    expected_rain = 0\n",
    "    print(res) \n",
    "    \n",
    "    for d in res['daily']:\n",
    "        if 'rain' in d.keys():\n",
    "            expected_rain += d['pop']*d['rain']\n",
    "            \n",
    "    # Compute average day temperature\n",
    "    temperatures = pd.Series([d['temp']['day'] for d in res['daily']])\n",
    "    mean_temperature = temperatures.mean()\n",
    "\n",
    "    # Extract most probable weather\n",
    "    weathers = pd.Series([d['weather'][0]['main'] for d in res['daily']])\n",
    "    main_weather = weathers.mode()[0]\n",
    "    \n",
    "    df.loc[i, 'main_weather'] = main_weather\n",
    "    df.loc[i,'expected_rain'] = expected_rain\n",
    "    df.loc[i,'day_temperature'] = mean_temperature\n"
   ]
  },
  {
   "cell_type": "code",
   "execution_count": 13,
   "metadata": {},
   "outputs": [
    {
     "data": {
      "text/html": [
       "<div>\n",
       "<style scoped>\n",
       "    .dataframe tbody tr th:only-of-type {\n",
       "        vertical-align: middle;\n",
       "    }\n",
       "\n",
       "    .dataframe tbody tr th {\n",
       "        vertical-align: top;\n",
       "    }\n",
       "\n",
       "    .dataframe thead th {\n",
       "        text-align: right;\n",
       "    }\n",
       "</style>\n",
       "<table border=\"1\" class=\"dataframe\">\n",
       "  <thead>\n",
       "    <tr style=\"text-align: right;\">\n",
       "      <th></th>\n",
       "      <th>city_id</th>\n",
       "      <th>name</th>\n",
       "      <th>latitude</th>\n",
       "      <th>longitude</th>\n",
       "      <th>main_weather</th>\n",
       "      <th>expected_rain</th>\n",
       "      <th>day_temperature</th>\n",
       "    </tr>\n",
       "  </thead>\n",
       "  <tbody>\n",
       "    <tr>\n",
       "      <th>0</th>\n",
       "      <td>0</td>\n",
       "      <td>Mont Saint Michel</td>\n",
       "      <td>48.6358559</td>\n",
       "      <td>-1.5126096</td>\n",
       "      <td>Rain</td>\n",
       "      <td>38.8919</td>\n",
       "      <td>8.465</td>\n",
       "    </tr>\n",
       "    <tr>\n",
       "      <th>1</th>\n",
       "      <td>1</td>\n",
       "      <td>St Malo</td>\n",
       "      <td>48.6454528</td>\n",
       "      <td>-2.015418</td>\n",
       "      <td>Rain</td>\n",
       "      <td>33.152</td>\n",
       "      <td>8.7875</td>\n",
       "    </tr>\n",
       "    <tr>\n",
       "      <th>2</th>\n",
       "      <td>2</td>\n",
       "      <td>Bayeux</td>\n",
       "      <td>49.2764624</td>\n",
       "      <td>-0.7024738</td>\n",
       "      <td>Rain</td>\n",
       "      <td>34.2027</td>\n",
       "      <td>7.755</td>\n",
       "    </tr>\n",
       "    <tr>\n",
       "      <th>3</th>\n",
       "      <td>3</td>\n",
       "      <td>Le Havre</td>\n",
       "      <td>49.4938975</td>\n",
       "      <td>0.1079732</td>\n",
       "      <td>Rain</td>\n",
       "      <td>39.7682</td>\n",
       "      <td>7.78625</td>\n",
       "    </tr>\n",
       "    <tr>\n",
       "      <th>4</th>\n",
       "      <td>4</td>\n",
       "      <td>Rouen</td>\n",
       "      <td>49.4404591</td>\n",
       "      <td>1.0939658</td>\n",
       "      <td>Rain</td>\n",
       "      <td>29.4202</td>\n",
       "      <td>6.87</td>\n",
       "    </tr>\n",
       "    <tr>\n",
       "      <th>5</th>\n",
       "      <td>5</td>\n",
       "      <td>Paris</td>\n",
       "      <td>48.8566969</td>\n",
       "      <td>2.3514616</td>\n",
       "      <td>Rain</td>\n",
       "      <td>29.3093</td>\n",
       "      <td>6.7575</td>\n",
       "    </tr>\n",
       "    <tr>\n",
       "      <th>6</th>\n",
       "      <td>6</td>\n",
       "      <td>Amiens</td>\n",
       "      <td>49.8941708</td>\n",
       "      <td>2.2956951</td>\n",
       "      <td>Rain</td>\n",
       "      <td>25.2624</td>\n",
       "      <td>6.50875</td>\n",
       "    </tr>\n",
       "    <tr>\n",
       "      <th>7</th>\n",
       "      <td>7</td>\n",
       "      <td>Lille</td>\n",
       "      <td>50.6365654</td>\n",
       "      <td>3.0635282</td>\n",
       "      <td>Rain</td>\n",
       "      <td>17.2693</td>\n",
       "      <td>6.37625</td>\n",
       "    </tr>\n",
       "    <tr>\n",
       "      <th>8</th>\n",
       "      <td>8</td>\n",
       "      <td>Strasbourg</td>\n",
       "      <td>48.584614</td>\n",
       "      <td>7.7507127</td>\n",
       "      <td>Rain</td>\n",
       "      <td>12.4086</td>\n",
       "      <td>4.2575</td>\n",
       "    </tr>\n",
       "    <tr>\n",
       "      <th>9</th>\n",
       "      <td>9</td>\n",
       "      <td>Chateau du Haut Koenigsbourg</td>\n",
       "      <td>48.2495226</td>\n",
       "      <td>7.3454923</td>\n",
       "      <td>Snow</td>\n",
       "      <td>22.2542</td>\n",
       "      <td>1.25875</td>\n",
       "    </tr>\n",
       "    <tr>\n",
       "      <th>10</th>\n",
       "      <td>10</td>\n",
       "      <td>Colmar</td>\n",
       "      <td>48.0777517</td>\n",
       "      <td>7.3579641</td>\n",
       "      <td>Snow</td>\n",
       "      <td>22.0231</td>\n",
       "      <td>4.43</td>\n",
       "    </tr>\n",
       "    <tr>\n",
       "      <th>11</th>\n",
       "      <td>11</td>\n",
       "      <td>Eguisheim</td>\n",
       "      <td>48.0447968</td>\n",
       "      <td>7.3079618</td>\n",
       "      <td>Snow</td>\n",
       "      <td>23.7484</td>\n",
       "      <td>4.51625</td>\n",
       "    </tr>\n",
       "    <tr>\n",
       "      <th>12</th>\n",
       "      <td>12</td>\n",
       "      <td>Besancon</td>\n",
       "      <td>47.2380222</td>\n",
       "      <td>6.0243622</td>\n",
       "      <td>Rain</td>\n",
       "      <td>67.12</td>\n",
       "      <td>6.05125</td>\n",
       "    </tr>\n",
       "    <tr>\n",
       "      <th>13</th>\n",
       "      <td>13</td>\n",
       "      <td>Dijon</td>\n",
       "      <td>47.3215806</td>\n",
       "      <td>5.0414701</td>\n",
       "      <td>Rain</td>\n",
       "      <td>34.7072</td>\n",
       "      <td>5.72375</td>\n",
       "    </tr>\n",
       "    <tr>\n",
       "      <th>14</th>\n",
       "      <td>14</td>\n",
       "      <td>Annecy</td>\n",
       "      <td>45.8992348</td>\n",
       "      <td>6.1288847</td>\n",
       "      <td>Clouds</td>\n",
       "      <td>55.205</td>\n",
       "      <td>4.3025</td>\n",
       "    </tr>\n",
       "    <tr>\n",
       "      <th>15</th>\n",
       "      <td>15</td>\n",
       "      <td>Grenoble</td>\n",
       "      <td>45.1875602</td>\n",
       "      <td>5.7357819</td>\n",
       "      <td>Clouds</td>\n",
       "      <td>29.8511</td>\n",
       "      <td>6.57</td>\n",
       "    </tr>\n",
       "    <tr>\n",
       "      <th>16</th>\n",
       "      <td>16</td>\n",
       "      <td>Lyon</td>\n",
       "      <td>45.7578137</td>\n",
       "      <td>4.8320114</td>\n",
       "      <td>Rain</td>\n",
       "      <td>22.98</td>\n",
       "      <td>7.74</td>\n",
       "    </tr>\n",
       "    <tr>\n",
       "      <th>17</th>\n",
       "      <td>17</td>\n",
       "      <td>Gorges du Verdon</td>\n",
       "      <td>NaN</td>\n",
       "      <td>NaN</td>\n",
       "      <td>NaN</td>\n",
       "      <td>NaN</td>\n",
       "      <td>NaN</td>\n",
       "    </tr>\n",
       "  </tbody>\n",
       "</table>\n",
       "</div>"
      ],
      "text/plain": [
       "   city_id                          name    latitude   longitude main_weather  \\\n",
       "0        0             Mont Saint Michel  48.6358559  -1.5126096         Rain   \n",
       "1        1                       St Malo  48.6454528   -2.015418         Rain   \n",
       "2        2                        Bayeux  49.2764624  -0.7024738         Rain   \n",
       "3        3                      Le Havre  49.4938975   0.1079732         Rain   \n",
       "4        4                         Rouen  49.4404591   1.0939658         Rain   \n",
       "5        5                         Paris  48.8566969   2.3514616         Rain   \n",
       "6        6                        Amiens  49.8941708   2.2956951         Rain   \n",
       "7        7                         Lille  50.6365654   3.0635282         Rain   \n",
       "8        8                    Strasbourg   48.584614   7.7507127         Rain   \n",
       "9        9  Chateau du Haut Koenigsbourg  48.2495226   7.3454923         Snow   \n",
       "10      10                        Colmar  48.0777517   7.3579641         Snow   \n",
       "11      11                     Eguisheim  48.0447968   7.3079618         Snow   \n",
       "12      12                      Besancon  47.2380222   6.0243622         Rain   \n",
       "13      13                         Dijon  47.3215806   5.0414701         Rain   \n",
       "14      14                        Annecy  45.8992348   6.1288847       Clouds   \n",
       "15      15                      Grenoble  45.1875602   5.7357819       Clouds   \n",
       "16      16                          Lyon  45.7578137   4.8320114         Rain   \n",
       "17      17              Gorges du Verdon         NaN         NaN          NaN   \n",
       "\n",
       "   expected_rain day_temperature  \n",
       "0        38.8919           8.465  \n",
       "1         33.152          8.7875  \n",
       "2        34.2027           7.755  \n",
       "3        39.7682         7.78625  \n",
       "4        29.4202            6.87  \n",
       "5        29.3093          6.7575  \n",
       "6        25.2624         6.50875  \n",
       "7        17.2693         6.37625  \n",
       "8        12.4086          4.2575  \n",
       "9        22.2542         1.25875  \n",
       "10       22.0231            4.43  \n",
       "11       23.7484         4.51625  \n",
       "12         67.12         6.05125  \n",
       "13       34.7072         5.72375  \n",
       "14        55.205          4.3025  \n",
       "15       29.8511            6.57  \n",
       "16         22.98            7.74  \n",
       "17           NaN             NaN  "
      ]
     },
     "execution_count": 13,
     "metadata": {},
     "output_type": "execute_result"
    }
   ],
   "source": [
    "df"
   ]
  },
  {
   "cell_type": "code",
   "execution_count": 14,
   "metadata": {},
   "outputs": [
    {
     "data": {
      "text/html": [
       "<div>\n",
       "<style scoped>\n",
       "    .dataframe tbody tr th:only-of-type {\n",
       "        vertical-align: middle;\n",
       "    }\n",
       "\n",
       "    .dataframe tbody tr th {\n",
       "        vertical-align: top;\n",
       "    }\n",
       "\n",
       "    .dataframe thead th {\n",
       "        text-align: right;\n",
       "    }\n",
       "</style>\n",
       "<table border=\"1\" class=\"dataframe\">\n",
       "  <thead>\n",
       "    <tr style=\"text-align: right;\">\n",
       "      <th></th>\n",
       "      <th>city_id</th>\n",
       "      <th>name</th>\n",
       "      <th>latitude</th>\n",
       "      <th>longitude</th>\n",
       "      <th>main_weather</th>\n",
       "      <th>expected_rain</th>\n",
       "      <th>day_temperature</th>\n",
       "      <th>rank</th>\n",
       "      <th>inverted_rank</th>\n",
       "    </tr>\n",
       "  </thead>\n",
       "  <tbody>\n",
       "    <tr>\n",
       "      <th>0</th>\n",
       "      <td>8</td>\n",
       "      <td>Strasbourg</td>\n",
       "      <td>48.584614</td>\n",
       "      <td>7.7507127</td>\n",
       "      <td>Rain</td>\n",
       "      <td>12.4086</td>\n",
       "      <td>4.2575</td>\n",
       "      <td>1.0</td>\n",
       "      <td>17.0</td>\n",
       "    </tr>\n",
       "    <tr>\n",
       "      <th>1</th>\n",
       "      <td>7</td>\n",
       "      <td>Lille</td>\n",
       "      <td>50.6365654</td>\n",
       "      <td>3.0635282</td>\n",
       "      <td>Rain</td>\n",
       "      <td>17.2693</td>\n",
       "      <td>6.37625</td>\n",
       "      <td>2.0</td>\n",
       "      <td>16.0</td>\n",
       "    </tr>\n",
       "    <tr>\n",
       "      <th>2</th>\n",
       "      <td>10</td>\n",
       "      <td>Colmar</td>\n",
       "      <td>48.0777517</td>\n",
       "      <td>7.3579641</td>\n",
       "      <td>Snow</td>\n",
       "      <td>22.0231</td>\n",
       "      <td>4.43</td>\n",
       "      <td>3.0</td>\n",
       "      <td>15.0</td>\n",
       "    </tr>\n",
       "    <tr>\n",
       "      <th>3</th>\n",
       "      <td>9</td>\n",
       "      <td>Chateau du Haut Koenigsbourg</td>\n",
       "      <td>48.2495226</td>\n",
       "      <td>7.3454923</td>\n",
       "      <td>Snow</td>\n",
       "      <td>22.2542</td>\n",
       "      <td>1.25875</td>\n",
       "      <td>4.0</td>\n",
       "      <td>14.0</td>\n",
       "    </tr>\n",
       "    <tr>\n",
       "      <th>4</th>\n",
       "      <td>16</td>\n",
       "      <td>Lyon</td>\n",
       "      <td>45.7578137</td>\n",
       "      <td>4.8320114</td>\n",
       "      <td>Rain</td>\n",
       "      <td>22.98</td>\n",
       "      <td>7.74</td>\n",
       "      <td>5.0</td>\n",
       "      <td>13.0</td>\n",
       "    </tr>\n",
       "    <tr>\n",
       "      <th>5</th>\n",
       "      <td>11</td>\n",
       "      <td>Eguisheim</td>\n",
       "      <td>48.0447968</td>\n",
       "      <td>7.3079618</td>\n",
       "      <td>Snow</td>\n",
       "      <td>23.7484</td>\n",
       "      <td>4.51625</td>\n",
       "      <td>6.0</td>\n",
       "      <td>12.0</td>\n",
       "    </tr>\n",
       "    <tr>\n",
       "      <th>6</th>\n",
       "      <td>6</td>\n",
       "      <td>Amiens</td>\n",
       "      <td>49.8941708</td>\n",
       "      <td>2.2956951</td>\n",
       "      <td>Rain</td>\n",
       "      <td>25.2624</td>\n",
       "      <td>6.50875</td>\n",
       "      <td>7.0</td>\n",
       "      <td>11.0</td>\n",
       "    </tr>\n",
       "    <tr>\n",
       "      <th>7</th>\n",
       "      <td>5</td>\n",
       "      <td>Paris</td>\n",
       "      <td>48.8566969</td>\n",
       "      <td>2.3514616</td>\n",
       "      <td>Rain</td>\n",
       "      <td>29.3093</td>\n",
       "      <td>6.7575</td>\n",
       "      <td>8.0</td>\n",
       "      <td>10.0</td>\n",
       "    </tr>\n",
       "    <tr>\n",
       "      <th>8</th>\n",
       "      <td>4</td>\n",
       "      <td>Rouen</td>\n",
       "      <td>49.4404591</td>\n",
       "      <td>1.0939658</td>\n",
       "      <td>Rain</td>\n",
       "      <td>29.4202</td>\n",
       "      <td>6.87</td>\n",
       "      <td>9.0</td>\n",
       "      <td>9.0</td>\n",
       "    </tr>\n",
       "    <tr>\n",
       "      <th>9</th>\n",
       "      <td>15</td>\n",
       "      <td>Grenoble</td>\n",
       "      <td>45.1875602</td>\n",
       "      <td>5.7357819</td>\n",
       "      <td>Clouds</td>\n",
       "      <td>29.8511</td>\n",
       "      <td>6.57</td>\n",
       "      <td>10.0</td>\n",
       "      <td>8.0</td>\n",
       "    </tr>\n",
       "    <tr>\n",
       "      <th>10</th>\n",
       "      <td>1</td>\n",
       "      <td>St Malo</td>\n",
       "      <td>48.6454528</td>\n",
       "      <td>-2.015418</td>\n",
       "      <td>Rain</td>\n",
       "      <td>33.152</td>\n",
       "      <td>8.7875</td>\n",
       "      <td>11.0</td>\n",
       "      <td>7.0</td>\n",
       "    </tr>\n",
       "    <tr>\n",
       "      <th>11</th>\n",
       "      <td>2</td>\n",
       "      <td>Bayeux</td>\n",
       "      <td>49.2764624</td>\n",
       "      <td>-0.7024738</td>\n",
       "      <td>Rain</td>\n",
       "      <td>34.2027</td>\n",
       "      <td>7.755</td>\n",
       "      <td>12.0</td>\n",
       "      <td>6.0</td>\n",
       "    </tr>\n",
       "    <tr>\n",
       "      <th>12</th>\n",
       "      <td>13</td>\n",
       "      <td>Dijon</td>\n",
       "      <td>47.3215806</td>\n",
       "      <td>5.0414701</td>\n",
       "      <td>Rain</td>\n",
       "      <td>34.7072</td>\n",
       "      <td>5.72375</td>\n",
       "      <td>13.0</td>\n",
       "      <td>5.0</td>\n",
       "    </tr>\n",
       "    <tr>\n",
       "      <th>13</th>\n",
       "      <td>0</td>\n",
       "      <td>Mont Saint Michel</td>\n",
       "      <td>48.6358559</td>\n",
       "      <td>-1.5126096</td>\n",
       "      <td>Rain</td>\n",
       "      <td>38.8919</td>\n",
       "      <td>8.465</td>\n",
       "      <td>14.0</td>\n",
       "      <td>4.0</td>\n",
       "    </tr>\n",
       "    <tr>\n",
       "      <th>14</th>\n",
       "      <td>3</td>\n",
       "      <td>Le Havre</td>\n",
       "      <td>49.4938975</td>\n",
       "      <td>0.1079732</td>\n",
       "      <td>Rain</td>\n",
       "      <td>39.7682</td>\n",
       "      <td>7.78625</td>\n",
       "      <td>15.0</td>\n",
       "      <td>3.0</td>\n",
       "    </tr>\n",
       "    <tr>\n",
       "      <th>15</th>\n",
       "      <td>14</td>\n",
       "      <td>Annecy</td>\n",
       "      <td>45.8992348</td>\n",
       "      <td>6.1288847</td>\n",
       "      <td>Clouds</td>\n",
       "      <td>55.205</td>\n",
       "      <td>4.3025</td>\n",
       "      <td>16.0</td>\n",
       "      <td>2.0</td>\n",
       "    </tr>\n",
       "    <tr>\n",
       "      <th>16</th>\n",
       "      <td>12</td>\n",
       "      <td>Besancon</td>\n",
       "      <td>47.2380222</td>\n",
       "      <td>6.0243622</td>\n",
       "      <td>Rain</td>\n",
       "      <td>67.12</td>\n",
       "      <td>6.05125</td>\n",
       "      <td>17.0</td>\n",
       "      <td>1.0</td>\n",
       "    </tr>\n",
       "    <tr>\n",
       "      <th>17</th>\n",
       "      <td>17</td>\n",
       "      <td>Gorges du Verdon</td>\n",
       "      <td>NaN</td>\n",
       "      <td>NaN</td>\n",
       "      <td>NaN</td>\n",
       "      <td>NaN</td>\n",
       "      <td>NaN</td>\n",
       "      <td>NaN</td>\n",
       "      <td>NaN</td>\n",
       "    </tr>\n",
       "  </tbody>\n",
       "</table>\n",
       "</div>"
      ],
      "text/plain": [
       "   city_id                          name    latitude   longitude main_weather  \\\n",
       "0        8                    Strasbourg   48.584614   7.7507127         Rain   \n",
       "1        7                         Lille  50.6365654   3.0635282         Rain   \n",
       "2       10                        Colmar  48.0777517   7.3579641         Snow   \n",
       "3        9  Chateau du Haut Koenigsbourg  48.2495226   7.3454923         Snow   \n",
       "4       16                          Lyon  45.7578137   4.8320114         Rain   \n",
       "5       11                     Eguisheim  48.0447968   7.3079618         Snow   \n",
       "6        6                        Amiens  49.8941708   2.2956951         Rain   \n",
       "7        5                         Paris  48.8566969   2.3514616         Rain   \n",
       "8        4                         Rouen  49.4404591   1.0939658         Rain   \n",
       "9       15                      Grenoble  45.1875602   5.7357819       Clouds   \n",
       "10       1                       St Malo  48.6454528   -2.015418         Rain   \n",
       "11       2                        Bayeux  49.2764624  -0.7024738         Rain   \n",
       "12      13                         Dijon  47.3215806   5.0414701         Rain   \n",
       "13       0             Mont Saint Michel  48.6358559  -1.5126096         Rain   \n",
       "14       3                      Le Havre  49.4938975   0.1079732         Rain   \n",
       "15      14                        Annecy  45.8992348   6.1288847       Clouds   \n",
       "16      12                      Besancon  47.2380222   6.0243622         Rain   \n",
       "17      17              Gorges du Verdon         NaN         NaN          NaN   \n",
       "\n",
       "   expected_rain day_temperature  rank  inverted_rank  \n",
       "0        12.4086          4.2575   1.0           17.0  \n",
       "1        17.2693         6.37625   2.0           16.0  \n",
       "2        22.0231            4.43   3.0           15.0  \n",
       "3        22.2542         1.25875   4.0           14.0  \n",
       "4          22.98            7.74   5.0           13.0  \n",
       "5        23.7484         4.51625   6.0           12.0  \n",
       "6        25.2624         6.50875   7.0           11.0  \n",
       "7        29.3093          6.7575   8.0           10.0  \n",
       "8        29.4202            6.87   9.0            9.0  \n",
       "9        29.8511            6.57  10.0            8.0  \n",
       "10        33.152          8.7875  11.0            7.0  \n",
       "11       34.2027           7.755  12.0            6.0  \n",
       "12       34.7072         5.72375  13.0            5.0  \n",
       "13       38.8919           8.465  14.0            4.0  \n",
       "14       39.7682         7.78625  15.0            3.0  \n",
       "15        55.205          4.3025  16.0            2.0  \n",
       "16         67.12         6.05125  17.0            1.0  \n",
       "17           NaN             NaN   NaN            NaN  "
      ]
     },
     "metadata": {},
     "output_type": "display_data"
    }
   ],
   "source": [
    "df.loc[:,'rank'] = df['expected_rain'].rank(method='min')\n",
    "df.loc[:,'inverted_rank'] = df['expected_rain'].rank(method='min', ascending=False)\n",
    "df = df.sort_values(by=['expected_rain', 'day_temperature'], ascending = [True, False]).reset_index(drop=True)\n",
    "display(df)"
   ]
  },
  {
   "cell_type": "code",
   "execution_count": 15,
   "metadata": {},
   "outputs": [
    {
     "name": "stdout",
     "output_type": "stream",
     "text": [
      "Best places for a trip next week are : \n",
      "\n",
      "Strasbourg -- Mostly Rain with temperature 4.2575 °C\n"
     ]
    }
   ],
   "source": [
    "print('Best places for a trip next week are : ')\n",
    "print()\n",
    "\n",
    "for i,row in df.loc[df['rank']==1,:].iterrows():\n",
    "    print(\"{} -- Mostly {} with temperature {} °C\".format(row['name'], row['main_weather'], row['day_temperature']))"
   ]
  },
  {
   "cell_type": "code",
   "execution_count": 16,
   "metadata": {},
   "outputs": [],
   "source": [
    "df = df.fillna(0)"
   ]
  },
  {
   "cell_type": "code",
   "execution_count": 17,
   "metadata": {},
   "outputs": [],
   "source": [
    "df.loc[:,'latitude'] = df['latitude'].astype('float')\n",
    "df.loc[:,'longitude'] = df['longitude'].astype('float')\n",
    "df.loc[:,'expected_rain'] = df['expected_rain'].astype('float')\n",
    "df.loc[:,'day_temperature'] = df['day_temperature'].astype('float')\n",
    "df.loc[:,'rank'] = df['rank'].astype('int')\n",
    "df.loc[:,'inverted_rank'] = df['inverted_rank'].astype('int')"
   ]
  },
  {
   "cell_type": "code",
   "execution_count": 21,
   "metadata": {},
   "outputs": [
    {
     "data": {
      "application/vnd.plotly.v1+json": {
       "config": {
        "plotlyServerURL": "https://plot.ly"
       },
       "data": [
        {
         "customdata": [
          [
           "Rain",
           12.408600000000002,
           4.2575
          ],
          [
           "Rain",
           17.2693,
           6.37625
          ],
          [
           "Snow",
           22.023100000000003,
           4.43
          ],
          [
           "Snow",
           22.2542,
           1.2587499999999998
          ],
          [
           "Rain",
           22.98,
           7.739999999999999
          ],
          [
           "Snow",
           23.7484,
           4.51625
          ],
          [
           "Rain",
           25.2624,
           6.50875
          ],
          [
           "Rain",
           29.309299999999997,
           6.7575
          ],
          [
           "Rain",
           29.420199999999998,
           6.869999999999999
          ],
          [
           "Clouds",
           29.851100000000002,
           6.57
          ],
          [
           "Rain",
           33.152,
           8.7875
          ],
          [
           "Rain",
           34.2027,
           7.755000000000001
          ],
          [
           "Rain",
           34.7072,
           5.72375
          ],
          [
           "Rain",
           38.8919,
           8.465
          ],
          [
           "Rain",
           39.76819999999999,
           7.78625
          ],
          [
           "Clouds",
           55.205,
           4.3025
          ],
          [
           "Rain",
           67.12,
           6.0512500000000005
          ],
          [
           0,
           0,
           0
          ]
         ],
         "hovertemplate": "<b>%{hovertext}</b><br><br>inverted_rank=%{marker.size}<br>latitude=%{lat}<br>longitude=%{lon}<br>main_weather=%{customdata[0]}<br>expected_rain=%{customdata[1]}<br>day_temperature=%{marker.color}<extra></extra>",
         "hovertext": [
          "Strasbourg",
          "Lille",
          "Colmar",
          "Chateau du Haut Koenigsbourg",
          "Lyon",
          "Eguisheim",
          "Amiens",
          "Paris",
          "Rouen",
          "Grenoble",
          "St Malo",
          "Bayeux",
          "Dijon",
          "Mont Saint Michel",
          "Le Havre",
          "Annecy",
          "Besancon",
          "Gorges du Verdon"
         ],
         "lat": [
          48.584614,
          50.6365654,
          48.0777517,
          48.2495226,
          45.7578137,
          48.0447968,
          49.8941708,
          48.8566969,
          49.4404591,
          45.1875602,
          48.6454528,
          49.2764624,
          47.3215806,
          48.6358559,
          49.4938975,
          45.8992348,
          47.2380222,
          0
         ],
         "legendgroup": "",
         "lon": [
          7.7507127,
          3.0635282,
          7.3579641,
          7.3454923,
          4.8320114,
          7.3079618,
          2.2956951,
          2.3514616,
          1.0939658,
          5.7357819,
          -2.015418,
          -0.7024738,
          5.0414701,
          -1.5126096,
          0.1079732,
          6.1288847,
          6.0243622,
          0
         ],
         "marker": {
          "color": [
           4.2575,
           6.37625,
           4.43,
           1.2587499999999998,
           7.739999999999999,
           4.51625,
           6.50875,
           6.7575,
           6.869999999999999,
           6.57,
           8.7875,
           7.755000000000001,
           5.72375,
           8.465,
           7.78625,
           4.3025,
           6.0512500000000005,
           0
          ],
          "coloraxis": "coloraxis",
          "size": [
           17,
           16,
           15,
           14,
           13,
           12,
           11,
           10,
           9,
           8,
           7,
           6,
           5,
           4,
           3,
           2,
           1,
           0
          ],
          "sizemode": "area",
          "sizeref": 0.0425
         },
         "mode": "markers",
         "name": "",
         "showlegend": false,
         "subplot": "mapbox",
         "type": "scattermapbox"
        }
       ],
       "layout": {
        "coloraxis": {
         "colorbar": {
          "title": {
           "text": "day_temperature"
          }
         },
         "colorscale": [
          [
           0,
           "rgb(0,0,255)"
          ],
          [
           1,
           "rgb(255,0,0)"
          ]
         ]
        },
        "legend": {
         "itemsizing": "constant",
         "tracegroupgap": 0
        },
        "mapbox": {
         "center": {
          "lat": 45.513358744444446,
          "lon": 3.4559313166666668
         },
         "domain": {
          "x": [
           0,
           1
          ],
          "y": [
           0,
           1
          ]
         },
         "style": "carto-positron",
         "zoom": 4
        },
        "margin": {
         "t": 60
        },
        "template": {
         "data": {
          "bar": [
           {
            "error_x": {
             "color": "#2a3f5f"
            },
            "error_y": {
             "color": "#2a3f5f"
            },
            "marker": {
             "line": {
              "color": "#E5ECF6",
              "width": 0.5
             }
            },
            "type": "bar"
           }
          ],
          "barpolar": [
           {
            "marker": {
             "line": {
              "color": "#E5ECF6",
              "width": 0.5
             }
            },
            "type": "barpolar"
           }
          ],
          "carpet": [
           {
            "aaxis": {
             "endlinecolor": "#2a3f5f",
             "gridcolor": "white",
             "linecolor": "white",
             "minorgridcolor": "white",
             "startlinecolor": "#2a3f5f"
            },
            "baxis": {
             "endlinecolor": "#2a3f5f",
             "gridcolor": "white",
             "linecolor": "white",
             "minorgridcolor": "white",
             "startlinecolor": "#2a3f5f"
            },
            "type": "carpet"
           }
          ],
          "choropleth": [
           {
            "colorbar": {
             "outlinewidth": 0,
             "ticks": ""
            },
            "type": "choropleth"
           }
          ],
          "contour": [
           {
            "colorbar": {
             "outlinewidth": 0,
             "ticks": ""
            },
            "colorscale": [
             [
              0,
              "#0d0887"
             ],
             [
              0.1111111111111111,
              "#46039f"
             ],
             [
              0.2222222222222222,
              "#7201a8"
             ],
             [
              0.3333333333333333,
              "#9c179e"
             ],
             [
              0.4444444444444444,
              "#bd3786"
             ],
             [
              0.5555555555555556,
              "#d8576b"
             ],
             [
              0.6666666666666666,
              "#ed7953"
             ],
             [
              0.7777777777777778,
              "#fb9f3a"
             ],
             [
              0.8888888888888888,
              "#fdca26"
             ],
             [
              1,
              "#f0f921"
             ]
            ],
            "type": "contour"
           }
          ],
          "contourcarpet": [
           {
            "colorbar": {
             "outlinewidth": 0,
             "ticks": ""
            },
            "type": "contourcarpet"
           }
          ],
          "heatmap": [
           {
            "colorbar": {
             "outlinewidth": 0,
             "ticks": ""
            },
            "colorscale": [
             [
              0,
              "#0d0887"
             ],
             [
              0.1111111111111111,
              "#46039f"
             ],
             [
              0.2222222222222222,
              "#7201a8"
             ],
             [
              0.3333333333333333,
              "#9c179e"
             ],
             [
              0.4444444444444444,
              "#bd3786"
             ],
             [
              0.5555555555555556,
              "#d8576b"
             ],
             [
              0.6666666666666666,
              "#ed7953"
             ],
             [
              0.7777777777777778,
              "#fb9f3a"
             ],
             [
              0.8888888888888888,
              "#fdca26"
             ],
             [
              1,
              "#f0f921"
             ]
            ],
            "type": "heatmap"
           }
          ],
          "heatmapgl": [
           {
            "colorbar": {
             "outlinewidth": 0,
             "ticks": ""
            },
            "colorscale": [
             [
              0,
              "#0d0887"
             ],
             [
              0.1111111111111111,
              "#46039f"
             ],
             [
              0.2222222222222222,
              "#7201a8"
             ],
             [
              0.3333333333333333,
              "#9c179e"
             ],
             [
              0.4444444444444444,
              "#bd3786"
             ],
             [
              0.5555555555555556,
              "#d8576b"
             ],
             [
              0.6666666666666666,
              "#ed7953"
             ],
             [
              0.7777777777777778,
              "#fb9f3a"
             ],
             [
              0.8888888888888888,
              "#fdca26"
             ],
             [
              1,
              "#f0f921"
             ]
            ],
            "type": "heatmapgl"
           }
          ],
          "histogram": [
           {
            "marker": {
             "colorbar": {
              "outlinewidth": 0,
              "ticks": ""
             }
            },
            "type": "histogram"
           }
          ],
          "histogram2d": [
           {
            "colorbar": {
             "outlinewidth": 0,
             "ticks": ""
            },
            "colorscale": [
             [
              0,
              "#0d0887"
             ],
             [
              0.1111111111111111,
              "#46039f"
             ],
             [
              0.2222222222222222,
              "#7201a8"
             ],
             [
              0.3333333333333333,
              "#9c179e"
             ],
             [
              0.4444444444444444,
              "#bd3786"
             ],
             [
              0.5555555555555556,
              "#d8576b"
             ],
             [
              0.6666666666666666,
              "#ed7953"
             ],
             [
              0.7777777777777778,
              "#fb9f3a"
             ],
             [
              0.8888888888888888,
              "#fdca26"
             ],
             [
              1,
              "#f0f921"
             ]
            ],
            "type": "histogram2d"
           }
          ],
          "histogram2dcontour": [
           {
            "colorbar": {
             "outlinewidth": 0,
             "ticks": ""
            },
            "colorscale": [
             [
              0,
              "#0d0887"
             ],
             [
              0.1111111111111111,
              "#46039f"
             ],
             [
              0.2222222222222222,
              "#7201a8"
             ],
             [
              0.3333333333333333,
              "#9c179e"
             ],
             [
              0.4444444444444444,
              "#bd3786"
             ],
             [
              0.5555555555555556,
              "#d8576b"
             ],
             [
              0.6666666666666666,
              "#ed7953"
             ],
             [
              0.7777777777777778,
              "#fb9f3a"
             ],
             [
              0.8888888888888888,
              "#fdca26"
             ],
             [
              1,
              "#f0f921"
             ]
            ],
            "type": "histogram2dcontour"
           }
          ],
          "mesh3d": [
           {
            "colorbar": {
             "outlinewidth": 0,
             "ticks": ""
            },
            "type": "mesh3d"
           }
          ],
          "parcoords": [
           {
            "line": {
             "colorbar": {
              "outlinewidth": 0,
              "ticks": ""
             }
            },
            "type": "parcoords"
           }
          ],
          "pie": [
           {
            "automargin": true,
            "type": "pie"
           }
          ],
          "scatter": [
           {
            "marker": {
             "colorbar": {
              "outlinewidth": 0,
              "ticks": ""
             }
            },
            "type": "scatter"
           }
          ],
          "scatter3d": [
           {
            "line": {
             "colorbar": {
              "outlinewidth": 0,
              "ticks": ""
             }
            },
            "marker": {
             "colorbar": {
              "outlinewidth": 0,
              "ticks": ""
             }
            },
            "type": "scatter3d"
           }
          ],
          "scattercarpet": [
           {
            "marker": {
             "colorbar": {
              "outlinewidth": 0,
              "ticks": ""
             }
            },
            "type": "scattercarpet"
           }
          ],
          "scattergeo": [
           {
            "marker": {
             "colorbar": {
              "outlinewidth": 0,
              "ticks": ""
             }
            },
            "type": "scattergeo"
           }
          ],
          "scattergl": [
           {
            "marker": {
             "colorbar": {
              "outlinewidth": 0,
              "ticks": ""
             }
            },
            "type": "scattergl"
           }
          ],
          "scattermapbox": [
           {
            "marker": {
             "colorbar": {
              "outlinewidth": 0,
              "ticks": ""
             }
            },
            "type": "scattermapbox"
           }
          ],
          "scatterpolar": [
           {
            "marker": {
             "colorbar": {
              "outlinewidth": 0,
              "ticks": ""
             }
            },
            "type": "scatterpolar"
           }
          ],
          "scatterpolargl": [
           {
            "marker": {
             "colorbar": {
              "outlinewidth": 0,
              "ticks": ""
             }
            },
            "type": "scatterpolargl"
           }
          ],
          "scatterternary": [
           {
            "marker": {
             "colorbar": {
              "outlinewidth": 0,
              "ticks": ""
             }
            },
            "type": "scatterternary"
           }
          ],
          "surface": [
           {
            "colorbar": {
             "outlinewidth": 0,
             "ticks": ""
            },
            "colorscale": [
             [
              0,
              "#0d0887"
             ],
             [
              0.1111111111111111,
              "#46039f"
             ],
             [
              0.2222222222222222,
              "#7201a8"
             ],
             [
              0.3333333333333333,
              "#9c179e"
             ],
             [
              0.4444444444444444,
              "#bd3786"
             ],
             [
              0.5555555555555556,
              "#d8576b"
             ],
             [
              0.6666666666666666,
              "#ed7953"
             ],
             [
              0.7777777777777778,
              "#fb9f3a"
             ],
             [
              0.8888888888888888,
              "#fdca26"
             ],
             [
              1,
              "#f0f921"
             ]
            ],
            "type": "surface"
           }
          ],
          "table": [
           {
            "cells": {
             "fill": {
              "color": "#EBF0F8"
             },
             "line": {
              "color": "white"
             }
            },
            "header": {
             "fill": {
              "color": "#C8D4E3"
             },
             "line": {
              "color": "white"
             }
            },
            "type": "table"
           }
          ]
         },
         "layout": {
          "annotationdefaults": {
           "arrowcolor": "#2a3f5f",
           "arrowhead": 0,
           "arrowwidth": 1
          },
          "autotypenumbers": "strict",
          "coloraxis": {
           "colorbar": {
            "outlinewidth": 0,
            "ticks": ""
           }
          },
          "colorscale": {
           "diverging": [
            [
             0,
             "#8e0152"
            ],
            [
             0.1,
             "#c51b7d"
            ],
            [
             0.2,
             "#de77ae"
            ],
            [
             0.3,
             "#f1b6da"
            ],
            [
             0.4,
             "#fde0ef"
            ],
            [
             0.5,
             "#f7f7f7"
            ],
            [
             0.6,
             "#e6f5d0"
            ],
            [
             0.7,
             "#b8e186"
            ],
            [
             0.8,
             "#7fbc41"
            ],
            [
             0.9,
             "#4d9221"
            ],
            [
             1,
             "#276419"
            ]
           ],
           "sequential": [
            [
             0,
             "#0d0887"
            ],
            [
             0.1111111111111111,
             "#46039f"
            ],
            [
             0.2222222222222222,
             "#7201a8"
            ],
            [
             0.3333333333333333,
             "#9c179e"
            ],
            [
             0.4444444444444444,
             "#bd3786"
            ],
            [
             0.5555555555555556,
             "#d8576b"
            ],
            [
             0.6666666666666666,
             "#ed7953"
            ],
            [
             0.7777777777777778,
             "#fb9f3a"
            ],
            [
             0.8888888888888888,
             "#fdca26"
            ],
            [
             1,
             "#f0f921"
            ]
           ],
           "sequentialminus": [
            [
             0,
             "#0d0887"
            ],
            [
             0.1111111111111111,
             "#46039f"
            ],
            [
             0.2222222222222222,
             "#7201a8"
            ],
            [
             0.3333333333333333,
             "#9c179e"
            ],
            [
             0.4444444444444444,
             "#bd3786"
            ],
            [
             0.5555555555555556,
             "#d8576b"
            ],
            [
             0.6666666666666666,
             "#ed7953"
            ],
            [
             0.7777777777777778,
             "#fb9f3a"
            ],
            [
             0.8888888888888888,
             "#fdca26"
            ],
            [
             1,
             "#f0f921"
            ]
           ]
          },
          "colorway": [
           "#636efa",
           "#EF553B",
           "#00cc96",
           "#ab63fa",
           "#FFA15A",
           "#19d3f3",
           "#FF6692",
           "#B6E880",
           "#FF97FF",
           "#FECB52"
          ],
          "font": {
           "color": "#2a3f5f"
          },
          "geo": {
           "bgcolor": "white",
           "lakecolor": "white",
           "landcolor": "#E5ECF6",
           "showlakes": true,
           "showland": true,
           "subunitcolor": "white"
          },
          "hoverlabel": {
           "align": "left"
          },
          "hovermode": "closest",
          "mapbox": {
           "style": "light"
          },
          "paper_bgcolor": "white",
          "plot_bgcolor": "#E5ECF6",
          "polar": {
           "angularaxis": {
            "gridcolor": "white",
            "linecolor": "white",
            "ticks": ""
           },
           "bgcolor": "#E5ECF6",
           "radialaxis": {
            "gridcolor": "white",
            "linecolor": "white",
            "ticks": ""
           }
          },
          "scene": {
           "xaxis": {
            "backgroundcolor": "#E5ECF6",
            "gridcolor": "white",
            "gridwidth": 2,
            "linecolor": "white",
            "showbackground": true,
            "ticks": "",
            "zerolinecolor": "white"
           },
           "yaxis": {
            "backgroundcolor": "#E5ECF6",
            "gridcolor": "white",
            "gridwidth": 2,
            "linecolor": "white",
            "showbackground": true,
            "ticks": "",
            "zerolinecolor": "white"
           },
           "zaxis": {
            "backgroundcolor": "#E5ECF6",
            "gridcolor": "white",
            "gridwidth": 2,
            "linecolor": "white",
            "showbackground": true,
            "ticks": "",
            "zerolinecolor": "white"
           }
          },
          "shapedefaults": {
           "line": {
            "color": "#2a3f5f"
           }
          },
          "ternary": {
           "aaxis": {
            "gridcolor": "white",
            "linecolor": "white",
            "ticks": ""
           },
           "baxis": {
            "gridcolor": "white",
            "linecolor": "white",
            "ticks": ""
           },
           "bgcolor": "#E5ECF6",
           "caxis": {
            "gridcolor": "white",
            "linecolor": "white",
            "ticks": ""
           }
          },
          "title": {
           "x": 0.05
          },
          "xaxis": {
           "automargin": true,
           "gridcolor": "white",
           "linecolor": "white",
           "ticks": "",
           "title": {
            "standoff": 15
           },
           "zerolinecolor": "white",
           "zerolinewidth": 2
          },
          "yaxis": {
           "automargin": true,
           "gridcolor": "white",
           "linecolor": "white",
           "ticks": "",
           "title": {
            "standoff": 15
           },
           "zerolinecolor": "white",
           "zerolinewidth": 2
          }
         }
        }
       }
      },
      "text/html": [
       "<div>                            <div id=\"3722c6e3-fce2-4d4d-9d48-f851c4045a10\" class=\"plotly-graph-div\" style=\"height:525px; width:100%;\"></div>            <script type=\"text/javascript\">                require([\"plotly\"], function(Plotly) {                    window.PLOTLYENV=window.PLOTLYENV || {};                                    if (document.getElementById(\"3722c6e3-fce2-4d4d-9d48-f851c4045a10\")) {                    Plotly.newPlot(                        \"3722c6e3-fce2-4d4d-9d48-f851c4045a10\",                        [{\"customdata\": [[\"Rain\", 12.408600000000002, 4.2575], [\"Rain\", 17.2693, 6.37625], [\"Snow\", 22.023100000000003, 4.43], [\"Snow\", 22.2542, 1.2587499999999998], [\"Rain\", 22.98, 7.739999999999999], [\"Snow\", 23.7484, 4.51625], [\"Rain\", 25.2624, 6.50875], [\"Rain\", 29.309299999999997, 6.7575], [\"Rain\", 29.420199999999998, 6.869999999999999], [\"Clouds\", 29.851100000000002, 6.57], [\"Rain\", 33.152, 8.7875], [\"Rain\", 34.2027, 7.755000000000001], [\"Rain\", 34.7072, 5.72375], [\"Rain\", 38.8919, 8.465], [\"Rain\", 39.76819999999999, 7.78625], [\"Clouds\", 55.205, 4.3025], [\"Rain\", 67.12, 6.0512500000000005], [0, 0.0, 0.0]], \"hovertemplate\": \"<b>%{hovertext}</b><br><br>inverted_rank=%{marker.size}<br>latitude=%{lat}<br>longitude=%{lon}<br>main_weather=%{customdata[0]}<br>expected_rain=%{customdata[1]}<br>day_temperature=%{marker.color}<extra></extra>\", \"hovertext\": [\"Strasbourg\", \"Lille\", \"Colmar\", \"Chateau du Haut Koenigsbourg\", \"Lyon\", \"Eguisheim\", \"Amiens\", \"Paris\", \"Rouen\", \"Grenoble\", \"St Malo\", \"Bayeux\", \"Dijon\", \"Mont Saint Michel\", \"Le Havre\", \"Annecy\", \"Besancon\", \"Gorges du Verdon\"], \"lat\": [48.584614, 50.6365654, 48.0777517, 48.2495226, 45.7578137, 48.0447968, 49.8941708, 48.8566969, 49.4404591, 45.1875602, 48.6454528, 49.2764624, 47.3215806, 48.6358559, 49.4938975, 45.8992348, 47.2380222, 0.0], \"legendgroup\": \"\", \"lon\": [7.7507127, 3.0635282, 7.3579641, 7.3454923, 4.8320114, 7.3079618, 2.2956951, 2.3514616, 1.0939658, 5.7357819, -2.015418, -0.7024738, 5.0414701, -1.5126096, 0.1079732, 6.1288847, 6.0243622, 0.0], \"marker\": {\"color\": [4.2575, 6.37625, 4.43, 1.2587499999999998, 7.739999999999999, 4.51625, 6.50875, 6.7575, 6.869999999999999, 6.57, 8.7875, 7.755000000000001, 5.72375, 8.465, 7.78625, 4.3025, 6.0512500000000005, 0.0], \"coloraxis\": \"coloraxis\", \"size\": [17, 16, 15, 14, 13, 12, 11, 10, 9, 8, 7, 6, 5, 4, 3, 2, 1, 0], \"sizemode\": \"area\", \"sizeref\": 0.0425}, \"mode\": \"markers\", \"name\": \"\", \"showlegend\": false, \"subplot\": \"mapbox\", \"type\": \"scattermapbox\"}],                        {\"coloraxis\": {\"colorbar\": {\"title\": {\"text\": \"day_temperature\"}}, \"colorscale\": [[0.0, \"rgb(0,0,255)\"], [1.0, \"rgb(255,0,0)\"]]}, \"legend\": {\"itemsizing\": \"constant\", \"tracegroupgap\": 0}, \"mapbox\": {\"center\": {\"lat\": 45.513358744444446, \"lon\": 3.4559313166666668}, \"domain\": {\"x\": [0.0, 1.0], \"y\": [0.0, 1.0]}, \"style\": \"carto-positron\", \"zoom\": 4}, \"margin\": {\"t\": 60}, \"template\": {\"data\": {\"bar\": [{\"error_x\": {\"color\": \"#2a3f5f\"}, \"error_y\": {\"color\": \"#2a3f5f\"}, \"marker\": {\"line\": {\"color\": \"#E5ECF6\", \"width\": 0.5}}, \"type\": \"bar\"}], \"barpolar\": [{\"marker\": {\"line\": {\"color\": \"#E5ECF6\", \"width\": 0.5}}, \"type\": \"barpolar\"}], \"carpet\": [{\"aaxis\": {\"endlinecolor\": \"#2a3f5f\", \"gridcolor\": \"white\", \"linecolor\": \"white\", \"minorgridcolor\": \"white\", \"startlinecolor\": \"#2a3f5f\"}, \"baxis\": {\"endlinecolor\": \"#2a3f5f\", \"gridcolor\": \"white\", \"linecolor\": \"white\", \"minorgridcolor\": \"white\", \"startlinecolor\": \"#2a3f5f\"}, \"type\": \"carpet\"}], \"choropleth\": [{\"colorbar\": {\"outlinewidth\": 0, \"ticks\": \"\"}, \"type\": \"choropleth\"}], \"contour\": [{\"colorbar\": {\"outlinewidth\": 0, \"ticks\": \"\"}, \"colorscale\": [[0.0, \"#0d0887\"], [0.1111111111111111, \"#46039f\"], [0.2222222222222222, \"#7201a8\"], [0.3333333333333333, \"#9c179e\"], [0.4444444444444444, \"#bd3786\"], [0.5555555555555556, \"#d8576b\"], [0.6666666666666666, \"#ed7953\"], [0.7777777777777778, \"#fb9f3a\"], [0.8888888888888888, \"#fdca26\"], [1.0, \"#f0f921\"]], \"type\": \"contour\"}], \"contourcarpet\": [{\"colorbar\": {\"outlinewidth\": 0, \"ticks\": \"\"}, \"type\": \"contourcarpet\"}], \"heatmap\": [{\"colorbar\": {\"outlinewidth\": 0, \"ticks\": \"\"}, \"colorscale\": [[0.0, \"#0d0887\"], [0.1111111111111111, \"#46039f\"], [0.2222222222222222, \"#7201a8\"], [0.3333333333333333, \"#9c179e\"], [0.4444444444444444, \"#bd3786\"], [0.5555555555555556, \"#d8576b\"], [0.6666666666666666, \"#ed7953\"], [0.7777777777777778, \"#fb9f3a\"], [0.8888888888888888, \"#fdca26\"], [1.0, \"#f0f921\"]], \"type\": \"heatmap\"}], \"heatmapgl\": [{\"colorbar\": {\"outlinewidth\": 0, \"ticks\": \"\"}, \"colorscale\": [[0.0, \"#0d0887\"], [0.1111111111111111, \"#46039f\"], [0.2222222222222222, \"#7201a8\"], [0.3333333333333333, \"#9c179e\"], [0.4444444444444444, \"#bd3786\"], [0.5555555555555556, \"#d8576b\"], [0.6666666666666666, \"#ed7953\"], [0.7777777777777778, \"#fb9f3a\"], [0.8888888888888888, \"#fdca26\"], [1.0, \"#f0f921\"]], \"type\": \"heatmapgl\"}], \"histogram\": [{\"marker\": {\"colorbar\": {\"outlinewidth\": 0, \"ticks\": \"\"}}, \"type\": \"histogram\"}], \"histogram2d\": [{\"colorbar\": {\"outlinewidth\": 0, \"ticks\": \"\"}, \"colorscale\": [[0.0, \"#0d0887\"], [0.1111111111111111, \"#46039f\"], [0.2222222222222222, \"#7201a8\"], [0.3333333333333333, \"#9c179e\"], [0.4444444444444444, \"#bd3786\"], [0.5555555555555556, \"#d8576b\"], [0.6666666666666666, \"#ed7953\"], [0.7777777777777778, \"#fb9f3a\"], [0.8888888888888888, \"#fdca26\"], [1.0, \"#f0f921\"]], \"type\": \"histogram2d\"}], \"histogram2dcontour\": [{\"colorbar\": {\"outlinewidth\": 0, \"ticks\": \"\"}, \"colorscale\": [[0.0, \"#0d0887\"], [0.1111111111111111, \"#46039f\"], [0.2222222222222222, \"#7201a8\"], [0.3333333333333333, \"#9c179e\"], [0.4444444444444444, \"#bd3786\"], [0.5555555555555556, \"#d8576b\"], [0.6666666666666666, \"#ed7953\"], [0.7777777777777778, \"#fb9f3a\"], [0.8888888888888888, \"#fdca26\"], [1.0, \"#f0f921\"]], \"type\": \"histogram2dcontour\"}], \"mesh3d\": [{\"colorbar\": {\"outlinewidth\": 0, \"ticks\": \"\"}, \"type\": \"mesh3d\"}], \"parcoords\": [{\"line\": {\"colorbar\": {\"outlinewidth\": 0, \"ticks\": \"\"}}, \"type\": \"parcoords\"}], \"pie\": [{\"automargin\": true, \"type\": \"pie\"}], \"scatter\": [{\"marker\": {\"colorbar\": {\"outlinewidth\": 0, \"ticks\": \"\"}}, \"type\": \"scatter\"}], \"scatter3d\": [{\"line\": {\"colorbar\": {\"outlinewidth\": 0, \"ticks\": \"\"}}, \"marker\": {\"colorbar\": {\"outlinewidth\": 0, \"ticks\": \"\"}}, \"type\": \"scatter3d\"}], \"scattercarpet\": [{\"marker\": {\"colorbar\": {\"outlinewidth\": 0, \"ticks\": \"\"}}, \"type\": \"scattercarpet\"}], \"scattergeo\": [{\"marker\": {\"colorbar\": {\"outlinewidth\": 0, \"ticks\": \"\"}}, \"type\": \"scattergeo\"}], \"scattergl\": [{\"marker\": {\"colorbar\": {\"outlinewidth\": 0, \"ticks\": \"\"}}, \"type\": \"scattergl\"}], \"scattermapbox\": [{\"marker\": {\"colorbar\": {\"outlinewidth\": 0, \"ticks\": \"\"}}, \"type\": \"scattermapbox\"}], \"scatterpolar\": [{\"marker\": {\"colorbar\": {\"outlinewidth\": 0, \"ticks\": \"\"}}, \"type\": \"scatterpolar\"}], \"scatterpolargl\": [{\"marker\": {\"colorbar\": {\"outlinewidth\": 0, \"ticks\": \"\"}}, \"type\": \"scatterpolargl\"}], \"scatterternary\": [{\"marker\": {\"colorbar\": {\"outlinewidth\": 0, \"ticks\": \"\"}}, \"type\": \"scatterternary\"}], \"surface\": [{\"colorbar\": {\"outlinewidth\": 0, \"ticks\": \"\"}, \"colorscale\": [[0.0, \"#0d0887\"], [0.1111111111111111, \"#46039f\"], [0.2222222222222222, \"#7201a8\"], [0.3333333333333333, \"#9c179e\"], [0.4444444444444444, \"#bd3786\"], [0.5555555555555556, \"#d8576b\"], [0.6666666666666666, \"#ed7953\"], [0.7777777777777778, \"#fb9f3a\"], [0.8888888888888888, \"#fdca26\"], [1.0, \"#f0f921\"]], \"type\": \"surface\"}], \"table\": [{\"cells\": {\"fill\": {\"color\": \"#EBF0F8\"}, \"line\": {\"color\": \"white\"}}, \"header\": {\"fill\": {\"color\": \"#C8D4E3\"}, \"line\": {\"color\": \"white\"}}, \"type\": \"table\"}]}, \"layout\": {\"annotationdefaults\": {\"arrowcolor\": \"#2a3f5f\", \"arrowhead\": 0, \"arrowwidth\": 1}, \"autotypenumbers\": \"strict\", \"coloraxis\": {\"colorbar\": {\"outlinewidth\": 0, \"ticks\": \"\"}}, \"colorscale\": {\"diverging\": [[0, \"#8e0152\"], [0.1, \"#c51b7d\"], [0.2, \"#de77ae\"], [0.3, \"#f1b6da\"], [0.4, \"#fde0ef\"], [0.5, \"#f7f7f7\"], [0.6, \"#e6f5d0\"], [0.7, \"#b8e186\"], [0.8, \"#7fbc41\"], [0.9, \"#4d9221\"], [1, \"#276419\"]], \"sequential\": [[0.0, \"#0d0887\"], [0.1111111111111111, \"#46039f\"], [0.2222222222222222, \"#7201a8\"], [0.3333333333333333, \"#9c179e\"], [0.4444444444444444, \"#bd3786\"], [0.5555555555555556, \"#d8576b\"], [0.6666666666666666, \"#ed7953\"], [0.7777777777777778, \"#fb9f3a\"], [0.8888888888888888, \"#fdca26\"], [1.0, \"#f0f921\"]], \"sequentialminus\": [[0.0, \"#0d0887\"], [0.1111111111111111, \"#46039f\"], [0.2222222222222222, \"#7201a8\"], [0.3333333333333333, \"#9c179e\"], [0.4444444444444444, \"#bd3786\"], [0.5555555555555556, \"#d8576b\"], [0.6666666666666666, \"#ed7953\"], [0.7777777777777778, \"#fb9f3a\"], [0.8888888888888888, \"#fdca26\"], [1.0, \"#f0f921\"]]}, \"colorway\": [\"#636efa\", \"#EF553B\", \"#00cc96\", \"#ab63fa\", \"#FFA15A\", \"#19d3f3\", \"#FF6692\", \"#B6E880\", \"#FF97FF\", \"#FECB52\"], \"font\": {\"color\": \"#2a3f5f\"}, \"geo\": {\"bgcolor\": \"white\", \"lakecolor\": \"white\", \"landcolor\": \"#E5ECF6\", \"showlakes\": true, \"showland\": true, \"subunitcolor\": \"white\"}, \"hoverlabel\": {\"align\": \"left\"}, \"hovermode\": \"closest\", \"mapbox\": {\"style\": \"light\"}, \"paper_bgcolor\": \"white\", \"plot_bgcolor\": \"#E5ECF6\", \"polar\": {\"angularaxis\": {\"gridcolor\": \"white\", \"linecolor\": \"white\", \"ticks\": \"\"}, \"bgcolor\": \"#E5ECF6\", \"radialaxis\": {\"gridcolor\": \"white\", \"linecolor\": \"white\", \"ticks\": \"\"}}, \"scene\": {\"xaxis\": {\"backgroundcolor\": \"#E5ECF6\", \"gridcolor\": \"white\", \"gridwidth\": 2, \"linecolor\": \"white\", \"showbackground\": true, \"ticks\": \"\", \"zerolinecolor\": \"white\"}, \"yaxis\": {\"backgroundcolor\": \"#E5ECF6\", \"gridcolor\": \"white\", \"gridwidth\": 2, \"linecolor\": \"white\", \"showbackground\": true, \"ticks\": \"\", \"zerolinecolor\": \"white\"}, \"zaxis\": {\"backgroundcolor\": \"#E5ECF6\", \"gridcolor\": \"white\", \"gridwidth\": 2, \"linecolor\": \"white\", \"showbackground\": true, \"ticks\": \"\", \"zerolinecolor\": \"white\"}}, \"shapedefaults\": {\"line\": {\"color\": \"#2a3f5f\"}}, \"ternary\": {\"aaxis\": {\"gridcolor\": \"white\", \"linecolor\": \"white\", \"ticks\": \"\"}, \"baxis\": {\"gridcolor\": \"white\", \"linecolor\": \"white\", \"ticks\": \"\"}, \"bgcolor\": \"#E5ECF6\", \"caxis\": {\"gridcolor\": \"white\", \"linecolor\": \"white\", \"ticks\": \"\"}}, \"title\": {\"x\": 0.05}, \"xaxis\": {\"automargin\": true, \"gridcolor\": \"white\", \"linecolor\": \"white\", \"ticks\": \"\", \"title\": {\"standoff\": 15}, \"zerolinecolor\": \"white\", \"zerolinewidth\": 2}, \"yaxis\": {\"automargin\": true, \"gridcolor\": \"white\", \"linecolor\": \"white\", \"ticks\": \"\", \"title\": {\"standoff\": 15}, \"zerolinecolor\": \"white\", \"zerolinewidth\": 2}}}},                        {\"responsive\": true}                    ).then(function(){\n",
       "                            \n",
       "var gd = document.getElementById('3722c6e3-fce2-4d4d-9d48-f851c4045a10');\n",
       "var x = new MutationObserver(function (mutations, observer) {{\n",
       "        var display = window.getComputedStyle(gd).display;\n",
       "        if (!display || display === 'none') {{\n",
       "            console.log([gd, 'removed!']);\n",
       "            Plotly.purge(gd);\n",
       "            observer.disconnect();\n",
       "        }}\n",
       "}});\n",
       "\n",
       "// Listen for the removal of the full notebook cells\n",
       "var notebookContainer = gd.closest('#notebook-container');\n",
       "if (notebookContainer) {{\n",
       "    x.observe(notebookContainer, {childList: true});\n",
       "}}\n",
       "\n",
       "// Listen for the clearing of the current output cell\n",
       "var outputEl = gd.closest('.output');\n",
       "if (outputEl) {{\n",
       "    x.observe(outputEl, {childList: true});\n",
       "}}\n",
       "\n",
       "                        })                };                });            </script>        </div>"
      ]
     },
     "metadata": {},
     "output_type": "display_data"
    }
   ],
   "source": [
    "fig = px.scatter_mapbox(df, lat=\"latitude\", lon=\"longitude\", hover_name = 'name', zoom = 4,\n",
    "                        hover_data = ['main_weather', 'expected_rain', 'day_temperature'], \n",
    "                        color = 'day_temperature', color_continuous_scale = 'Bluered', size = 'inverted_rank',\n",
    "                        mapbox_style=\"carto-positron\")\n",
    "fig.show()"
   ]
  },
  {
   "cell_type": "code",
   "execution_count": 23,
   "metadata": {},
   "outputs": [],
   "source": [
    "df.to_csv('destinations.csv', index=False)"
   ]
  },
  {
   "cell_type": "markdown",
   "metadata": {},
   "source": [
    "# Scrapping Booking.com for hotel information"
   ]
  },
  {
   "cell_type": "markdown",
   "metadata": {},
   "source": [
    "### La Rochelle"
   ]
  },
  {
   "cell_type": "code",
   "execution_count": 31,
   "metadata": {},
   "outputs": [],
   "source": [
    "city = 'La Rochelle'"
   ]
  },
  {
   "cell_type": "code",
   "execution_count": 32,
   "metadata": {},
   "outputs": [
    {
     "data": {
      "text/plain": [
       "<Response [200]>"
      ]
     },
     "execution_count": 32,
     "metadata": {},
     "output_type": "execute_result"
    }
   ],
   "source": [
    "r = requests.get('https://www.booking.com/index.fr.html')\n",
    "r"
   ]
  },
  {
   "cell_type": "code",
   "execution_count": 33,
   "metadata": {},
   "outputs": [],
   "source": [
    "class BookingSpider(scrapy.Spider):\n",
    "    name = \"booking\"\n",
    "\n",
    "    start_urls = ['https://www.booking.com/index.fr.html']\n",
    "\n",
    "    def parse(self, response):\n",
    "        return scrapy.FormRequest.from_response(\n",
    "            response,\n",
    "            formdata={'ss': city},\n",
    "            callback=self.after_search\n",
    "        )\n",
    "\n",
    "    def after_search(self, response):\n",
    "        \n",
    "        booking = response.css('.sr_item')\n",
    "\n",
    "        for data in booking:\n",
    "            yield {\n",
    "                'name': data.css('.sr-hotel__name::text').get(),\n",
    "                'url': 'https://www.booking.com' + data.css('.hotel_name_link').attrib[\"href\"],\n",
    "                'coords': data.css('.sr_card_address_line a').attrib[\"data-coords\"],\n",
    "                'score': data.css('.bui-review-score__badge::text').get(),\n",
    "                'description': data.css('.hotel_desc::text').get()\n",
    "                \n",
    "            }\n",
    "        \n",
    "        \n",
    "        try:\n",
    "            next_page = response.css('a.paging-next').attrib[\"href\"]\n",
    "        except KeyError:\n",
    "            logging.info('No next page. Terminating crawling process.')\n",
    "        else:\n",
    "            yield response.follow(next_page, callback=self.after_search)"
   ]
  },
  {
   "cell_type": "code",
   "execution_count": 35,
   "metadata": {
    "scrolled": true
   },
   "outputs": [
    {
     "name": "stderr",
     "output_type": "stream",
     "text": [
      "2021-01-18 16:39:12 [scrapy.utils.log] INFO: Scrapy 2.4.1 started (bot: scrapybot)\n",
      "2021-01-18 16:39:12 [scrapy.utils.log] INFO: Versions: lxml 4.6.2.0, libxml2 2.9.10, cssselect 1.1.0, parsel 1.6.0, w3lib 1.22.0, Twisted 20.3.0, Python 3.8.6 | packaged by conda-forge | (default, Oct  7 2020, 19:08:05) - [GCC 7.5.0], pyOpenSSL 19.1.0 (OpenSSL 1.1.1h  22 Sep 2020), cryptography 3.1.1, Platform Linux-4.19.112+-x86_64-with-glibc2.10\n",
      "2021-01-18 16:39:12 [scrapy.crawler] INFO: Overridden settings:\n",
      "{'LOG_LEVEL': 20,\n",
      " 'USER_AGENT': 'Chrome/84.0 (compatible; MSIE 7.0; Windows NT 5.1)'}\n",
      "2021-01-18 16:39:12 [scrapy.extensions.telnet] INFO: Telnet Password: 3ece43f321671dd3\n",
      "2021-01-18 16:39:12 [scrapy.middleware] INFO: Enabled extensions:\n",
      "['scrapy.extensions.corestats.CoreStats',\n",
      " 'scrapy.extensions.telnet.TelnetConsole',\n",
      " 'scrapy.extensions.memusage.MemoryUsage',\n",
      " 'scrapy.extensions.feedexport.FeedExporter',\n",
      " 'scrapy.extensions.logstats.LogStats']\n",
      "2021-01-18 16:39:12 [scrapy.middleware] INFO: Enabled downloader middlewares:\n",
      "['scrapy.downloadermiddlewares.httpauth.HttpAuthMiddleware',\n",
      " 'scrapy.downloadermiddlewares.downloadtimeout.DownloadTimeoutMiddleware',\n",
      " 'scrapy.downloadermiddlewares.defaultheaders.DefaultHeadersMiddleware',\n",
      " 'scrapy.downloadermiddlewares.useragent.UserAgentMiddleware',\n",
      " 'scrapy.downloadermiddlewares.retry.RetryMiddleware',\n",
      " 'scrapy.downloadermiddlewares.redirect.MetaRefreshMiddleware',\n",
      " 'scrapy.downloadermiddlewares.httpcompression.HttpCompressionMiddleware',\n",
      " 'scrapy.downloadermiddlewares.redirect.RedirectMiddleware',\n",
      " 'scrapy.downloadermiddlewares.cookies.CookiesMiddleware',\n",
      " 'scrapy.downloadermiddlewares.httpproxy.HttpProxyMiddleware',\n",
      " 'scrapy.downloadermiddlewares.stats.DownloaderStats']\n",
      "2021-01-18 16:39:12 [scrapy.middleware] INFO: Enabled spider middlewares:\n",
      "['scrapy.spidermiddlewares.httperror.HttpErrorMiddleware',\n",
      " 'scrapy.spidermiddlewares.offsite.OffsiteMiddleware',\n",
      " 'scrapy.spidermiddlewares.referer.RefererMiddleware',\n",
      " 'scrapy.spidermiddlewares.urllength.UrlLengthMiddleware',\n",
      " 'scrapy.spidermiddlewares.depth.DepthMiddleware']\n",
      "2021-01-18 16:39:12 [scrapy.middleware] INFO: Enabled item pipelines:\n",
      "[]\n",
      "2021-01-18 16:39:12 [scrapy.core.engine] INFO: Spider opened\n",
      "2021-01-18 16:39:12 [scrapy.extensions.logstats] INFO: Crawled 0 pages (at 0 pages/min), scraped 0 items (at 0 items/min)\n",
      "2021-01-18 16:39:12 [scrapy.extensions.telnet] INFO: Telnet console listening on 127.0.0.1:6023\n"
     ]
    },
    {
     "ename": "ReactorNotRestartable",
     "evalue": "",
     "output_type": "error",
     "traceback": [
      "\u001b[0;31m---------------------------------------------------------------------------\u001b[0m",
      "\u001b[0;31mReactorNotRestartable\u001b[0m                     Traceback (most recent call last)",
      "\u001b[0;32m<ipython-input-35-8b5d0bb2a3e4>\u001b[0m in \u001b[0;36m<module>\u001b[0;34m\u001b[0m\n\u001b[1;32m     11\u001b[0m \u001b[0;34m\u001b[0m\u001b[0m\n\u001b[1;32m     12\u001b[0m \u001b[0mprocess\u001b[0m\u001b[0;34m.\u001b[0m\u001b[0mcrawl\u001b[0m\u001b[0;34m(\u001b[0m\u001b[0mBookingSpider\u001b[0m\u001b[0;34m)\u001b[0m\u001b[0;34m\u001b[0m\u001b[0;34m\u001b[0m\u001b[0m\n\u001b[0;32m---> 13\u001b[0;31m \u001b[0mprocess\u001b[0m\u001b[0;34m.\u001b[0m\u001b[0mstart\u001b[0m\u001b[0;34m(\u001b[0m\u001b[0;34m)\u001b[0m\u001b[0;34m\u001b[0m\u001b[0;34m\u001b[0m\u001b[0m\n\u001b[0m",
      "\u001b[0;32m/opt/conda/lib/python3.8/site-packages/scrapy/crawler.py\u001b[0m in \u001b[0;36mstart\u001b[0;34m(self, stop_after_crawl)\u001b[0m\n\u001b[1;32m    325\u001b[0m         \u001b[0mtp\u001b[0m\u001b[0;34m.\u001b[0m\u001b[0madjustPoolsize\u001b[0m\u001b[0;34m(\u001b[0m\u001b[0mmaxthreads\u001b[0m\u001b[0;34m=\u001b[0m\u001b[0mself\u001b[0m\u001b[0;34m.\u001b[0m\u001b[0msettings\u001b[0m\u001b[0;34m.\u001b[0m\u001b[0mgetint\u001b[0m\u001b[0;34m(\u001b[0m\u001b[0;34m'REACTOR_THREADPOOL_MAXSIZE'\u001b[0m\u001b[0;34m)\u001b[0m\u001b[0;34m)\u001b[0m\u001b[0;34m\u001b[0m\u001b[0;34m\u001b[0m\u001b[0m\n\u001b[1;32m    326\u001b[0m         \u001b[0mreactor\u001b[0m\u001b[0;34m.\u001b[0m\u001b[0maddSystemEventTrigger\u001b[0m\u001b[0;34m(\u001b[0m\u001b[0;34m'before'\u001b[0m\u001b[0;34m,\u001b[0m \u001b[0;34m'shutdown'\u001b[0m\u001b[0;34m,\u001b[0m \u001b[0mself\u001b[0m\u001b[0;34m.\u001b[0m\u001b[0mstop\u001b[0m\u001b[0;34m)\u001b[0m\u001b[0;34m\u001b[0m\u001b[0;34m\u001b[0m\u001b[0m\n\u001b[0;32m--> 327\u001b[0;31m         \u001b[0mreactor\u001b[0m\u001b[0;34m.\u001b[0m\u001b[0mrun\u001b[0m\u001b[0;34m(\u001b[0m\u001b[0minstallSignalHandlers\u001b[0m\u001b[0;34m=\u001b[0m\u001b[0;32mFalse\u001b[0m\u001b[0;34m)\u001b[0m  \u001b[0;31m# blocking call\u001b[0m\u001b[0;34m\u001b[0m\u001b[0;34m\u001b[0m\u001b[0m\n\u001b[0m\u001b[1;32m    328\u001b[0m \u001b[0;34m\u001b[0m\u001b[0m\n\u001b[1;32m    329\u001b[0m     \u001b[0;32mdef\u001b[0m \u001b[0m_graceful_stop_reactor\u001b[0m\u001b[0;34m(\u001b[0m\u001b[0mself\u001b[0m\u001b[0;34m)\u001b[0m\u001b[0;34m:\u001b[0m\u001b[0;34m\u001b[0m\u001b[0;34m\u001b[0m\u001b[0m\n",
      "\u001b[0;32m/opt/conda/lib/python3.8/site-packages/twisted/internet/base.py\u001b[0m in \u001b[0;36mrun\u001b[0;34m(self, installSignalHandlers)\u001b[0m\n\u001b[1;32m   1280\u001b[0m \u001b[0;34m\u001b[0m\u001b[0m\n\u001b[1;32m   1281\u001b[0m     \u001b[0;32mdef\u001b[0m \u001b[0mrun\u001b[0m\u001b[0;34m(\u001b[0m\u001b[0mself\u001b[0m\u001b[0;34m,\u001b[0m \u001b[0minstallSignalHandlers\u001b[0m\u001b[0;34m=\u001b[0m\u001b[0;32mTrue\u001b[0m\u001b[0;34m)\u001b[0m\u001b[0;34m:\u001b[0m\u001b[0;34m\u001b[0m\u001b[0;34m\u001b[0m\u001b[0m\n\u001b[0;32m-> 1282\u001b[0;31m         \u001b[0mself\u001b[0m\u001b[0;34m.\u001b[0m\u001b[0mstartRunning\u001b[0m\u001b[0;34m(\u001b[0m\u001b[0minstallSignalHandlers\u001b[0m\u001b[0;34m=\u001b[0m\u001b[0minstallSignalHandlers\u001b[0m\u001b[0;34m)\u001b[0m\u001b[0;34m\u001b[0m\u001b[0;34m\u001b[0m\u001b[0m\n\u001b[0m\u001b[1;32m   1283\u001b[0m         \u001b[0mself\u001b[0m\u001b[0;34m.\u001b[0m\u001b[0mmainLoop\u001b[0m\u001b[0;34m(\u001b[0m\u001b[0;34m)\u001b[0m\u001b[0;34m\u001b[0m\u001b[0;34m\u001b[0m\u001b[0m\n\u001b[1;32m   1284\u001b[0m \u001b[0;34m\u001b[0m\u001b[0m\n",
      "\u001b[0;32m/opt/conda/lib/python3.8/site-packages/twisted/internet/base.py\u001b[0m in \u001b[0;36mstartRunning\u001b[0;34m(self, installSignalHandlers)\u001b[0m\n\u001b[1;32m   1260\u001b[0m         \"\"\"\n\u001b[1;32m   1261\u001b[0m         \u001b[0mself\u001b[0m\u001b[0;34m.\u001b[0m\u001b[0m_installSignalHandlers\u001b[0m \u001b[0;34m=\u001b[0m \u001b[0minstallSignalHandlers\u001b[0m\u001b[0;34m\u001b[0m\u001b[0;34m\u001b[0m\u001b[0m\n\u001b[0;32m-> 1262\u001b[0;31m         \u001b[0mReactorBase\u001b[0m\u001b[0;34m.\u001b[0m\u001b[0mstartRunning\u001b[0m\u001b[0;34m(\u001b[0m\u001b[0mself\u001b[0m\u001b[0;34m)\u001b[0m\u001b[0;34m\u001b[0m\u001b[0;34m\u001b[0m\u001b[0m\n\u001b[0m\u001b[1;32m   1263\u001b[0m \u001b[0;34m\u001b[0m\u001b[0m\n\u001b[1;32m   1264\u001b[0m \u001b[0;34m\u001b[0m\u001b[0m\n",
      "\u001b[0;32m/opt/conda/lib/python3.8/site-packages/twisted/internet/base.py\u001b[0m in \u001b[0;36mstartRunning\u001b[0;34m(self)\u001b[0m\n\u001b[1;32m    763\u001b[0m             \u001b[0;32mraise\u001b[0m \u001b[0merror\u001b[0m\u001b[0;34m.\u001b[0m\u001b[0mReactorAlreadyRunning\u001b[0m\u001b[0;34m(\u001b[0m\u001b[0;34m)\u001b[0m\u001b[0;34m\u001b[0m\u001b[0;34m\u001b[0m\u001b[0m\n\u001b[1;32m    764\u001b[0m         \u001b[0;32mif\u001b[0m \u001b[0mself\u001b[0m\u001b[0;34m.\u001b[0m\u001b[0m_startedBefore\u001b[0m\u001b[0;34m:\u001b[0m\u001b[0;34m\u001b[0m\u001b[0;34m\u001b[0m\u001b[0m\n\u001b[0;32m--> 765\u001b[0;31m             \u001b[0;32mraise\u001b[0m \u001b[0merror\u001b[0m\u001b[0;34m.\u001b[0m\u001b[0mReactorNotRestartable\u001b[0m\u001b[0;34m(\u001b[0m\u001b[0;34m)\u001b[0m\u001b[0;34m\u001b[0m\u001b[0;34m\u001b[0m\u001b[0m\n\u001b[0m\u001b[1;32m    766\u001b[0m         \u001b[0mself\u001b[0m\u001b[0;34m.\u001b[0m\u001b[0m_started\u001b[0m \u001b[0;34m=\u001b[0m \u001b[0;32mTrue\u001b[0m\u001b[0;34m\u001b[0m\u001b[0;34m\u001b[0m\u001b[0m\n\u001b[1;32m    767\u001b[0m         \u001b[0mself\u001b[0m\u001b[0;34m.\u001b[0m\u001b[0m_stopped\u001b[0m \u001b[0;34m=\u001b[0m \u001b[0;32mFalse\u001b[0m\u001b[0;34m\u001b[0m\u001b[0;34m\u001b[0m\u001b[0m\n",
      "\u001b[0;31mReactorNotRestartable\u001b[0m: "
     ]
    }
   ],
   "source": [
    "filename = \"hotels_\" + city.replace(\" \", \"-\") + \".json\"\n",
    "\n",
    "\n",
    "process = CrawlerProcess(settings = {\n",
    "    'USER_AGENT': 'Chrome/84.0 (compatible; MSIE 7.0; Windows NT 5.1)',\n",
    "    'LOG_LEVEL': logging.INFO,\n",
    "    \"FEEDS\": {\n",
    "        'res/' + filename: {\"format\": \"json\"},\n",
    "    }\n",
    "})\n",
    "\n",
    "process.crawl(BookingSpider)\n",
    "process.start()"
   ]
  },
  {
   "cell_type": "markdown",
   "metadata": {},
   "source": [
    "### Paris"
   ]
  },
  {
   "cell_type": "code",
   "execution_count": 7,
   "metadata": {},
   "outputs": [],
   "source": [
    "city = 'Paris'"
   ]
  },
  {
   "cell_type": "code",
   "execution_count": 8,
   "metadata": {},
   "outputs": [
    {
     "data": {
      "text/plain": [
       "<Response [200]>"
      ]
     },
     "execution_count": 8,
     "metadata": {},
     "output_type": "execute_result"
    }
   ],
   "source": [
    "r = requests.get('https://www.booking.com/index.fr.html')\n",
    "r"
   ]
  },
  {
   "cell_type": "code",
   "execution_count": 9,
   "metadata": {},
   "outputs": [],
   "source": [
    "class BookingSpider(scrapy.Spider):\n",
    "    name = \"booking\"\n",
    "\n",
    "    start_urls = ['https://www.booking.com/index.fr.html']\n",
    "\n",
    "    def parse(self, response):\n",
    "        return scrapy.FormRequest.from_response(\n",
    "            response,\n",
    "            formdata={'ss': city},\n",
    "            callback=self.after_search\n",
    "        )\n",
    "\n",
    "    def after_search(self, response):\n",
    "        \n",
    "        booking = response.css('.sr_item')\n",
    "\n",
    "        for b in booking:\n",
    "            yield {\n",
    "                'name': b.css('.sr-hotel__name::text').get(),\n",
    "                'url': 'https://www.booking.com' + b.css('.hotel_name_link').attrib[\"href\"],\n",
    "                'coords': b.css('.sr_card_address_line a').attrib[\"data-coords\"],\n",
    "                'score': b.css('.bui-review-score__badge::text').get(),\n",
    "                'description': b.css('.hotel_desc::text').get()\n",
    "                \n",
    "            }\n",
    "        \n",
    "        \n",
    "        try:\n",
    "            next_page = response.css('a.paging-next').attrib[\"href\"]\n",
    "        except KeyError:\n",
    "            logging.info('No next page. Terminating crawling process.')\n",
    "        else:\n",
    "            yield response.follow(next_page, callback=self.after_search)"
   ]
  },
  {
   "cell_type": "code",
   "execution_count": 10,
   "metadata": {},
   "outputs": [
    {
     "name": "stderr",
     "output_type": "stream",
     "text": [
      "2021-01-18 16:41:08 [scrapy.utils.log] INFO: Scrapy 2.4.1 started (bot: scrapybot)\n",
      "2021-01-18 16:41:08 [scrapy.utils.log] INFO: Versions: lxml 4.6.2.0, libxml2 2.9.10, cssselect 1.1.0, parsel 1.6.0, w3lib 1.22.0, Twisted 20.3.0, Python 3.8.6 | packaged by conda-forge | (default, Oct  7 2020, 19:08:05) - [GCC 7.5.0], pyOpenSSL 19.1.0 (OpenSSL 1.1.1h  22 Sep 2020), cryptography 3.1.1, Platform Linux-4.19.112+-x86_64-with-glibc2.10\n",
      "2021-01-18 16:41:08 [scrapy.crawler] INFO: Overridden settings:\n",
      "{'LOG_LEVEL': 20,\n",
      " 'USER_AGENT': 'Chrome/84.0 (compatible; MSIE 7.0; Windows NT 5.1)'}\n",
      "2021-01-18 16:41:08 [scrapy.extensions.telnet] INFO: Telnet Password: d3cbb497100a08a0\n",
      "2021-01-18 16:41:08 [scrapy.middleware] INFO: Enabled extensions:\n",
      "['scrapy.extensions.corestats.CoreStats',\n",
      " 'scrapy.extensions.telnet.TelnetConsole',\n",
      " 'scrapy.extensions.memusage.MemoryUsage',\n",
      " 'scrapy.extensions.feedexport.FeedExporter',\n",
      " 'scrapy.extensions.logstats.LogStats']\n",
      "2021-01-18 16:41:08 [scrapy.middleware] INFO: Enabled downloader middlewares:\n",
      "['scrapy.downloadermiddlewares.httpauth.HttpAuthMiddleware',\n",
      " 'scrapy.downloadermiddlewares.downloadtimeout.DownloadTimeoutMiddleware',\n",
      " 'scrapy.downloadermiddlewares.defaultheaders.DefaultHeadersMiddleware',\n",
      " 'scrapy.downloadermiddlewares.useragent.UserAgentMiddleware',\n",
      " 'scrapy.downloadermiddlewares.retry.RetryMiddleware',\n",
      " 'scrapy.downloadermiddlewares.redirect.MetaRefreshMiddleware',\n",
      " 'scrapy.downloadermiddlewares.httpcompression.HttpCompressionMiddleware',\n",
      " 'scrapy.downloadermiddlewares.redirect.RedirectMiddleware',\n",
      " 'scrapy.downloadermiddlewares.cookies.CookiesMiddleware',\n",
      " 'scrapy.downloadermiddlewares.httpproxy.HttpProxyMiddleware',\n",
      " 'scrapy.downloadermiddlewares.stats.DownloaderStats']\n",
      "2021-01-18 16:41:08 [scrapy.middleware] INFO: Enabled spider middlewares:\n",
      "['scrapy.spidermiddlewares.httperror.HttpErrorMiddleware',\n",
      " 'scrapy.spidermiddlewares.offsite.OffsiteMiddleware',\n",
      " 'scrapy.spidermiddlewares.referer.RefererMiddleware',\n",
      " 'scrapy.spidermiddlewares.urllength.UrlLengthMiddleware',\n",
      " 'scrapy.spidermiddlewares.depth.DepthMiddleware']\n",
      "2021-01-18 16:41:08 [scrapy.middleware] INFO: Enabled item pipelines:\n",
      "[]\n",
      "2021-01-18 16:41:08 [scrapy.core.engine] INFO: Spider opened\n",
      "2021-01-18 16:41:08 [scrapy.extensions.logstats] INFO: Crawled 0 pages (at 0 pages/min), scraped 0 items (at 0 items/min)\n",
      "2021-01-18 16:41:08 [scrapy.extensions.telnet] INFO: Telnet console listening on 127.0.0.1:6023\n",
      "2021-01-18 16:41:58 [root] INFO: No next page. Terminating crawling process.\n",
      "2021-01-18 16:41:58 [scrapy.core.engine] INFO: Closing spider (finished)\n",
      "2021-01-18 16:41:58 [scrapy.extensions.feedexport] INFO: Stored json feed (1000 items) in: res/hotels_Paris.json\n",
      "2021-01-18 16:41:58 [scrapy.statscollectors] INFO: Dumping Scrapy stats:\n",
      "{'downloader/request_bytes': 67900,\n",
      " 'downloader/request_count': 41,\n",
      " 'downloader/request_method_count/GET': 41,\n",
      " 'downloader/response_bytes': 6502809,\n",
      " 'downloader/response_count': 41,\n",
      " 'downloader/response_status_count/200': 41,\n",
      " 'elapsed_time_seconds': 50.291488,\n",
      " 'finish_reason': 'finished',\n",
      " 'finish_time': datetime.datetime(2021, 1, 18, 16, 41, 58, 677008),\n",
      " 'item_scraped_count': 1000,\n",
      " 'log_count/INFO': 12,\n",
      " 'memusage/max': 122478592,\n",
      " 'memusage/startup': 122478592,\n",
      " 'request_depth_max': 40,\n",
      " 'response_received_count': 41,\n",
      " 'scheduler/dequeued': 41,\n",
      " 'scheduler/dequeued/memory': 41,\n",
      " 'scheduler/enqueued': 41,\n",
      " 'scheduler/enqueued/memory': 41,\n",
      " 'start_time': datetime.datetime(2021, 1, 18, 16, 41, 8, 385520)}\n",
      "2021-01-18 16:41:58 [scrapy.core.engine] INFO: Spider closed (finished)\n"
     ]
    }
   ],
   "source": [
    "filename = \"hotels_\" + city.replace(\" \", \"-\") + \".json\"\n",
    "\n",
    "\n",
    "process = CrawlerProcess(settings = {\n",
    "    'USER_AGENT': 'Chrome/84.0 (compatible; MSIE 7.0; Windows NT 5.1)',\n",
    "    'LOG_LEVEL': logging.INFO,\n",
    "    \"FEEDS\": {\n",
    "        'res/' + filename: {\"format\": \"json\"},\n",
    "    }\n",
    "})\n",
    "\n",
    "process.crawl(BookingSpider)\n",
    "process.start()"
   ]
  },
  {
   "cell_type": "markdown",
   "metadata": {},
   "source": [
    "# Data lake with S3"
   ]
  },
  {
   "cell_type": "code",
   "execution_count": 14,
   "metadata": {},
   "outputs": [
    {
     "data": {
      "text/html": [
       "<div>\n",
       "<style scoped>\n",
       "    .dataframe tbody tr th:only-of-type {\n",
       "        vertical-align: middle;\n",
       "    }\n",
       "\n",
       "    .dataframe tbody tr th {\n",
       "        vertical-align: top;\n",
       "    }\n",
       "\n",
       "    .dataframe thead th {\n",
       "        text-align: right;\n",
       "    }\n",
       "</style>\n",
       "<table border=\"1\" class=\"dataframe\">\n",
       "  <thead>\n",
       "    <tr style=\"text-align: right;\">\n",
       "      <th></th>\n",
       "      <th>city_id</th>\n",
       "      <th>name</th>\n",
       "      <th>latitude</th>\n",
       "      <th>longitude</th>\n",
       "      <th>main_weather</th>\n",
       "      <th>expected_rain</th>\n",
       "      <th>day_temperature</th>\n",
       "      <th>rank</th>\n",
       "      <th>inverted_rank</th>\n",
       "    </tr>\n",
       "  </thead>\n",
       "  <tbody>\n",
       "    <tr>\n",
       "      <th>0</th>\n",
       "      <td>8</td>\n",
       "      <td>Strasbourg</td>\n",
       "      <td>48.584614</td>\n",
       "      <td>7.750713</td>\n",
       "      <td>Rain</td>\n",
       "      <td>12.4086</td>\n",
       "      <td>4.25750</td>\n",
       "      <td>1</td>\n",
       "      <td>17</td>\n",
       "    </tr>\n",
       "    <tr>\n",
       "      <th>1</th>\n",
       "      <td>7</td>\n",
       "      <td>Lille</td>\n",
       "      <td>50.636565</td>\n",
       "      <td>3.063528</td>\n",
       "      <td>Rain</td>\n",
       "      <td>17.2693</td>\n",
       "      <td>6.37625</td>\n",
       "      <td>2</td>\n",
       "      <td>16</td>\n",
       "    </tr>\n",
       "    <tr>\n",
       "      <th>2</th>\n",
       "      <td>10</td>\n",
       "      <td>Colmar</td>\n",
       "      <td>48.077752</td>\n",
       "      <td>7.357964</td>\n",
       "      <td>Snow</td>\n",
       "      <td>22.0231</td>\n",
       "      <td>4.43000</td>\n",
       "      <td>3</td>\n",
       "      <td>15</td>\n",
       "    </tr>\n",
       "    <tr>\n",
       "      <th>3</th>\n",
       "      <td>9</td>\n",
       "      <td>Chateau du Haut Koenigsbourg</td>\n",
       "      <td>48.249523</td>\n",
       "      <td>7.345492</td>\n",
       "      <td>Snow</td>\n",
       "      <td>22.2542</td>\n",
       "      <td>1.25875</td>\n",
       "      <td>4</td>\n",
       "      <td>14</td>\n",
       "    </tr>\n",
       "    <tr>\n",
       "      <th>4</th>\n",
       "      <td>16</td>\n",
       "      <td>Lyon</td>\n",
       "      <td>45.757814</td>\n",
       "      <td>4.832011</td>\n",
       "      <td>Rain</td>\n",
       "      <td>22.9800</td>\n",
       "      <td>7.74000</td>\n",
       "      <td>5</td>\n",
       "      <td>13</td>\n",
       "    </tr>\n",
       "  </tbody>\n",
       "</table>\n",
       "</div>"
      ],
      "text/plain": [
       "   city_id                          name   latitude  longitude main_weather  \\\n",
       "0        8                    Strasbourg  48.584614   7.750713         Rain   \n",
       "1        7                         Lille  50.636565   3.063528         Rain   \n",
       "2       10                        Colmar  48.077752   7.357964         Snow   \n",
       "3        9  Chateau du Haut Koenigsbourg  48.249523   7.345492         Snow   \n",
       "4       16                          Lyon  45.757814   4.832011         Rain   \n",
       "\n",
       "   expected_rain  day_temperature  rank  inverted_rank  \n",
       "0        12.4086          4.25750     1             17  \n",
       "1        17.2693          6.37625     2             16  \n",
       "2        22.0231          4.43000     3             15  \n",
       "3        22.2542          1.25875     4             14  \n",
       "4        22.9800          7.74000     5             13  "
      ]
     },
     "execution_count": 14,
     "metadata": {},
     "output_type": "execute_result"
    }
   ],
   "source": [
    "cities = pd.read_csv('destinations.csv')\n",
    "cities.head()"
   ]
  },
  {
   "cell_type": "code",
   "execution_count": 39,
   "metadata": {},
   "outputs": [
    {
     "data": {
      "text/html": [
       "<div>\n",
       "<style scoped>\n",
       "    .dataframe tbody tr th:only-of-type {\n",
       "        vertical-align: middle;\n",
       "    }\n",
       "\n",
       "    .dataframe tbody tr th {\n",
       "        vertical-align: top;\n",
       "    }\n",
       "\n",
       "    .dataframe thead th {\n",
       "        text-align: right;\n",
       "    }\n",
       "</style>\n",
       "<table border=\"1\" class=\"dataframe\">\n",
       "  <thead>\n",
       "    <tr style=\"text-align: right;\">\n",
       "      <th></th>\n",
       "      <th>city_id</th>\n",
       "      <th>city_name</th>\n",
       "      <th>hotel_id</th>\n",
       "      <th>name</th>\n",
       "      <th>url</th>\n",
       "      <th>latitude</th>\n",
       "      <th>longitude</th>\n",
       "      <th>score</th>\n",
       "      <th>description</th>\n",
       "    </tr>\n",
       "  </thead>\n",
       "  <tbody>\n",
       "  </tbody>\n",
       "</table>\n",
       "</div>"
      ],
      "text/plain": [
       "Empty DataFrame\n",
       "Columns: [city_id, city_name, hotel_id, name, url, latitude, longitude, score, description]\n",
       "Index: []"
      ]
     },
     "execution_count": 39,
     "metadata": {},
     "output_type": "execute_result"
    }
   ],
   "source": [
    "hotel_files = glob.glob('res/_hotels_*.json')\n",
    "\n",
    "hotels = pd.DataFrame(columns = ['city_id', 'city_name', 'hotel_id', 'name', 'url', 'latitude', 'longitude', 'score', 'description'])\n",
    "hotels\n"
   ]
  },
  {
   "cell_type": "code",
   "execution_count": 40,
   "metadata": {
    "scrolled": true
   },
   "outputs": [],
   "source": [
    "for f in hotel_files:\n",
    "    city_name = f.split('_')[2].split('.')[0].replace(\"-\",\" \")"
   ]
  },
  {
   "cell_type": "code",
   "execution_count": 111,
   "metadata": {},
   "outputs": [],
   "source": [
    "for f in hotel_files:\n",
    "    city_id = cities.loc[cities['name'] == city_name,'city_id'].values[0]"
   ]
  },
  {
   "cell_type": "code",
   "execution_count": 112,
   "metadata": {},
   "outputs": [
    {
     "data": {
      "text/plain": [
       "['res/_hotels_Paris.json']"
      ]
     },
     "execution_count": 112,
     "metadata": {},
     "output_type": "execute_result"
    }
   ],
   "source": [
    "hotel_files"
   ]
  },
  {
   "cell_type": "code",
   "execution_count": 160,
   "metadata": {},
   "outputs": [
    {
     "data": {
      "text/html": [
       "<div>\n",
       "<style scoped>\n",
       "    .dataframe tbody tr th:only-of-type {\n",
       "        vertical-align: middle;\n",
       "    }\n",
       "\n",
       "    .dataframe tbody tr th {\n",
       "        vertical-align: top;\n",
       "    }\n",
       "\n",
       "    .dataframe thead th {\n",
       "        text-align: right;\n",
       "    }\n",
       "</style>\n",
       "<table border=\"1\" class=\"dataframe\">\n",
       "  <thead>\n",
       "    <tr style=\"text-align: right;\">\n",
       "      <th></th>\n",
       "      <th>name</th>\n",
       "      <th>url</th>\n",
       "      <th>coords</th>\n",
       "      <th>score</th>\n",
       "      <th>description</th>\n",
       "    </tr>\n",
       "  </thead>\n",
       "  <tbody>\n",
       "    <tr>\n",
       "      <th>0</th>\n",
       "      <td>Elysées Union</td>\n",
       "      <td>https://www.booking.com\\n/hotel/fr/elyseesunio...</td>\n",
       "      <td>2.29176588356495,48.8683494219935</td>\n",
       "      <td>8,4</td>\n",
       "      <td>Occupant un bâtiment du XIXe siècle à Paris, l...</td>\n",
       "    </tr>\n",
       "    <tr>\n",
       "      <th>1</th>\n",
       "      <td>Hyatt Regency Paris Etoile</td>\n",
       "      <td>https://www.booking.com\\n/hotel/fr/hyatt-regen...</td>\n",
       "      <td>2.28472741799624,48.8804098381377</td>\n",
       "      <td>8,4</td>\n",
       "      <td>Le Hyatt Regency Paris Etoile, connu autrefois...</td>\n",
       "    </tr>\n",
       "    <tr>\n",
       "      <th>2</th>\n",
       "      <td>Hotel Lutetia</td>\n",
       "      <td>https://www.booking.com\\n/hotel/fr/lutetia-par...</td>\n",
       "      <td>2.327238,48.851244</td>\n",
       "      <td>8,9</td>\n",
       "      <td>L’Hotel Lutetia est un établissement de luxe e...</td>\n",
       "    </tr>\n",
       "    <tr>\n",
       "      <th>3</th>\n",
       "      <td>Pullman Paris Tour Eiffel</td>\n",
       "      <td>https://www.booking.com\\n/hotel/fr/tour-eiffel...</td>\n",
       "      <td>2.29256182909012,48.855604014139</td>\n",
       "      <td>8,3</td>\n",
       "      <td>L'hôtel 4 étoiles Pullman Paris Tour Eiffel es...</td>\n",
       "    </tr>\n",
       "    <tr>\n",
       "      <th>4</th>\n",
       "      <td>Hotel Prelude Opera</td>\n",
       "      <td>https://www.booking.com\\n/hotel/fr/corona.fr.h...</td>\n",
       "      <td>2.34349831938744,48.871934420399</td>\n",
       "      <td>9,0</td>\n",
       "      <td>L'Hotel Corona Opera se situe dans l'élégant 9...</td>\n",
       "    </tr>\n",
       "  </tbody>\n",
       "</table>\n",
       "</div>"
      ],
      "text/plain": [
       "                         name  \\\n",
       "0               Elysées Union   \n",
       "1  Hyatt Regency Paris Etoile   \n",
       "2               Hotel Lutetia   \n",
       "3   Pullman Paris Tour Eiffel   \n",
       "4         Hotel Prelude Opera   \n",
       "\n",
       "                                                 url  \\\n",
       "0  https://www.booking.com\\n/hotel/fr/elyseesunio...   \n",
       "1  https://www.booking.com\\n/hotel/fr/hyatt-regen...   \n",
       "2  https://www.booking.com\\n/hotel/fr/lutetia-par...   \n",
       "3  https://www.booking.com\\n/hotel/fr/tour-eiffel...   \n",
       "4  https://www.booking.com\\n/hotel/fr/corona.fr.h...   \n",
       "\n",
       "                              coords  score  \\\n",
       "0  2.29176588356495,48.8683494219935   8,4    \n",
       "1  2.28472741799624,48.8804098381377   8,4    \n",
       "2                 2.327238,48.851244   8,9    \n",
       "3   2.29256182909012,48.855604014139   8,3    \n",
       "4   2.34349831938744,48.871934420399   9,0    \n",
       "\n",
       "                                         description  \n",
       "0  Occupant un bâtiment du XIXe siècle à Paris, l...  \n",
       "1  Le Hyatt Regency Paris Etoile, connu autrefois...  \n",
       "2  L’Hotel Lutetia est un établissement de luxe e...  \n",
       "3  L'hôtel 4 étoiles Pullman Paris Tour Eiffel es...  \n",
       "4  L'Hotel Corona Opera se situe dans l'élégant 9...  "
      ]
     },
     "execution_count": 160,
     "metadata": {},
     "output_type": "execute_result"
    }
   ],
   "source": [
    "f1 = pd.read_json('res/hotels_Paris.json')\n",
    "hotels=pd.DataFrame(f1)\n",
    "hotels['name']=(hotels['name']).astype(str).replace('\\n','',regex=True)\n",
    "hotels['description']=(hotels['description']).astype(str).replace('\\n','',regex=True)\n",
    "hotels.head()"
   ]
  },
  {
   "cell_type": "code",
   "execution_count": null,
   "metadata": {},
   "outputs": [],
   "source": []
  },
  {
   "cell_type": "code",
   "execution_count": 161,
   "metadata": {},
   "outputs": [
    {
     "data": {
      "text/plain": [
       "0      [-1.15486329021303, 46.1510701196158]\n",
       "1       [-1.1410117149353, 46.1584466937086]\n",
       "2            [-1.14855799999998, 46.1558294]\n",
       "3      [-1.14639222621918, 46.1557694290086]\n",
       "4      [-1.15847557783127, 46.1614340775011]\n",
       "                       ...                  \n",
       "349                   [-1.153158, 46.144291]\n",
       "350                   [-1.167898, 46.140315]\n",
       "351                   [-1.168566, 46.140806]\n",
       "352                    [-1.156527, 46.14409]\n",
       "353                    [-1.169634, 46.13962]\n",
       "Name: coords, Length: 354, dtype: object"
      ]
     },
     "execution_count": 161,
     "metadata": {},
     "output_type": "execute_result"
    }
   ],
   "source": [
    "split_data = df.coords.str.split(',')\n",
    "hotels.loc[:,'latitude'] = split_data.apply(lambda x: x[0])\n",
    "hotels.loc[:,'longitude'] = split_data.apply(lambda x: x[1])\n",
    "split_data\n",
    "\n",
    "\n"
   ]
  },
  {
   "cell_type": "code",
   "execution_count": 129,
   "metadata": {},
   "outputs": [
    {
     "ename": "NameError",
     "evalue": "name 'hotels_all' is not defined",
     "output_type": "error",
     "traceback": [
      "\u001b[0;31m---------------------------------------------------------------------------\u001b[0m",
      "\u001b[0;31mNameError\u001b[0m                                 Traceback (most recent call last)",
      "\u001b[0;32m<ipython-input-129-3e4cad16673c>\u001b[0m in \u001b[0;36m<module>\u001b[0;34m\u001b[0m\n\u001b[0;32m----> 1\u001b[0;31m \u001b[0mhotels_all\u001b[0m \u001b[0;34m=\u001b[0m \u001b[0mhotels_all\u001b[0m\u001b[0;34m.\u001b[0m\u001b[0mappend\u001b[0m\u001b[0;34m(\u001b[0m\u001b[0mhotels\u001b[0m\u001b[0;34m)\u001b[0m\u001b[0;34m\u001b[0m\u001b[0;34m\u001b[0m\u001b[0m\n\u001b[0m",
      "\u001b[0;31mNameError\u001b[0m: name 'hotels_all' is not defined"
     ]
    }
   ],
   "source": [
    "#hotels_all = hotels_all.append(hotels)"
   ]
  },
  {
   "cell_type": "code",
   "execution_count": 165,
   "metadata": {},
   "outputs": [
    {
     "data": {
      "text/html": [
       "<div>\n",
       "<style scoped>\n",
       "    .dataframe tbody tr th:only-of-type {\n",
       "        vertical-align: middle;\n",
       "    }\n",
       "\n",
       "    .dataframe tbody tr th {\n",
       "        vertical-align: top;\n",
       "    }\n",
       "\n",
       "    .dataframe thead th {\n",
       "        text-align: right;\n",
       "    }\n",
       "</style>\n",
       "<table border=\"1\" class=\"dataframe\">\n",
       "  <thead>\n",
       "    <tr style=\"text-align: right;\">\n",
       "      <th></th>\n",
       "      <th>name</th>\n",
       "      <th>url</th>\n",
       "      <th>score</th>\n",
       "      <th>description</th>\n",
       "      <th>latitude</th>\n",
       "      <th>longitude</th>\n",
       "    </tr>\n",
       "  </thead>\n",
       "  <tbody>\n",
       "    <tr>\n",
       "      <th>0</th>\n",
       "      <td>Elysées Union</td>\n",
       "      <td>https://www.booking.com\\n/hotel/fr/elyseesunio...</td>\n",
       "      <td>8,4</td>\n",
       "      <td>Occupant un bâtiment du XIXe siècle à Paris, l...</td>\n",
       "      <td>-1.15486329021303</td>\n",
       "      <td>46.1510701196158</td>\n",
       "    </tr>\n",
       "    <tr>\n",
       "      <th>1</th>\n",
       "      <td>Hyatt Regency Paris Etoile</td>\n",
       "      <td>https://www.booking.com\\n/hotel/fr/hyatt-regen...</td>\n",
       "      <td>8,4</td>\n",
       "      <td>Le Hyatt Regency Paris Etoile, connu autrefois...</td>\n",
       "      <td>-1.1410117149353</td>\n",
       "      <td>46.1584466937086</td>\n",
       "    </tr>\n",
       "    <tr>\n",
       "      <th>2</th>\n",
       "      <td>Hotel Lutetia</td>\n",
       "      <td>https://www.booking.com\\n/hotel/fr/lutetia-par...</td>\n",
       "      <td>8,9</td>\n",
       "      <td>L’Hotel Lutetia est un établissement de luxe e...</td>\n",
       "      <td>-1.14855799999998</td>\n",
       "      <td>46.1558294</td>\n",
       "    </tr>\n",
       "    <tr>\n",
       "      <th>3</th>\n",
       "      <td>Pullman Paris Tour Eiffel</td>\n",
       "      <td>https://www.booking.com\\n/hotel/fr/tour-eiffel...</td>\n",
       "      <td>8,3</td>\n",
       "      <td>L'hôtel 4 étoiles Pullman Paris Tour Eiffel es...</td>\n",
       "      <td>-1.14639222621918</td>\n",
       "      <td>46.1557694290086</td>\n",
       "    </tr>\n",
       "    <tr>\n",
       "      <th>4</th>\n",
       "      <td>Hotel Prelude Opera</td>\n",
       "      <td>https://www.booking.com\\n/hotel/fr/corona.fr.h...</td>\n",
       "      <td>9,0</td>\n",
       "      <td>L'Hotel Corona Opera se situe dans l'élégant 9...</td>\n",
       "      <td>-1.15847557783127</td>\n",
       "      <td>46.1614340775011</td>\n",
       "    </tr>\n",
       "  </tbody>\n",
       "</table>\n",
       "</div>"
      ],
      "text/plain": [
       "                         name  \\\n",
       "0               Elysées Union   \n",
       "1  Hyatt Regency Paris Etoile   \n",
       "2               Hotel Lutetia   \n",
       "3   Pullman Paris Tour Eiffel   \n",
       "4         Hotel Prelude Opera   \n",
       "\n",
       "                                                 url  score  \\\n",
       "0  https://www.booking.com\\n/hotel/fr/elyseesunio...   8,4    \n",
       "1  https://www.booking.com\\n/hotel/fr/hyatt-regen...   8,4    \n",
       "2  https://www.booking.com\\n/hotel/fr/lutetia-par...   8,9    \n",
       "3  https://www.booking.com\\n/hotel/fr/tour-eiffel...   8,3    \n",
       "4  https://www.booking.com\\n/hotel/fr/corona.fr.h...   9,0    \n",
       "\n",
       "                                         description           latitude  \\\n",
       "0  Occupant un bâtiment du XIXe siècle à Paris, l...  -1.15486329021303   \n",
       "1  Le Hyatt Regency Paris Etoile, connu autrefois...   -1.1410117149353   \n",
       "2  L’Hotel Lutetia est un établissement de luxe e...  -1.14855799999998   \n",
       "3  L'hôtel 4 étoiles Pullman Paris Tour Eiffel es...  -1.14639222621918   \n",
       "4  L'Hotel Corona Opera se situe dans l'élégant 9...  -1.15847557783127   \n",
       "\n",
       "          longitude  \n",
       "0  46.1510701196158  \n",
       "1  46.1584466937086  \n",
       "2        46.1558294  \n",
       "3  46.1557694290086  \n",
       "4  46.1614340775011  "
      ]
     },
     "execution_count": 165,
     "metadata": {},
     "output_type": "execute_result"
    }
   ],
   "source": [
    "del hotels['coords']\n",
    "hotels.head()"
   ]
  },
  {
   "cell_type": "code",
   "execution_count": 166,
   "metadata": {},
   "outputs": [],
   "source": [
    "hotels.loc[:, 'city_name']='Paris'\n",
    "hotels.loc[:, 'city_id'] = cities.loc[cities['name'] == city_name,'city_id'].values[0]\n",
    "hotels.loc[:, 'latitude'] = hotels['latitude'].astype('float')\n",
    "hotels.loc[:, 'longitude'] = hotels['longitude'].astype('float')\n",
    "hotels.loc[:, 'score'] = hotels['score'].str.replace(',','.').astype('float')"
   ]
  },
  {
   "cell_type": "code",
   "execution_count": 42,
   "metadata": {},
   "outputs": [
    {
     "data": {
      "text/html": [
       "<div>\n",
       "<style scoped>\n",
       "    .dataframe tbody tr th:only-of-type {\n",
       "        vertical-align: middle;\n",
       "    }\n",
       "\n",
       "    .dataframe tbody tr th {\n",
       "        vertical-align: top;\n",
       "    }\n",
       "\n",
       "    .dataframe thead th {\n",
       "        text-align: right;\n",
       "    }\n",
       "</style>\n",
       "<table border=\"1\" class=\"dataframe\">\n",
       "  <thead>\n",
       "    <tr style=\"text-align: right;\">\n",
       "      <th></th>\n",
       "      <th>city_id</th>\n",
       "      <th>city_name</th>\n",
       "      <th>hotel_id</th>\n",
       "      <th>name</th>\n",
       "      <th>url</th>\n",
       "      <th>latitude</th>\n",
       "      <th>longitude</th>\n",
       "      <th>score</th>\n",
       "      <th>description</th>\n",
       "    </tr>\n",
       "  </thead>\n",
       "  <tbody>\n",
       "    <tr>\n",
       "      <th>0</th>\n",
       "      <td>5</td>\n",
       "      <td>Paris</td>\n",
       "      <td>0</td>\n",
       "      <td>Elysées Union</td>\n",
       "      <td>https://www.booking.com/hotel/fr/elyseesunion....</td>\n",
       "      <td>48.868349</td>\n",
       "      <td>2.291766</td>\n",
       "      <td>8.4</td>\n",
       "      <td>Occupant un bâtiment du XIXe siècle à Paris, l...</td>\n",
       "    </tr>\n",
       "    <tr>\n",
       "      <th>1</th>\n",
       "      <td>5</td>\n",
       "      <td>Paris</td>\n",
       "      <td>1</td>\n",
       "      <td>Hyatt Regency Paris Etoile</td>\n",
       "      <td>https://www.booking.com/hotel/fr/hyatt-regency...</td>\n",
       "      <td>48.880410</td>\n",
       "      <td>2.284727</td>\n",
       "      <td>8.4</td>\n",
       "      <td>Le Hyatt Regency Paris Etoile, connu autrefois...</td>\n",
       "    </tr>\n",
       "    <tr>\n",
       "      <th>2</th>\n",
       "      <td>5</td>\n",
       "      <td>Paris</td>\n",
       "      <td>2</td>\n",
       "      <td>Pullman Paris Tour Eiffel</td>\n",
       "      <td>https://www.booking.com/hotel/fr/tour-eiffel.f...</td>\n",
       "      <td>48.855604</td>\n",
       "      <td>2.292562</td>\n",
       "      <td>8.3</td>\n",
       "      <td>L'hôtel 4 étoiles Pullman Paris Tour Eiffel es...</td>\n",
       "    </tr>\n",
       "    <tr>\n",
       "      <th>3</th>\n",
       "      <td>5</td>\n",
       "      <td>Paris</td>\n",
       "      <td>3</td>\n",
       "      <td>citizenM Paris Gare de Lyon</td>\n",
       "      <td>https://www.booking.com/hotel/fr/citizenm-pari...</td>\n",
       "      <td>48.843726</td>\n",
       "      <td>2.371727</td>\n",
       "      <td>8.7</td>\n",
       "      <td>Offrant une vue sur la Seine, le citizenM Pari...</td>\n",
       "    </tr>\n",
       "    <tr>\n",
       "      <th>4</th>\n",
       "      <td>5</td>\n",
       "      <td>Paris</td>\n",
       "      <td>4</td>\n",
       "      <td>Hotel Lutetia</td>\n",
       "      <td>https://www.booking.com/hotel/fr/lutetia-paris...</td>\n",
       "      <td>48.851244</td>\n",
       "      <td>2.327238</td>\n",
       "      <td>8.9</td>\n",
       "      <td>L’Hotel Lutetia est un établissement de luxe e...</td>\n",
       "    </tr>\n",
       "  </tbody>\n",
       "</table>\n",
       "</div>"
      ],
      "text/plain": [
       "   city_id city_name  hotel_id                         name  \\\n",
       "0        5     Paris         0                Elysées Union   \n",
       "1        5     Paris         1   Hyatt Regency Paris Etoile   \n",
       "2        5     Paris         2    Pullman Paris Tour Eiffel   \n",
       "3        5     Paris         3  citizenM Paris Gare de Lyon   \n",
       "4        5     Paris         4                Hotel Lutetia   \n",
       "\n",
       "                                                 url   latitude  longitude  \\\n",
       "0  https://www.booking.com/hotel/fr/elyseesunion....  48.868349   2.291766   \n",
       "1  https://www.booking.com/hotel/fr/hyatt-regency...  48.880410   2.284727   \n",
       "2  https://www.booking.com/hotel/fr/tour-eiffel.f...  48.855604   2.292562   \n",
       "3  https://www.booking.com/hotel/fr/citizenm-pari...  48.843726   2.371727   \n",
       "4  https://www.booking.com/hotel/fr/lutetia-paris...  48.851244   2.327238   \n",
       "\n",
       "   score                                        description  \n",
       "0    8.4  Occupant un bâtiment du XIXe siècle à Paris, l...  \n",
       "1    8.4  Le Hyatt Regency Paris Etoile, connu autrefois...  \n",
       "2    8.3  L'hôtel 4 étoiles Pullman Paris Tour Eiffel es...  \n",
       "3    8.7  Offrant une vue sur la Seine, le citizenM Pari...  \n",
       "4    8.9  L’Hotel Lutetia est un établissement de luxe e...  "
      ]
     },
     "execution_count": 42,
     "metadata": {},
     "output_type": "execute_result"
    }
   ],
   "source": [
    "hotels.head()"
   ]
  },
  {
   "cell_type": "code",
   "execution_count": 44,
   "metadata": {},
   "outputs": [],
   "source": [
    "hotels.to_csv('res/0_hotels.csv', index=False)"
   ]
  },
  {
   "cell_type": "code",
   "execution_count": 35,
   "metadata": {},
   "outputs": [
    {
     "ename": "NameError",
     "evalue": "name 'hotels' is not defined",
     "output_type": "error",
     "traceback": [
      "\u001b[0;31m---------------------------------------------------------------------------\u001b[0m",
      "\u001b[0;31mNameError\u001b[0m                                 Traceback (most recent call last)",
      "\u001b[0;32m<ipython-input-35-b8b956c6a53a>\u001b[0m in \u001b[0;36m<module>\u001b[0;34m\u001b[0m\n\u001b[0;32m----> 1\u001b[0;31m \u001b[0mhotels_with_score\u001b[0m \u001b[0;34m=\u001b[0m \u001b[0mhotels\u001b[0m\u001b[0;34m.\u001b[0m\u001b[0mloc\u001b[0m\u001b[0;34m[\u001b[0m\u001b[0mhotels\u001b[0m\u001b[0;34m[\u001b[0m\u001b[0;34m'score'\u001b[0m\u001b[0;34m]\u001b[0m\u001b[0;34m.\u001b[0m\u001b[0mnotnull\u001b[0m\u001b[0;34m(\u001b[0m\u001b[0;34m)\u001b[0m\u001b[0;34m,\u001b[0m\u001b[0;34m:\u001b[0m\u001b[0;34m]\u001b[0m\u001b[0;34m\u001b[0m\u001b[0;34m\u001b[0m\u001b[0m\n\u001b[0m\u001b[1;32m      2\u001b[0m \u001b[0;34m\u001b[0m\u001b[0m\n\u001b[1;32m      3\u001b[0m fig = px.scatter_mapbox(hotels_with_score, lat=\"latitude\", lon=\"longitude\", hover_name = 'name', zoom = 4,\n\u001b[1;32m      4\u001b[0m                         \u001b[0mhover_data\u001b[0m \u001b[0;34m=\u001b[0m \u001b[0;34m[\u001b[0m\u001b[0;34m'description'\u001b[0m\u001b[0;34m]\u001b[0m\u001b[0;34m,\u001b[0m\u001b[0;34m\u001b[0m\u001b[0;34m\u001b[0m\u001b[0m\n\u001b[1;32m      5\u001b[0m                         \u001b[0mcolor\u001b[0m \u001b[0;34m=\u001b[0m \u001b[0;34m'score'\u001b[0m\u001b[0;34m,\u001b[0m \u001b[0mcolor_continuous_scale\u001b[0m \u001b[0;34m=\u001b[0m \u001b[0;34m'thermal'\u001b[0m\u001b[0;34m,\u001b[0m\u001b[0;34m\u001b[0m\u001b[0;34m\u001b[0m\u001b[0m\n",
      "\u001b[0;31mNameError\u001b[0m: name 'hotels' is not defined"
     ]
    }
   ],
   "source": [
    "hotels_with_score = hotels.loc[hotels['score'].notnull(),:]\n",
    "\n",
    "fig = px.scatter_mapbox(hotels_with_score, lat=\"latitude\", lon=\"longitude\", hover_name = 'name', zoom = 4,\n",
    "                        hover_data = ['description'],\n",
    "                        color = 'score', color_continuous_scale = 'thermal',\n",
    "                        mapbox_style=\"carto-positron\")\n",
    "fig.show()"
   ]
  },
  {
   "cell_type": "code",
   "execution_count": null,
   "metadata": {},
   "outputs": [],
   "source": []
  }
 ],
 "metadata": {
  "kernelspec": {
   "display_name": "Python 3",
   "language": "python",
   "name": "python3"
  },
  "language_info": {
   "codemirror_mode": {
    "name": "ipython",
    "version": 3
   },
   "file_extension": ".py",
   "mimetype": "text/x-python",
   "name": "python",
   "nbconvert_exporter": "python",
   "pygments_lexer": "ipython3",
   "version": "3.8.6"
  }
 },
 "nbformat": 4,
 "nbformat_minor": 4
}
